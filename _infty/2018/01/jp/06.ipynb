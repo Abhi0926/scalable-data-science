{
 "cells": [
  {
   "cell_type": "markdown",
   "metadata": {
    "deletable": true,
    "editable": true
   },
   "source": [
    "# 06. Statistics and List Comprehensions with New Zealand Earthquakes\n",
    "## [Inference Theory 1](https://lamastex.github.io/scalable-data-science/infty/2018/01/)\n",
    "\n",
    "&copy;2018 Raazesh Sainudiin. [Attribution 4.0 International (CC BY 4.0)](https://creativecommons.org/licenses/by/4.0/)"
   ]
  },
  {
   "cell_type": "markdown",
   "metadata": {
    "deletable": true,
    "editable": true
   },
   "source": [
    "- Live Data-fetch of NZ EQ Data\n",
    "- More on Statistics\n",
    "- Sample Mean\n",
    "- Sample Variance\n",
    "- Order Statistics\n",
    "- Frequencies\n",
    "- Empirical Mass Function\n",
    "- Empirical Distribution Function\n",
    "- List Comprehensions\n",
    "- New Zealand Earthquakes\n",
    "- Functions Revision\n",
    " \n"
   ]
  },
  {
   "cell_type": "markdown",
   "metadata": {
    "deletable": true,
    "editable": true
   },
   "source": [
    "# Live Data-fetching Exercise Now\n",
    "\n",
    "Go to [https://quakesearch.geonet.org.nz/](https://quakesearch.geonet.org.nz/) and download data on NZ earthquakes.\n",
    "\n",
    "<img src = \"images/GeoNetQuakeSearchDownloadCSV.png\" width =800>"
   ]
  },
  {
   "cell_type": "markdown",
   "metadata": {
    "deletable": true,
    "editable": true
   },
   "source": [
    "In my attempt above to zoom out to include both islands of New Zealand (NZ) and get one year of data using the `Last Year` button choice from this site:\n",
    " - [https://quakesearch.geonet.org.nz/](https://quakesearch.geonet.org.nz/)\n",
    "and hitting `Search` box gave the following URLs for downloading data. I used the `DOWNLOAD` button to get my own data in Outpur Format `CSV` as chosen earlier.\n",
    "\n",
    "https://quakesearch.geonet.org.nz/csv?bbox=163.52051,-49.23912,182.19727,-32.36140&startdate=2017-06-01&enddate=2018-05-17T14:00:00\n",
    "https://quakesearch.geonet.org.nz/csv?bbox=163.52051,-49.23912,182.19727,-32.36140&startdate=2017-5-17T13:00:00&enddate=2017-06-01\n",
    "\n",
    "## What should you do now?\n",
    "\n",
    "Try to `DOWNLOAD` your own `CSV` data and store it in a file named **`my_earthquakes.csv`** (NOTE: rename the file when you download so you don't replace the file `earthquakes.csv`!) inside the folder named **`data`** that is inside the same directory that this notebook is in."
   ]
  },
  {
   "cell_type": "code",
   "execution_count": 1,
   "metadata": {
    "collapsed": false,
    "deletable": true,
    "editable": true
   },
   "outputs": [
    {
     "name": "stdout",
     "output_type": "stream",
     "text": [
      "/home/raazesh/all/git/scalable-data-science/_infty/2018/01/jp\n"
     ]
    }
   ],
   "source": [
    "%%sh\n",
    "# print working directory\n",
    "pwd"
   ]
  },
  {
   "cell_type": "code",
   "execution_count": 2,
   "metadata": {
    "collapsed": false,
    "deletable": true,
    "editable": true
   },
   "outputs": [
    {
     "name": "stdout",
     "output_type": "stream",
     "text": [
      "00.html\n",
      "00.ipynb\n",
      "00.md\n",
      "01.html\n",
      "01.ipynb\n",
      "01.md\n",
      "02.html\n",
      "02.ipynb\n",
      "02.md\n",
      "03.html\n",
      "03.ipynb\n",
      "03.md\n",
      "04.html\n",
      "04.ipynb\n",
      "04.md\n",
      "05.html\n",
      "05.ipynb\n",
      "05.md\n",
      "06.html\n",
      "06.ipynb\n",
      "06.md\n",
      "07.html\n",
      "07.ipynb\n",
      "07.md\n",
      "08.html\n",
      "08.ipynb\n",
      "08.md\n",
      "09.html\n",
      "09.ipynb\n",
      "09.md\n",
      "10.html\n",
      "10.ipynb\n",
      "10.md\n",
      "11.html\n",
      "11.ipynb\n",
      "11.md\n",
      "12.html\n",
      "12.ipynb\n",
      "12.md\n",
      "data\n",
      "images\n",
      "mydir\n",
      "myHist.png\n",
      "pdf\n",
      "sageMathIpynbArchive\n"
     ]
    }
   ],
   "source": [
    "%%sh\n",
    "ls # list contents of working directory"
   ]
  },
  {
   "cell_type": "code",
   "execution_count": 3,
   "metadata": {
    "collapsed": false,
    "deletable": true,
    "editable": true
   },
   "outputs": [
    {
     "name": "stdout",
     "output_type": "stream",
     "text": [
      "earthquakes.csv\n",
      "earthquakes_small.csv\n",
      "rainfallInChristchurch.csv\n"
     ]
    }
   ],
   "source": [
    "%%sh\n",
    "# after download you should have the following file in directory named data\n",
    "ls data"
   ]
  },
  {
   "cell_type": "code",
   "execution_count": 4,
   "metadata": {
    "collapsed": false,
    "deletable": true,
    "editable": true
   },
   "outputs": [
    {
     "name": "stdout",
     "output_type": "stream",
     "text": [
      "publicid,eventtype,origintime,modificationtime,longitude, latitude, magnitude, depth,magnitudetype,depthtype,evaluationmethod,evaluationstatus,evaluationmode,earthmodel,usedphasecount,usedstationcount,magnitudestationcount,minimumdistance,azimuthalgap,originerror,magnitudeuncertainty\n",
      "2018p368955,,2018-05-17T12:19:35.516Z,2018-05-17T12:21:54.953Z,178.4653957,-37.51944533,2.209351541,20.9375,M,,NonLinLoc,,automatic,nz3drx,12,12,6,0.1363924727,261.0977462,0.8209633086,0\n",
      "2018p368878,,2018-05-17T11:38:24.646Z,2018-05-17T11:40:26.254Z,177.8775115,-37.46115663,2.155154561,58.4375,M,,NonLinLoc,,automatic,nz3drx,11,11,7,0.3083220739,232.7487132,0.842884174,0\n"
     ]
    }
   ],
   "source": [
    "%%sh  \n",
    "# first three lines\n",
    "head -3 data/earthquakes.csv"
   ]
  },
  {
   "cell_type": "code",
   "execution_count": 5,
   "metadata": {
    "collapsed": false,
    "deletable": true,
    "editable": true
   },
   "outputs": [
    {
     "name": "stdout",
     "output_type": "stream",
     "text": [
      "2017p408155,earthquake,2017-06-01T00:25:06.491Z,2017-06-19T03:05:19.468Z,172.4586182,-42.75725555,2.265096095,11.19184685,M,,LOCSAT,confirmed,manual,iasp91,26,24,13,0.1402618885,61.97485352,0.6915929023,0\n",
      "2017p408137,earthquake,2017-06-01T00:15:55.074Z,2017-06-19T03:02:21.311Z,176.7870483,-37.73429108,2.276142644,3.937263489,M,,LOCSAT,confirmed,manual,iasp91,28,23,15,0.155876264,96.37628555,0.5852246521,0\n",
      "2017p408120,earthquake,2017-06-01T00:07:04.890Z,2017-06-01T07:20:23.994Z,175.4930025,-39.31558765,1.298107247,13.5546875,M,,NonLinLoc,confirmed,manual,nz3drx,28,19,13,0.04550182409,86.69529793,0.2189521352,0\n"
     ]
    }
   ],
   "source": [
    "%%sh \n",
    "# last three lines\n",
    "tail -3 data/earthquakes.csv"
   ]
  },
  {
   "cell_type": "code",
   "execution_count": 6,
   "metadata": {
    "collapsed": false,
    "deletable": true,
    "editable": true
   },
   "outputs": [
    {
     "name": "stdout",
     "output_type": "stream",
     "text": [
      "21017 data/earthquakes.csv\n"
     ]
    }
   ],
   "source": [
    "%%sh  \n",
    "# number of lines in the file; menmonic from `man wc` is wc = word-count option=-l is for lines\n",
    "wc -l  data/earthquakes.csv"
   ]
  },
  {
   "cell_type": "code",
   "execution_count": 7,
   "metadata": {
    "collapsed": false,
    "deletable": true,
    "editable": true
   },
   "outputs": [
    {
     "name": "stdout",
     "output_type": "stream",
     "text": [
      "WC(1)                            User Commands                           WC(1)\n",
      "\n",
      "NAME\n",
      "       wc - print newline, word, and byte counts for each file\n",
      "\n",
      "SYNOPSIS\n",
      "       wc [OPTION]... [FILE]...\n",
      "       wc [OPTION]... --files0-from=F\n",
      "\n",
      "DESCRIPTION\n",
      "       Print newline, word, and byte counts for each FILE, and a total line if\n",
      "       more than one FILE is specified.  A word is a non-zero-length  sequence\n",
      "       of characters delimited by white space.\n",
      "\n",
      "       With no FILE, or when FILE is -, read standard input.\n",
      "\n",
      "       The  options  below  may  be  used  to select which counts are printed,\n",
      "       always in the following order: newline, word, character, byte,  maximum\n",
      "       line length.\n",
      "\n",
      "       -c, --bytes\n",
      "              print the byte counts\n",
      "\n",
      "       -m, --chars\n",
      "              print the character counts\n",
      "\n",
      "       -l, --lines\n",
      "              print the newline counts\n",
      "\n",
      "       --files0-from=F\n",
      "              read  input  from the files specified by NUL-terminated names in\n",
      "              file F; If F is - then read names from standard input\n",
      "\n",
      "       -L, --max-line-length\n",
      "              print the maximum display width\n",
      "\n",
      "       -w, --words\n",
      "              print the word counts\n",
      "\n",
      "       --help display this help and exit\n",
      "\n",
      "       --version\n",
      "              output version information and exit\n",
      "\n",
      "AUTHOR\n",
      "       Written by Paul Rubin and David MacKenzie.\n",
      "\n",
      "REPORTING BUGS\n",
      "       GNU coreutils online help: <http://www.gnu.org/software/coreutils/>\n",
      "       Report wc translation bugs to <http://translationproject.org/team/>\n",
      "\n",
      "COPYRIGHT\n",
      "       Copyright © 2017 Free Software Foundation, Inc.   License  GPLv3+:  GNU\n",
      "       GPL version 3 or later <http://gnu.org/licenses/gpl.html>.\n",
      "       This  is  free  software:  you  are free to change and redistribute it.\n",
      "       There is NO WARRANTY, to the extent permitted by law.\n",
      "\n",
      "SEE ALSO\n",
      "       Full documentation at: <http://www.gnu.org/software/coreutils/wc>\n",
      "       or available locally via: info '(coreutils) wc invocation'\n",
      "\n",
      "GNU coreutils 8.28               January 2018                            WC(1)\n"
     ]
    }
   ],
   "source": [
    "%%sh\n",
    "man wc"
   ]
  },
  {
   "cell_type": "markdown",
   "metadata": {
    "deletable": true,
    "editable": true
   },
   "source": [
    "## Let's analyse the measured earth quakes in `data/earthquakes.csv`\n",
    "\n",
    "This will ensure we are all looking at the same file!\n",
    "\n",
    "But feel free to play with your own `data/my_earthquakes.csv` on the side."
   ]
  },
  {
   "cell_type": "markdown",
   "metadata": {
    "collapsed": true,
    "deletable": true,
    "editable": true
   },
   "source": [
    "### Exercise:\n",
    "Grab origin-time, lat, lon, magnitude, depth"
   ]
  },
  {
   "cell_type": "code",
   "execution_count": 8,
   "metadata": {
    "collapsed": true,
    "deletable": true,
    "editable": true
   },
   "outputs": [],
   "source": [
    "with open(\"data/earthquakes.csv\") as f:\n",
    "    reader = f.read()\n",
    "    \n",
    "dataList = reader.split('\\n')"
   ]
  },
  {
   "cell_type": "code",
   "execution_count": 9,
   "metadata": {
    "collapsed": false,
    "deletable": true,
    "editable": true
   },
   "outputs": [
    {
     "data": {
      "text/plain": [
       "21018"
      ]
     },
     "execution_count": 9,
     "metadata": {},
     "output_type": "execute_result"
    }
   ],
   "source": [
    "len(dataList)"
   ]
  },
  {
   "cell_type": "code",
   "execution_count": 10,
   "metadata": {
    "collapsed": false,
    "deletable": true,
    "editable": true
   },
   "outputs": [
    {
     "data": {
      "text/plain": [
       "'publicid,eventtype,origintime,modificationtime,longitude, latitude, magnitude, depth,magnitudetype,depthtype,evaluationmethod,evaluationstatus,evaluationmode,earthmodel,usedphasecount,usedstationcount,magnitudestationcount,minimumdistance,azimuthalgap,originerror,magnitudeuncertainty'"
      ]
     },
     "execution_count": 10,
     "metadata": {},
     "output_type": "execute_result"
    }
   ],
   "source": [
    "dataList[0]"
   ]
  },
  {
   "cell_type": "code",
   "execution_count": 11,
   "metadata": {
    "collapsed": false,
    "deletable": true,
    "editable": true
   },
   "outputs": [],
   "source": [
    "myDataAccumulatorList =[]\n",
    "for data in dataList[1:-2]:\n",
    "    dataRow = data.split(',')\n",
    "    myData = [dataRow[4],dataRow[5],dataRow[6]]#,dataRow[7]]\n",
    "    myFloatData = tuple([float(x) for x in myData])\n",
    "    myDataAccumulatorList.append(myFloatData)"
   ]
  },
  {
   "cell_type": "code",
   "execution_count": 13,
   "metadata": {
    "collapsed": false,
    "deletable": true,
    "editable": true
   },
   "outputs": [],
   "source": [
    "points(myDataAccumulatorList)"
   ]
  },
  {
   "cell_type": "markdown",
   "metadata": {
    "deletable": true,
    "editable": true
   },
   "source": [
    "# More on Statistics\n",
    "\n",
    "Recall that a statistic is any measureable function of the data: $T(x): \\mathbb{X} \\rightarrow \\mathbb{T}$.\n",
    "\n",
    "Thus, a statistic $T$ is also an RV that takes values in the space $\\mathbb{T}$.\n",
    "\n",
    "When $x \\in \\mathbb{X}$ is the observed data, $T(x)=t$ is the observed statistic of the observed data $x$.\n",
    "\n",
    "### Example 1: New Zealand Lotto and 1114 IID $de Moirve$ RVs\n",
    "\n",
    "Let's go back to our New Zealand lotto data.  \n",
    "\n",
    "We showed that for New Zealand lotto (40 balls in the machine, numbered $1, 2, \\ldots, 40$), the number on the first ball out of the machine can be modelled as a de Moivre$(\\frac{1}{40}, \\frac{1}{40}, \\ldots, \\frac{1}{40})$ RV. \n",
    "\n",
    "We have the New Zealand Lotto results for 1114 draws, from 1 August 1987 to 10 November 2008 (retrieved from  the NZ lotto web site: http://lotto.nzpages.co.nz/previousresults.html ).\n",
    "\n",
    "We can think of this data as $x$, the realisation of a random vector $X = (X_1, X_2,\\ldots, X_{1114})$ where $X_1, X_2,\\ldots, X_{1114} \\overset{IID}{\\thicksim} \\text{de Moivre}(\\frac{1}{40}, \\frac{1}{40}, \\ldots, \\frac{1}{40})$\n",
    "\n",
    "The data space is every possible sequence of ball numbers that we could have got in these 1114 draws.  $\\mathbb{X} = \\{1, 2, \\ldots, 40\\}^{1114}$.  There are $40^{1114}$ possible sequences and our data is just one of these $40^{1114}$ possible points in the data space.\n",
    "\n",
    "We will use our hidden function that enables us to get the ball one data in a list.  Evaluate the cell below to get the data and confirm that we have data for 1114 draws."
   ]
  },
  {
   "cell_type": "code",
   "execution_count": null,
   "metadata": {
    "collapsed": true,
    "deletable": true,
    "editable": true
   },
   "outputs": [],
   "source": []
  }
 ],
 "metadata": {
  "kernelspec": {
   "display_name": "SageMath 8.1",
   "language": "",
   "name": "sagemath"
  },
  "language_info": {
   "codemirror_mode": {
    "name": "ipython",
    "version": 2
   },
   "file_extension": ".py",
   "mimetype": "text/x-python",
   "name": "python",
   "nbconvert_exporter": "python",
   "pygments_lexer": "ipython2",
   "version": "2.7.14"
  }
 },
 "nbformat": 4,
 "nbformat_minor": 2
}
