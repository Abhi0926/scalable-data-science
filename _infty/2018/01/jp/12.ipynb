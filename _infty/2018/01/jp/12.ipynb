{
 "cells": [
  {
   "cell_type": "markdown",
   "metadata": {
    "deletable": true,
    "editable": true
   },
   "source": [
    "# 12. Non-parametric Estimation and Testing\n",
    "\n",
    "## [Inference Theory 1](https://lamastex.github.io/scalable-data-science/infty/2018/01/)\n",
    "\n",
    "&copy;2018 Raazesh Sainudiin. [Attribution 4.0 International (CC BY 4.0)](https://creativecommons.org/licenses/by/4.0/)"
   ]
  },
  {
   "cell_type": "markdown",
   "metadata": {
    "deletable": true,
    "editable": true
   },
   "source": [
    "### Topics\n",
    "\n",
    "- Non-parametric Estimation\n",
    "- Glivenko-Cantelli Theorem\n",
    "- Dvoretsky-Kiefer-Wolfowitz Inequality\n",
    "- Hypothesis Testing\n",
    "- Permutation Testing\n",
    "- Permutation Testing with Shells Data\n",
    "  \n",
    "\n",
    "## Inference and Estimation: The Big Picture\n",
    "\n",
    "The Big Picture is about inference and estimation, and especially inference and estimation problems where computational techniques are helpful. \n",
    "\n",
    "<table border=\"1\" cellspacing=\"2\" cellpadding=\"2\" align=\"center\">\n",
    "<tbody>\n",
    "<tr>\n",
    "<td style=\"background-color: #ccccff;\" align=\"center\">&nbsp;</td>\n",
    "<td style=\"background-color: #ccccff;\" align=\"center\"><strong>Point estimation</strong></td>\n",
    "<td style=\"background-color: #ccccff;\" align=\"center\"><strong>Set estimation</strong></td>\n",
    "</tr>\n",
    "<tr>\n",
    "<td style=\"background-color: #ccccff;\">\n",
    "<p><strong>Parametric</strong></p>\n",
    "<p>&nbsp;</p>\n",
    "</td>\n",
    "<td style=\"background-color: #ccccff;\" align=\"center\">\n",
    "<p>MLE of finitely many parameters<br /><span style=\"color: #3366ff;\"><em>done</em></span></p>\n",
    "</td>\n",
    "<td style=\"background-color: #ccccff;\" align=\"center\">\n",
    "<p>Confidence intervals,<br /> via the central limit theorem</p>\n",
    "</td>\n",
    "</tr>\n",
    "<tr>\n",
    "<td style=\"background-color: #ccccff;\">\n",
    "<p><strong>Non-parametric</strong><br /> (infinite-dimensional parameter space)</p>\n",
    "</td>\n",
    "<td style=\"background-color: #ccccff;\" align=\"center\"><strong><em><span style=\"color: #3366ff;\">about to see ... </span></em></strong></td>\n",
    "<td style=\"background-color: #ccccff;\" align=\"center\"><strong><em><span style=\"color: #3366ff;\">about to see ... </span></em></strong></td>\n",
    "</tr>\n",
    "<tr>\n",
    "<td style=\"background-color: #ccccff;\">\n",
    "<p><strong>One/Many-dimensional Integrals</strong><br /> (finite-dimensional)</p>\n",
    "</td>\n",
    "<td style=\"background-color: #ccccff;\" align=\"center\"><em><span style=\"color: #3366ff;\">coming up ... </span></em></td>\n",
    "<td style=\"background-color: #ccccff;\" align=\"center\">&nbsp;<span style=\"color: #3366ff;\"><em>coming up ...</em></span></td>\n",
    "</tr>\n",
    "</tbody>\n",
    "</table>\n",
    "\n",
    "So far we have seen parametric models, for example\n",
    "\n",
    "- $X_1, X_2, \\ldots, X_n \\overset{IID}{\\sim} Bernoulli (\\theta)$, $\\theta \\in [0,1]$\n",
    "- $X_1, X_2, \\ldots, X_n \\overset{IID}{\\sim} Exponential (\\lambda)$, $\\lambda \\in (0,\\infty)$\n",
    "- $X_1, X_2, \\ldots, X_n \\overset{IID}{\\sim} Normal(\\mu^*, \\sigma)$, $\\mu \\in \\mathbb{R}$, $\\sigma \\in (0,\\infty)$\n",
    "\n",
    "In all these cases **the parameter space** (the space within which the parameter(s) can take values) is **finite dimensional**:\n",
    "\n",
    "- for the $Bernoulli$, $\\theta \\in [0,1] \\subseteq \\mathbb{R}^1$\n",
    "- for the $Exponential$, $\\lambda \\in (0, \\infty) \\subseteq \\mathbb{R}^1$\n",
    "- for the $Normal$, $\\mu \\in \\mathbb{R}^1$, $\\sigma \\in (0,\\infty) \\subseteq \\mathbb{R}^1$, so $(\\mu, \\sigma) \\subseteq \\mathbb{R}^2$\n",
    "\n",
    "For parametric experiments, we can use the maximum likelihood principle and estimate the parameters using the **Maximum Likelihood Estimator (MLE)**, for instance. \n",
    "\n",
    "# Non-parametric estimation\n",
    "\n",
    "Suppose we don't know what the distribution function (DF) is?  We are not trying to estimate some fixed but unknown parameter $\\theta^*$ for some RV we are assuming to be $Bernoulli(\\theta^*)$, we are trying to estimate the DF itself.  In real life, data does not come neatly labeled \"I am a realisation of a $Bernoulli$ RV\", or \"I am a realisation of an $Exponential$ RV\": an important part of inference and estimation is to make inferences about the DF itself from our observations.   \n",
    "\n",
    "#### Observations from some unknown process\n",
    "<img src=\"images/unknownProcessTimesAnim.gif\" width=400>\n",
    "\n",
    "Consider the following non-parametric product experiment:\n",
    "\n",
    "$$X_1, X_2, \\ldots, X_n\\ \\overset{IID}{\\sim} F^* \\in \\{\\text{all DFs}\\}$$\n",
    "\n",
    "We want to produce a point estimate for $F^*$, which is a allowed to be any DF (\"lives in the set of all DFs\"), i.e., $F^* \\in \\{\\text{all DFs}\\}$\n",
    "\n",
    "Crucially, $\\{\\text{all DFs}\\}$, i.e., the set of all distribution functions over $\\mathbb{R}$ is infinite dimensional.\n",
    "\n",
    "<img src=\"images/TwoDFs.png\" width=400>\n",
    "\n",
    "We have already seen an estimate, made using the data, of a distribution function:  the empirical or data-based distribution function (or empirical cumulative distribution function). This can be formalized as the following process of adding indicator functions of the half-lines beginning at the data points $[X_1,+\\infty),[X_2,+\\infty),\\ldots,[X_n,+\\infty)$:\n",
    "\n",
    "$$\\widehat{F}_n (x) = \\frac{1}{n} \\sum_{i=1}^n \\mathbf{1}_{[X_i,+\\infty)}(x)$$\n",
    "\n",
    "\n",
    "where,\n",
    "\n",
    "$$\\mathbf{1}_{[X_i,+\\infty)}(x) := \\begin{cases} & 1 \\quad \\text{ if } X_i \\leq x \\\\ & 0 \\quad \\text{ if }X_i > x \\end{cases}$$\n"
   ]
  },
  {
   "cell_type": "markdown",
   "metadata": {
    "deletable": true,
    "editable": true
   },
   "source": [
    "First let us evaluate a set of functions that will help us conceptualize faster:"
   ]
  },
  {
   "cell_type": "code",
   "execution_count": 8,
   "metadata": {
    "collapsed": true,
    "deletable": true,
    "editable": true
   },
   "outputs": [],
   "source": [
    "def makeEMFHidden(myDataList):\n",
    "    '''Make an empirical mass function from a data list.\n",
    "    \n",
    "    Param myDataList, list of data to make emf from.\n",
    "    Return list of tuples comprising (data value, relative frequency) ordered by data value.'''\n",
    "    \n",
    "    sortedUniqueValues = sorted(list(set(myDataList)))\n",
    "    freqs = [myDataList.count(i) for i in sortedUniqueValues]\n",
    "    relFreqs = [ZZ(fr)/len(myDataList) for fr in freqs] # use a list comprehension\n",
    "    \n",
    "    return zip(sortedUniqueValues, relFreqs)\n",
    "    \n",
    "\n",
    "from pylab import array\n",
    "\n",
    "def makeEDFHidden(myDataList, offset=0):\n",
    "    '''Make an empirical distribution function from a data list.\n",
    "    \n",
    "    Param myDataList, list of data to make ecdf from.\n",
    "    Param offset is an offset to adjust the edf by, used for doing confidence bands.\n",
    "    Return list of tuples comprising (data value, cumulative relative frequency) ordered by data value.'''\n",
    "    \n",
    "    sortedUniqueValues = sorted(list(set(myDataList)))\n",
    "    freqs = [myDataList.count(i) for i in sortedUniqueValues]\n",
    "    from pylab import cumsum\n",
    "    cumFreqs = list(cumsum(freqs)) #\n",
    "    cumRelFreqs = [ZZ(i)/len(myDataList) for i in cumFreqs] # get cumulative relative frequencies as rationals\n",
    "    if offset > 0: # an upper band\n",
    "        cumRelFreqs = [min(i ,1) for i in cumRelFreqs] # use a list comprehension\n",
    "    if offset < 0: # a lower band\n",
    "        cumRelFreqs = [max(i, 0) for i in cumFreqs] # use a list comprehension\n",
    "    return zip(sortedUniqueValues, cumRelFreqs)\n",
    "    \n",
    "# EPMF plot\n",
    "def epmfPlot(samples):\n",
    "    '''Returns an empirical probability mass function plot from samples data.'''\n",
    "    \n",
    "    epmf_pairs = makeEMFHidden(samples)\n",
    "    epmf = point(epmf_pairs, rgbcolor = \"blue\", pointsize=\"20\")\n",
    "    for k in epmf_pairs:    # for each tuple in the list\n",
    "        kkey, kheight = k     # unpack tuple\n",
    "        epmf += line([(kkey, 0),(kkey, kheight)], rgbcolor=\"blue\", linestyle=\":\")\n",
    "    # padding\n",
    "    epmf += point((0,1), rgbcolor=\"black\", pointsize=\"0\")\n",
    "    return epmf\n",
    "    \n",
    "\n",
    "# ECDF plot\n",
    "def ecdfPlot(samples):\n",
    "    '''Returns an empirical probability mass function plot from samples data.'''\n",
    "    ecdf_pairs = makeEDFHidden(samples)\n",
    "    ecdf = point(ecdf_pairs, rgbcolor = \"red\", faceted = false, pointsize=\"20\")\n",
    "    for k in range(len(ecdf_pairs)):\n",
    "        x, kheight = ecdf_pairs[k]     # unpack tuple\n",
    "        previous_x = 0\n",
    "        previous_height = 0\n",
    "        if k > 0:\n",
    "            previous_x, previous_height = ecdf_pairs[k-1] # unpack previous tuple\n",
    "        ecdf += line([(previous_x, previous_height),(x, previous_height)], rgbcolor=\"grey\")\n",
    "        ecdf += points((x, previous_height),rgbcolor = \"white\", faceted = true, pointsize=\"20\")\n",
    "        ecdf += line([(x, previous_height),(x, kheight)], rgbcolor=\"grey\", linestyle=\":\")\n",
    "    # padding\n",
    "    ecdf += line([(ecdf_pairs[0][0]-0.2, 0),(ecdf_pairs[0][0], 0)], rgbcolor=\"grey\")\n",
    "    max_index = len(ecdf_pairs)-1\n",
    "    ecdf += line([(ecdf_pairs[max_index][0], ecdf_pairs[max_index][1]),(ecdf_pairs[max_index][0]+0.2, ecdf_pairs[max_index][1])],rgbcolor=\"grey\")\n",
    "    return ecdf\n",
    "    \n",
    "def calcEpsilon(alphaE, nE):\n",
    "    '''Return confidence band epsilon calculated from parameters alphaE > 0 and nE > 0.'''\n",
    "    \n",
    "    return sqrt(1/(2*nE)*log(2/alphaE))"
   ]
  },
  {
   "cell_type": "markdown",
   "metadata": {
    "deletable": true,
    "editable": true
   },
   "source": [
    "### Let us continue with the concepts\n",
    "\n",
    "We can remind ourselves of this for a small sample of $de\\,Moivre(k=5)$ RVs:"
   ]
  },
  {
   "cell_type": "code",
   "execution_count": 9,
   "metadata": {
    "collapsed": false,
    "deletable": true,
    "editable": true
   },
   "outputs": [
    {
     "data": {
      "text/plain": [
       "[4, 4, 5, 1, 3, 3, 2, 1, 1, 4, 1, 2, 1, 3, 5, 4, 3, 4, 1, 5]"
      ]
     },
     "execution_count": 9,
     "metadata": {},
     "output_type": "execute_result"
    }
   ],
   "source": [
    "deMs=[randint(1,5) for i in range(20)]  # randint can be used to uniformly sample integers in a specified range\n",
    "deMs"
   ]
  },
  {
   "cell_type": "code",
   "execution_count": 10,
   "metadata": {
    "collapsed": false,
    "deletable": true,
    "editable": true
   },
   "outputs": [
    {
     "data": {
      "text/plain": [
       "[(1, 3/10), (2, 2/5), (3, 3/5), (4, 17/20), (5, 1)]"
      ]
     },
     "execution_count": 10,
     "metadata": {},
     "output_type": "execute_result"
    }
   ],
   "source": [
    "sortedUniqueValues = sorted(list(set(deMs)))\n",
    "freqs = [deMs.count(i) for i in sortedUniqueValues]\n",
    "from pylab import cumsum\n",
    "cumFreqs = list(cumsum(freqs)) #\n",
    "cumRelFreqs = [ZZ(i)/len(deMs) for i in cumFreqs] # get cumulative relative frequencies as rationals\n",
    "zip(sortedUniqueValues, cumRelFreqs)"
   ]
  },
  {
   "cell_type": "code",
   "execution_count": 11,
   "metadata": {
    "collapsed": false,
    "deletable": true,
    "editable": true
   },
   "outputs": [
    {
     "data": {
      "image/png": "[encoded data removed]",
      "text/plain": [
       "Graphics object consisting of 18 graphics primitives"
      ]
     },
     "metadata": {},
     "output_type": "display_data"
    }
   ],
   "source": [
    "show(ecdfPlot(deMs), figsize=[6,3]) # use hidden ecdfPlot function to plot"
   ]
  },
  {
   "cell_type": "markdown",
   "metadata": {
    "deletable": true,
    "editable": true
   },
   "source": [
    "We can use the empirical cumulative distribution function $\\widehat{F}_n$ for our non-parametric estimate because this kind of estimation is possible in infinite-dimensional contexts due to the following two theorems:\n",
    "\n",
    "- Glivenko-Cantelli Theorem (*Fundamental Theorem of Statistics*)\n",
    "- Dvoretsky-Kiefer-Wolfowitz (DKW) Inequality\n",
    "\n",
    "# Glivenko-Cantelli Theorem\n",
    "\n",
    "Let $X_1, X_2, \\ldots, X_n \\overset{IID}{\\sim} F^* \\in \\{\\text{all DFs}\\}$\n",
    "\n",
    "and the empirical distribution function (EDF) is $\\widehat{F}_n(x) := \\displaystyle\\frac{1}{n} \\sum_{i=1}^n \\mathbf{1}_{[X_i,+\\infty)}(x)$, then\n",
    "\n",
    "$$\\sup_x { | \\widehat{F}_n(x) - F^*(x) | } \\overset{P}{\\rightarrow} 0$$\n",
    "\n",
    "Remember that the EDF is a statistic of the data, a statistic is an RV, and (from our work the convergence of random variables), $\\overset{P}{\\rightarrow}$ means \"converges in probability\".  The proof is beyond the scope of this course, but we can gain an appreciation of what it means by looking at what happens to the ECDF for $n$ simulations from:\n",
    "\n",
    "- $de\\,Moivre(1/5,1/5,1/5,1/5,1/5)$ and  \n",
    "- $Uniform(0,1)$ as $n$ increases:"
   ]
  },
  {
   "cell_type": "code",
   "execution_count": 12,
   "metadata": {
    "collapsed": false,
    "deletable": true,
    "editable": true
   },
   "outputs": [
    {
     "data": {
      "application/vnd.jupyter.widget-view+json": {
       "model_id": "6d34baba18d24e08b5e5c8919eff5681"
      }
     },
     "metadata": {},
     "output_type": "display_data"
    }
   ],
   "source": [
    "@interact\n",
    "def _(n=(10,(0..200))):\n",
    "    '''Interactive function to plot ecdf for obs from de Moirve (5).'''\n",
    "    if (n > 0):\n",
    "        us = [randint(1,5) for i in range(n)]\n",
    "        p=ecdfPlot(us) # use hidden ecdfPlot function to plot\n",
    "        #p+=line([(-0.2,0),(0,0),(1,1),(1.2,1)],linestyle=':')\n",
    "        p.show(figsize=[8,2])"
   ]
  },
  {
   "cell_type": "code",
   "execution_count": 13,
   "metadata": {
    "collapsed": false,
    "deletable": true,
    "editable": true
   },
   "outputs": [
    {
     "data": {
      "application/vnd.jupyter.widget-view+json": {
       "model_id": "4c190eecb19c4361bc47c21057da414f"
      }
     },
     "metadata": {},
     "output_type": "display_data"
    }
   ],
   "source": [
    "@interact\n",
    "def _(n=(10,(0..200))):\n",
    "    '''Interactive function to plot ecdf for obs from Uniform(0,1).'''\n",
    "    if (n > 0):\n",
    "        us = [random() for i in range(n)]\n",
    "        p=ecdfPlot(us) # use hidden ecdfPlot function to plot\n",
    "        p+=line([(-0.2,0),(0,0),(1,1),(1.2,1)],linestyle='-')\n",
    "        p.show(figsize=[3,3],aspect_ratio=1)"
   ]
  },
  {
   "cell_type": "markdown",
   "metadata": {
    "deletable": true,
    "editable": true
   },
   "source": [
    "It is clear, that as $n$ increases, the ECDF $\\widehat{F}_n$ gets closer and closer to the true DF $F^*$,   $\\displaystyle\\sup_x { | \\widehat{F}_n(x) - F^*(x) | } \\overset{P}{\\rightarrow} 0$.\n",
    "\n",
    "This will hold no matter what the (possibly unknown) $F^*$ is.  Thus, $\\widehat{F}_n$ is a point estimate of $F^*$.\n",
    "\n",
    "We need to add the DKW Inequality be able to get confidence sets or a 'confidence band' that traps $F^*$ with high probability.\n",
    "\n",
    "# Dvoretsky-Kiefer-Wolfowitz (DKW) Inequality\n",
    "\n",
    "Let $X_1, X_2, \\ldots, X_n \\overset{IID}{\\sim} F^* \\in \\{\\text{all DFs}\\}$\n",
    "\n",
    "and the empirical distribution function (EDF) is $\\widehat{F}_n(x) := \\displaystyle\\frac{1}{n} \\sum_{i=1}^n \\mathbf{1}_{[X_i,+\\infty)}(x)$,\n",
    "\n",
    "then, for any $\\varepsilon > 0$,\n",
    "\n",
    "$$P\\left( \\sup_x { | \\widehat{F}_n(x) - F^*(x) | > \\varepsilon  }\\right) \\leq 2 \\exp(-2n\\varepsilon^2) $$\n",
    "\n",
    "We can use this inequality to get a $1-\\alpha$ confidence band $C_n(x) := \\left[\\underline{C}_n(x), \\overline{C}_n(x)\\right]$ about our point estimate $\\widehat{F}_n$ of our possibly unknown $F^*$ such that the $F^*$ is 'trapped' by the band with probability at least $1-\\varepsilon$.\n",
    "\n",
    "$$\\begin{eqnarray} \\underline{C}_{\\, n}(x) &=& \\max \\{ \\widehat{F}_n(x)-\\varepsilon_n, 0 \\}, \\notag \\\\ \\overline{C}_{\\, n}(x) &=& \\min \\{ \\widehat{F}_n(x)+\\varepsilon_n, 1 \\}, \\notag \\\\ \\varepsilon_n &=& \\sqrt{ \\frac{1}{2n} \\log \\left( \\frac{2}{\\alpha}\\right)} \\\\ \\end{eqnarray}$$\n",
    "\n",
    "and\n",
    "\n",
    "$$P\\left(\\underline{C}_n(x) \\leq F^*(x) \\leq \\overline{C}_n(x)\\right) \\geq 1-\\alpha$$\n",
    "\n",
    " \n",
    "\n",
    "### YouTry in class\n",
    "\n",
    "Try this out for a simple sample from the $Uniform(0,1)$, which you can generate using random.   First we  will just make the point estimate for $F^*$, the EDF $\\widehat{F}_n$"
   ]
  },
  {
   "cell_type": "code",
   "execution_count": 14,
   "metadata": {
    "collapsed": false,
    "deletable": true,
    "editable": true
   },
   "outputs": [
    {
     "name": "stdout",
     "output_type": "stream",
     "text": [
      "[0.9227376690483293, 0.6668806908011303, 0.2564801114531464, 0.9285926813657961, 0.8902807255510499, 0.7332617774638567, 0.6087392170413539, 0.003998737606123015, 0.7153968950599606, 0.47146970843132696]\n"
     ]
    }
   ],
   "source": [
    "n=10\n",
    "uniformSample = [random() for i in range(n)]\n",
    "print(uniformSample)"
   ]
  },
  {
   "cell_type": "markdown",
   "metadata": {
    "deletable": true,
    "editable": true
   },
   "source": [
    "In one of the assessments, you did a question that took you through the steps for getting the list of points that you would plot for an empirical  distribution function (EDF).  We will do exactly the same thing here.\n",
    "\n",
    "First we find the unique values in the sample, in order from smallest to largest, and get the frequency with which each unique value occurs:"
   ]
  },
  {
   "cell_type": "code",
   "execution_count": 15,
   "metadata": {
    "collapsed": false,
    "deletable": true,
    "editable": true
   },
   "outputs": [
    {
     "name": "stdout",
     "output_type": "stream",
     "text": [
      "[0.003998737606123015, 0.2564801114531464, 0.47146970843132696, 0.6087392170413539, 0.6668806908011303, 0.7153968950599606, 0.7332617774638567, 0.8902807255510499, 0.9227376690483293, 0.9285926813657961]\n"
     ]
    }
   ],
   "source": [
    "sortedUniqueValuesUniform = sorted(list(set(uniformSample)))\n",
    "print(sortedUniqueValuesUniform)"
   ]
  },
  {
   "cell_type": "code",
   "execution_count": 16,
   "metadata": {
    "collapsed": false,
    "deletable": true,
    "editable": true
   },
   "outputs": [
    {
     "data": {
      "text/plain": [
       "[1, 1, 1, 1, 1, 1, 1, 1, 1, 1]"
      ]
     },
     "execution_count": 16,
     "metadata": {},
     "output_type": "execute_result"
    }
   ],
   "source": [
    "freqsUniform = [uniformSample.count(i) for i in sortedUniqueValuesUniform]\n",
    "freqsUniform"
   ]
  },
  {
   "cell_type": "markdown",
   "metadata": {
    "deletable": true,
    "editable": true
   },
   "source": [
    "Then we accumulate the frequences to get the cumulative frequencies:"
   ]
  },
  {
   "cell_type": "code",
   "execution_count": 17,
   "metadata": {
    "collapsed": false,
    "deletable": true,
    "editable": true
   },
   "outputs": [
    {
     "data": {
      "text/plain": [
       "[1, 2, 3, 4, 5, 6, 7, 8, 9, 10]"
      ]
     },
     "execution_count": 17,
     "metadata": {},
     "output_type": "execute_result"
    }
   ],
   "source": [
    "from pylab import cumsum\n",
    "cumFreqsUniform = list(cumsum(freqsUniform)) # accumulate\n",
    "cumFreqsUniform"
   ]
  },
  {
   "cell_type": "markdown",
   "metadata": {
    "deletable": true,
    "editable": true
   },
   "source": [
    "And the the relative cumlative frequencies:"
   ]
  },
  {
   "cell_type": "code",
   "execution_count": 18,
   "metadata": {
    "collapsed": false,
    "deletable": true,
    "editable": true
   },
   "outputs": [
    {
     "data": {
      "text/plain": [
       "[1/10, 1/5, 3/10, 2/5, 1/2, 3/5, 7/10, 4/5, 9/10, 1]"
      ]
     },
     "execution_count": 18,
     "metadata": {},
     "output_type": "execute_result"
    }
   ],
   "source": [
    "# cumulative rel freqs as rationals\n",
    "cumRelFreqsUniform = [ZZ(i)/len(uniformSample) for i in cumFreqsUniform] \n",
    "cumRelFreqsUniform"
   ]
  },
  {
   "cell_type": "markdown",
   "metadata": {
    "deletable": true,
    "editable": true
   },
   "source": [
    "And finally zip these up with the sorted unique values to get a list of points we can plot:"
   ]
  },
  {
   "cell_type": "code",
   "execution_count": 19,
   "metadata": {
    "collapsed": false,
    "deletable": true,
    "editable": true
   },
   "outputs": [
    {
     "data": {
      "text/plain": [
       "[(0.003998737606123015, 1/10),\n",
       " (0.2564801114531464, 1/5),\n",
       " (0.47146970843132696, 3/10),\n",
       " (0.6087392170413539, 2/5),\n",
       " (0.6668806908011303, 1/2),\n",
       " (0.7153968950599606, 3/5),\n",
       " (0.7332617774638567, 7/10),\n",
       " (0.8902807255510499, 4/5),\n",
       " (0.9227376690483293, 9/10),\n",
       " (0.9285926813657961, 1)]"
      ]
     },
     "execution_count": 19,
     "metadata": {},
     "output_type": "execute_result"
    }
   ],
   "source": [
    "ecdfPointsUniform = zip(sortedUniqueValuesUniform, cumRelFreqsUniform)\n",
    "ecdfPointsUniform"
   ]
  },
  {
   "cell_type": "markdown",
   "metadata": {
    "deletable": true,
    "editable": true
   },
   "source": [
    "Here is a function that you can just use to do a ECDF plot:"
   ]
  },
  {
   "cell_type": "code",
   "execution_count": 20,
   "metadata": {
    "collapsed": true,
    "deletable": true,
    "editable": true
   },
   "outputs": [],
   "source": [
    "# ECDF plot given a list of points to plot\n",
    "def ecdfPointsPlot(listOfPoints, colour='grey', lines_only=False):\n",
    "    '''Returns an empirical probability mass function plot from a list of points to plot.\n",
    "    \n",
    "    Param listOfPoints is the list of points to plot.\n",
    "    Param colour is used for plotting the lines, defaulting to grey.\n",
    "    Param lines_only controls wether only lines are plotted (true) or points are added (false, the default value).\n",
    "    Returns an ecdf plot graphic.'''\n",
    "    \n",
    "    ecdfP = point((0,0), pointsize=\"0\")\n",
    "    if not lines_only: ecdfP = point(listOfPoints, rgbcolor = \"red\", faceted = false, pointsize=\"20\")\n",
    "    for k in range(len(listOfPoints)):\n",
    "        x, kheight = listOfPoints[k]     # unpack tuple\n",
    "        previous_x = 0\n",
    "        previous_height = 0\n",
    "        if k > 0:\n",
    "            previous_x, previous_height = listOfPoints[k-1] # unpack previous tuple\n",
    "        ecdfP += line([(previous_x, previous_height),(x, previous_height)], rgbcolor=colour)\n",
    "        ecdfP += line([(x, previous_height),(x, kheight)], rgbcolor=colour, linestyle=\":\")\n",
    "        if not lines_only: \n",
    "            ecdfP += points((x, previous_height),rgbcolor = \"white\", faceted = true, pointsize=\"20\")\n",
    "            # padding\n",
    "    max_index = len(listOfPoints)-1\n",
    "    ecdfP += line([(listOfPoints[0][0]-0.2, 0),(listOfPoints[0][0], 0)], rgbcolor=colour)\n",
    "    ecdfP += line([(listOfPoints[max_index][0], listOfPoints[max_index][1]),(listOfPoints[max_index][0]+0.2, listOfPoints[max_index][1])],rgbcolor=colour)\n",
    "    return ecdfP"
   ]
  },
  {
   "cell_type": "markdown",
   "metadata": {
    "deletable": true,
    "editable": true
   },
   "source": [
    "This makes the plot of the $\\widehat{F}_{10}$, the point estimate for $F^*$ for these $n=10$ simulated samples."
   ]
  },
  {
   "cell_type": "code",
   "execution_count": 21,
   "metadata": {
    "collapsed": false,
    "deletable": true,
    "editable": true
   },
   "outputs": [
    {
     "data": {
      "image/png": "[encoded data removed]",
      "text/plain": [
       "Graphics object consisting of 33 graphics primitives"
      ]
     },
     "metadata": {},
     "output_type": "display_data"
    }
   ],
   "source": [
    "show(ecdfPointsPlot(ecdfPointsUniform), figsize=[6,3])"
   ]
  },
  {
   "cell_type": "markdown",
   "metadata": {
    "deletable": true,
    "editable": true
   },
   "source": [
    "What about adding those confidence bands?  You will do essentially the same thing, but adjusting for the required $\\varepsilon$.  First we need to decide on an $\\alpha$ and calculate the $\\varepsilon$ corresponding to this alpha.  Here is some of our code to calculate the $\\varepsilon$ corresponding to $\\alpha=0.05$ (95% confidence bands), using a hidden function calcEpsilon:  "
   ]
  },
  {
   "cell_type": "code",
   "execution_count": 22,
   "metadata": {
    "collapsed": false,
    "deletable": true,
    "editable": true
   },
   "outputs": [
    {
     "data": {
      "text/plain": [
       "0.429469408346738"
      ]
     },
     "execution_count": 22,
     "metadata": {},
     "output_type": "execute_result"
    }
   ],
   "source": [
    "alpha = 0.05\n",
    "epsilon = calcEpsilon(alpha, n)\n",
    "epsilon"
   ]
  },
  {
   "cell_type": "markdown",
   "metadata": {
    "deletable": true,
    "editable": true
   },
   "source": [
    "See if you can write your own code to do this calculation, $\\varepsilon_n = \\sqrt{ \\frac{1}{2n} \\log \\left( \\frac{2}{\\alpha}\\right)}$. For completeness, do the whole thing:assign the value 0.05 to a variable named alpha, and then use this and the variable called n that we have already declared to calculate a value for $\\varepsilon$.  Call the variable to which you assign the value for $\\varepsilon$  epsilon so that it replaces the value we calculated in the cell above (you should get the same value as us!)."
   ]
  },
  {
   "cell_type": "code",
   "execution_count": null,
   "metadata": {
    "collapsed": true,
    "deletable": true,
    "editable": true
   },
   "outputs": [],
   "source": []
  },
  {
   "cell_type": "markdown",
   "metadata": {
    "deletable": true,
    "editable": true
   },
   "source": [
    "Now we need to use this to adjust the EDF plot.  In the two cells below we first of all do the adjustment for $\\underline{C}_{\\,n}(x) =\\max \\{ \\widehat{F}_n(x)-\\varepsilon_n, 0 \\}$, and then use zip again to get the points to actually plot for the lower boundary of the 95% confidence band.\n",
    "\n",
    "Now we need to use this to adjust the EDF plot. In the two cells below we first of all do the adjustment for $\\overline{C}_{\\,n}(x) =\\min \\{ \\widehat{F}_n(x)+\\varepsilon_n, 1 \\}$, and then use zip again to get the points to actually plot for the lower boundary of the 95% confidence band."
   ]
  },
  {
   "cell_type": "code",
   "execution_count": 23,
   "metadata": {
    "collapsed": false,
    "deletable": true,
    "editable": true
   },
   "outputs": [
    {
     "name": "stdout",
     "output_type": "stream",
     "text": [
      "[0, 0, 0, 0, 0.0705305916532624, 0.170530591653262, 0.270530591653262, 0.370530591653262, 0.470530591653262, 0.570530591653262]\n"
     ]
    }
   ],
   "source": [
    "# heights for the lower band\n",
    "cumRelFreqsUniformLower = [max(crf - epsilon, 0) for crf in cumRelFreqsUniform] \n",
    "print(cumRelFreqsUniformLower)"
   ]
  },
  {
   "cell_type": "code",
   "execution_count": 24,
   "metadata": {
    "collapsed": false,
    "deletable": true,
    "editable": true
   },
   "outputs": [
    {
     "data": {
      "text/plain": [
       "[(0.003998737606123015, 0),\n",
       " (0.2564801114531464, 0),\n",
       " (0.47146970843132696, 0),\n",
       " (0.6087392170413539, 0),\n",
       " (0.6668806908011303, 0.0705305916532624),\n",
       " (0.7153968950599606, 0.170530591653262),\n",
       " (0.7332617774638567, 0.270530591653262),\n",
       " (0.8902807255510499, 0.370530591653262),\n",
       " (0.9227376690483293, 0.470530591653262),\n",
       " (0.9285926813657961, 0.570530591653262)]"
      ]
     },
     "execution_count": 24,
     "metadata": {},
     "output_type": "execute_result"
    }
   ],
   "source": [
    "ecdfPointsUniformLower = zip(sortedUniqueValuesUniform, cumRelFreqsUniformLower)\n",
    "ecdfPointsUniformLower"
   ]
  },
  {
   "cell_type": "markdown",
   "metadata": {
    "deletable": true,
    "editable": true
   },
   "source": [
    "We carefully gave our `ecdfPointsPlo`t function the flexibility to be able to plot bands, by having a colour parameter (which defaults to 'grey') and a `lines_only` parameter (which defaults to `false`).  Here we can plot the lower bound of the confidence interval by adding `ecdfPointsPlot(ecdfPointsUniformLower, colour='green', lines_only=true)` to the previous plot:"
   ]
  },
  {
   "cell_type": "code",
   "execution_count": 25,
   "metadata": {
    "collapsed": false,
    "deletable": true,
    "editable": true
   },
   "outputs": [
    {
     "data": {
      "image/png": "[encoded data removed]",
      "text/plain": [
       "Graphics object consisting of 56 graphics primitives"
      ]
     },
     "metadata": {},
     "output_type": "display_data"
    }
   ],
   "source": [
    "pointEstimate = ecdfPointsPlot(ecdfPointsUniform)\n",
    "lowerBound = ecdfPointsPlot(ecdfPointsUniformLower, colour='green', lines_only=true)\n",
    "show(pointEstimate + lowerBound, figsize=[6,3])"
   ]
  },
  {
   "cell_type": "markdown",
   "metadata": {
    "deletable": true,
    "editable": true
   },
   "source": [
    "### YouTry \n",
    "You try writing the code to create the list of points needed for plotting the upper band $\\overline{C}_{\\,n}(x) =\\min \\{ \\widehat{F}_n(x)+\\varepsilon_n, 1 \\}$.  You will need to first of all get the upper heights (call them say `cumRelFreqsUniformUpper`) and then `zip` them up with the `sortedUniqueValuesUniform` to get the points to plot."
   ]
  },
  {
   "cell_type": "code",
   "execution_count": null,
   "metadata": {
    "collapsed": true,
    "deletable": true,
    "editable": true
   },
   "outputs": [],
   "source": [
    "# heights for the upper band\n"
   ]
  },
  {
   "cell_type": "code",
   "execution_count": null,
   "metadata": {
    "collapsed": true,
    "deletable": true,
    "editable": true
   },
   "outputs": [],
   "source": []
  },
  {
   "cell_type": "markdown",
   "metadata": {
    "deletable": true,
    "editable": true
   },
   "source": [
    "Once you have got done this you can add them to the plot by altering the code below:"
   ]
  },
  {
   "cell_type": "code",
   "execution_count": 26,
   "metadata": {
    "collapsed": false,
    "deletable": true,
    "editable": true
   },
   "outputs": [
    {
     "data": {
      "image/png": "[encoded data removed]",
      "text/plain": [
       "Graphics object consisting of 56 graphics primitives"
      ]
     },
     "metadata": {},
     "output_type": "display_data"
    }
   ],
   "source": [
    "pointEstimate = ecdfPointsPlot(ecdfPointsUniform)\n",
    "lowerBound = ecdfPointsPlot(ecdfPointsUniformLower,colour='green', lines_only=true)\n",
    "show(pointEstimate + lowerBound, figsize=[6,3])"
   ]
  },
  {
   "cell_type": "markdown",
   "metadata": {
    "deletable": true,
    "editable": true
   },
   "source": [
    "(end of YouTry)\n",
    "\n",
    "---"
   ]
  },
  {
   "cell_type": "markdown",
   "metadata": {
    "deletable": true,
    "editable": true
   },
   "source": [
    "If we are doing lots of collections of EDF points we may as well define a function to do it, rather than repeating the same code again and again.  We use an offset parameter to give us the flexibility to use this to make points for confidence bands as well."
   ]
  },
  {
   "cell_type": "code",
   "execution_count": 27,
   "metadata": {
    "collapsed": true,
    "deletable": true,
    "editable": true
   },
   "outputs": [],
   "source": [
    "def makeEDFPoints(myDataList, offset=0):\n",
    "    '''Make a list empirical distribution plotting points from from a data list.\n",
    "    \n",
    "    Param myDataList, list of data to make ecdf from.\n",
    "    Param offset is an offset to adjust the edf by, used for doing confidence bands.\n",
    "    Return list of tuples comprising (data value, cumulative relative frequency(with offset)) ordered by data value.'''\n",
    "    \n",
    "    sortedUniqueValues = sorted(list(set(myDataList)))\n",
    "    freqs = [myDataList.count(i) for i in sortedUniqueValues]\n",
    "    from pylab import cumsum\n",
    "    cumFreqs = list(cumsum(freqs)) \n",
    "    cumRelFreqs = [ZZ(i)/len(myDataList) for i in cumFreqs] # get cumulative relative frequencies as rationals\n",
    "    if offset > 0: # an upper band\n",
    "        cumRelFreqs = [min(i+offset ,1) for i in cumRelFreqs]\n",
    "    if offset < 0: # a lower band\n",
    "        cumRelFreqs = [max(i+offset, 0) for i in cumRelFreqs] \n",
    "    return zip(sortedUniqueValues, cumRelFreqs)"
   ]
  },
  {
   "cell_type": "markdown",
   "metadata": {
    "deletable": true,
    "editable": true
   },
   "source": [
    "## NZ EartQuakes\n",
    "\n",
    "Now we will try looking at the Earthquakes data we have used before to get a confidence band around an EDF for that.  We start by bringing in the data and the function we wrote earlier to parse that data."
   ]
  },
  {
   "cell_type": "code",
   "execution_count": 29,
   "metadata": {
    "collapsed": false,
    "deletable": true,
    "editable": true
   },
   "outputs": [
    {
     "data": {
      "text/plain": [
       "21015"
      ]
     },
     "execution_count": 29,
     "metadata": {},
     "output_type": "execute_result"
    }
   ],
   "source": [
    "def getLonLatMagDepTimes(NZEQCsvFileName):\n",
    "    '''returns longitude, latitude, magnitude, depth and the origin time as unix time\n",
    "    for each observed earthquake in the csv filr named NZEQCsvFileName'''\n",
    "    from datetime import datetime\n",
    "    import time\n",
    "    from dateutil.parser import parse\n",
    "    import numpy as np\n",
    "    \n",
    "    with open(NZEQCsvFileName) as f:\n",
    "        reader = f.read() \n",
    "        dataList = reader.split('\\n')\n",
    "        \n",
    "    myDataAccumulatorList =[]\n",
    "    for data in dataList[1:-1]:\n",
    "        dataRow = data.split(',')\n",
    "        myTimeString = dataRow[2] # origintime\n",
    "        # let's also grab longitude, latitude, magnitude, depth\n",
    "        myDataString = [dataRow[4],dataRow[5],dataRow[6],dataRow[7]]\n",
    "        try: \n",
    "            myTypedTime = time.mktime(parse(myTimeString).timetuple())\n",
    "            myFloatData = [float(x) for x in myDataString]\n",
    "            myFloatData.append(myTypedTime) # append the processed timestamp\n",
    "            myDataAccumulatorList.append(myFloatData)\n",
    "        except TypeError, e: # error handling for type incompatibilities\n",
    "            print 'Error:  Error is ', e\n",
    "    #return np.array(myDataAccumulatorList)\n",
    "    return myDataAccumulatorList\n",
    "\n",
    "myProcessedList = getLonLatMagDepTimes('data/earthquakes.csv')\n",
    "\n",
    "def interQuakeTimes(quakeTimes):\n",
    "    '''Return a list inter-earthquake times in seconds from earthquake origin times\n",
    "    Date and time elements are expected to be in the 5th column of the array\n",
    "    Return a list of inter-quake times in seconds. NEEDS sorted quakeTimes Data'''\n",
    "    import numpy as np\n",
    "    retList = []\n",
    "    if len(quakeTimes) > 1:\n",
    "        retList = [quakeTimes[i]-quakeTimes[i-1] for i in range(1,len(quakeTimes))]\n",
    "    #return np.array(retList)\n",
    "    return retList\n",
    "\n",
    "interQuakesSecs = interQuakeTimes(sorted([x[4] for x in myProcessedList]))\n",
    "len(interQuakesSecs)"
   ]
  },
  {
   "cell_type": "code",
   "execution_count": 30,
   "metadata": {
    "collapsed": false,
    "deletable": true,
    "editable": true
   },
   "outputs": [
    {
     "data": {
      "text/plain": [
       "[531.0, 551.0, 764.0, 294.0, 678.0, 1538.0, 376.0, 364.0, 208.0, 242.0]"
      ]
     },
     "execution_count": 30,
     "metadata": {},
     "output_type": "execute_result"
    }
   ],
   "source": [
    "interQuakesSecs[0:10]"
   ]
  },
  {
   "cell_type": "markdown",
   "metadata": {
    "deletable": true,
    "editable": true
   },
   "source": [
    "There is a lot of data here, so let's use an interactive plot to do the non-parametric DF estimation just for some of the last data:"
   ]
  },
  {
   "cell_type": "code",
   "execution_count": 31,
   "metadata": {
    "collapsed": false,
    "deletable": true,
    "editable": true
   },
   "outputs": [
    {
     "data": {
      "application/vnd.jupyter.widget-view+json": {
       "model_id": "c9e1fe3e8d544f40930a617f923bb916"
      }
     },
     "metadata": {},
     "output_type": "display_data"
    }
   ],
   "source": [
    "@interact\n",
    "def _(takeLast=(500,(0..min(len(interQuakesSecs),1999))), alpha=(0.05)):\n",
    "    '''Interactive function to plot the edf estimate and confidence bands for inter earthquake times.'''\n",
    "    if takeLast > 0 and alpha > 0 and alpha < 1:\n",
    "        lastInterQuakesSecs = interQuakesSecs[len(interQuakesSecs)-takeLast:len(interQuakesSecs)]\n",
    "        interQuakePoints = makeEDFPoints(lastInterQuakesSecs)\n",
    "        p=ecdfPointsPlot(interQuakePoints, lines_only=true)\n",
    "        epQuakes = calcEpsilon(alpha, len(lastInterQuakesSecs))\n",
    "        interQuakePointsLower = makeEDFPoints(lastInterQuakesSecs, offset=-epQuakes)\n",
    "        lowerQuakesBound = ecdfPointsPlot(interQuakePointsLower, colour='green', lines_only=true)\n",
    "        interQuakePointsUpper = makeEDFPoints(lastInterQuakesSecs, offset=epQuakes)\n",
    "        upperQuakesBound = ecdfPointsPlot(interQuakePointsUpper, colour='green', lines_only=true)\n",
    "        show(p + lowerQuakesBound + upperQuakesBound, figsize=[6,3])\n",
    "    else:\n",
    "        print \"check your input values\""
   ]
  },
  {
   "cell_type": "markdown",
   "metadata": {
    "deletable": true,
    "editable": true
   },
   "source": [
    "What if we are not interested in estimating $F^*$ itself, but we are interested in scientificially investigating whether two distributions are the same.  For example, perhaps, whether the distribution of earthquake magnitudes was the same in April as it was in March.  Then, we should attempt to reject a falsifiable hypothesis ...\n",
    "\n",
    "# Hypothesis Testing\n",
    "\n",
    "A formal definition of hypothesis testing is beyond our current scope.  Here we will look in particular at a non-parametric hypothesis test called a permutation test.  First, a quick review:\n",
    "\n",
    "The outcomes of a hypothesis test, in general, are:\n",
    "\n",
    "<table border=\"1\" cellspacing=\"2\" cellpadding=\"2\" align=\"center\">\n",
    "<tbody>\n",
    "<tr>\n",
    "<td align=\"center\">'true state of nature'</td>\n",
    "<td align=\"center\"><strong>Do not reject $H_0$<br /></strong></td>\n",
    "<td align=\"center\"><strong>Reject $H_0$<br /></strong></td>\n",
    "</tr>\n",
    "<tr>\n",
    "<td>\n",
    "<p><strong>$H_0$ is true<br /></strong></p>\n",
    "<p>&nbsp;</p>\n",
    "</td>\n",
    "<td align=\"center\">\n",
    "<p>OK<span style=\"color: #3366ff;\">&nbsp;</span></p>\n",
    "</td>\n",
    "<td align=\"center\">\n",
    "<p>Type I error</p>\n",
    "</td>\n",
    "</tr>\n",
    "<tr>\n",
    "<td>\n",
    "<p><strong>$H_0$ is false</strong></p>\n",
    "</td>\n",
    "<td align=\"center\">Type II error</td>\n",
    "<td align=\"center\">OK</td>\n",
    "</tr>\n",
    "</tbody>\n",
    "</table>\n",
    "\n",
    "So, we want a small probability that we reject  $H_0$ when $H_0$ is true (minimise Type I error).  Similarly, we want to minimise the probability that we fail to reject $H_0$ when $H_0$ is false (type II error). \n",
    "\n",
    "The P-value is one way to conduct a desirable hypothesis test.  The scale of the evidence against $H_0$ is stated in terms of the P-value.  The following interpretation of P-values is commonly used:\n",
    "\n",
    "- P-value $\\in (0, 0.01]$: Very strong evidence against $H_0$\n",
    "- P-value $\\in (0.01, 0.05]$: Strong evidence against $H_0$\n",
    "- P-value $\\in (0.05, 0.1]$: Weak evidence against $H_0$\n",
    "- P-value $\\in (0.1, 1]$: Little or no evidence against $H_0$\n",
    "\n",
    "## Permutation Testing\n",
    "\n",
    "A Permuation Test is a **non-parametric exact** method for testing whether two distributions are the same based on samples from each of them.\n",
    "\n",
    "What do we mean by \"non-parametric exact\"?  It is non-parametric because we do not impose any parametric assumptions.  It is exact because it works for any sample size.\n",
    "\n",
    "Formally, we suppose that: \n",
    "$$ X_1,X_2,\\ldots,X_m \\overset{IID}{\\sim} F^* \\quad \\text{and} \\quad X_{m+1}, X_{m+2},\\ldots,X_{m+n} \\overset{IID}{\\sim} G^* \\enspace , $$\n",
    "are two sets of independent samples where the possibly unknown DFs \n",
    "$F^*,\\,G^* \\in \\{ \\text{all DFs} \\}$.\n",
    "\n",
    "(Notice that we have written it so that the subscripts on the $X$s run from 1 to $m+n$.)\n",
    "\n",
    "Now, consider the following hypothesis test: \n",
    "$$H_0: F^*=G^* \\quad \\text{versus} \\quad H_1: F^* \\neq G^* \\enspace . $$\n",
    "\n",
    "Our test statistic uses the observations in both both samples.  We want a test statistic that is a sensible one for the test, i.e., will be large when when $F^*$ is 'too different' from $G^*$\n",
    "\n",
    "So, let our test statistic $T(X_1,\\ldots,X_m,X_{m+1},\\ldots,X_{m+n})$ be say: \n",
    "$$\n",
    "T:=T(X_1,\\ldots,X_m,X_{m+1},\\ldots,X_{m+n})= \\text{abs} \\left( \\frac{1}{m} \\sum_{i=1}^m X_i - \\frac{1}{n} \\sum_{i=m+1}^n X_i \\right) \\enspace .\n",
    "$$\n",
    "\n",
    "(In words, we have chosen a test statistic that is the absolute value of the difference in the sample means.   Note the limitation of this:  if $F^*$ and $G^*$ have the same mean but different variances, our test statistic $T$ will not be large.)\n",
    "\n",
    "Then the idea of a permutation test is as follows:\n",
    "\n",
    "- Let $N:=m+n$ be the pooled sample size and consider all $N!$ permutations of the observed data $x_{obs}:=(x_1,x_2,\\ldots,x_m,x_{m+1},x_{m+2},\\ldots,x_{m+n})$.\n",
    "- For each permutation of the data compute the statistic $T(\\text{permuted data } x)$ and denote these $N!$ values of $T$ by $t_1,t_2,\\ldots,t_{N!}$.\n",
    "- Under $H_0: X_1,\\ldots,X_m,X_{m+1},\\ldots,X_{m+n} \\overset{IID}{\\sim}F^*=G^*$, each of the permutations of $x= (x_1,x_2,\\ldots,x_m,x_{m+1},x_{m+2},\\ldots,x_{m+n})$ has the same joint probability $\\prod_{i=1}^{m+n} f(x_i)$, where $f(x_i)$ is the density function corresponding to $F^*=G^*$, $f(x_i)=dF(x_i)=dG(x_i)$. \n",
    "- Therefore, the transformation of the data by our statistic $T$ also has the same probability over the values of $T$, namely $\\{t_1,t_2,\\ldots,t_{N!}\\}$. Let $\\mathbf{P}_0$ be this permutation distribution under the null hypothesis. $\\mathbf{P}_0$ is discrete and uniform over $\\{t_1,t_2,\\ldots,t_{N!}\\}$. \n",
    "- Let $t_{obs} := T(x_{obs})$ be the observed value of the test statistic.\n",
    "- Assuming we reject $H_0$ when $T$ is large, the P-value = $\\mathbf{P}_0 \\left( T \\geq t_{obs} \\right)$\n",
    "- Saying that $\\mathbf{P}_0$ is discrete and uniform over $\\{t_1, t_2, \\ldots, t_{N!}\\}$ says that each possible permutation has an equal probabability of occuring (under the null hypothesis).  There are $N!$ possible permutations and so the probability of any individual permutation is $\\frac{1}{N!}$\n",
    "\n",
    "$$\n",
    "\\text{P-value} = \\mathbf{P}_0 \\left( T \\geq t_{obs} \\right) = \\frac{1}{N!} \\left( \\sum_{j=1}^{N!} \\mathbf{1} (t_j \\geq t_{obs}) \\right), \\qquad \\mathbf{1} (t_j \\geq t_{obs}) = \\begin{cases} 1 & \\text{if } \\quad t_j \\geq t_{obs} \\\\ 0 & \\text{otherwise} \\end{cases}\n",
    "$$\n",
    "\n",
    "This will make more sense if we look at some real data. \n",
    "\n",
    "## Permutation Testing with Shell Data\n",
    "\n",
    "In 2008, Guo Yaozong and Chen Shun collected data on the diameters of coarse venus shells from New Brighton beach for a course project.  They recorded the diameters for two samples of shells, one from each side of the New Brighton Pier.  The data is given in the following two cells."
   ]
  },
  {
   "cell_type": "code",
   "execution_count": 35,
   "metadata": {
    "collapsed": true,
    "deletable": true,
    "editable": true
   },
   "outputs": [],
   "source": [
    "leftSide = [52, 54, 60, 60, 54, 47, 57, 58, 61, 57, 50, 60, 60, 60, 62, 44, 55, 58, 55,\\\n",
    "            60, 59, 65, 59, 63, 51, 61, 62, 61, 60, 61, 65, 43, 59, 58, 67, 56, 64, 47,\\\n",
    "            64, 60, 55, 58, 41, 53, 61, 60, 49, 48, 47, 42, 50, 58, 48, 59, 55, 59, 50, \\\n",
    "            47, 47, 33, 51, 61, 61, 52, 62, 64, 64, 47, 58, 58, 61, 50, 55, 47, 39, 59,\\\n",
    "            64, 63, 63, 62, 64, 61, 50, 62, 61, 65, 62, 66, 60, 59, 58, 58, 60, 59, 61,\\\n",
    "            55, 55, 62, 51, 61, 49, 52, 59, 60, 66, 50, 59, 64, 64, 62, 60, 65, 44, 58, 63]"
   ]
  },
  {
   "cell_type": "code",
   "execution_count": 36,
   "metadata": {
    "collapsed": true,
    "deletable": true,
    "editable": true
   },
   "outputs": [],
   "source": [
    "rightSide = [58, 54, 60, 55, 56, 44, 60, 52, 57, 58, 61, 66, 56, 59, 49, 48, 69, 66, 49,\\\n",
    "             72, 49, 50, 59, 59, 59, 66, 62, 44, 49, 40, 59, 55, 61, 51, 62, 52, 63, 39,\\\n",
    "             63, 52, 62, 49, 48, 65, 68, 45, 63, 58, 55, 56, 55, 57, 34, 64, 66, 54, 65,\\\n",
    "             61, 56, 57, 59, 58, 62, 58, 40, 43, 62, 59, 64, 64, 65, 65, 59, 64, 63, 65,\\\n",
    "             62, 61, 47, 59, 63, 44, 43, 59, 67, 64, 60, 62, 64, 65, 59, 55, 38, 57, 61,\\\n",
    "             52, 61, 61, 60, 34, 62, 64, 58, 39, 63, 47, 55, 54, 48, 60, 55, 60, 65, 41,\\\n",
    "             61, 59, 65, 50, 54, 60, 48, 51, 68, 52, 51, 61, 57, 49, 51, 62, 63, 59, 62,\\\n",
    "             54, 59, 46, 64, 49, 61]"
   ]
  },
  {
   "cell_type": "code",
   "execution_count": 38,
   "metadata": {
    "collapsed": false,
    "deletable": true,
    "editable": true
   },
   "outputs": [
    {
     "data": {
      "text/plain": [
       "(115, 139)"
      ]
     },
     "execution_count": 38,
     "metadata": {},
     "output_type": "execute_result"
    }
   ],
   "source": [
    "len(leftSide), len(rightSide)"
   ]
  },
  {
   "cell_type": "markdown",
   "metadata": {
    "deletable": true,
    "editable": true
   },
   "source": [
    "$(115 + 139)!$ is a very big number.   Lets start small, and take a subselection of the shell data to demonstrate the permutation test concept:  the first two shells from the left of the pier and the first one from the right:"
   ]
  },
  {
   "cell_type": "code",
   "execution_count": 39,
   "metadata": {
    "collapsed": false,
    "deletable": true,
    "editable": true
   },
   "outputs": [
    {
     "data": {
      "text/plain": [
       "[52, 54, 58]"
      ]
     },
     "execution_count": 39,
     "metadata": {},
     "output_type": "execute_result"
    }
   ],
   "source": [
    "rightSub = [52, 54]\n",
    "leftSub = [58]\n",
    "totalSample = rightSub + leftSub\n",
    "totalSample"
   ]
  },
  {
   "cell_type": "markdown",
   "metadata": {
    "deletable": true,
    "editable": true
   },
   "source": [
    "So now we are testing the hypotheses\n",
    "\n",
    "$$\\begin{array}{lcl}H_0&:& X_1,X_2,X_3 \\overset{IID}{\\sim} F^*=G^* \\\\H_1&:&X_1, X_2 \\overset{IID}{\\sim} F^*, \\,\\,X_3 \\overset{IID}{\\sim} G^*, F^* \\neq G^*\\end{array}$$ \n",
    "\n",
    "With the test statistic\n",
    "$$\\begin{array}{lcl}T(X_1,X_2,X_3) &=& \\text{abs} \\left(\\displaystyle\\frac{1}{2}\\displaystyle\\sum_{i=1}^2X_i - \\displaystyle\\frac{1}{1}\\displaystyle\\sum_{i=2+1}^3X_i\\right) \\\\ &=&\\text{abs}\\left(\\displaystyle\\frac{X_1+ X_2}{2} - \\displaystyle\\frac{X_3}{1}\\right)\\end{array}$$\n",
    "\n",
    "Our observed data $x_{obs} = (x_1, x_2, x_3) = (52, 54, 58)$\n",
    "\n",
    "and the realisation of the test statistic for this data is $t_{obs} = \\text{abs}\\left(\\displaystyle\\frac{52+54}{2} - \\frac{58}{1}\\right) = \\text{abs}\\left(53 - 58\\right) = \\text{abs}(-5) = 5$\n",
    "\n",
    "Now we need to tabulate the permutations and their probabilities.  There are 3! = 6 possible permutataions of three items.  For larger samples, you could use the `factorial` function to calculate this:"
   ]
  },
  {
   "cell_type": "code",
   "execution_count": 40,
   "metadata": {
    "collapsed": false,
    "deletable": true,
    "editable": true
   },
   "outputs": [
    {
     "data": {
      "text/plain": [
       "6"
      ]
     },
     "execution_count": 40,
     "metadata": {},
     "output_type": "execute_result"
    }
   ],
   "source": [
    "factorial(3)"
   ]
  },
  {
   "cell_type": "code",
   "execution_count": null,
   "metadata": {
    "collapsed": true,
    "deletable": true,
    "editable": true
   },
   "outputs": [],
   "source": []
  },
  {
   "cell_type": "markdown",
   "metadata": {
    "deletable": true,
    "editable": true
   },
   "source": [
    "We said that under the null hypotheses (the samples have the same DF) each permutation is equally likely, so each permutation has probability $\\displaystyle\\frac{1}{6}$.\n",
    "\n",
    "There is a way in Python (the language under the hood in Sage), to get all the permuations of a sequence:"
   ]
  },
  {
   "cell_type": "code",
   "execution_count": 42,
   "metadata": {
    "collapsed": false,
    "deletable": true,
    "editable": true
   },
   "outputs": [
    {
     "data": {
      "text/plain": [
       "[[52, 54, 58],\n",
       " [52, 58, 54],\n",
       " [54, 52, 58],\n",
       " [54, 58, 52],\n",
       " [58, 52, 54],\n",
       " [58, 54, 52]]"
      ]
     },
     "execution_count": 42,
     "metadata": {},
     "output_type": "execute_result"
    }
   ],
   "source": [
    "list(Permutations(totalSample))"
   ]
  },
  {
   "cell_type": "markdown",
   "metadata": {
    "deletable": true,
    "editable": true
   },
   "source": [
    "We can tabulate the permuations, their probabilities, and the value of the test statistic that would be associated with that permutation:\n",
    "\n",
    "<table border=\"1\" cellpadding=\"5\" align=\"center\">\n",
    "<tbody>\n",
    "<tr>\n",
    "<td style=\"text-align: center;\">Permutation</td>\n",
    "<td style=\"text-align: center;\">$t$</td>\n",
    "<td style=\"text-align: center;\">$\\mathbf{P}_0(T=t)$</td>\n",
    "</tr>\n",
    "<tr>\n",
    "<td style=\"text-align: center;\"> </td>\n",
    "<td style=\"text-align: center;\"> </td>\n",
    "<td style=\"text-align: center;\">Probability under Null</td>\n",
    "</tr>\n",
    "<tr>\n",
    "<td style=\"text-align: center;\">(52, 54, 58)</td>\n",
    "<td style=\"text-align: center;\">5</td>\n",
    "<td style=\"text-align: center;\">$\\frac{1}{6}$</td>\n",
    "</tr>\n",
    "<tr>\n",
    "<td style=\"text-align: center;\">(52, 58, 54)</td>\n",
    "<td style=\"text-align: center;\">&nbsp;1</td>\n",
    "<td style=\"text-align: center;\">$\\frac{1}{6}$</td>\n",
    "</tr>\n",
    "<tr>\n",
    "<td style=\"text-align: center;\">(54, 52, 58)</td>\n",
    "<td style=\"text-align: center;\">5</td>\n",
    "<td style=\"text-align: center;\">$\\frac{1}{6}$</td>\n",
    "</tr>\n",
    "<tr>\n",
    "<td style=\"text-align: center;\">(54, 58, 52)</td>\n",
    "<td style=\"text-align: center;\">4</td>\n",
    "<td style=\"text-align: center;\">$\\frac{1}{6}$</td>\n",
    "</tr>\n",
    "<tr>\n",
    "<td style=\"text-align: center;\">(58, 52, 54)</td>\n",
    "<td style=\"text-align: center;\">1</td>\n",
    "<td style=\"text-align: center;\">$\\frac{1}{6}$</td>\n",
    "</tr>\n",
    "<tr>\n",
    "<td style=\"text-align: center;\">(58, 54, 52)</td>\n",
    "<td style=\"text-align: center;\">4</td>\n",
    "<td style=\"text-align: center;\">$\\frac{1}{6}$</td>\n",
    "</tr>\n",
    "</tbody>\n",
    "</table>"
   ]
  },
  {
   "cell_type": "code",
   "execution_count": 44,
   "metadata": {
    "collapsed": false,
    "deletable": true,
    "editable": true
   },
   "outputs": [
    {
     "name": "stdout",
     "output_type": "stream",
     "text": [
      "[52, 54, 58]  has t =  5\n",
      "[52, 58, 54]  has t =  1\n",
      "[54, 52, 58]  has t =  5\n",
      "[54, 58, 52]  has t =  4\n",
      "[58, 52, 54]  has t =  1\n",
      "[58, 54, 52]  has t =  4\n"
     ]
    }
   ],
   "source": [
    "allPerms = list(Permutations(totalSample))\n",
    "for p in allPerms:\n",
    "    t = abs((p[0] + p[1])/2 - p[2]/1)\n",
    "    print p, \" has t = \", t"
   ]
  },
  {
   "cell_type": "markdown",
   "metadata": {
    "deletable": true,
    "editable": true
   },
   "source": [
    "To calculate the P-value for our test statistic $t_{obs} = 5$, we need to look at how many permutations would give rise to test statistics that are at least as big, and add up their probabilities.\n",
    "\n",
    "$$\n",
    "\\begin{array}{lcl}\\text{P-value} &=& \\mathbf{P}_0(T \\geq t_{obs}) \\\\&=&\\mathbf{P}_0(T \\geq 5)\\\\&=&\\frac{1}{6} + \\frac {1}{6} \\\\&=&\\frac{2}{6}\\\\ &=&\\frac{1}{3} \\\\ &\\approx & 0.333\\end{array}\n",
    "$$\n",
    "\n",
    "We could write ourselves a little bit of code to do this in SageMath.  As you can see, we could easily improve this to make it more flexible so that we could use it for different numbers of samples, but it will do for now."
   ]
  },
  {
   "cell_type": "code",
   "execution_count": 46,
   "metadata": {
    "collapsed": false,
    "deletable": true,
    "editable": true
   },
   "outputs": [
    {
     "data": {
      "text/plain": [
       "1/3"
      ]
     },
     "execution_count": 46,
     "metadata": {},
     "output_type": "execute_result"
    }
   ],
   "source": [
    "allPerms = list(Permutations(totalSample))\n",
    "pProb = 1/len(allPerms)\n",
    "pValue = 0\n",
    "tobs = 5\n",
    "for p in allPerms:\n",
    "    t = abs((p[0] + p[1])/2 - p[2]/1)\n",
    "    if t >= tobs:\n",
    "        pValue = pValue + pProb\n",
    "pValue"
   ]
  },
  {
   "cell_type": "markdown",
   "metadata": {
    "deletable": true,
    "editable": true
   },
   "source": [
    "This means that there is little or no evidence against the null hypothesis (that the shell diameter observations are from the same DF).\n",
    "\n",
    "### Pooled sample size\n",
    "\n",
    "The lowest possible P-value for a pooled sample of size $N=m+n$ is $\\displaystyle\\frac{1}{N!}$.  Can you see why this is? \n",
    "\n",
    "So with our small sub-samples the smallest possible P-value would be $\\frac{1}{6} \\approx 0.167$.  If we are looking for P-value $\\leq 0.01$ to constitute very strong evidence against $H_0$, then we have to have a large enough pooled sample for this to be possible.  Since $5! = 5 \\times 4 \\times 3 \\times 2 \\times 1 = 120$, it is good to have $N \\geq 5$\n",
    "\n",
    "### YouTry in class\n",
    "\n",
    "Try copying and pasting our code and then adapting it to deal with a sub-sample (52, 54, 60) from the left of the pier and (58, 54) from the right side of the pier.  "
   ]
  },
  {
   "cell_type": "code",
   "execution_count": null,
   "metadata": {
    "collapsed": true,
    "deletable": true,
    "editable": true
   },
   "outputs": [],
   "source": [
    "rightSub = [52, 54, 60]\n",
    "leftSub = [58, 54]\n",
    "totalSample = rightSub + leftSub\n",
    "totalSample"
   ]
  },
  {
   "cell_type": "code",
   "execution_count": null,
   "metadata": {
    "collapsed": true,
    "deletable": true,
    "editable": true
   },
   "outputs": [],
   "source": []
  },
  {
   "cell_type": "markdown",
   "metadata": {
    "deletable": true,
    "editable": true
   },
   "source": [
    "### You will have to think about:\n",
    "\n",
    "- calculating the value of the test statistic for the observed data and for all the permuations of the total sample\n",
    "- calculating the probability of each permutation\n",
    "- calculating the P-value by adding the probabilities for the permutations with test statistics at least as large as the observed value of the test statistic"
   ]
  },
  {
   "cell_type": "code",
   "execution_count": null,
   "metadata": {
    "collapsed": true,
    "deletable": true,
    "editable": true
   },
   "outputs": [],
   "source": []
  },
  {
   "cell_type": "code",
   "execution_count": null,
   "metadata": {
    "collapsed": true,
    "deletable": true,
    "editable": true
   },
   "outputs": [],
   "source": []
  },
  {
   "cell_type": "code",
   "execution_count": null,
   "metadata": {
    "collapsed": true,
    "deletable": true,
    "editable": true
   },
   "outputs": [],
   "source": []
  },
  {
   "cell_type": "markdown",
   "metadata": {
    "deletable": true,
    "editable": true
   },
   "source": [
    "(add more cells if you need them)\n",
    "\n",
    "(end of You Try)\n",
    "\n",
    "---"
   ]
  },
  {
   "cell_type": "markdown",
   "metadata": {
    "deletable": true,
    "editable": true
   },
   "source": [
    "We can use the sample function and the Python method for making permutations to experiment with a larger sample, say 5 of each."
   ]
  },
  {
   "cell_type": "code",
   "execution_count": 47,
   "metadata": {
    "collapsed": false,
    "deletable": true,
    "editable": true
   },
   "outputs": [
    {
     "data": {
      "text/plain": [
       "[51, 55, 61, 50, 62, 52, 49, 59, 49, 59]"
      ]
     },
     "execution_count": 47,
     "metadata": {},
     "output_type": "execute_result"
    }
   ],
   "source": [
    "n, m = 5, 5\n",
    "leftSub = sample(leftSide, n)\n",
    "rightSub = sample(rightSide,m)\n",
    "totalSample = leftSub + rightSub\n",
    "leftSub; rightSub; totalSample"
   ]
  },
  {
   "cell_type": "code",
   "execution_count": 48,
   "metadata": {
    "collapsed": false,
    "deletable": true,
    "editable": true
   },
   "outputs": [
    {
     "data": {
      "text/plain": [
       "11/5"
      ]
     },
     "execution_count": 48,
     "metadata": {},
     "output_type": "execute_result"
    }
   ],
   "source": [
    "tobs = abs(mean(leftSub) - mean(rightSub))\n",
    "tobs"
   ]
  },
  {
   "cell_type": "markdown",
   "metadata": {
    "deletable": true,
    "editable": true
   },
   "source": [
    "We have met sample briefly already:  it is part of the Python random module and it does exactly what you would expect from the name: it samples a specified number of elements randomly from a sequence."
   ]
  },
  {
   "cell_type": "code",
   "execution_count": 49,
   "metadata": {
    "collapsed": true,
    "deletable": true,
    "editable": true
   },
   "outputs": [],
   "source": [
    "#define a helper function for calculating the tstat from a permutation\n",
    "def tForPerm(perm, samplesize1, samplesize2):\n",
    "    '''Calculates the t statistic for a permutation of data given the sample sizes to split the permuation into.\n",
    "    \n",
    "    Param perm is the permutation of data to be split into the two samples.\n",
    "    Param samplesize1, samplesize2 are the two sample sizes.\n",
    "    Returns the absolute value of the difference in the means of the two samples split out from perm.'''\n",
    "    sample1 = [perm[i] for i in range(samplesize1)]\n",
    "    sample2 = [perm[samplesize1+j] for j in range(samplesize2)]\n",
    "    return abs(mean(sample1) - mean(sample2))"
   ]
  },
  {
   "cell_type": "code",
   "execution_count": 51,
   "metadata": {
    "collapsed": false,
    "deletable": true,
    "editable": true
   },
   "outputs": [
    {
     "data": {
      "text/plain": [
       "23/42"
      ]
     },
     "execution_count": 51,
     "metadata": {},
     "output_type": "execute_result"
    }
   ],
   "source": [
    "allPerms = list(Permutations(totalSample))\n",
    "pProb = 1/len(allPerms)\n",
    "pValue = 0\n",
    "tobs = abs(mean(leftSub) - mean(rightSub))\n",
    "for p in allPerms:\n",
    "    t = tForPerm(p, n, m)\n",
    "    if t >= tobs:\n",
    "        pValue = pValue + pProb\n",
    "pValue"
   ]
  },
  {
   "cell_type": "code",
   "execution_count": 52,
   "metadata": {
    "collapsed": false,
    "deletable": true,
    "editable": true
   },
   "outputs": [
    {
     "data": {
      "text/plain": [
       "10"
      ]
     },
     "execution_count": 52,
     "metadata": {},
     "output_type": "execute_result"
    }
   ],
   "source": [
    "n+m"
   ]
  },
  {
   "cell_type": "code",
   "execution_count": 53,
   "metadata": {
    "collapsed": false,
    "deletable": true,
    "editable": true
   },
   "outputs": [
    {
     "data": {
      "text/plain": [
       "3628800"
      ]
     },
     "execution_count": 53,
     "metadata": {},
     "output_type": "execute_result"
    }
   ],
   "source": [
    "factorial(n+m) # how many permutations is it checking"
   ]
  },
  {
   "cell_type": "markdown",
   "metadata": {
    "deletable": true,
    "editable": true
   },
   "source": [
    "As you can see from the length of time it takes to do the calculation for $(5+5)! = 10!$ permutations, we will be here a long time if we try to this on all of both shell data sets.  Monte Carlo methods to the rescue:  we can use Monte Carlo integration to calculate an approximate P-value, and this will be our next topic. \n",
    "\n",
    " \n",
    "\n",
    "### You try\n",
    "\n",
    "Try working out the P-value for a sub-sample (58, 63) from the left of the pier and (61) from the right (the two last values in the left-side data set and the last value in the right-side one).  Do it as you would if given a similar question in the exam: you choose how much you want to use Sage to help and how much you do just with pen and paper. "
   ]
  },
  {
   "cell_type": "code",
   "execution_count": null,
   "metadata": {
    "collapsed": true,
    "deletable": true,
    "editable": true
   },
   "outputs": [],
   "source": []
  }
 ],
 "metadata": {
  "kernelspec": {
   "display_name": "SageMath 8.1",
   "language": "",
   "name": "sagemath"
  },
  "language_info": {
   "codemirror_mode": {
    "name": "ipython",
    "version": 2
   },
   "file_extension": ".py",
   "mimetype": "text/x-python",
   "name": "python",
   "nbconvert_exporter": "python",
   "pygments_lexer": "ipython2",
   "version": "2.7.14"
  }
 },
 "nbformat": 4,
 "nbformat_minor": 2
}
