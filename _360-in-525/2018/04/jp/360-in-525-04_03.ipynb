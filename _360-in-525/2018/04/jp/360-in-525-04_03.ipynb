{
 "cells": [
  {
   "cell_type": "markdown",
   "metadata": {
    "deletable": true,
    "editable": true
   },
   "source": [
    "# 03. Map, Function, Collection, and Probability \n",
    "## [Mathematical Statistical and Computational Foundations for Data Scientists](https://lamastex.github.io/scalable-data-science/360-in-525/2018/04/)\n",
    "\n",
    "&copy;2018 Raazesh Sainudiin. [Attribution 4.0 International (CC BY 4.0)](https://creativecommons.org/licenses/by/4.0/)\n",
    "\n",
    "1. Maps and Functions\n",
    "* Collections in Sage\n",
    "  - List\n",
    "  - Set\n",
    "  - Dictionary\n",
    "* Probability"
   ]
  },
  {
   "cell_type": "markdown",
   "metadata": {
    "deletable": true,
    "editable": true
   },
   "source": [
    "## Maps and Functions\n",
    "\n",
    "In the last notebook we talked about sets.  A *map* or *function* is a specific kind of *relation* between two sets.  The two sets are traditionally called the *domain* and the *range*. \n",
    "\n",
    "The map or function associates each element in the domain with exactly one element in the range.  \n",
    "\n",
    "So, more than one distinct element in the domain can be associated with the same element in the range, and not every element in the range needs to be mapped (i.e, not everything in the range needs to have something in the domain associated with it). \n",
    "\n",
    "Here is a map for some family relationships:   \n",
    "\n",
    "- $Raaz$ has two daughters named $Anu$ and $Ashu$, \n",
    "- $Jenny$ has a sister called $Cathy$ and the father of $Jenny$ and $Cathy$ is $Jonathan$, and\n",
    "- $Fred$ is a man who has no daughter.\n",
    "\n",
    "We can map these daughters to their fathers with the $FindFathersMap$ shown below: The daughters are in the domain and the fathers are in the range made up of men.  Each daughter maps to a father (there is no immaculate conceptions here!).  More than one daughter can map to the same father (some fathers have more daughters!). But there can be men in the range who are not fathers (this is also natural, may be they only have sons or have no children at all).\n",
    "\n",
    "<img src=\"images/FathersAndDaughterMap1.png\" alt=\"AFunction.png\" width=\"350\"> \n",
    "\n",
    "The notation for this mapping would be:\n",
    "\n",
    "$$FindFathersMap: Daughters \\rightarrow Men$$\n",
    "\n",
    "The domain is the set:\n",
    "\n",
    "$$Daughters = \\{Anu, Ashu, Jenny, Cathy\\}$$ \n",
    "\n",
    "and the range or codomain is the set:\n",
    "\n",
    "$$Men = \\{Raaz, Jonathan, Fred\\}.$$\n",
    "\n",
    "The element in the range that an element in the domain maps to is called the image of that domain element.  \n",
    "For example, $Raaz$ is the image of $Anu$ in the $FindFathersMap$.  The notation for this is:\n",
    "\n",
    "$$FindFathersMap(Anu) = Raaz \\ .$$  \n",
    "\n",
    "Note that what we have just written is a function, just like the more familiar format of \n",
    "\n",
    "$$f(x) = y \\ .$$\n",
    "\n",
    "In computer science lingo each element in the domain is called a key and the images in the range are called values.  The map or function associates each key with a value.\n",
    "\n",
    "The keys for the map are unique  since the domain is a set, i.e., a collection of distinct elements.   Lots of keys can map to the same image value ($Jenny$ and $Cathy$ have the same father, $Anu$ and $Ashu$ have the same father), but the idea is that we can uniquely identify the value we want if we know the key.   This means that we can't have multiple identical keys.   This makes sense when you look at how the map works.   We use the map to find values from the key, as we did when we found $Anu$'s father above.   If we had more than one $Anu$ in the set of keys, we could not uniquely identify the value that maps to the key $Anu$.\n",
    "\n",
    "We do not allow maps (functions) where one element in the domain maps to more than one element in the range.  In computer science lingo, each key can have only one value associated with it. \n",
    "\n",
    "<img src=\"images/NotAFunction.png\" alt=\"NotAFunction.png\" width=\"350\">\n",
    "\n",
    "Formalising this, a function $f: \\mathbb{X} \\rightarrow \\mathbb{Y}$ that maps each element $x \\in \\mathbb{X}$ to eaxctly one element $f(x) \\in \\mathbb{Y}$ is equivalent to the corresponding set of ordered pairs:\n",
    "$$\\left\\{(x, f(x)): x \\in \\mathbb{X}, f(x) \\in \\mathbb{Y}\\right\\} \\ .$$\n",
    "\n",
    "Here, $\\left(x, f(x)\\right)$ is an ordered pair (the familiar key-value pair in computer science).\n",
    "\n",
    "The pre-image or inverse image of a function $f: \\mathbb{X} \\rightarrow \\mathbb{Y}$ is $f^{[-1]}$.\n",
    "\n",
    "The inverse image takes subsets in $\\mathbb{Y}$ and returns subsets of $\\mathbb{X}$.\n",
    "\n",
    "The pre-image or inverse image of $y$ is $f^{[-1]}(y) = \\left\\{x \\in \\mathbb{X} : f(x) = y \\right\\} \\subset \\mathbb{X}$.\n",
    "\n",
    "For example, for our FindFathersMap,\n",
    "\n",
    "- $FindFathersMap^{[-1]}(Raaz) = \\{Anu, Ashu\\}$ and \n",
    "- $FindFathersMap^{[-1]}(Jonathan) = \\{Jenny, Cathy\\}$.\n",
    "\n",
    "Now lets take a more mathematical looking function $f(x) = x^2$.\n",
    "\n",
    "Version 1 of this function is going to have a finite domain (only five elements). \n",
    "\n",
    "The domain is the set $\\{-2, -1, 0, 1, 2\\}$ and the range is the set $\\{0, 1, 2, 3, 4\\}$. \n",
    "\n",
    "The mapping for version 1 is \n",
    "$$f(x) = x^2\\,:\\,\\{-2, -1, 0, 1, 2\\} \\rightarrow \\{0, 1, 2, 3, 4\\} \\ .$$\n",
    "\n",
    "<img src=\"images/xSquaredMap.png\" alt=\"xSquaredMap.png\" width=\"350\">\n",
    "\n",
    "We can also represent this mapping as the set of ordered pairs $\\{(-2,4), (-1,1), (0,0), (1,1), (2,4)\\}$.\n",
    "\n",
    "Note that the values 2 and 3 in the range have no pre-image in the domain.  This is okay because not every element in the range needs to be mapped.\n",
    "\n",
    "Having a domain with only five elements in it is a bit restrictive:  how about an infinite domain?\n",
    "\n",
    "Version 2   \n",
    "$$f(x) = x^2\\,:\\,\\{\\ldots, -2, -1, 0, 1, 2, \\ldots\\} \\rightarrow \\{0, 1, 2, 3, 4, \\ldots\\}$$\n",
    "\n",
    "As ordered pairs, we now have $\\{\\ldots, (-2,4), (-1,1), (0,0), (1,1), (2,4), \\ldots\\}$, but it is impossible to write them all down since there are infinitely many elements in the domain.\n",
    "\n",
    "What if we wanted to use the function for the whole of $\\mathbb{R}$, the real line?\n",
    "\n",
    "Version 3   \n",
    "$$f(x) = x^2 : \\mathbb{R} \\rightarrow \\mathbb{R} \\ . $$\n"
   ]
  },
  {
   "cell_type": "code",
   "execution_count": 1,
   "metadata": {
    "collapsed": false,
    "deletable": true,
    "editable": true
   },
   "outputs": [
    {
     "data": {
      "text/html": [
       "\n",
       "        <iframe\n",
       "            width=\"95%\"\n",
       "            height=\"400\"\n",
       "            src=\"https://en.wikipedia.org/wiki/Function_(mathematics)#Introduction_and_examples\"\n",
       "            frameborder=\"0\"\n",
       "            allowfullscreen\n",
       "        ></iframe>\n",
       "        "
      ],
      "text/plain": [
       "<IPython.lib.display.IFrame object at 0x7ff2a62b3c10>"
      ]
     },
     "execution_count": 1,
     "metadata": {},
     "output_type": "execute_result"
    }
   ],
   "source": [
    "def showURL(url, ht=500):\n",
    "    \"\"\"Return an IFrame of the url to show in notebook with height ht\"\"\"\n",
    "    from IPython.display import IFrame\n",
    "    return IFrame(url, width='95%', height=ht) \n",
    "showURL('https://en.wikipedia.org/wiki/Function_(mathematics)#Introduction_and_examples',400)"
   ]
  },
  {
   "cell_type": "markdown",
   "metadata": {
    "collapsed": true,
    "deletable": true,
    "editable": true
   },
   "source": [
    "In a computer, maps or functions are encoded as (i) sets of ordered pairs or as (ii) procedures.\n",
    "\n",
    "## Example 1:  Encoding a map as a set of ordered pairs\n",
    "In SageMath we can encode a map as a set of ordered pairs as follows."
   ]
  },
  {
   "cell_type": "code",
   "execution_count": 2,
   "metadata": {
    "collapsed": false
   },
   "outputs": [
    {
     "data": {
      "text/plain": [
       "{'Anu': 'Raaz', 'Ashu': 'Raaz', 'Cathy': 'Jonathan', 'Jenny': 'Jonathan'}"
      ]
     },
     "execution_count": 2,
     "metadata": {},
     "output_type": "execute_result"
    }
   ],
   "source": [
    "findFathersMap = {'Jenny': 'Jonathan', 'Cathy': 'Jonathan', 'Anu': 'Raaz', 'Ashu': 'Raaz'}\n",
    "findFathersMap"
   ]
  },
  {
   "cell_type": "markdown",
   "metadata": {},
   "source": [
    "Given a key (child) we can use the map to find the father."
   ]
  },
  {
   "cell_type": "code",
   "execution_count": 4,
   "metadata": {
    "collapsed": false
   },
   "outputs": [
    {
     "data": {
      "text/plain": [
       "'Raaz'"
      ]
     },
     "execution_count": 4,
     "metadata": {},
     "output_type": "execute_result"
    }
   ],
   "source": [
    "findFathersMap['Anu']"
   ]
  },
  {
   "cell_type": "code",
   "execution_count": 5,
   "metadata": {
    "collapsed": false
   },
   "outputs": [
    {
     "name": "stdout",
     "output_type": "stream",
     "text": [
      "The father of Anu is Raaz\n"
     ]
    }
   ],
   "source": [
    "print \"The father of Anu is\", findFathersMap['Anu']    # we can use a print statement to make it flow"
   ]
  },
  {
   "cell_type": "code",
   "execution_count": null,
   "metadata": {
    "collapsed": true
   },
   "outputs": [],
   "source": []
  }
 ],
 "metadata": {
  "kernelspec": {
   "display_name": "SageMath 8.1",
   "language": "",
   "name": "sagemath"
  },
  "language_info": {
   "codemirror_mode": {
    "name": "ipython",
    "version": 2
   },
   "file_extension": ".py",
   "mimetype": "text/x-python",
   "name": "python",
   "nbconvert_exporter": "python",
   "pygments_lexer": "ipython2",
   "version": "2.7.14"
  }
 },
 "nbformat": 4,
 "nbformat_minor": 2
}
