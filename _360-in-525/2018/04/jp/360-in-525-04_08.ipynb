{
 "cells": [
  {
   "cell_type": "markdown",
   "metadata": {},
   "source": [
    "# 08. Pseudo-Random Numbers, Simulating from Some Discrete and Continuous Random Variables\n",
    "\n",
    "## [Mathematical Statistical and Computational Foundations for Data Scientists](https://lamastex.github.io/scalable-data-science/360-in-525/2018/04/)\n",
    "\n",
    "&copy;2018 Raazesh Sainudiin. [Attribution 4.0 International (CC BY 4.0)](https://creativecommons.org/licenses/by/4.0/)\n",
    "\n",
    "\n",
    "- The $Uniform(0,1)$ RV\n",
    "- The $Bernoulli(\\theta)$ RV\n",
    "- Simulating from the $Bernoulli(\\theta)$ RV\n",
    "- The Equi-Probable $de\\,Moivre(k)$ RV\n",
    "- Simulating from the Equi-Probable $de\\,Moivre(k)$ RV\n",
    "- The $Uniform(\\theta_1, \\theta_2)$ RV\n",
    "- Simulating from the $Uniform(\\theta_1, \\theta_2)$ RV\n",
    "- The $Exponential(\\lambda)$ RV\n",
    "- Simulating from the $Exponential(\\lambda)$ RV\n",
    "- The standard $Cauchy$ RV\n",
    "- Simulating from the standard $Cauchy$ RV\n",
    "- Investigating running means\n",
    "- Replicable samples\n",
    "- A simple simulation\n",
    " \n",
    "\n",
    "In the last notebook, we started to look at how we can produce realisations from the most elementary $Uniform(0,1)$ random variable.\n",
    "\n",
    "i.e., how can we produce samples $(x_1, x_2, \\ldots, x_n)$ from $X_1, X_2, \\ldots, X_n$ $\\overset{IID}{\\thicksim}$ $Uniform(0,1)$?\n",
    "\n",
    "What is SageMath doing when we ask for random()?"
   ]
  },
  {
   "cell_type": "code",
   "execution_count": 1,
   "metadata": {
    "collapsed": false
   },
   "outputs": [
    {
     "data": {
      "text/plain": [
       "0.7737778752429904"
      ]
     },
     "execution_count": 1,
     "metadata": {},
     "output_type": "execute_result"
    }
   ],
   "source": [
    "random()"
   ]
  },
  {
   "cell_type": "markdown",
   "metadata": {},
   "source": [
    "We looked at how Modular arithmetic and number theory gives us pseudo-random number generators.\n",
    "\n",
    "We used linear congruential generators (LCG) as simple pseudo-random number generators.\n",
    "\n",
    "Remember that \"pseudo-random\" means that the numbers are not really random.  We saw that some linear congruential generators (LCG) have much shorter, more predictable, patterns than others and we learned what makes a good LCG.\n",
    "\n",
    "We introduced the pseudo-random number generator (PRNG) called the Mersenne Twister that we will use for simulation purposes in this course.  It is based on more sophisticated theory than that of LCG but the basic principles of recurrence relations are the same. \n",
    "\n",
    "# The $Uniform(0,1)$ Random Variable\n",
    "\n",
    "Recall that the $Uniform(0,1)$ random variable is the fundamental model as we can transform it to any other random variable, random vector or random structure.  The PDF $f$ and DF $F$ of $X \\sim Uniform(0,1)$ are:\n",
    "\n",
    "$f(x) = \\begin{cases} 0 & \\text{if} \\ x \\notin [0,1] \\\\ 1 & \\text{if} \\ x \\in [0,1] \\end{cases}$\n",
    "\n",
    "$F(x) = \\begin{cases} 0 & \\text{if} \\ x < 0 \\\\ 1 & \\text{if} \\ x > 1 \\\\ x  & \\text{if} \\ x \\in [0,1] \\end{cases}$\n",
    "\n",
    "We use the Mersenne twister pseudo-random number generator to mimic independent and identically distributed draws from the $uniform(0,1)$ RV. \n",
    "\n",
    "In Sage, we use the python random module to generate pseudo-random numbers for us.  (We have already used it:  remember randint?)\n",
    "\n",
    "random() will give us one simulation from the $Uniform(0,1)$ RV:"
   ]
  },
  {
   "cell_type": "code",
   "execution_count": 2,
   "metadata": {
    "collapsed": false
   },
   "outputs": [
    {
     "data": {
      "text/plain": [
       "0.13754473484586371"
      ]
     },
     "execution_count": 2,
     "metadata": {},
     "output_type": "execute_result"
    }
   ],
   "source": [
    "random()"
   ]
  },
  {
   "cell_type": "markdown",
   "metadata": {},
   "source": [
    "If we want a whole simulated sample we can use a list comprehension.   We will be using this technique frequently so make sure you understand what is going on.   \"for i in range(3)\" is acting like a counter to give us 3 simulated values in the list we are making"
   ]
  },
  {
   "cell_type": "code",
   "execution_count": 3,
   "metadata": {
    "collapsed": false
   },
   "outputs": [
    {
     "data": {
      "text/plain": [
       "[0.7168476213433062, 0.8076440633507106, 0.7968025040155092]"
      ]
     },
     "execution_count": 3,
     "metadata": {},
     "output_type": "execute_result"
    }
   ],
   "source": [
    "[random() for i in range(3)]"
   ]
  },
  {
   "cell_type": "code",
   "execution_count": 4,
   "metadata": {
    "collapsed": false
   },
   "outputs": [
    {
     "data": {
      "text/plain": [
       "[0.15305232923240863, 0.6139475045848862, 0.25485051424780614]"
      ]
     },
     "execution_count": 4,
     "metadata": {},
     "output_type": "execute_result"
    }
   ],
   "source": [
    "listOfUniformSamples = [random() for i in range(3) ]\n",
    "listOfUniformSamples"
   ]
  },
  {
   "cell_type": "markdown",
   "metadata": {},
   "source": [
    "If we do this again, we will get a different sample:"
   ]
  },
  {
   "cell_type": "code",
   "execution_count": 6,
   "metadata": {
    "collapsed": false
   },
   "outputs": [
    {
     "data": {
      "text/plain": [
       "[0.4894472551665755, 0.5741518222808246, 0.14303202101797863]"
      ]
     },
     "execution_count": 6,
     "metadata": {},
     "output_type": "execute_result"
    }
   ],
   "source": [
    "listOfUniformSamples2 = [random() for i in range(3) ]\n",
    "listOfUniformSamples2"
   ]
  },
  {
   "cell_type": "markdown",
   "metadata": {},
   "source": [
    "Often is it useful to be able to replicate the same random sample.   For example, if we were writing some code to do some simulations using samples from a PRNG, and we \"improved\" the way that we were doing it, how would we want to test our improvement?  If we could replicate the same samples then we could show that our new code was equivalent to our old code, just more efficient.  \n",
    "\n",
    "Remember when we were using the LCGs, and we could set the seed $x_0$?  More sophisticated PRNGs like the Mersenne Twister also have a seed.  By setting this seed to a specified value we can make sure that we can replicate samples. "
   ]
  },
  {
   "cell_type": "code",
   "execution_count": 8,
   "metadata": {
    "collapsed": false
   },
   "outputs": [],
   "source": [
    "?set_random_seed"
   ]
  },
  {
   "cell_type": "code",
   "execution_count": 9,
   "metadata": {
    "collapsed": true
   },
   "outputs": [],
   "source": [
    "set_random_seed(256526)"
   ]
  },
  {
   "cell_type": "code",
   "execution_count": 10,
   "metadata": {
    "collapsed": false
   },
   "outputs": [
    {
     "data": {
      "text/plain": [
       "[0.6409693377860118, 0.9433546579659949, 0.5147129803356773]"
      ]
     },
     "execution_count": 10,
     "metadata": {},
     "output_type": "execute_result"
    }
   ],
   "source": [
    "listOfUniformSamples = [random() for i in range(3) ]\n",
    "listOfUniformSamples"
   ]
  },
  {
   "cell_type": "code",
   "execution_count": 11,
   "metadata": {
    "collapsed": false
   },
   "outputs": [
    {
     "data": {
      "text/plain": [
       "256526L"
      ]
     },
     "execution_count": 11,
     "metadata": {},
     "output_type": "execute_result"
    }
   ],
   "source": [
    "initial_seed()"
   ]
  },
  {
   "cell_type": "markdown",
   "metadata": {},
   "source": [
    "Now we can replicate the same sample again by setting the seed to the same value:"
   ]
  },
  {
   "cell_type": "code",
   "execution_count": 12,
   "metadata": {
    "collapsed": false
   },
   "outputs": [
    {
     "data": {
      "text/plain": [
       "[0.6409693377860118, 0.9433546579659949, 0.5147129803356773]"
      ]
     },
     "execution_count": 12,
     "metadata": {},
     "output_type": "execute_result"
    }
   ],
   "source": [
    "set_random_seed(256526)\n",
    "listOfUniformSamples2 = [random() for i in range(3) ]\n",
    "listOfUniformSamples2"
   ]
  },
  {
   "cell_type": "code",
   "execution_count": 13,
   "metadata": {
    "collapsed": false
   },
   "outputs": [
    {
     "data": {
      "text/plain": [
       "256526L"
      ]
     },
     "execution_count": 13,
     "metadata": {},
     "output_type": "execute_result"
    }
   ],
   "source": [
    "initial_seed()"
   ]
  },
  {
   "cell_type": "code",
   "execution_count": 14,
   "metadata": {
    "collapsed": false
   },
   "outputs": [
    {
     "data": {
      "text/plain": [
       "[0.31709291282858576, 0.47750941216422715, 0.24185704293897292]"
      ]
     },
     "execution_count": 14,
     "metadata": {},
     "output_type": "execute_result"
    }
   ],
   "source": [
    "set_random_seed(2676676766)\n",
    "listOfUniformSamples2 = [random() for i in range(3) ]\n",
    "listOfUniformSamples2"
   ]
  },
  {
   "cell_type": "code",
   "execution_count": 15,
   "metadata": {
    "collapsed": false
   },
   "outputs": [
    {
     "data": {
      "text/plain": [
       "2676676766L"
      ]
     },
     "execution_count": 15,
     "metadata": {},
     "output_type": "execute_result"
    }
   ],
   "source": [
    "initial_seed()"
   ]
  },
  {
   "cell_type": "markdown",
   "metadata": {},
   "source": [
    "We can compare some samples visually by plotting them:"
   ]
  },
  {
   "cell_type": "code",
   "execution_count": 16,
   "metadata": {
    "collapsed": false
   },
   "outputs": [
    {
     "data": {
      "image/png": "[encoded data removed]",
      "text/plain": [
       "Graphics Array of size 1 x 3"
      ]
     },
     "metadata": {},
     "output_type": "display_data"
    }
   ],
   "source": [
    "set_random_seed(256526)\n",
    "listOfUniformSamples = [(i,random()) for i in range(100)]\n",
    "plotsSeed1 = points(listOfUniformSamples)\n",
    "t1 = text('Seed 1 = 256626', (60,1.2), rgbcolor='blue',fontsize=10) \n",
    "set_random_seed(2676676766)\n",
    "plotsSeed2 = points([(i,random()) for i in range(100)],rgbcolor=\"red\")\n",
    "t2 = text('Seed 2 = 2676676766', (60,1.2), rgbcolor='red',fontsize=10) \n",
    "bothSeeds = plotsSeed1 + plotsSeed2\n",
    "t31 = text('Seed 1 and', (30,1.2), rgbcolor='blue',fontsize=10) \n",
    "t32 = text('Seed 2', (65,1.2), rgbcolor='red',fontsize=10)\n",
    "show(graphics_array( (plotsSeed1+t1,plotsSeed2+t2, bothSeeds+t31+t32)),figsize=[9,3])"
   ]
  },
  {
   "cell_type": "markdown",
   "metadata": {},
   "source": [
    "### YouTry\n",
    "\n",
    "Try looking at the more advanced documentation and play a bit."
   ]
  },
  {
   "cell_type": "code",
   "execution_count": 17,
   "metadata": {
    "collapsed": true
   },
   "outputs": [],
   "source": [
    "?sage.misc.randstate"
   ]
  },
  {
   "cell_type": "code",
   "execution_count": null,
   "metadata": {
    "collapsed": true
   },
   "outputs": [],
   "source": []
  },
  {
   "cell_type": "code",
   "execution_count": null,
   "metadata": {
    "collapsed": true
   },
   "outputs": [],
   "source": []
  },
  {
   "cell_type": "markdown",
   "metadata": {},
   "source": [
    "(end of You Try)\n",
    "\n",
    "---\n",
    "\n",
    "---\n",
    "\n",
    "### Question:\n",
    "\n",
    "What can we do with samples from a $Uniform(0,1)$ RV?  Why bother?\n",
    "\n",
    "### Answer:\n",
    "\n",
    "We can use them to sample or simulate from other, more complex, random variables. \n",
    "\n",
    " \n",
    "\n",
    "# The $Bernoulli(\\theta)$ Random Variable\n",
    "\n",
    "The $Bernoulli(\\theta)$ RV $X$ with PMF $f(x;\\theta)$ and DF $F(x;\\theta)$ parameterised by some real $\\theta\\in [0,1]$ is a discrete random variable with only two possible outcomes. \n",
    "\n",
    "$f(x;\\theta)= \\theta^x (1-\\theta)^{1-x} \\mathbf{1}_{\\{0,1\\}}(x) =\n",
    "\\begin{cases}\n",
    "\\theta & \\text{if} \\ x=1,\\\\\n",
    "1-\\theta & \\text{if} \\ x=0,\\\\\n",
    "0 & \\text{otherwise}\n",
    "\\end{cases}$\n",
    "\n",
    "$F(x;\\theta) =\n",
    "\\begin{cases}\n",
    "1 & \\text{if} \\ 1 \\leq x,\\\\\n",
    "1-\\theta & \\text{if} \\ 0 \\leq x < 1,\\\\\n",
    "0 & \\text{otherwise}\n",
    "\\end{cases}$\n",
    "\n",
    "Here are some functions for the PMF and DF for a $Bernoulli$ RV along with various useful functions for us in the sequel. Let's take a quick look at them."
   ]
  },
  {
   "cell_type": "code",
   "execution_count": 22,
   "metadata": {
    "collapsed": true
   },
   "outputs": [],
   "source": [
    "def bernoulliPMF(x, theta):\n",
    "    '''Probability mass function for Bernoulli(theta).\n",
    "    \n",
    "    Param x is the value to find the Bernoulli probability mass of.\n",
    "    Param theta is the theta parameterising this Bernoulli RV.'''\n",
    "    \n",
    "    retValue = 0\n",
    "    if x == 1:\n",
    "        retValue = theta\n",
    "    elif x == 0:\n",
    "        retValue = 1 - theta\n",
    "    return retValue\n",
    "    \n",
    "def bernoulliCDF(x, theta):\n",
    "    '''DF for Bernoulli(theta).\n",
    "    \n",
    "    Param x is the value to find the Bernoulli cumulative density function of.\n",
    "    Param theta is the theta parameterising this Bernoulli RV.'''\n",
    "    \n",
    "    retValue = 0\n",
    "    if x >= 1:\n",
    "        retValue = 1\n",
    "    elif x >= 0:\n",
    "        retValue = 1 - theta\n",
    "    # in the case where x < 0, retValue is the default of 0\n",
    "    return retValue\n",
    "\n",
    "# PFM plot\n",
    "def pmfPlot(outcomes, pmf_values):\n",
    "    '''Returns a pmf plot for a discrete distribution.'''\n",
    "    \n",
    "    pmf = points(zip(outcomes,pmf_values), rgbcolor=\"blue\", pointsize='20')\n",
    "    for i in range(len(outcomes)):\n",
    "        pmf += line([(outcomes[i], 0),(outcomes[i], pmf_values[i])], rgbcolor=\"blue\", linestyle=\":\")\n",
    "    # padding\n",
    "    pmf += point((0,1), rgbcolor=\"black\", pointsize=\"0\")\n",
    "    return pmf\n",
    "\n",
    "# CDF plot\n",
    "def cdfPlot(outcomes, cdf_values):\n",
    "    '''Returns a pmf plot for a discrete distribution.'''\n",
    "    \n",
    "    cdf_pairs = zip(outcomes, cdf_values)\n",
    "    cdf = point(cdf_pairs, rgbcolor = \"red\", faceted = false, pointsize=\"20\")\n",
    "    for k in range(len(cdf_pairs)):\n",
    "        x, kheight = cdf_pairs[k]     # unpack tuple\n",
    "        previous_x = 0\n",
    "        previous_height = 0\n",
    "        if k > 0:\n",
    "            previous_x, previous_height = cdf_pairs[k-1] # unpack previous tuple\n",
    "            cdf += line([(previous_x, previous_height),(x, previous_height)], rgbcolor=\"grey\")\n",
    "            cdf += points((x, previous_height),rgbcolor = \"white\", faceted = true, pointsize=\"20\")\n",
    "            cdf += line([(x, previous_height),(x, kheight)], rgbcolor=\"blue\", linestyle=\":\")\n",
    "        \n",
    "    # padding\n",
    "    max_index = len(outcomes)-1\n",
    "    cdf += line([(outcomes[0]-0.2, 0),(outcomes[0], 0)], rgbcolor=\"grey\")\n",
    "    cdf += line([(outcomes[max_index],cdf_values[max_index]),(outcomes[max_index]+0.2, cdf_values[max_index])], rgbcolor=\"grey\")\n",
    "    return cdf\n",
    "    \n",
    "def makeFreqDictHidden(myDataList):\n",
    "    '''Make a frequency mapping out of a list of data.\n",
    "    \n",
    "    Param myDataList, a list of data.\n",
    "    Return a dictionary mapping each data value from min to max in steps of 1 to its frequency count.'''\n",
    "    \n",
    "    freqDict = {}             # start with an empty dictionary\n",
    "    sortedMyDataList = sorted(myDataList)\n",
    "    for k in sortedMyDataList:\n",
    "        freqDict[k] = myDataList.count(k)\n",
    "    \n",
    "    return freqDict # return the dictionary created\n",
    "\n",
    "def makeEMFHidden(myDataList):\n",
    "    '''Make an empirical mass function from a data list.\n",
    "    \n",
    "    Param myDataList, list of data to make emf from.\n",
    "    Return list of tuples comprising (data value, relative frequency) ordered by data value.'''\n",
    "    \n",
    "    freqs = makeFreqDictHidden(myDataList)     # make the frequency counts mapping\n",
    "    totalCounts = sum(freqs.values())\n",
    "    relFreqs = [fr/(1.0*totalCounts) for fr in freqs.values()] # use a list comprehension\n",
    "    numRelFreqPairs = zip(freqs.keys(), relFreqs) # zip the keys and relative frequencies together\n",
    "    numRelFreqPairs.sort() # sort the list of tuples\n",
    "\n",
    "    return numRelFreqPairs\n",
    "\n",
    "from pylab import array\n",
    "\n",
    "def makeEDFHidden(myDataList):\n",
    "    '''Make an empirical distribution function from a data list.\n",
    "    \n",
    "    Param myDataList, list of data to make emf from.\n",
    "    Return list of tuples comprising (data value, cumulative relative frequency) ordered by data value.'''\n",
    "    \n",
    "    freqs = makeFreqDictHidden(myDataList)     # make the frequency counts mapping\n",
    "    totalCounts = sum(freqs.values())\n",
    "    relFreqs = [fr/(1.0*totalCounts) for fr in freqs.values()] # use a list comprehension\n",
    "    relFreqsArray = array(relFreqs)\n",
    "    cumFreqs = list(relFreqsArray.cumsum())\n",
    "    numCumFreqPairs = zip(freqs.keys(), cumFreqs) # zip the keys and culm relative frequencies together\n",
    "    numCumFreqPairs.sort() # sort the list of tuples\n",
    "    \n",
    "    return numCumFreqPairs\n",
    "    \n",
    "# EPMF plot\n",
    "def epmfPlot(samples):\n",
    "    '''Returns an empirical probability mass function plot from samples data.'''\n",
    "    \n",
    "    epmf_pairs = makeEMFHidden(samples)\n",
    "    epmf = point(epmf_pairs, rgbcolor = \"blue\", pointsize=\"20\")\n",
    "    for k in epmf_pairs:    # for each tuple in the list\n",
    "        kkey, kheight = k     # unpack tuple\n",
    "        epmf += line([(kkey, 0),(kkey, kheight)], rgbcolor=\"blue\", linestyle=\":\")\n",
    "    # padding\n",
    "    epmf += point((0,1), rgbcolor=\"black\", pointsize=\"0\")\n",
    "    return epmf\n",
    "    \n",
    "\n",
    "# ECDF plot\n",
    "def ecdfPlot(samples):\n",
    "    '''Returns an empirical probability mass function plot from samples data.'''\n",
    "    ecdf_pairs = makeEDFHidden(samples)\n",
    "    ecdf = point(ecdf_pairs, rgbcolor = \"red\", faceted = false, pointsize=\"20\")\n",
    "    for k in range(len(ecdf_pairs)):\n",
    "        x, kheight = ecdf_pairs[k]     # unpack tuple\n",
    "        previous_x = 0\n",
    "        previous_height = 0\n",
    "        if k > 0:\n",
    "            previous_x, previous_height = ecdf_pairs[k-1] # unpack previous tuple\n",
    "            ecdf += line([(previous_x, previous_height),(x, previous_height)], rgbcolor=\"grey\")\n",
    "            ecdf += points((x, previous_height),rgbcolor = \"white\", faceted = true, pointsize=\"20\")\n",
    "            ecdf += line([(x, previous_height),(x, kheight)], rgbcolor=\"blue\", linestyle=\":\")\n",
    "    # padding\n",
    "    ecdf += line([(ecdf_pairs[0][0]-0.2, 0),(ecdf_pairs[0][0], 0)], rgbcolor=\"grey\")\n",
    "    max_index = len(ecdf_pairs)-1\n",
    "    ecdf += line([(ecdf_pairs[max_index][0], ecdf_pairs[max_index][1]),(ecdf_pairs[max_index][0]+0.2, ecdf_pairs[max_index][1])],rgbcolor=\"grey\")\n",
    "    return ecdf"
   ]
  },
  {
   "cell_type": "markdown",
   "metadata": {},
   "source": [
    "We can see the effect of varying $\\theta$ interactively:"
   ]
  },
  {
   "cell_type": "code",
   "execution_count": 26,
   "metadata": {
    "collapsed": false
   },
   "outputs": [
    {
     "data": {
      "application/vnd.jupyter.widget-view+json": {
       "model_id": "4a65efc0580f4a0ca1d833ac6021fc47"
      }
     },
     "metadata": {},
     "output_type": "display_data"
    }
   ],
   "source": [
    "@interact\n",
    "def _(theta=(0.5)):\n",
    "    '''Interactive function to plot the bernoulli pmf and cdf.'''\n",
    "    if theta <=1 and theta >= 0:\n",
    "        outcomes = (0, 1) # define the bernoulli outcomes\n",
    "        print \"Bernoulli (\", RR(theta).n(digits=2), \") pmf and cdf\"\n",
    "        # pmf plot\n",
    "        pmf_values = [bernoulliPMF(x, theta) for x in outcomes]\n",
    "        pmf = pmfPlot(outcomes, pmf_values) # this is one of our own, hidden, functions\n",
    "        # cdf plot\n",
    "        cdf_values = [bernoulliCDF(x, theta) for x in outcomes]\n",
    "        cdf = cdfPlot(outcomes, cdf_values) # this is one of our own, hidden, functions\n",
    "        show(graphics_array([pmf, cdf]),figsize=[8,3])\n",
    "    else:\n",
    "        print \"0 <= theta <= 1\""
   ]
  },
  {
   "cell_type": "markdown",
   "metadata": {},
   "source": [
    "Don't worry about how these plots are done:  you are not expected to be able to understand all of these details now.  \n",
    "\n",
    "Just use them to see the effect of varying $\\theta$.\n",
    "\n",
    "## Simulating a sample from the $Bernoulli(\\theta)$ RV\n",
    "\n",
    "We can simulate a sample from a $Bernoulli$ distribution by transforming input from a $Uniform(0,1)$ distribution using the floor() function in Sage.    In maths, $\\lfloor x \\rfloor$,  the 'floor of  $x$' is the largest integer that is smaller than or equal to $x$.  For example, $\\lfloor 3.8 \\rfloor = 3$."
   ]
  },
  {
   "cell_type": "code",
   "execution_count": 27,
   "metadata": {
    "collapsed": false
   },
   "outputs": [
    {
     "data": {
      "text/plain": [
       "3"
      ]
     },
     "execution_count": 27,
     "metadata": {},
     "output_type": "execute_result"
    }
   ],
   "source": [
    "z=3.8\n",
    "floor(z)"
   ]
  },
  {
   "cell_type": "markdown",
   "metadata": {},
   "source": [
    "Using floor, we can do inversion sampling from the $Bernoulli(\\theta)$ RV using the the $Uniform(0,1)$ random variable that we said is the fundamental model.\n",
    "\n",
    "We will introduce inversion sampling more formally later.  In general, inversion sampling means using the inverse of the CDF $F$, $F^{[-1]}$, to transform input from a $Uniform(0,1)$ distribution. \n",
    "\n",
    "To simulate from the $Bernoulli(\\theta)$, we can use the following algorithm:\n",
    "\n",
    "### Input:\n",
    "\n",
    "- $u \\thicksim Uniform(0,1)$ from a PRNG,   $\\qquad \\qquad \\text{where, } \\sim$ means \"sample from\"\n",
    "- $\\theta$, the parameter\n",
    "\n",
    "### Output:\n",
    "\n",
    "$x \\thicksim Bernoulli(\\theta)$\n",
    "\n",
    "### Steps:\n",
    "\n",
    "- $u \\leftarrow Uniform(0,1)$\n",
    "- $x \\leftarrow  \\lfloor u + \\theta \\rfloor$\n",
    "- Return $x$\n",
    "\n",
    " We can illustrate this with SageMath:"
   ]
  },
  {
   "cell_type": "code",
   "execution_count": 28,
   "metadata": {
    "collapsed": false
   },
   "outputs": [
    {
     "data": {
      "text/plain": [
       "0"
      ]
     },
     "execution_count": 28,
     "metadata": {},
     "output_type": "execute_result"
    }
   ],
   "source": [
    "theta = 0.5 # theta must be such that 0 <= theta <= 1\n",
    "u = random()\n",
    "x = floor(u + theta)\n",
    "x"
   ]
  },
  {
   "cell_type": "markdown",
   "metadata": {},
   "source": [
    "To make  a number of simulations, we can use list comprehensions again:"
   ]
  },
  {
   "cell_type": "code",
   "execution_count": 29,
   "metadata": {
    "collapsed": false
   },
   "outputs": [
    {
     "data": {
      "text/plain": [
       "[0, 0, 1, 1, 0, 0, 1, 0, 1, 1, 1, 1, 1, 1, 0, 0, 1, 1, 0, 0]"
      ]
     },
     "execution_count": 29,
     "metadata": {},
     "output_type": "execute_result"
    }
   ],
   "source": [
    "theta = 0.5\n",
    "n = 20\n",
    "randomUs = [random() for i in range(n)]\n",
    "simulatedBs = [floor(u + theta) for u in randomUs]\n",
    "simulatedBs"
   ]
  },
  {
   "cell_type": "markdown",
   "metadata": {},
   "source": [
    "To make modular reusable code we can package up what we have done as functions. \n",
    "\n",
    "The function `bernoulliFInverse(u, theta)` codes the inverse of the CDF of a Bernoulli distribution parameterised by `theta`.  The function `bernoulliSample(n, theta)` uses `bernoulliFInverse(...)` in a list comprehension to simulate n samples from a Bernoulli distribution parameterised by theta, i.e., the distribution of our $Bernoulli(\\theta)$ RV."
   ]
  },
  {
   "cell_type": "code",
   "execution_count": 31,
   "metadata": {
    "collapsed": true
   },
   "outputs": [],
   "source": [
    "def bernoulliFInverse(u, theta):\n",
    "    '''A function to evaluate the inverse CDF of a bernoulli.\n",
    "    \n",
    "    Param u is the value to evaluate the inverse CDF at.\n",
    "    Param theta is the distribution parameters.\n",
    "    Returns inverse CDF under theta evaluated at u'''\n",
    "    \n",
    "    return floor(u + theta)\n",
    "    \n",
    "def bernoulliSample(n, theta):\n",
    "    '''A function to simulate samples from a bernoulli distribution.\n",
    "    \n",
    "    Param n is the number of samples to simulate.\n",
    "    Param theta is the bernoulli distribution parameter.\n",
    "    Returns a simulated Bernoulli sample as a list'''\n",
    "    \n",
    "    us = [random() for i in range(n)]\n",
    "    \n",
    "    return [bernoulliFInverse(u, theta) for u in us] # use bernoulliFInverse in a list comprehension"
   ]
  },
  {
   "cell_type": "markdown",
   "metadata": {},
   "source": [
    "Note that we are using a list comprehension and the built-in SageMath `random()` function to make a list of pseudo-random simulations from the $Uniform(0,1)$.  The length of the list is determined by the value of n.  Inside the body of the function we assign this list to a variable named `us` (i.e., u plural).  We then use another list comprehension to make our simulated sample.  This list comprehension works by calling our function `bernoulliFInverse(...)` and passing in values for theta together with each u in us in turn.\n",
    "\n",
    "Let's try a small number of samples:"
   ]
  },
  {
   "cell_type": "code",
   "execution_count": 32,
   "metadata": {
    "collapsed": false
   },
   "outputs": [
    {
     "data": {
      "text/plain": [
       "[0, 0, 0, 1, 0, 1, 0, 0, 0, 1]"
      ]
     },
     "execution_count": 32,
     "metadata": {},
     "output_type": "execute_result"
    }
   ],
   "source": [
    "theta = 0.2\n",
    "n = 10\n",
    "samples = bernoulliSample(n, theta)\n",
    "samples"
   ]
  },
  {
   "cell_type": "markdown",
   "metadata": {},
   "source": [
    "Now lets explore the effect of interactively varying n and $\\theta$:"
   ]
  },
  {
   "cell_type": "code",
   "execution_count": 33,
   "metadata": {
    "collapsed": false
   },
   "outputs": [
    {
     "data": {
      "application/vnd.jupyter.widget-view+json": {
       "model_id": "540630160269435b80b228bc2041a005"
      }
     },
     "metadata": {},
     "output_type": "display_data"
    }
   ],
   "source": [
    "@interact\n",
    "def _(theta=(0.5), n=(10,(0..1000))):\n",
    "    '''Interactive function to plot samples from bernoulli distribution.'''\n",
    "    if theta >= 0 and theta <= 1:\n",
    "        print \"epmf and ecdf for \", n, \" samples from Bernoulli (\", theta, \")\"\n",
    "        samples = bernoulliSample(n, theta)\n",
    "        # epmf plot\n",
    "        epmf = epmfPlot(samples) # this is one of our hidden functions\n",
    "        # ecdf plot\n",
    "        ecdf = ecdfPlot(samples)  # this is one of our hidden functions\n",
    "        show(graphics_array([epmf, ecdf]),figsize=[8,3])\n",
    "    else:\n",
    "        print \"0 <= theta <=1, n>0\""
   ]
  },
  {
   "cell_type": "markdown",
   "metadata": {},
   "source": [
    "You can vary $\\theta$ and $n$ on the interactive plot.  You should be able to see that as $n$ increases, the empirical plots should get closer to the theoretical $f$ and $F$. \n",
    "\n",
    "\n",
    "\n",
    "### YouTry\n",
    "\n",
    "Check that you understand what `floor` is doing.  We have put some extra print statements into our demonstration of floor so that you can see what is going on in each step.  Try evaluating this cell several times so that you see what happens with different values of `u`."
   ]
  },
  {
   "cell_type": "code",
   "execution_count": 34,
   "metadata": {
    "collapsed": false
   },
   "outputs": [
    {
     "name": "stdout",
     "output_type": "stream",
     "text": [
      "u is 0.634132126453\n",
      "u + theta is 1.13413212645321\n",
      "floor(u + theta) is 1\n"
     ]
    }
   ],
   "source": [
    "theta = 0.5 # theta must be such that 0 <= theta <= 1\n",
    "u = random()\n",
    "print \"u is\", u\n",
    "print \"u + theta is\", (u + theta)\n",
    "print \"floor(u + theta) is\", floor(u + theta)"
   ]
  },
  {
   "cell_type": "markdown",
   "metadata": {},
   "source": [
    "In the cell below we use floor to get 1's and 0's from the pseudo-random u's given by random().  It is effectively doing exactly the same thing as the functions above that we use to simulate a specified number of $Bernoulli(\\theta)$ RVs, but the why that it is written may be easier to understand.  If `floor` is doing what we want it to, then when `n` is sufficiently large, we'd expect our proportion of `1`s to be close to `theta` (remember Kolmogorov's axiomatic motivations for probability!).  Try changing the value assigned to the variable `theta` and re-evaluting the cell to check this.  "
   ]
  },
  {
   "cell_type": "code",
   "execution_count": 35,
   "metadata": {
    "collapsed": false
   },
   "outputs": [
    {
     "data": {
      "text/plain": [
       "0.699650000000000"
      ]
     },
     "execution_count": 35,
     "metadata": {},
     "output_type": "execute_result"
    }
   ],
   "source": [
    "theta = 0.7 # theta must be such that 0 <= theta <= 1\n",
    "listFloorResults = [] # an empty list to store results in\n",
    "n = 100000    # how many iterations to do\n",
    "for i in range(n): # a for loop to do something n times\n",
    "    u = random() # generate u\n",
    "    x = floor(u + theta) # use floor\n",
    "    listFloorResults.append(x) # add x to the list of results\n",
    "listFloorResults.count(1)*1.0/len(listFloorResults) # proportion of 1s in the results"
   ]
  },
  {
   "cell_type": "code",
   "execution_count": null,
   "metadata": {
    "collapsed": true
   },
   "outputs": [],
   "source": []
  },
  {
   "cell_type": "markdown",
   "metadata": {},
   "source": [
    "# The equi-probable $de~Moivre(\\theta)$ Random Variable\n",
    "\n",
    "The $de~Moivre(\\theta_1,\\theta_2,\\ldots,\\theta_k)$ RV is the natural generalisation of the $Bernoulli (\\theta)$ RV to more than two outcomes.  Take a die (i.e. one of a pair of dice): there are 6 possible outcomes from tossing a die if the die is a normal six-sided one (the outcome is which face is the on the top).  To start with we can allow the possibility that the different faces could be loaded so that they have different probabilities of being the face on the top if we throw the die.  In this case, k=6 and the parameters $\\theta_1$, $\\theta_2$, ...$\\theta_6$ specify how the die is loaded, and the number on the upper-most face if the die is tossed is a $de\\,Moivre$ random variable parameterised by $\\theta_1,\\theta_2,\\ldots,\\theta_6$. \n",
    "\n",
    "If $\\theta_1=\\theta_2=\\ldots=\\theta_6= \\frac{1}{6}$ then we have a fair die.\n",
    "\n",
    "Here are some functions for the equi-probable $de\\, Moivre$ PMF and CDF where we code the possible outcomes as the numbers on the faces of a k-sided die, i.e, 1,2,...k."
   ]
  },
  {
   "cell_type": "code",
   "execution_count": 36,
   "metadata": {
    "collapsed": true
   },
   "outputs": [],
   "source": [
    "def deMoivrePMF(x, k):\n",
    "    '''Probability mass function for equi-probable de Moivre(k).\n",
    "    \n",
    "    Param x is the value to evaluate the deMoirve pmf at.\n",
    "    Param k is the k parameter for an equi-probable deMoivre.\n",
    "    Returns the evaluation of the deMoivre(k) pmf at x.'''\n",
    "    \n",
    "    if (int(x)==x) & (x > 0) & (x <= k):\n",
    "        return 1.0/k\n",
    "    else:\n",
    "        return 0\n",
    "    \n",
    "def deMoivreCDF(x, k):\n",
    "    '''DF for equi-probable de Moivre(k).\n",
    "    \n",
    "    Param x is the value to evaluate the deMoirve cdf at.\n",
    "    Param k is the k parameter for an equi-probable deMoivre.\n",
    "    Returns the evaluation of the deMoivre(k) cdf at x.'''\n",
    "    \n",
    "    return 1.0*x/k"
   ]
  },
  {
   "cell_type": "code",
   "execution_count": 37,
   "metadata": {
    "collapsed": false
   },
   "outputs": [
    {
     "data": {
      "application/vnd.jupyter.widget-view+json": {
       "model_id": "9fa03bcc61d4420f8728f7fd37ee9a7b"
      }
     },
     "metadata": {},
     "output_type": "display_data"
    }
   ],
   "source": [
    "@interact\n",
    "def _(k=(6)):\n",
    "    '''Interactive function to plot the de Moivre pmf and cdf.'''\n",
    "    if (int(k) == k) and (k >= 1):\n",
    "        outcomes = range(1,k+1,1) # define the outcomes\n",
    "        pmf_values = [deMoivrePMF(x, k) for x in outcomes]\n",
    "        print \"equi-probable de Moivre (\", k, \") pmf and cdf\"\n",
    "        # pmf plot\n",
    "        pmf = pmfPlot(outcomes, pmf_values) # this is one of our hidden functions\n",
    "        \n",
    "        # cdf plot\n",
    "        cdf_values = [deMoivreCDF(x, k) for x in outcomes]\n",
    "        cdf = cdfPlot(outcomes, cdf_values) # this is one of our hidden functions\n",
    "        \n",
    "        show(graphics_array([pmf, cdf]),figsize=[8,3])\n",
    "    else:\n",
    "        print \"k must be an integer, k>0\""
   ]
  },
  {
   "cell_type": "markdown",
   "metadata": {},
   "source": [
    "### YouTry\n",
    "Try changing the value of k in the above interact."
   ]
  },
  {
   "cell_type": "markdown",
   "metadata": {},
   "source": [
    "## Simulating a sample from the equi-probable $de\\,Moivre(k)$ random variable\n",
    "\n",
    "We use floor ($\\lfloor \\, \\rfloor$) again for simulating from the equi-probable $de \\, Moivre(k)$ RV, but because we are defining our outcomes as 1, 2, ... k, we just add 1 to the result.  "
   ]
  },
  {
   "cell_type": "code",
   "execution_count": 38,
   "metadata": {
    "collapsed": false
   },
   "outputs": [
    {
     "data": {
      "text/plain": [
       "2"
      ]
     },
     "execution_count": 38,
     "metadata": {},
     "output_type": "execute_result"
    }
   ],
   "source": [
    "k = 6\n",
    "u = random()\n",
    "x = floor(u*k)+1\n",
    "x"
   ]
  },
  {
   "cell_type": "markdown",
   "metadata": {},
   "source": [
    "To simulate from the equi-probable $de\\,Moivre(k)$, we can use the following algorithm:\n",
    "\n",
    "#### Input:\n",
    "\n",
    "- $u \\thicksim Uniform(0,1)$ from a PRNG\n",
    "- $k$, the parameter\n",
    "\n",
    "#### Output:\n",
    "\n",
    "- $x \\thicksim \\text{equi-probable } de \\, Moivre(k)$\n",
    "\n",
    "#### Steps:\n",
    "\n",
    "- $u \\leftarrow Uniform(0,1)$\n",
    "- $x \\leftarrow \\lfloor uk \\rfloor + 1$\n",
    "- return $x$\n",
    "\n",
    "We can illustrate this with SageMath:"
   ]
  },
  {
   "cell_type": "code",
   "execution_count": 39,
   "metadata": {
    "collapsed": true
   },
   "outputs": [],
   "source": [
    "def deMoivreFInverse(u, k):\n",
    "    '''A function to evaluate the inverse CDF of an equi-probable de Moivre.\n",
    "    \n",
    "    Param u is the value to evaluate the inverse CDF at.\n",
    "    Param k is the distribution parameter.\n",
    "    Returns the inverse CDF for a de Moivre(k) distribution evaluated at u.'''\n",
    "    \n",
    "    return floor(k*u) + 1\n",
    "\n",
    "def deMoivreSample(n, k):\n",
    "    '''A function to simulate samples from an equi-probable de Moivre.\n",
    "    \n",
    "    Param n is the number of samples to simulate.\n",
    "    Param k is the bernoulli distribution parameter.\n",
    "    Returns a simulated sample of size n from an equi-probable de Moivre(k) distribution as a list.'''\n",
    "    \n",
    "    us = [random() for i in range(n)]\n",
    "    \n",
    "    return [deMoivreFInverse(u, k) for u in us]"
   ]
  },
  {
   "cell_type": "markdown",
   "metadata": {},
   "source": [
    "A small sample:"
   ]
  },
  {
   "cell_type": "code",
   "execution_count": 40,
   "metadata": {
    "collapsed": false
   },
   "outputs": [
    {
     "data": {
      "text/plain": [
       "[6, 3, 3, 5, 3, 1, 6, 5, 3, 4]"
      ]
     },
     "execution_count": 40,
     "metadata": {},
     "output_type": "execute_result"
    }
   ],
   "source": [
    "deMoivreSample(10,6)"
   ]
  },
  {
   "cell_type": "markdown",
   "metadata": {},
   "source": [
    "You should understand the `deMoivreFInverse` and `deMoivreSample` functions and be able to write something like them if you were asked to. \n",
    "\n",
    "You are not expected to be to make the interactive plots below (but this is not too hard to do by syntactic mimicry and google searches!). \n",
    "\n",
    "Now let's do some interactive sampling where you can vary $k$ and the sample size $n$:"
   ]
  },
  {
   "cell_type": "code",
   "execution_count": 41,
   "metadata": {
    "collapsed": false
   },
   "outputs": [
    {
     "data": {
      "application/vnd.jupyter.widget-view+json": {
       "model_id": "adbacc3296614f0cb9568ee9e37179d5"
      }
     },
     "metadata": {},
     "output_type": "display_data"
    }
   ],
   "source": [
    "@interact\n",
    "def _(k=(6), n=(10,(0..500))):\n",
    "    '''Interactive function to plot samples from equi-probable de Moivre distribution.'''\n",
    "    if n > 0 and k >= 0 and int(k) == k:\n",
    "        print \"epmf and ecdf for \", n, \" samples from equi-probable de Moivre (\", k, \")\"\n",
    "        outcomes = range(1,k+1,1) # define the outcomes\n",
    "        samples = deMoivreSample(n, k) # get the samples\n",
    "        epmf = epmfPlot(samples) # this is one of our hidden functions\n",
    "        \n",
    "        ecdf = ecdfPlot(samples) # this is one of our hidden functions\n",
    "        \n",
    "        show(graphics_array([epmf, ecdf]),figsize=[10,3])\n",
    "    else:\n",
    "        print \"k>0 must be an integer, n>0\""
   ]
  },
  {
   "cell_type": "markdown",
   "metadata": {},
   "source": [
    "Try changing $n$ and/or $k$.  With $k = 40$ for example, you could be simulating the number on the first ball for $n$ Lotto draws."
   ]
  },
  {
   "cell_type": "markdown",
   "metadata": {},
   "source": [
    "### YouTry\n",
    "\n",
    "A useful counterpart to the floor of a number is the ceiling, denoted $\\lceil \\, \\rceil$.  In maths, $\\lceil x \\rceil$,  the 'ceiling of  $x$' is the smallest integer that is larger than or equal to $x$.  For example, $\\lceil 3.8 \\rceil = 4$.  We can use the ceil function to do this in Sage:"
   ]
  },
  {
   "cell_type": "code",
   "execution_count": 42,
   "metadata": {
    "collapsed": false
   },
   "outputs": [
    {
     "data": {
      "text/plain": [
       "4"
      ]
     },
     "execution_count": 42,
     "metadata": {},
     "output_type": "execute_result"
    }
   ],
   "source": [
    "ceil(3.8)"
   ]
  },
  {
   "cell_type": "markdown",
   "metadata": {},
   "source": [
    "Try using `ceil` to check that you understand what it is doing.  What would `ceil(0)` be?  "
   ]
  },
  {
   "cell_type": "code",
   "execution_count": null,
   "metadata": {
    "collapsed": true
   },
   "outputs": [],
   "source": []
  },
  {
   "cell_type": "markdown",
   "metadata": {},
   "source": [
    "# Inversion Sampler for Continuous Random Variables\n",
    "\n",
    "When we simulated from the discrete RVs above, the $Bernoulli(\\theta)$ and the equi-probable $de\\,Moivre(k)$, we transformed some $u \\thicksim Uniform(0,1)$ into some value for the RV.  \n",
    "\n",
    "Now we will look at the formal idea of an inversion sampler for continuous random variables.  Inversion sampling for continuous random variables is a way to simulate values for a continuous random variable $X$ using $u \\thicksim Uniform(0,1)$. \n",
    "\n",
    "The idea of the inversion sampler is to treat $u \\thicksim Uniform(0,1)$ as some value taken by the CDF $F$ and find the value $x$ at which $F(X \\le x) = u$.\n",
    "\n",
    "To find x where $F(X \\le x) = u$ we need to use the inverse of $F$, $F^{[-1]}$.  This is why it is called an **inversion sampler**.\n",
    "\n",
    "Formalising this,\n",
    "\n",
    "### Proposition\n",
    "\n",
    "Let $F(x) := \\int_{- \\infty}^{x} f(y) \\,d y : \\mathbb{R} \\rightarrow [0,1]$ be a continuous DF with density $f$, and let its inverse $F^{[-1]} $ be:\n",
    "\n",
    "$$ F^{[-1]}(u) := \\inf \\{ x : F(x) = u \\}  : [0,1] \\rightarrow \\mathbb{R} $$\n",
    "\n",
    "Then, $F^{[-1]}(U)$ has the distribution function $F$, provided $U \\thicksim Uniform(0,1)$ ($U$ is a $Uniform(0,1)$ RV).\n",
    "\n",
    "Note:\n",
    "\n",
    "The infimum of a set A of real numbers, denoted by $\\inf(A)$, is the greatest lower bound of every element of $A$.\n",
    "\n",
    "Proof\n",
    "\n",
    "The ``one-line proof'' of the proposition is due to the following equalities: \n",
    "\n",
    "$$P(F^{[-1]}(U) \\leq x) = P(\\inf \\{ y : F(y) = U)\\} \\leq x ) = P(U \\leq F(x)) = F(x), \\quad \\text{for all } x \\in \\mathbb{R} . $$\n",
    "\n",
    "# Algorithm for Inversion Sampler\n",
    "\n",
    "#### Input:\n",
    "\n",
    "- A PRNG for $Uniform(0,1)$ samples\n",
    "- A procedure to give us $F^{[-1]}(u)$, inverse of the DF of the target RV $X$ evaluated at $u$\n",
    "\n",
    "#### Output:\n",
    "\n",
    "- A sample $x$ from $X$ distributed according to $F$\n",
    "\n",
    "#### Algorithm steps:\n",
    "\n",
    "- Draw $u \\sim Uniform(0,1)$\n",
    "- Calculate $x = F^{[-1]}(u)$\n",
    "- The $Uniform(\\theta_1, \\theta_2)$RV\n",
    "\n",
    "We have already met the$Uniform(\\theta_1, \\theta_2)$ RV.\n",
    "\n",
    "Given two real parameters $\\theta_1,\\theta_2 \\in \\mathbb{R}$, such that $\\theta_1 < \\theta_2$, the PDF of the $Uniform(\\theta_1,\\theta_2)$ RV $X$ is:\n",
    "\n",
    "$$f(x;\\theta_1,\\theta_2) =\n",
    "\\begin{cases}\n",
    "\\frac{1}{\\theta_2 - \\theta_1} & \\text{if }\\theta_1 \\leq x \\leq \\theta_2\\text{,}\\\\\n",
    "0 & \\text{otherwise}\n",
    "\\end{cases}\n",
    "$$\n",
    "\n",
    "and its DF given by $F(x;\\theta_1,\\theta_2) = \\int_{- \\infty}^x f(y; \\theta_1,\\theta_2) \\, dy$ is:\n",
    "\n",
    "$$\n",
    "F(x; \\theta_1,\\theta_2) =\n",
    "\\begin{cases}\n",
    "0 & \\text{if }x < \\theta_1 \\\\\n",
    "\\frac{x-\\theta_1}{\\theta_2-\\theta_1} & \\text{if}~\\theta_1 \\leq x \\leq \\theta_2,\\\\\n",
    "1 & \\text{if} x > \\theta_2 \n",
    "\\end{cases}\n",
    "$$\n",
    "\n",
    "For example, here are the PDF, CDF and inverse CDF for the $Uniform(-1,1)$:\n",
    "\n",
    "<img src=\"images/UniformMinus11ThreeCharts.png\" width=800>\n",
    "\n",
    "As usual, we can make some SageMath functions for the PDF and CDF:"
   ]
  },
  {
   "cell_type": "code",
   "execution_count": 43,
   "metadata": {
    "collapsed": true
   },
   "outputs": [],
   "source": [
    "# uniform pdf\n",
    "def uniformPDF(x, theta1, theta2):\n",
    "    '''Uniform(theta1, theta2) pdf function f(x; theta1, theta2).\n",
    "    \n",
    "    x is the value to evaluate the pdf at.\n",
    "    theta1, theta2 are the distribution parameters.'''\n",
    "    \n",
    "    retvalue = 0 # default return value\n",
    "    if x >= theta1 and x <= theta2:\n",
    "        retvalue = 1.0/(theta2-theta1)\n",
    "    return retvalue\n",
    "\n",
    "# uniform cdf        \n",
    "def uniformCDF(x, theta1, theta2):\n",
    "    '''Uniform(theta1, theta2) CDF or DF function F(x; theta1, theta2).\n",
    "    \n",
    "    x is the value to evaluate the cdf at.\n",
    "    theta1, theta2 are the distribution parameters.'''\n",
    "    \n",
    "    retvalue = 0 # default return value\n",
    "    if (x > theta2):\n",
    "        retvalue = 1\n",
    "    elif (x > theta1): # else-if\n",
    "        retvalue =  (x - theta1) / (theta2-theta1)   \n",
    "    # if (x < theta1), retvalue will be 0\n",
    "    return retvalue"
   ]
  },
  {
   "cell_type": "markdown",
   "metadata": {},
   "source": [
    "Using these functions in an interactive plot, we can see the effect of changing the distribution parameters $\\theta_1$ and $\\theta_2$."
   ]
  },
  {
   "cell_type": "code",
   "execution_count": 46,
   "metadata": {
    "collapsed": false
   },
   "outputs": [
    {
     "data": {
      "application/vnd.jupyter.widget-view+json": {
       "model_id": "0d53d90d6e8748cba5a0f2052bec4f93"
      }
     },
     "metadata": {},
     "output_type": "display_data"
    }
   ],
   "source": [
    "@interact\n",
    "def InteractiveUniformPDFCDFPlots(theta1=0,theta2=1):\n",
    "    if theta2 > theta1:\n",
    "        print \"Uniform(\", + RR(theta1).n(digits=2), \",\", RR(theta2).n(digits=2), \") pdf and cdf\"\n",
    "        p1 = line([(theta1-1,0), (theta1,0)], rgbcolor='blue')\n",
    "        p1 += line([(theta1,1/(theta2-theta1)), (theta2,1/(theta2-theta1))], rgbcolor='blue')\n",
    "        p1 += line([(theta2,0), (theta2+1,0)], rgbcolor='blue')\n",
    "        \n",
    "        p2 = line([(theta1-1,0), (theta1,0)], rgbcolor='red')\n",
    "        p2 += line([(theta1,0), (theta2,1)], rgbcolor='red')\n",
    "        p2 += line([(theta2,1), (theta2+1,1)], rgbcolor='red')\n",
    "        show(graphics_array([p1, p2]),figsize=[8,3])\n",
    "    else:\n",
    "        print \"theta2 must be greater than theta1\""
   ]
  },
  {
   "cell_type": "markdown",
   "metadata": {},
   "source": [
    "# Simulating from the $Uniform(\\theta_1, \\theta_2)$ RV\n",
    "\n",
    "We can simulate from the $Uniform(\\theta_1,\\theta_2)$ using the inversion sampler, provided that we can get an expression for $F^{[-1]}$ that can be implemented as a procedure. \n",
    "\n",
    "We can get this by solving for $x$ in terms of $u=F(x;\\theta_1,\\theta_2)$:\n",
    "\n",
    "$$\n",
    "u = \\frac{x-\\theta_1}{\\theta_2-\\theta_1} \\quad \\iff  \\quad x = (\\theta_2-\\theta_1)u+\\theta_1 \\quad  \\iff \\quad  F^{[-1]}(u;\\theta_1,\\theta_2) = \\theta_1+(\\theta_2-\\theta_1)u \n",
    "$$\n",
    "\n",
    "<img src=\"images/Week7InverseUniformSampler.png\" width=600>\n",
    "\n",
    "## Algorithm for Inversion Sampler for the $Uniform(\\theta_1, \\theta_2)$ RV\n",
    "\n",
    "#### Input:\n",
    "\n",
    "- $u \\thicksim Uniform(0,1)$\n",
    "- $F^{[-1]}(u)$\n",
    "- $\\theta_1$, $\\theta_2$\n",
    "\n",
    "#### Output:\n",
    "\n",
    "- A sample $x \\thicksim Uniform(\\theta_1, \\theta_2)$\n",
    "\n",
    "#### Algorithm steps:\n",
    "\n",
    "- Draw $u \\sim Uniform(0,1)$\n",
    "- Calculate $x = F^{[-1]}(u) = (\\theta_1 + u(\\theta_2 - \\theta_1))$\n",
    "- Return $x$\n",
    "\n",
    "We can illustrate this with SageMath by writing a function to calculate the inverse of the CDF of a uniform distribution parameterised by theta1 and theta2.  Given a value between 0 and 1 for the parameter u, it returns the height of the inverse CDF at this point, i.e. the value in the range theta1 to theta2 where the CDF evaluates to u.\n"
   ]
  },
  {
   "cell_type": "code",
   "execution_count": 47,
   "metadata": {
    "collapsed": true
   },
   "outputs": [],
   "source": [
    "def uniformFInverse(u, theta1, theta2):\n",
    "    '''A function to evaluate the inverse CDF of a uniform(theta1, theta2) distribution.\n",
    "    \n",
    "    u, u should be 0 <= u <= 1, is the value to evaluate the inverse CDF at.\n",
    "    theta1, theta2, theta2 > theta1, are the uniform distribution parameters.'''\n",
    "    \n",
    "    return theta1 + (theta2 - theta1)*u"
   ]
  },
  {
   "cell_type": "markdown",
   "metadata": {},
   "source": [
    "This function transforms a single $u$ into a single simulated value from the $Uniform(\\theta_1, \\theta_2)$, for example:"
   ]
  },
  {
   "cell_type": "code",
   "execution_count": 48,
   "metadata": {
    "collapsed": false
   },
   "outputs": [
    {
     "data": {
      "text/plain": [
       "4.386151426648391"
      ]
     },
     "execution_count": 48,
     "metadata": {},
     "output_type": "execute_result"
    }
   ],
   "source": [
    "u = random()\n",
    "theta1, theta2 = 3, 6\n",
    "uniformFInverse(u, theta1, theta2)"
   ]
  },
  {
   "cell_type": "markdown",
   "metadata": {},
   "source": [
    "Then we can use this function inside another function to generate a number of samples:"
   ]
  },
  {
   "cell_type": "code",
   "execution_count": 49,
   "metadata": {
    "collapsed": true
   },
   "outputs": [],
   "source": [
    "def uniformSample(n, theta1, theta2):\n",
    "    '''A function to simulate samples from a uniform distribution.\n",
    "    \n",
    "    n > 0 is the number of samples to simulate.\n",
    "    theta1, theta2 (theta2 > theta1) are the uniform distribution parameters.'''\n",
    "    \n",
    "    us = [random() for i in range(n)]\n",
    "    \n",
    "    return [uniformFInverse(u, theta1, theta2) for u in us]"
   ]
  },
  {
   "cell_type": "markdown",
   "metadata": {},
   "source": [
    "The basic strategy is the same as for simulating $Bernoulli$ and $de \\, Moirve$ samples:  we are using a list comprehension and the built-in SAGE random() function to make a list of pseudo-random simulations from the $Uniform(0,1)$.  The length of the list is determined by the value of n.  Inside the body of the function we assign this list to a variable named us (i.e., u plural).  We then use another list comprehension to make our simulated sample.  This list comprehension works by calling our function uniformFInverse(...) and passing in values for theta1 and theta2 together with each u in us in turn.\n",
    "\n",
    "You should be able to write simple functions like uniformFinverse and uniformSample yourself.\n",
    "\n",
    "Try this for a small sample:"
   ]
  },
  {
   "cell_type": "code",
   "execution_count": 51,
   "metadata": {
    "collapsed": false
   },
   "outputs": [
    {
     "name": "stdout",
     "output_type": "stream",
     "text": [
      "[-4.408559113596703, 1.5718140253264865, 3.6437636999952563, -4.768100573981843, 0.22751787199277906, 0.961106613187722, -4.924840402177258, -1.7349425193586878, -1.7367865181990494, 1.3075749442765119, 4.619689265797334, 1.992831446450828, 0.4875891193567057, 1.787768702203243, -3.8899018151205134, 0.8224815793539655, 3.963930747717612, 2.349170216812313, -1.3310018995059378, -3.4851938382021306, -3.2951916225727818, 1.7942840462762444, -4.1191874906563655, -2.772552115783479, -4.03538138083865, 3.91805645292718, 1.1719203112333183, -2.024763108739659, 3.2101342459815996, 3.4539785430375733]\n"
     ]
    }
   ],
   "source": [
    "param1 = -5\n",
    "param2 = 5\n",
    "nToGenerate = 30\n",
    "myUniformSample = uniformSample(nToGenerate, param1, param2)\n",
    "print(myUniformSample)"
   ]
  },
  {
   "cell_type": "markdown",
   "metadata": {},
   "source": [
    "Much more fun, we can make an interactive plot which uses the uniformSample(...) function to generate and plot while you choose the parameters and number to generate (you are not expected to be able to make interactive plots like this):"
   ]
  },
  {
   "cell_type": "code",
   "execution_count": 53,
   "metadata": {
    "collapsed": false
   },
   "outputs": [
    {
     "data": {
      "application/vnd.jupyter.widget-view+json": {
       "model_id": "b4d8b292b26f495ca6206da91a1da435"
      }
     },
     "metadata": {},
     "output_type": "display_data"
    }
   ],
   "source": [
    "@interact\n",
    "def _(theta1=0, theta2=1, n=(1..5000)):\n",
    "    '''Interactive function to plot samples from uniform distribution.'''\n",
    "    if theta2 > theta1:\n",
    "        if n == 1:\n",
    "            print n, \"uniform(\", + RR(theta1).n(digits=2), \",\", RR(theta2).n(digits=2), \") sample\"\n",
    "        else:\n",
    "            print n, \"uniform(\", + RR(theta1).n(digits=2), \",\", RR(theta2).n(digits=2), \") samples\"   \n",
    "        sample = uniformSample(n, theta1, theta2)\n",
    "        pts = zip(range(1,n+1,1),sample) # plot so that first sample is at x=1\n",
    "        p=points(pts)\n",
    "        p+= text(str(theta1), (0, theta1), fontsize=10, color='black') # add labels manually\n",
    "        p+= text(str(theta2), (0, theta2), fontsize=10, color='black')\n",
    "        p.show(xmin=0, xmax = n+1, ymin=theta1, ymax = theta2, axes=false, gridlines=[[0,n+1],[theta1,theta2]], figsize=[7,3])\n",
    "                \n",
    "    else:\n",
    "        print \"Theta1 must be less than theta2\""
   ]
  },
  {
   "cell_type": "markdown",
   "metadata": {},
   "source": [
    "We can get a better idea of the distribution of our sample using a histogram (the minimum sample size has been set to 50 here because the automatic histogram generation does not do a very good job with small samples)."
   ]
  },
  {
   "cell_type": "code",
   "execution_count": 54,
   "metadata": {
    "collapsed": false
   },
   "outputs": [
    {
     "data": {
      "application/vnd.jupyter.widget-view+json": {
       "model_id": "3626d7eb87514ae09d54ce4f4bcb10a6"
      }
     },
     "metadata": {},
     "output_type": "display_data"
    }
   ],
   "source": [
    "import pylab\n",
    "@interact\n",
    "def _(theta1=0, theta2=1, n=(50..5000), Bins=5):\n",
    "    '''Interactive function to plot samples from uniform distribution as a histogram.'''\n",
    "    if theta2 > theta1:\n",
    "        sample = uniformSample(n, theta1, theta2)\n",
    "        pylab.clf() # clear current figure\n",
    "        n, bins, patches = pylab.hist(sample, Bins, normed=true) \n",
    "        pylab.ylabel('normalised count')\n",
    "        pylab.title('Normalised histogram')\n",
    "        pylab.savefig('myHist') # to actually display the figure\n",
    "        pylab.show()\n",
    "    else:\n",
    "        print \"Theta1 must be less than theta2\""
   ]
  },
  {
   "cell_type": "code",
   "execution_count": null,
   "metadata": {
    "collapsed": true
   },
   "outputs": [],
   "source": []
  }
 ],
 "metadata": {
  "kernelspec": {
   "display_name": "SageMath 8.1",
   "language": "",
   "name": "sagemath"
  },
  "language_info": {
   "codemirror_mode": {
    "name": "ipython",
    "version": 2
   },
   "file_extension": ".py",
   "mimetype": "text/x-python",
   "name": "python",
   "nbconvert_exporter": "python",
   "pygments_lexer": "ipython2",
   "version": "2.7.14"
  }
 },
 "nbformat": 4,
 "nbformat_minor": 2
}
