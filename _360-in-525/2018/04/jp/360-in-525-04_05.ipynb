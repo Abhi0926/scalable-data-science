{
 "cells": [
  {
   "cell_type": "markdown",
   "metadata": {
    "deletable": true,
    "editable": true
   },
   "source": [
    "# 05. Random Variables, Expectations, Data, Statistics, Arrays and Tuples\n",
    "## [Mathematical Statistical and Computational Foundations for Data Scientists](https://lamastex.github.io/scalable-data-science/360-in-525/2018/04/)\n",
    "\n",
    "&copy;2018 Raazesh Sainudiin. [Attribution 4.0 International (CC BY 4.0)](https://creativecommons.org/licenses/by/4.0/)"
   ]
  },
  {
   "cell_type": "markdown",
   "metadata": {
    "deletable": true,
    "editable": true
   },
   "source": [
    "### Topics\n",
    "\n",
    "1. Continuous Random Variables\n",
    "- Expectations\n",
    "- Data and Statistics\n",
    "- Sample Mean\n",
    "- Sample Variance\n",
    "- Order Statistics\n",
    "- Frequencies\n",
    "- Empirical Mass Function\n",
    "- Empirical Distribution Function\n",
    "- Arrays\n",
    "- Tuples\n",
    " \n",
    "\n",
    "# Random Variables\n",
    "\n",
    "A random variable is a mapping from the sample space $\\Omega$ to the set of real numbers $\\mathbb{R}$.  In other words, it is a numerical value determined by the outcome of the experiment.\n",
    "\n",
    "We already saw *discrete random variables* that take values in a discrete set, of two types:\n",
    "\n",
    "- those with with finitely many values, eg. the two values in $\\{0,1\\}$ for the Bernoulli$(\\theta)$ RV \n",
    "- those with *countably infinitely many* values, eg. values in the set of all non-negative integers: $\\{0,1,2,\\ldots\\}$, for the 'infinite coin tossing experiment' that records the number of times you wait until the first Heads occurs.\n",
    "\n",
    "Now, we will see the other main type of real-valued random variable.\n",
    "\n",
    "## Continuous random variable\n",
    "\n",
    "When a random variable takes on values in the continuum we call it a continuous RV.\n",
    "\n",
    "### Examples\n",
    "\n",
    "- Volume of water that fell on the Southern Alps yesterday (See video link below)\n",
    "- Vertical position above sea level, in micrometers, since the original release of a pollen grain at the head waters of a river\n",
    "- Resting position in degrees of a roulettet wheel after a brisk spin\n",
    "\n",
    "## Probability Density Function\n",
    "\n",
    "A RV $X$ with DF $F$ is called continuous if there exists a piece-wise continuous function $f$, called the  probability density function (PDF) $f$ of $X$, such that, for any $a$, $b \\in \\mathbb{R}$ with $a < b$,\n",
    "\n",
    "$$\n",
    "P(a < X \\le b) = F(b)-F(a) = \\int_a^b f(x) \\ dx \\ .\n",
    "$$\n",
    "\n",
    "\n",
    "The following hold for a continuous RV $X$ with PDF $f$:\n",
    "\n",
    "For any $x \\in \\mathbb{R}$, $P(X=x)=0$.\n",
    "Consequentially, for any $a,b \\in \\mathbb{R}$ with $a \\le b$ \n",
    "$$P(a < X < b ) = P(a < X \\le b) = P(a \\leq X \\le b) = P(a \\le X < b)$$\n",
    "By the fundamental theorem of calculus, except possibly at finitely many points (where the continuous pieces come together in the piecewise-continuous $f$): \n",
    "$$f(x) = \\frac{d}{dx} F(x)$$\n",
    "And of course $f$ must satisfy:\n",
    "$$\\int_{-\\infty}^{\\infty} f(x) \\ dx = P(-\\infty < X < \\infty) = 1$$\n",
    "\n",
    "\n",
    "### You try at home\n",
    "Watch the Khan Academy [video about probability density functions](https://youtu.be/Fvi9A_tEmXQ) to warm-up to the meaning behind the maths above. Consider the continuous random variable $Y$ that measures the exact amount of rain tomorrow in inches. Think of the probability space $(\\Omega,\\mathcal{F},P)$ underpinning this random variable $Y:\\Omega \\to \\mathbb{Y}$. Here the sample space, range or support of the random variable $Y$ denoted by $\\mathbb{Y} = [0,\\infty) =\\{y : 0 \\leq y < \\infty\\}$.\n"
   ]
  },
  {
   "cell_type": "markdown",
   "metadata": {
    "deletable": true,
    "editable": true
   },
   "source": [
    "## The Uniform$(0,1)$ RV\n",
    "\n",
    "The Uniform$(0,1)$ RV is a continuous RV with a probability density function (PDF) that takes the value 1 if $x \\in [0,1]$ and $0$ otherwise.  Formally, this is written  \n",
    "\n",
    "\n",
    "$$\n",
    "\\begin{equation}\n",
    "f(x) = \\mathbf{1}_{[0,1]}(x) =\n",
    "\\begin{cases}\n",
    "1 & \\text{if } 0 \\le x \\le 1 ,\\\\\n",
    "0 & \\text{otherwise}\n",
    "\\end{cases}\n",
    "\\end{equation}\n",
    "$$\n",
    "\n",
    "\n",
    "and its distribution function (DF) or cumulative distribution function (CDF) is:\n",
    "\n",
    "\n",
    "$$\n",
    "\\begin{equation}\n",
    "F(x) := \\int_{- \\infty}^x f(y) \\ dy =\n",
    "\\begin{cases}\n",
    "0 & \\text{if } x < 0 , \\\\\n",
    "x & \\text{if } 0 \\le x \\leq 1 ,\\\\\n",
    "1 & \\text{if } x > 1\n",
    "\\end{cases}\n",
    "\\end{equation}\n",
    "$$\n",
    "\n",
    "\n",
    "Note that the DF is the identity map in $[0,1]$. \n",
    "\n",
    "The PDF, CDF and inverse CDF for a Uniform$(0,1)$ RV are shown below\n",
    "\n",
    "<img src=\"images/Uniform01ThreeCharts.png\" alt=\"Uniform01ThreeCharts\" width=500>\n",
    "\n",
    "The Uniform$(0,1)$ is sometimes called the Fundamental Model.\n",
    "\n",
    "The Uniform$(0,1)$ distribution comes from the Uniform$(a,b)$ family.   \n",
    "\n",
    "$$\n",
    "\\begin{equation}\n",
    "f(x) = \\mathbf{1}_{[a,b]}(x) =\n",
    "\\begin{cases}\n",
    "\\frac{1}{(b-a)} & \\text{if } a \\le x \\le b,\\\\\n",
    "0 & \\text{otherwise}\n",
    "\\end{cases}\n",
    "\\end{equation}\n",
    "$$\n",
    "\n",
    "This is saying that if $X$ is a Uniform$(a,b)$ RV, then all values of $x$ between $a$ and $b$, i.e., $a \\le x \\le b$, are equally probable.   The Uniform$(0,1)$ RV is the member of the family where $a=0$, $b=1$.    \n",
    "\n",
    " The PDF and CDF for a Uniform$(a,b)$ RV are shown from wikipedia below\n",
    "\n",
    "<table style=\"width:95%\">\n",
    "  <tr>\n",
    "    <th><img src=\"https://upload.wikimedia.org/wikipedia/commons/thumb/9/96/Uniform_Distribution_PDF_SVG.svg/500px-Uniform_Distribution_PDF_SVG.svg.png\" alt=\"500px-Uniform_Distribution_PDF_SVG.svg.png\" width=250></th>\n",
    "    <th><img src=\"https://upload.wikimedia.org/wikipedia/commons/thumb/6/63/Uniform_cdf.svg/500px-Uniform_cdf.svg.png\" alt=\"wikipedia image 500px-Uniform_cdf.svg.png\" width=250></th> \n",
    "  </tr>\n",
    "</table>\n",
    "\n",
    "You can dive deeper into this family of random vaiables <a href=\"https://en.wikipedia.org/wiki/Uniform_distribution_(continuous)\">here</a>.\n",
    "\n",
    "SageMath has a function for simulating samples from a Uniform$(a,b)$ distribution.  We will learn more about this later in the course. Let's go ahead and use it to simulate samples from it below."
   ]
  },
  {
   "cell_type": "code",
   "execution_count": 3,
   "metadata": {
    "collapsed": false,
    "deletable": true,
    "editable": true
   },
   "outputs": [
    {
     "data": {
      "text/plain": [
       "-0.15206205043245413"
      ]
     },
     "execution_count": 3,
     "metadata": {},
     "output_type": "execute_result"
    }
   ],
   "source": [
    "uniform(-1,1)  # reevaluate the cell to see how the samples change upon each re-evaluation"
   ]
  },
  {
   "cell_type": "code",
   "execution_count": null,
   "metadata": {
    "collapsed": true,
    "deletable": true,
    "editable": true
   },
   "outputs": [],
   "source": []
  },
  {
   "cell_type": "markdown",
   "metadata": {
    "deletable": true,
    "editable": true
   },
   "source": [
    "# Expectations\n",
    "\n",
    "The *expectation* of $X$ is also known as the *population mean*, *first moment*, or *expected value* of $X$.\n",
    "\n",
    "$$\n",
    "\\begin{equation}\n",
    "E\\left(X\\right) := \\int x \\, dF(x) =\n",
    "\\begin{cases}\n",
    "\\sum_x x \\, f(x) & \\qquad \\text{if }X \\text{ is discrete} \\\\\n",
    "\\int x \\, f(x)\\,dx  & \\qquad \\text{if } X \\text{ is continuous}\n",
    "\\end{cases}\n",
    "\\end{equation}\n",
    "$$\n",
    "\n",
    "Sometimes, we denote $E(X)$ by $E X$ for brevity.  Thus, the expectation is a single-number summary of the RV $X$ and may be thought of  as the average.\n",
    "\n",
    "In general though, we can talk about the Expectation of a function $g$ of a RV $X$.  \n",
    "\n",
    "The Expectation of a function $g$ of a RV $X$ with DF $F$ is:\n",
    "\n",
    "$$\n",
    "\\begin{equation}\n",
    "E\\left(g(X)\\right) := \\int g(x)\\,dF(x) =\n",
    "\\begin{cases}\n",
    "\\sum_x g(x) f(x) & \\qquad \\text{if }X \\text{ is discrete} \\\\\n",
    "\\int g(x) f(x)\\,dx  & \\qquad \\text{if } X \\text{ is continuous}\n",
    "\\end{cases}\n",
    "\\end{equation}\n",
    "$$\n",
    "\n",
    "\n",
    "provided the sum or integral is well-defined.  We say the expectation exists if\n",
    "\n",
    "\n",
    "$$\n",
    "\\begin{equation}\n",
    "\\int \\left|g(x)\\right|\\,dF(x) < \\infty \\ .\n",
    "\\end{equation}\n",
    "$$\n",
    "\n",
    "When we are looking at the Expectation of $X$ itself, we have $g(x) = x$\n",
    "\n",
    "Thinking about the Expectations like this, can you see that the familiar Variance of X is in fact the Expection of $g(x) = (x - E(x))^2$?\n",
    "\n",
    "The variance of $X$ (a.k.a. second moment)\n",
    "\n",
    "Let $X$ be a RV with mean or expectation $E(X)$.  The variance of $X$ denoted by $V(X)$ or $VX$ is\n",
    "\n",
    "$$\n",
    "V(X) := E\\left((X-E(X))^2\\right) = \\int (x-E(X))^2 \\,d F(x)\n",
    "$$\n",
    "\n",
    "provided this expectation exists.  The standard deviation denoted by $\\sigma(X) := \\sqrt{V(X)}$.\n",
    "\n",
    "Thus variance is a measure of ``spread'' of a distribution.\n",
    "\n",
    "The $k$-th moment of a RV comes from the Expectation of $g(x) = x^k$.\n",
    "\n",
    "We call\n",
    "\n",
    "$$\n",
    "E(X^k) = \\int x^k\\,dF(x)\n",
    "$$\n",
    "\n",
    "\n",
    "the $k$-th moment of the RV $X$ and say that the $k$-th moment exists when $E(|X|^k) < \\infty$.  \n",
    "\n",
    "\n",
    "## Properties of Expectations\n",
    "\n",
    "\n",
    "\n",
    "1. If the $k$-th moment exists and if $j<k$ then the $j$-th moment exists.\n",
    "- If $X_1,X_2,\\ldots,X_n$ are RVs and $a_1,a_2,\\ldots,a_n$ are constants, then $E \\left( \\sum_{i=1}^n a_i X_i \\right) = \\sum_{i=1}^n a_i E(X_i)$\n",
    "- Let $X_1,X_2,\\ldots,X_n$ be independent RVs, then \n",
    "  - $E \\left(  \\prod_{i=1}^n X_i \\right) = \\prod_{i=1}^{n} E(X_i)$\n",
    "  - $V(X) = E(X^2) - (E(X))^2$\n",
    "- If $a$ and $b$ are constants, then: $V \\left(aX + b\\right) = a^2V(X) $\n",
    "- If $X_1,X_2,\\ldots,X_n$ are independent and $a_1,a_2,\\ldots,a_n$ are constants, then: $V \\left(  \\sum_{i=1}^n a_i X_i \\right) = \\sum_{i=1}^n a_i^2 V(X_i)$\n",
    "\n",
    "### You try at home\n",
    "\n",
    "Watch the Khan Academy videos about [probability density functions](https://youtu.be/Fvi9A_tEmXQ) and [expected value](https://youtu.be/j__Kredt7vY) if you want to get another angle on the material more slowly step-by-step:"
   ]
  },
  {
   "cell_type": "markdown",
   "metadata": {
    "deletable": true,
    "editable": true
   },
   "source": [
    "## The population mean and variance of the Bernoulli$(\\theta)$ RV\n",
    "\n",
    "We have already met the discrete Bernoulli$(\\theta)$ RV.  Remember, that if we have an event $A$ with $P(A) = \\theta$, then a Bernoulli$(\\theta)$ RV $X$ takes the value $1$ if \"$A$ occurs\" with probability $\\theta$ and $0$ if \"$A$ does not occur\" with probability $1-\\theta$. \n",
    "\n",
    "In other words, the indicator function $\\mathbf{1}_A$ of \"$A$ occurs\" with probability $\\theta$ is the Bernoulli$(\\theta)$ RV. \n",
    "\n",
    "For example, flip a fair coin.  \n",
    "Consider the event that it turns up heads.  Since the coin is fair, the probability of this event $\\theta$ is $\\frac{1}{2}$.  If we define an RV $X$ that takes the value 1 if the coin turns up heads (\"event coin turns up heads occurs\") and 0 otherwise, then we have a Bernoulli$(\\theta = \\frac{1}{2})$ RV.  \n",
    "\n",
    "We all saw that given a parameter $\\theta \\in [0,1]$, the probability mass function (PMF) for the Bernoulli$(\\theta)$ RV $X$ is:\n",
    "\n",
    "$$\n",
    "f(x;\\theta) = \\theta^x (1-\\theta)^{1-x} \\mathbf{1}_{\\{0,1\\}}(x) =\n",
    "\\begin{cases}\n",
    "\\theta & \\text{if } x=1 \\ ,\\\\\n",
    "1-\\theta & \\text{if } x=0 \\ ,\\\\\n",
    "0 & \\text{otherwise}\n",
    "\\end{cases}\n",
    "$$\n",
    "\n",
    "\n",
    "and its DF is:\n",
    "\n",
    "$$\n",
    "\\begin{equation}\n",
    "F(x;\\theta) =\n",
    "\\begin{cases}\n",
    "1 & \\text{if } 1 \\le x \\ ,\\\\\n",
    "1-\\theta & \\text{if } 0 \\le x < 1 \\ ,\\\\\n",
    "0 & \\text{otherwise}\n",
    "\\end{cases}\n",
    "\\end{equation}\n",
    "$$\n",
    "\n",
    "Now let's look at some expectations:  the population mean and variance of an RV $X \\thicksim$  Bernoulli$(\\theta)$. \n",
    "\n",
    "Because $X$ is a discrete RV, our expectations use sums rather than integrals.\n",
    "\n",
    "The first moment or expectation is: \n",
    "\n",
    "$$\n",
    "\\begin{array}{lcl} \n",
    "E(X) & = & \\displaystyle\\sum_{x=0}^{1}xf(x;\\theta) \\\\ &=& (0 \\times (1-\\theta)) + (1 \\times \\theta)\\\\ &=& 0 + \\theta\\\\ &=& \\theta\\\\ \n",
    "\\end{array}\n",
    "$$\n",
    "\n",
    "The second moment is: \n",
    "$$\\begin{array}{lcl} \n",
    "E(X^2) &=& \\displaystyle\\sum_{x=0}^{1}x^2f(x;\\theta) \\\\ \n",
    "&=& (0^2 \\times (1-\\theta)) + (1^2 \\times \\theta)\\\\ &=& 0 + \\theta\\\\ &=& \\theta\n",
    "\\end{array}\n",
    "$$\n",
    "\n",
    "The variance is: \n",
    "$$\n",
    "\\begin{array}{lcl} V(X) &=& E(X^2) - \\left(E(X)\\right)^2\\\\ &=& \\theta - \\theta^2\\\\ &=& \\theta(1-\\theta) \n",
    "\\end{array}\n",
    "$$\n",
    "\n",
    "We can see that $E(X)$ and $V(X)$ will vary with the parameter $\\theta$.  This is why we subscript $E$ and $V$ with $\\theta$, to emphasise that the values depend on the parameter.\n",
    "\n",
    "$$E_{\\theta}(X) = \\theta$$\n",
    "\n",
    "$$V_{\\theta}(X) = \\theta(1-\\theta)$$\n",
    "\n",
    "We can use Sage to do a simple plot to see how $E_{\\theta}(X)$ and $V_{\\theta}(X)$ vary with $\\theta$."
   ]
  },
  {
   "cell_type": "code",
   "execution_count": 13,
   "metadata": {
    "collapsed": false,
    "deletable": true,
    "editable": true
   },
   "outputs": [
    {
     "data": {
      "image/png": "[encoded data removed]",
      "text/plain": [
       "Graphics object consisting of 2 graphics primitives"
      ]
     },
     "metadata": {},
     "output_type": "display_data"
    }
   ],
   "source": [
    "def bernoulliPopMean(th):\n",
    "    '''A function to find the population mean for an RV distributed Bernoulli(theta).\n",
    "    \n",
    "    parameter th is the distribution parameter theta.'''\n",
    "    \n",
    "    return th\n",
    "    \n",
    "def bernoulliPopVariance(th):\n",
    "    '''A function to find the population variance for an RV distributed Bernoulli(theta).\n",
    "    \n",
    "    parameter th is the distribution parameter theta.'''\n",
    "    \n",
    "    return th*(1-th)\n",
    "    \n",
    "p = plot(bernoulliPopMean(x), xmin=0, xmax=1) # assign the plot to p\n",
    "p += plot(bernoulliPopVariance(x), xmin=0, xmax=1, rgbcolor=\"red\") # add the variance plot to p\n",
    "show(p, figsize=[6,3])"
   ]
  },
  {
   "cell_type": "markdown",
   "metadata": {
    "deletable": true,
    "editable": true
   },
   "source": [
    "Note how the variance is maximized at $\\theta=\\frac{1}{2}$. "
   ]
  },
  {
   "cell_type": "markdown",
   "metadata": {
    "deletable": true,
    "editable": true
   },
   "source": [
    "## The population mean and variance of the Uniform$(0,1)$ RV\n",
    "\n",
    "Now let's look at the the population mean and variance of a continuous RV $X \\thicksim$ Uniform$(0,1)$. \n",
    "\n",
    "Because $X$ is a continuous RV, our expectations use integrals.\n",
    "\n",
    "$$\n",
    "\\begin{array}{lcl} E(X) &=&\\int_{x=0}^1 x f(x)\\, dx\\\\ &=& \\int_{x=0}^1 x \\ 1 \\, dx\\\\ &=& \\frac{1}{2} \\left( x^2 \\right]_{x=0}^{x=1}\\\\ &=& \\frac{1}{2} \\left( 1-0 \\right)\\\\ &=& \\frac{1}{2} \\end{array}\n",
    "$$\n",
    "\n",
    " \n",
    "\n",
    "$$\n",
    "\\begin{array}{lcl} E(X^2) &=& \\int_{x=0}^1 x^2 f(x)\\, dx \\\\ &=& \\int_{x=0}^1 x^2 \\ 1 \\, dx\\\\ &=& \\frac{1}{3} \\left( x^3 \\right]_{x=0}^{x=1}\\\\ &=& \\frac{1}{3} \\left( 1-0 \\right)\\\\ &=& \\frac{1}{3}\\\\ \\end{array}\n",
    "$$\n",
    "\n",
    "$$\n",
    "\\begin{array}{lcl} V(X) &=& E(X^2) - \\left(E(X)\\right)^2\\\\ &=&\\frac{1}{3} - \\left( \\frac{1}{2} \\right)^2\\\\ &=& \\frac{1}{3} - \\frac{1}{4}\\\\ &=& \\frac{1}{12} \\end{array}\n",
    "$$\n",
    "\n",
    "\n",
    "\n",
    "### Winnings on Average\n",
    "\n",
    "Think about playing a game where we draw $x \\thicksim X$ and I pay you $r(x)$ ($r$ is some reward function, a function of $x$ that says what your reward is when $x$ is drawn).  Then, your average winnings from the game is the sum (or integral), over all the possible values of $x$, of $r(x) \\times$ the chance that $X=x$.\n",
    "\n",
    "Put formally, if $Y= r(X)$, then\n",
    "\n",
    "$$E(Y) = E(r(X)) = \\int r(x) \\,dF(x)$$"
   ]
  },
  {
   "cell_type": "markdown",
   "metadata": {
    "deletable": true,
    "editable": true
   },
   "source": [
    "## Probability is an Expectation\n",
    "\n",
    "Remember when we first talked about the probability of some event $A$, we talked about the idea of the probability of $A$ as the long term relative frequency of $A$? \n",
    "\n",
    "Now consider some event $A$ and  a reward function $r(x) = \\mathbf{1}_A(x)$.\n",
    "\n",
    "Recall that $\\mathbf{1}_A(x) = 1$ if $ x \\in A$ and $\\mathbf{1}_A(x) = 0$ if $ x \\notin A$: the reward is 1 if $x \\in A$ and 0 otherwise.\n",
    "\n",
    "$$\n",
    "\\begin{array}{lcl} \\text{If } X \\text{ is continuous } E(\\mathbf{1}_A(X)) &=& \\int \\mathbf{1}_A(x)\\, dF(x)\\\\ &=& \\int_A f(x)\\, dx\\\\ &=& P(X \\in A) = P(A)\\\\ \\text{If } X \\text{ is discrete } E(\\mathbf{1}_A(X)) &=& \\mathbf{1}_A(x)\\, dF(x)\\\\ &=& \\sum_{x \\in A} f(x)\\\\ &=& P(X \\in A) = P(A) \\\\ \\end{array}\n",
    "$$\n",
    "\n",
    "This says that probability is a special case of expectation: the probability of $A$ is the expectation that $A$ will occur.\n",
    "\n",
    "Take a Uniform$(0,1)$ RV X.  What would you say the probability that an observation of this random variable is $\\le 0.5$ is, ie what is $P(X \\le 0.5)$?\n",
    "\n",
    "Let's use Sage to simulate some observations for us and look at the relative frequency of observations $\\le 0.5$:"
   ]
  },
  {
   "cell_type": "code",
   "execution_count": 17,
   "metadata": {
    "collapsed": false,
    "deletable": true,
    "editable": true
   },
   "outputs": [
    {
     "data": {
      "text/plain": [
       "0.7036037270991756"
      ]
     },
     "execution_count": 17,
     "metadata": {},
     "output_type": "execute_result"
    }
   ],
   "source": [
    "uniform(0,1) # remember calling this each time changes the outcome - reevaluate this cell and see"
   ]
  },
  {
   "cell_type": "code",
   "execution_count": 15,
   "metadata": {
    "collapsed": false,
    "deletable": true,
    "editable": true
   },
   "outputs": [
    {
     "name": "stdout",
     "output_type": "stream",
     "text": [
      "The relative frequency of x <= 0.50  was 0.482\n"
     ]
    }
   ],
   "source": [
    "countObOfInterest = 0    # variable to count observations of interest\n",
    "numberOfObs = 1000        # variable to control how many observations we simulate\n",
    "obOfInterest = 0.5        # variable for observation of interest\n",
    "for i in range(numberOfObs): # loop to simulate observations\n",
    "    if uniform(0,1) <= obOfInterest:    # conditional statement to check observation\n",
    "        countObOfInterest += 1    # accumulate count of observation of interest\n",
    "        \n",
    "print \"The relative frequency of x <=\", obOfInterest.n(digits=2), \\\n",
    "      \" was\", RR(countObOfInterest/numberOfObs).n(digits=3)   # just formatting out print output"
   ]
  },
  {
   "cell_type": "markdown",
   "metadata": {
    "deletable": true,
    "editable": true
   },
   "source": [
    "Or, we could look at a similar simulation for a discrete RV, say a Bernoulli$(\\frac{1}{2})$ RV. \n",
    "\n",
    "Another way of thinking about the $Bernoulli(\\frac{1}{2})$ RV is that it has a discrete uniform distribution over $\\{0,1\\}$.  It can take on a finite number of values (0 and 1 only) and the probabilities of observing either of these two values are are equal.   \n",
    "\n",
    "This could be modelling the event that we get a head when we throw a fair coin. For this we'll use the `randint(0,1)` function to simulate the observed value of our RV $X$. "
   ]
  },
  {
   "cell_type": "code",
   "execution_count": 20,
   "metadata": {
    "collapsed": false,
    "deletable": true,
    "editable": true
   },
   "outputs": [
    {
     "data": {
      "text/plain": [
       "1"
      ]
     },
     "execution_count": 20,
     "metadata": {},
     "output_type": "execute_result"
    }
   ],
   "source": [
    "randint(0,1)"
   ]
  },
  {
   "cell_type": "code",
   "execution_count": 23,
   "metadata": {
    "collapsed": false,
    "deletable": true,
    "editable": true
   },
   "outputs": [
    {
     "name": "stdout",
     "output_type": "stream",
     "text": [
      "The relative frequency of x == 1  was 0.477\n"
     ]
    }
   ],
   "source": [
    "countObOfInterest = 0    # variable to count observations of interest\n",
    "numberOfObs = 1000        # variable to control how many observations we simulate\n",
    "obOfInterest = 1        # variable for observation of interest\n",
    "for i in range(numberOfObs): # loop to simulate observations\n",
    "    if randint(0,1) == obOfInterest:    # conditional statement to check observation\n",
    "        countObOfInterest += 1    # accumulate count of observation of interest\n",
    "        \n",
    "print \"The relative frequency of x ==\", obOfInterest, \\\n",
    "      \" was\", RR(countObOfInterest/numberOfObs).n(digits=3)   # just formatting out print output"
   ]
  },
  {
   "cell_type": "markdown",
   "metadata": {
    "deletable": true,
    "editable": true
   },
   "source": [
    "## The de Moivre$(\\frac{1}{k}, \\frac{1}{k}, \\ldots, \\frac{1}{k})$ RV\n",
    "\n",
    "We have seen that a Bernoulli$(\\theta)$ RV has two outcomes (0, and 1).  What if we are interested in modelling situations where there are more than two outcomes of interest? For example, we could use a $Bernoulli(\\frac{1}{2})$ RV to model whether the outcome of the flip of a fair coin is a head, but we can't use it for modelling a RV which is the number we get when we toss a six-sided die.  \n",
    "\n",
    "So, now, we will consider a natural generalization of the Bernoulli$(\\theta)$ RV with more than two outcomes. This is called the de Moivre$(\\frac{1}{k}, \\frac{1}{k}, \\ldots, \\frac{1}{k})$ RV (after Abraham de Moivre, 1667-1754), one of the first great analytical probabalists).  \n",
    "\n",
    "A de Moivre$(\\frac{1}{k}, \\frac{1}{k}, \\ldots, \\frac{1}{k})$ RV $X$ has a discrete uniform distribution over $\\{1, 2, ..., k\\}$:  there are $k$ possible equally probable ('equiprobable') values that the RV can take. \n",
    "\n",
    "If we are rolling a die and $X$ is the number on die, then $k=6$. \n",
    "\n",
    "Or think of the New Zealand Lotto game.  There are 40 balls in the machine, numbered $1, 2, \\ldots, 40$.  The number on the first ball out of the machine can be modelled as a de Moivre$(\\frac{1}{40}, \\frac{1}{40}, \\ldots, \\frac{1}{40})$ RV. \n",
    "\n",
    "We say that an RV $X$ is de Moivre$(\\frac{1}{k}, \\frac{1}{k}, \\ldots, \\frac{1}{k})$ distributed if its probability mass function PMF is:\n",
    "\n",
    "$$\n",
    "f \\left(x; \\left( \\frac{1}{k}, \\frac{1}{k}, \\ldots, \\frac{1}{k} \\right) \\right) = \\begin{cases} 0 & \\quad \\text{if } x \\notin \\{1,2,\\ldots,k\\}\\\\ \\frac{1}{k} & \\quad \\text{if } x \\in \\{1,2,\\ldots,k\\} \\end{cases}\n",
    "$$\n",
    "\n",
    "We can find the expectation: \n",
    "$$\n",
    "\\begin{array}{lcl} E(X) & = & \\sum_{x=1}^k xP(X=x)\\\\ &=& (1 \\times \\frac{1}{k}) + (2 \\times \\frac{1}{k}) + \\ldots + (k \\times \\frac{1}{k})\\\\ &=& (1 + 2 + \\dots + k)\\frac{1}{k}\\\\ &=& \\frac{k(k+1)}{2}\\frac{1}{k}\\\\ &=& \\frac{k+1}{2} \\, , \\end{array}\n",
    "$$\n",
    "\n",
    "the second moment: \n",
    "$$\n",
    "\\begin{array}{lcl} E(X^2) & =& \\sum_{x=1}^k x^2P(X=x)\\\\ & =& (1^2 \\times \\frac{1}{k}) + (2^2 \\times \\frac{1}{k}) + \\ldots + (k^2 \\times \\frac{1}{k})\\\\ &=& (1^2 + 2^2 + \\dots + k^2)\\frac{1}{k}\\\\ &=& \\frac{k(k+1)(2k+1)}{6}\\frac{1}{k}\\\\ &=& \\frac{2k^2+3k+1}{6}\\, , \\end{array}\n",
    "$$\n",
    "\n",
    "and finally the variance: \n",
    "$$\n",
    "\\begin{array}{lcl} V(X) &=& E(X^2) - \\left(E(X)\\right)^2\\\\ &=& \\frac{2k^2+3k+1}{6} - \\left( \\frac{k+1}{2} \\right)^2\\\\ &=&\\frac{2k^2+3k+1}{6} - \\frac{k^2 + 2k +1}{4}\\\\ &=& \\frac{4(2k^2 + 3k + 1) - 6(k^2 + 2k + 1) }{24}\\\\ &=& \\frac{8k^2 + 12k + 4 - 6k^2 - 12k - 6 }{24}\\\\ &=& \\frac{2k^2-2}{24} \\\\ &=& \\frac{k^2-1}{12} \\, . \\end{array}\n",
    "$$\n",
    "\n",
    "We coud use the Sage `randint` function to simulate the number on the first ball in a Lotto draw:"
   ]
  },
  {
   "cell_type": "code",
   "execution_count": 24,
   "metadata": {
    "collapsed": false,
    "deletable": true,
    "editable": true
   },
   "outputs": [
    {
     "data": {
      "text/plain": [
       "13"
      ]
     },
     "execution_count": 24,
     "metadata": {},
     "output_type": "execute_result"
    }
   ],
   "source": [
    "randint(1,40)"
   ]
  },
  {
   "cell_type": "markdown",
   "metadata": {
    "deletable": true,
    "editable": true
   },
   "source": [
    "# Statistics\n",
    "\n",
    "The official NZ Government site for statistics about New Zealand is http://www.stats.govt.nz/ and that for Sweden is http://www.scb.se/en/About-us/official-statistics-of-sweden/ \n",
    "\n",
    "Take a tour through it!\n",
    "\n",
    "## Data and statistics\n",
    "\n",
    "In general, given some probability triple $(\\Omega, \\mathcal{F}, P)$, let the function $X$ measure the outcome $\\omega$ from the sample space $\\Omega$.\n",
    "\n",
    "$$X(\\omega): \\Omega \\rightarrow \\mathbb{X}$$\n",
    "\n",
    "$X$ is called data.\n",
    "\n",
    "$\\mathbb{X}$ is called the data space (sample space of the data $X$).\n",
    "\n",
    "$X(\\omega)=x$ is the outcome $\\omega$ measured by $X$ and is called the observed data or the realisation of $X$.\n",
    "\n",
    "Often the measurements made by $X$ are real numbers or vectors of real numbers (but can come from more general objects, like addresses, images, videos, trajectories, etc.). \n",
    "\n",
    "This is the link to the definition of a random variable we have already seen (a random variable $X$ as a function or map from the sample space to the real line $\\mathbb{R}$).  We have also seen that $X$ can in fact be a vector-valued random variable $X=(X_1,X_2,\\ldots,X_n)$, i.e. a vector of random variables or simply random vector. $X$ can be much more general as we will see in the sequel.  \n",
    "\n",
    "When we talked about an experiment involving two IID Bernoulli$(\\frac{1}{2})$ RVs above (tossing two coins), we listed the different results we might get as (0,0), (1,0), (0,1), (1,1).\n",
    "\n",
    "Say we observe the outcome $\\omega$ = (H, H) (two heads).   Our $Bernoulli$ random vector $X$ measures this as (1,1).  Thus, (1,1) is the observed data or the realisation of $X$.\n",
    "\n",
    "## So what is a statistic?\n",
    "\n",
    "A *statistic* is any *[measureable function](https://en.wikipedia.org/wiki/Measurable_function)* of the data: $T(x): \\mathbb{X} \\rightarrow \\mathbb{T}$.\n",
    "\n",
    "Thus, a statistic $T$ is also an RV that takes values in the space $\\mathbb{T}$.\n",
    "\n",
    "When $x \\in \\mathbb{X}$ is the observed data, $T(x)=t$ is the observed statistic of the observed data $x$.\n",
    "\n",
    "## Example 2: New Zealand Lotto Data and a Probability Model of it as IID de Moivre RVs\n",
    "\n",
    "### New Zealand lotto data\n",
    "Let's look at our pre-made New Zealand lotto data. This is the winning first ball drawn from a NZ Lotto machine for several years.  "
   ]
  },
  {
   "cell_type": "code",
   "execution_count": 1,
   "metadata": {
    "collapsed": true,
    "deletable": true,
    "editable": true
   },
   "outputs": [],
   "source": [
    "# These lotto draws of the first ball from NZ Lotto was already downloaded and processed for you\n",
    "listBallOne = [4, 3, 11, 35, 23, 12, 14, 13, 15, 19, 36, 18, 37, 39, 37, 35, 39, 1, 24, 29, 38, 18, 40, 35, \\\n",
    "            12, 7, 14, 23, 21, 35, 14, 32, 19, 2, 1, 34, 39, 29, 7, 20, 2, 40, 28, 4, 30, 34, 20, 37, 9, 24,\\\n",
    "            36, 4, 22, 1, 31, 12, 16, 29, 36, 5, 21, 23, 30, 39, 38, 22, 13, 6, 14, 30, 40, 21, 5, 12, 28, 27,\\\n",
    "            13, 18, 19, 23, 2, 10, 37, 31, 40, 4, 25, 4, 17, 6, 34, 26, 38, 35, 3, 38, 14, 40, 3, 30, 21, 4,\\\n",
    "            24, 34, 27, 14, 25, 18, 21, 1, 25, 39, 18, 40, 18, 11, 5, 37, 33, 26, 29, 26, 36, 33, 18, 32, 3, 1,\\\n",
    "            5, 22, 39, 25, 12, 21, 23, 12, 31, 1, 35, 8, 32, 24, 34, 14, 26, 4, 3, 31, 17, 22, 24, 10, 29, 40,\\\n",
    "            4, 8, 26, 11, 8, 18, 25, 22, 8, 30, 10, 14, 32, 14, 5, 35, 3, 32, 40, 17, 39, 7, 21, 4, 35, 9, 16,\\\n",
    "            30, 30, 11, 28, 22, 38, 5, 16, 27, 16, 23, 22, 1, 27, 32, 30, 24, 32, 29, 11, 3, 26, 19, 22, 25, 3,\\\n",
    "            34, 31, 17, 16, 31, 20, 29, 10, 2, 17, 36, 6, 34, 11, 7, 22, 28, 13, 15, 20, 39, 16, 10, 25, 1, 37,\\\n",
    "            14, 28, 35, 20, 39, 3, 39, 20, 40, 6, 20, 17, 26, 27, 4, 24, 40, 16, 24, 7, 8, 25, 16, 15, 8, 29, 13,\\\n",
    "            16, 39, 2, 24, 24, 23, 24, 37, 39, 40, 5, 11, 13, 6, 24, 1, 5, 7, 15, 38, 3, 35, 10, 22, 19, 3, 21,\\\n",
    "            39, 38, 4, 30, 17, 15, 9, 32, 28, 7, 12, 6, 37, 25, 4, 8, 30, 7, 31, 12, 21, 31, 13, 2, 20, 14, 40,\\\n",
    "            32, 23, 10, 1, 35, 35, 32, 16, 25, 13, 20, 33, 27, 2, 26, 12, 5, 34, 20, 7, 34, 38, 20, 8, 5, 11, 17,\\\n",
    "            10, 36, 34, 1, 36, 6, 7, 37, 22, 33, 7, 32, 18, 8, 1, 37, 25, 35, 29, 23, 11, 19, 7, 21, 30, 23, 12,\\\n",
    "            10, 26, 21, 9, 9, 25, 2, 14, 16, 14, 25, 40, 8, 28, 19, 8, 35, 22, 23, 27, 31, 36, 22, 33, 22, 15, 3,\\\n",
    "            37, 8, 2, 22, 39, 3, 6, 13, 33, 18, 37, 28, 3, 17, 8, 2, 36, 1, 14, 38, 5, 31, 34, 16, 37, 2, 40, 14,\\\n",
    "            16, 21, 40, 5, 21, 24, 24, 38, 26, 38, 33, 20, 25, 7, 33, 12, 22, 34, 34, 20, 38, 12, 20, 7, 28, 26,\\\n",
    "            30, 13, 40, 36, 29, 11, 31, 15, 9, 13, 17, 32, 18, 9, 24, 6, 40, 1, 1, 9, 13, 28, 19, 5, 7, 27, 12,\\\n",
    "            3, 34, 26, 20, 28, 28, 25, 21, 23, 6, 15, 19, 30, 10, 13, 8, 11, 38, 7, 33, 12, 16, 11, 40, 25, 32,\\\n",
    "            34, 1, 32, 31, 33, 15, 39, 9, 25, 39, 30, 35, 20, 34, 3, 30, 17, 24, 20, 15, 10, 25, 6, 39, 19, 20,\\\n",
    "            23, 16, 17, 31, 25, 8, 17, 15, 31, 20, 19, 33, 11, 37, 31, 4, 12, 37, 7, 40, 8, 22, 3, 25, 35, 8, 9,\\\n",
    "            14, 13, 33, 4, 2, 1, 31, 24, 8, 13, 19, 34, 10, 32, 35, 28, 11, 10, 31, 25, 8, 6, 13, 33, 19, 35, 19,\\\n",
    "            8, 21, 10, 40, 36, 16, 27, 31, 1, 18, 36, 40, 18, 37, 18, 24, 33, 34, 31, 6, 10, 24, 8, 7, 24, 27, 12,\\\n",
    "            19, 23, 5, 33, 20, 2, 32, 33, 6, 13, 5, 25, 7, 31, 40, 1, 30, 37, 19, 27, 40, 28, 3, 24, 36, 7, 22,\\\n",
    "            20, 21, 36, 38, 15, 11, 37, 21, 4, 13, 9, 12, 13, 34, 30, 8, 23, 40, 4, 13, 6, 4, 22, 35, 2, 35, 20,\\\n",
    "            9, 28, 9, 13, 33, 19, 5, 38, 24, 18, 37, 10, 25, 25, 31, 3, 13, 25, 35, 1, 36, 21, 3, 22, 23, 7, 6,\\\n",
    "            26, 11, 6, 1, 24, 2, 25, 38, 3, 16, 16, 20, 22, 12, 8, 27, 38, 10, 39, 9, 37, 30, 33, 12, 4, 32, 2,\\\n",
    "            29, 6, 34, 2, 3, 12, 9, 1, 22, 40, 38, 9, 18, 40, 17, 5, 17, 26, 17, 26, 6, 7, 18, 10, 27, 24, 39, 1,\\\n",
    "            3, 26, 38, 2, 12, 5, 7, 38, 2, 8, 30, 35, 18, 19, 29, 37, 5, 27, 35, 40, 14, 25, 15, 20, 32, 22, 9, 1,\\\n",
    "            8, 14, 38, 27, 23, 24, 15, 29, 7, 4, 19, 6, 21, 27, 23, 21, 35, 32, 13, 27, 34, 1, 11, 36, 24, 23, 13,\\\n",
    "            2, 33, 25, 18, 1, 10, 5, 27, 1, 36, 36, 11, 3, 31, 30, 31, 39, 7, 21, 25, 28, 38, 2, 3, 40, 10, 40,\\\n",
    "            12, 22, 20, 16, 14, 30, 16, 19, 33, 32, 30, 19, 36, 16, 27, 7, 18, 38, 14, 14, 33, 29, 24, 21, 22, 15,\\\n",
    "            25, 27, 25, 37, 35, 34, 11, 19, 35, 10, 30, 8, 11, 20, 7, 27, 19, 16, 21, 13, 6, 29, 35, 13, 31, 23,\\\n",
    "            26, 10, 18, 39, 38, 5, 16, 33, 21, 31, 21, 23, 32, 35, 2, 24, 11, 25, 30, 7, 18, 32, 38, 22, 27, 2, 6,\\\n",
    "            31, 24, 34, 33, 15, 39, 21, 9, 1, 8, 38, 37, 40, 14, 2, 25, 30, 16, 6, 36, 27, 28, 8, 17, 37, 15, 29,\\\n",
    "            27, 30, 30, 19, 15, 13, 34, 5, 24, 18, 40, 37, 1, 28, 17, 32, 8, 34, 5, 6, 31, 8, 9, 28, 26, 40, 40,\\\n",
    "            9, 23, 36, 28, 24, 33, 18, 36, 6, 22, 29, 6, 6, 25, 15, 29, 18, 38, 20, 26, 30, 17, 30, 32, 33, 19,\\\n",
    "            10, 29, 25, 24, 19, 28, 38, 3, 24, 12, 28, 29, 29, 20, 12, 11, 12, 21, 11, 24, 36, 3, 3, 5, 28, 2,\\\n",
    "            8, 30, 23, 4, 40, 28, 6, 31, 37, 25, 9, 23, 20, 20, 16, 38, 21, 35, 18, 3, 15, 40, 19, 33, 34, 20,\\\n",
    "            3, 11, 34, 35, 10, 32, 23, 10, 29, 13, 12, 6, 30, 7, 5, 4, 29, 22, 22, 2, 26, 24, 7, 13, 26, 27, 27,\\\n",
    "            15, 12, 18, 38, 33, 4, 11, 20, 33, 21, 5, 26, 10, 22, 36, 3, 4, 35, 35, 16, 32, 5, 19, 23, 24, 40,\\\n",
    "            25, 30, 10, 9, 23, 12, 40, 21, 29, 18, 17, 15, 32, 2, 35, 7, 30, 4, 2, 16, 6, 8, 35]"
   ]
  },
  {
   "cell_type": "code",
   "execution_count": 2,
   "metadata": {
    "collapsed": false,
    "deletable": true,
    "editable": true
   },
   "outputs": [
    {
     "data": {
      "text/plain": [
       "1114"
      ]
     },
     "execution_count": 2,
     "metadata": {},
     "output_type": "execute_result"
    }
   ],
   "source": [
    "len(listBallOne) # there are 1114 draws from "
   ]
  },
  {
   "cell_type": "markdown",
   "metadata": {
    "deletable": true,
    "editable": true
   },
   "source": [
    "### Data Space\n",
    "The data space is every possible sequence of ball numbers that we could have got in these 1114 draws.  $\\mathbb{X} = \\{1, 2, \\ldots, 40\\}^{1114}$.  There are $40^{1114}$ possible sequences and\n",
    "\n",
    "### Probability model\n",
    "We can think of this list `listBallOne` of sample size $n=1114$ as $x = (x_1,x_2,\\ldots,x_{1114})$, the realisation of a random vector $X = (X_1, X_2,\\ldots, X_{1114})$ where $X_1, X_2,\\ldots, X_{1114} \\overset{IID}{\\thicksim} de Moivre(\\frac{1}{40}, \\frac{1}{40}, \\ldots, \\frac{1}{40})$.\n",
    "\n",
    "$P \\left( (X_1, X_2, \\ldots, X_{1114}) = (x_1, x_2, \\ldots, x_{1114}) \\right) = \\frac{1}{40} \\times \\frac{1}{40} \\times \\ldots \\times \\frac{1}{40} = \\left(\\frac{1}{40}\\right)^{1114}$ if $(x_1, x_2, \\ldots, x_{1114}) \\in \\mathbb{X} = \\{1, 2, \\ldots, 40\\}^{1114}$\n",
    "\n",
    "Our data is just one of the $40^{1114}$ possible points in this data space.\n",
    "\n",
    "## Some statistics\n",
    "\n",
    "### Sample mean\n",
    "\n",
    "From a given sequence of RVs $X_1, X_2, \\ldots, X_n$, or a random vector $X = (X_1, X_2, \\ldots, X_n)$, we can obtain another RV called the sample mean (technically, the $n$-sample mean):\n",
    "\n",
    "$$T_n((X_1, X_2, \\ldots, X_n)) = \\bar{X_n}((X_1, X_2, \\ldots, X_n)) :=\\frac{1}{n}\\displaystyle\\sum_{i=1}^nX_i$$\n",
    "\n",
    "We write $\\bar{X_n}((X_1, X_2, \\ldots, X_n))$ as $\\bar{X}$,\n",
    "\n",
    "and its realisation $\\bar{X_n}((x_1, x_2, \\ldots, x_n))$ as $\\bar{x_n}$.\n",
    "\n",
    "By the properties of expectations that we have seen before,\n",
    "\n",
    "$$E(\\bar{X_n}) = E \\left(\\frac{1}{n}\\sum_{i=1}^nX_i \\right) = \\frac{1}{n}E\\left(\\sum_{i=1}^nX_i\\right) = \\frac{1}{n}\\sum_{i=1}^nE(X_i)$$\n",
    "\n",
    "And because every $X_i$ is identically distributed with the same expectation, say $E(X_1)$, then\n",
    "\n",
    "$$E(\\bar{X_n}) = \\frac{1}{n}\\sum_{i=1}^nE(X_i)= \\frac{1}{n} \\times n \\times E(X_1) = E(X_1)$$\n",
    "\n",
    "Similarly, we can show that,\n",
    "\n",
    "$$V(\\bar{X_n}) = V\\left(\\frac{1}{n}\\sum_{i=1}^nX_i\\right) = \\frac{1}{n^2}V\\left(\\sum_{i=1}^nX_i\\right)$$\n",
    "\n",
    "And because every $X_i$ is independently and identically distributed with the same variance, say $V(X_1)$, then\n",
    "\n",
    "$$V(\\bar{X_n}) = \\frac{1}{n^2}V\\left(\\sum_{i=1}^nX_i \\right) = \\frac{1}{n^2} \\times n \\times V(X_1) = \\frac{1}{n} V(X_1)$$\n",
    "\n",
    "### Sample variance\n",
    "\n",
    "Sample variance is given by $$ \\frac{1}{n}\\sum_{i=1}^n \\left( X_i - \\bar{X}_n \\right)^2$$ Sometimes, we divide by $n-1$ instead of $n$. It is a measure of spread from the sample.\n",
    "\n",
    "Similarly, we can look at a sample standard deviation = $\\sqrt{\\text{sample variance}}$\n",
    "\n",
    "### numpy for numerical Python\n",
    "Python has a nice module called `numpy` for numerical computing akin to MATLAB. We will import `numpy` to use some of its basic statistical capabilities for our Lotto data.  To be able to use these capabilities, it is easiest to convert our Lotto Data into a type called a `numpy.array` or `np.array` if we `import numpy as np`.   (You will be looking more closely at `numpy` `array`s in the You Try sections below)."
   ]
  },
  {
   "cell_type": "code",
   "execution_count": 5,
   "metadata": {
    "collapsed": false,
    "deletable": true,
    "editable": true
   },
   "outputs": [
    {
     "data": {
      "text/plain": [
       "array([ 4,  3, 11, ...,  6,  8, 35])"
      ]
     },
     "execution_count": 5,
     "metadata": {},
     "output_type": "execute_result"
    }
   ],
   "source": [
    "import numpy as np\n",
    "#import array, mean, var, std # make pylab stuff we need accessible in Sage\n",
    "arrayBallOne = np.array(listBallOne) # make the array out of the list\n",
    "arrayBallOne     # disclose the list"
   ]
  },
  {
   "cell_type": "code",
   "execution_count": null,
   "metadata": {
    "collapsed": true
   },
   "outputs": [],
   "source": [
    "arrayBallOne.  # hit the Tab after the . and see the available methods on numpy arrays"
   ]
  },
  {
   "cell_type": "markdown",
   "metadata": {},
   "source": [
    "Now we can get the some sample statistics for the lotto ball one data. \n",
    "\n",
    "### Sample mean of NZ Lotto data"
   ]
  },
  {
   "cell_type": "code",
   "execution_count": 8,
   "metadata": {
    "collapsed": false
   },
   "outputs": [
    {
     "data": {
      "text/plain": [
       "20.649910233393179"
      ]
     },
     "execution_count": 8,
     "metadata": {},
     "output_type": "execute_result"
    }
   ],
   "source": [
    "arrayBallOne.mean()  # this calls the mean method and gives our first statistic, the sample mean"
   ]
  },
  {
   "cell_type": "code",
   "execution_count": 7,
   "metadata": {
    "collapsed": false
   },
   "outputs": [
    {
     "data": {
      "text/plain": [
       "<built-in method mean of numpy.ndarray object at 0x7fad6fa68f30>"
      ]
     },
     "execution_count": 7,
     "metadata": {},
     "output_type": "execute_result"
    }
   ],
   "source": [
    "arrayBallOne.mean  # if you just call the method without '()' then you are not evaluating it"
   ]
  },
  {
   "cell_type": "markdown",
   "metadata": {},
   "source": [
    "### Sample vairance and sample standard deviation of NZ Lotto data"
   ]
  },
  {
   "cell_type": "code",
   "execution_count": 10,
   "metadata": {
    "collapsed": false
   },
   "outputs": [
    {
     "data": {
      "text/plain": [
       "135.08030968673549"
      ]
     },
     "execution_count": 10,
     "metadata": {},
     "output_type": "execute_result"
    }
   ],
   "source": [
    "arrayBallOne.var()"
   ]
  },
  {
   "cell_type": "code",
   "execution_count": 11,
   "metadata": {
    "collapsed": false
   },
   "outputs": [
    {
     "data": {
      "text/plain": [
       "11.622405503454759"
      ]
     },
     "execution_count": 11,
     "metadata": {},
     "output_type": "execute_result"
    }
   ],
   "source": [
    "arrayBallOne.std()"
   ]
  },
  {
   "cell_type": "code",
   "execution_count": 12,
   "metadata": {
    "collapsed": false
   },
   "outputs": [
    {
     "data": {
      "text/plain": [
       "11.62240550345476"
      ]
     },
     "execution_count": 12,
     "metadata": {},
     "output_type": "execute_result"
    }
   ],
   "source": [
    "sqrt(arrayBallOne.var())   # just checking std is indeed sqrt(var)"
   ]
  },
  {
   "cell_type": "markdown",
   "metadata": {},
   "source": [
    "## Order statistics\n",
    "\n",
    "The $k$th order statistic of a sample is the $k$th smallest value in the sample.  Order statistics that may be of particular interest include the smallest (minimum) and largest (maximum) values in the sample."
   ]
  },
  {
   "cell_type": "code",
   "execution_count": 13,
   "metadata": {
    "collapsed": false
   },
   "outputs": [
    {
     "data": {
      "text/plain": [
       "1"
      ]
     },
     "execution_count": 13,
     "metadata": {},
     "output_type": "execute_result"
    }
   ],
   "source": [
    "arrayBallOne.min()         # sample minimum statistic"
   ]
  },
  {
   "cell_type": "code",
   "execution_count": 14,
   "metadata": {
    "collapsed": false
   },
   "outputs": [
    {
     "data": {
      "text/plain": [
       "40"
      ]
     },
     "execution_count": 14,
     "metadata": {},
     "output_type": "execute_result"
    }
   ],
   "source": [
    "arrayBallOne.max()         # sample maximum statistic"
   ]
  },
  {
   "cell_type": "code",
   "execution_count": 20,
   "metadata": {
    "collapsed": false
   },
   "outputs": [],
   "source": [
    "arrayBallOneSorted = np.array(listBallOne) # make the array out of the list for sorting next\n",
    "arrayBallOneSorted.sort()        # sort the array to get the order statistic - this sorts arrayBallOneSorted "
   ]
  },
  {
   "cell_type": "code",
   "execution_count": 21,
   "metadata": {
    "collapsed": false
   },
   "outputs": [
    {
     "data": {
      "text/plain": [
       "array([ 1,  1,  1, ..., 40, 40, 40])"
      ]
     },
     "execution_count": 21,
     "metadata": {},
     "output_type": "execute_result"
    }
   ],
   "source": [
    "arrayBallOneSorted             # the sorted data array - numpy automatically displays with intermediates as ..."
   ]
  },
  {
   "cell_type": "code",
   "execution_count": 22,
   "metadata": {
    "collapsed": false
   },
   "outputs": [
    {
     "data": {
      "text/plain": [
       "array([ 4,  3, 11, ...,  6,  8, 35])"
      ]
     },
     "execution_count": 22,
     "metadata": {},
     "output_type": "execute_result"
    }
   ],
   "source": [
    "arrayBallOne                   # the original data array"
   ]
  },
  {
   "cell_type": "markdown",
   "metadata": {},
   "source": [
    "## Frequencies\n",
    "\n",
    "The next most interesting statistics we will visit is the frequencies of the ball numbers.\n",
    "\n",
    "With lots of discrete data like this, we may be interested in the frequency of each value, or the number of times we get a particular value.  This can be formalized as the following process of adding indicator functions of the data points $(X_1,X_2,\\ldots,X_n)$: $$ \\sum_{i=1}^n \\mathbf{1}_{\\{X_i\\}}(x) $$\n",
    "\n",
    "We can use the SageMath/Python dictionary to give us a mapping from ball numbers in the list to the count of the number of times each ball number comes up. \n",
    "\n",
    "Although we are doing this with the Lotto data, mapping a list like this seems like a generally useful thing to be able to do, and so we write it as a function `makeFreqDict(myDataSeq)` and then use the function on our Lotto data. This is a good example of reusing useful code through a function. We will rely on this function in the sequel for other input data."
   ]
  },
  {
   "cell_type": "code",
   "execution_count": 28,
   "metadata": {
    "collapsed": true
   },
   "outputs": [],
   "source": [
    "def makeFreqDict(myDataSeq):\n",
    "    '''Make a frequency mapping out of a sequence of data - list, array, str.\n",
    "    \n",
    "    Param myDataList, a list of data.\n",
    "    Return a dictionary mapping each unique data value to its frequency count.'''\n",
    "       \n",
    "    freqDict = {} # start with an empty dictionary\n",
    "        \n",
    "    for res in myDataSeq:\n",
    "        \n",
    "        if res in freqDict: # the data value already exists as a key\n",
    "                freqDict[res] = freqDict[res] + 1 # add 1 to the count\n",
    "        else: # the data value does not exist as a key value\n",
    "            freqDict[res] = 1 # add a new key-value pair for this new data value, frequency 1\n",
    "        \n",
    "    return freqDict # return the dictionary created"
   ]
  },
  {
   "cell_type": "code",
   "execution_count": 43,
   "metadata": {
    "collapsed": false
   },
   "outputs": [
    {
     "data": {
      "text/plain": [
       "{1: 1, 2: 2, 3: 3}"
      ]
     },
     "execution_count": 43,
     "metadata": {},
     "output_type": "execute_result"
    }
   ],
   "source": [
    "myExampleDataList = [1,2,2,3,3,3] # a list with one 1, two 2's and three 3's\n",
    "myExampleFreqDict = makeFreqDict(myExampleDataList) # the frequencies are returned as a dictionary\n",
    "myExampleFreqDict"
   ]
  },
  {
   "cell_type": "code",
   "execution_count": 44,
   "metadata": {
    "collapsed": false
   },
   "outputs": [
    {
     "data": {
      "text/plain": [
       "[(1, 1), (2, 2), (3, 3)]"
      ]
     },
     "execution_count": 44,
     "metadata": {},
     "output_type": "execute_result"
    }
   ],
   "source": [
    "myExampleFreqDict.items()  # this returns the (k,v) or key,value pairs in the dictionary as a list"
   ]
  },
  {
   "cell_type": "code",
   "execution_count": 45,
   "metadata": {
    "collapsed": false
   },
   "outputs": [
    {
     "data": {
      "text/plain": [
       "[1, 2, 3]"
      ]
     },
     "execution_count": 45,
     "metadata": {},
     "output_type": "execute_result"
    }
   ],
   "source": [
    "myExampleFreqDict.keys() # this returns the keys"
   ]
  },
  {
   "cell_type": "code",
   "execution_count": 46,
   "metadata": {
    "collapsed": false
   },
   "outputs": [
    {
     "data": {
      "text/plain": [
       "[1, 2, 3]"
      ]
     },
     "execution_count": 46,
     "metadata": {},
     "output_type": "execute_result"
    }
   ],
   "source": [
    "myExampleFreqDict.values() # this returns the values which happens to be same in our case!"
   ]
  },
  {
   "cell_type": "markdown",
   "metadata": {},
   "source": [
    "Note that the function `makeFreqDict` also works on other sequence types like `numpy.arrays`, and `str` or sequence of bytes."
   ]
  },
  {
   "cell_type": "code",
   "execution_count": 31,
   "metadata": {
    "collapsed": false
   },
   "outputs": [
    {
     "data": {
      "text/plain": [
       "{1: 1, 2: 2, 3: 3}"
      ]
     },
     "execution_count": 31,
     "metadata": {},
     "output_type": "execute_result"
    }
   ],
   "source": [
    "myExampleDataArray = np.array(myExampleDataList)\n",
    "makeFreqDict(myExampleDataArray)"
   ]
  },
  {
   "cell_type": "code",
   "execution_count": 32,
   "metadata": {
    "collapsed": false
   },
   "outputs": [
    {
     "data": {
      "text/plain": [
       "{'1': 1, '2': 2, '3': 3}"
      ]
     },
     "execution_count": 32,
     "metadata": {},
     "output_type": "execute_result"
    }
   ],
   "source": [
    "myExampleDataStr = '122333'\n",
    "makeFreqDict(myExampleDataStr)"
   ]
  },
  {
   "cell_type": "code",
   "execution_count": null,
   "metadata": {
    "collapsed": true
   },
   "outputs": [],
   "source": []
  },
  {
   "cell_type": "markdown",
   "metadata": {},
   "source": [
    "Let us use the `makeFreqDict` to find the frequencies of the balls that popped out first in the 1114 NZ Lotto draws."
   ]
  },
  {
   "cell_type": "code",
   "execution_count": 34,
   "metadata": {
    "collapsed": false
   },
   "outputs": [
    {
     "data": {
      "text/plain": [
       "{1: 29,\n",
       " 2: 28,\n",
       " 3: 31,\n",
       " 4: 24,\n",
       " 5: 27,\n",
       " 6: 30,\n",
       " 7: 31,\n",
       " 8: 32,\n",
       " 9: 22,\n",
       " 10: 27,\n",
       " 11: 25,\n",
       " 12: 28,\n",
       " 13: 29,\n",
       " 14: 22,\n",
       " 15: 22,\n",
       " 16: 27,\n",
       " 17: 20,\n",
       " 18: 28,\n",
       " 19: 28,\n",
       " 20: 32,\n",
       " 21: 30,\n",
       " 22: 30,\n",
       " 23: 27,\n",
       " 24: 36,\n",
       " 25: 37,\n",
       " 26: 22,\n",
       " 27: 26,\n",
       " 28: 24,\n",
       " 29: 24,\n",
       " 30: 33,\n",
       " 31: 28,\n",
       " 32: 27,\n",
       " 33: 28,\n",
       " 34: 27,\n",
       " 35: 34,\n",
       " 36: 24,\n",
       " 37: 26,\n",
       " 38: 30,\n",
       " 39: 22,\n",
       " 40: 37}"
      ]
     },
     "execution_count": 34,
     "metadata": {},
     "output_type": "execute_result"
    }
   ],
   "source": [
    "ballOneFreqs = makeFreqDict(listBallOne) # call the function\n",
    "ballOneFreqs                             # disclose it"
   ]
  },
  {
   "cell_type": "markdown",
   "metadata": {},
   "source": [
    "Thus, balls labelled by the number 1 come up 29 times in the first ball drawn (Ball One) out of 1,114 Lotto trials.   Similarly, the number 2 comes up 28 times, ... 40 comes up 37 times.  Of course, these numbers would be different if you have downloaded a more recent data file with additional trials!\n",
    "\n",
    "So what?   Well, we'd hope that the lotto is fair, i.e. that the probability of each ball coming up with any of the available numbers is the same for each number:   the probability that Ball One is a 1 is the same as the probability that it is 2, is the same as the probability that it is 3,..... , is the same as the probability that it is 40.   If the lotto is fair, the number that comes up on each ball should be a discrete uniform random variable.  More formally, we would expect it to be the de Moivre$(\\frac{1}{40}, \\frac{1}{40}, \\ldots, \\frac{1}{40})$ RV as lectured.   Over the long term, we'd expect the number of times each number comes up on a given trial to be about the same as the number of times any other number comes up on that trial.\n",
    "\n",
    "We have data from 1987 to 2008, and a first step to assessing the fairness of the lotto (for Ball One, anyway) could be to just visualise the data.   We can use the list of points we created above and the SageMath plotting function points to plot a simple graphic like this.\n",
    "\n",
    "Here we are plotting the frequency with which each number comes up against the numbers themselves, but it is a bit hard to see what number on the ball each red point relates to.   To deal with this we add dotted lines going up from the number on the horizontal axis to the corresponding (number, frequency) tuple plotted as a red point.\n",
    "\n",
    "For these plots let us use SageMath Graphics primitives: `point`, `points` and `line`, and their `+` operations for superimpositions."
   ]
  },
  {
   "cell_type": "code",
   "execution_count": 55,
   "metadata": {
    "collapsed": true
   },
   "outputs": [],
   "source": [
    "?point # Returns either a 2-dimensional or 3-dimensional point or \"sum\" of points as Graphics object"
   ]
  },
  {
   "cell_type": "code",
   "execution_count": 57,
   "metadata": {
    "collapsed": false
   },
   "outputs": [],
   "source": [
    "?line # Returns either a 2-dimensional or 3-dimensional line depending on value of points as Graphics object"
   ]
  },
  {
   "cell_type": "code",
   "execution_count": 59,
   "metadata": {
    "collapsed": false
   },
   "outputs": [
    {
     "data": {
      "image/png": "[encoded data removed]",
      "text/plain": [
       "Graphics object consisting of 41 graphics primitives"
      ]
     },
     "metadata": {},
     "output_type": "display_data"
    }
   ],
   "source": [
    "# DATA we plot each item (k,f) in ballOneFreqs.items() as a red points at (k,f), k is ball number, f is frequency\n",
    "lottoPlotCounts = point(ballOneFreqs.items(), rgbcolor=\"red\")\n",
    "# MODEL next loop through each key k and add a blue dotted line that goes from (k, 0) to (k, ballOneFreqs[k])\n",
    "for k in ballOneFreqs.keys():\n",
    "    lottoPlotCounts += line([(k, 0),(k, ballOneFreqs[k])], rgbcolor=\"blue\", linestyle=\":\")\n",
    "show(lottoPlotCounts, figsize=[8,3])"
   ]
  },
  {
   "cell_type": "markdown",
   "metadata": {},
   "source": [
    "## Empirical mass function, another statistic\n",
    "\n",
    "What about plotting the height of a point as the relative frequency rather than the frequency?   The relative frequency for a number is the count (frequency) for that number divided by the sample size, i.e., the total number of trials. This can be formalized as the following process of adding normalized indicator functions of the data points $(X_1,X_2,\\ldots,X_n)$: $$\\frac{1}{n} \\sum_{i=1}^n \\mathbf{1}_{\\{X_i\\}}(x)$$\n",
    "\n",
    "In the next section on *List comprehensions and tuples* below we will show how the guts of the `makeEMF` function works.  For now just evaluate the next cell and use the `makeEMF` so that you can just concentrate on the data for now. All `makeEMF` does is turn the frequencies in the above plot to relative frequences that sum to $1$ instead of the sample size $n=1114$.\n",
    "\n",
    "Now, we plot the points based on relative frequencies.   What we have made is another statistic called the empirical mass function."
   ]
  },
  {
   "cell_type": "code",
   "execution_count": 62,
   "metadata": {
    "collapsed": true
   },
   "outputs": [],
   "source": [
    "def makeEMF(myDataList):\n",
    "    '''Make an empirical mass function from a data list.\n",
    "    \n",
    "    Param myDataList, list of data to make emf from.\n",
    "    Return list of tuples comprising (data value, relative frequency) ordered by data value.''' \n",
    "\n",
    "    freqs = makeFreqDict(myDataList)     # make the frequency counts mapping\n",
    "    totalCounts = sum(freqs.values())\n",
    "    relFreqs = [fr/totalCounts for fr in freqs.values()] # use a list comprehension\n",
    "    numRelFreqPairs = zip(freqs.keys(), relFreqs) # zip the keys and relative frequencies together\n",
    "    \n",
    "    return numRelFreqPairs"
   ]
  },
  {
   "cell_type": "code",
   "execution_count": 64,
   "metadata": {
    "collapsed": false
   },
   "outputs": [
    {
     "data": {
      "image/png": "[encoded data removed]",
      "text/plain": [
       "Graphics object consisting of 41 graphics primitives"
      ]
     },
     "metadata": {},
     "output_type": "display_data"
    }
   ],
   "source": [
    "numRelFreqPairs = makeEMF(listBallOne) # make a list of unique data values and their relative frequencies\n",
    "\n",
    "lottoPlotEMF = point(numRelFreqPairs, rgbcolor = \"purple\")\n",
    "for k in numRelFreqPairs:    # for each tuple in the list\n",
    "    kkey, kheight = k     # unpack tuple\n",
    "    lottoPlotEMF += line([(kkey, 0),(kkey, kheight)], rgbcolor=\"blue\", linestyle=\":\")\n",
    "show(lottoPlotEMF, figsize=[8,3])"
   ]
  },
  {
   "cell_type": "code",
   "execution_count": null,
   "metadata": {
    "collapsed": true
   },
   "outputs": [],
   "source": []
  },
  {
   "cell_type": "code",
   "execution_count": null,
   "metadata": {
    "collapsed": true
   },
   "outputs": [],
   "source": [
    "    \n",
    "def makeEDF(myDataList):\n",
    "    '''Make an empirical distribution function from a data list.\n",
    "    \n",
    "    Param myDataList, list of data to make emf from.\n",
    "    Return list of tuples comprising (data value, cumulative relative frequency) ordered by data value.''' \n",
    "\n",
    "    freqs = makeFreqDict(myDataList)     # make the frequency counts mapping\n",
    "    totalCounts = sum(freqs.values())\n",
    "    relFreqs = [fr/totalCounts for fr in freqs.values()] # use a list comprehension\n",
    "    relFreqsArray = pylab.array(relFreqs)\n",
    "    cumFreqs = list(relFreqsArray.cumsum())\n",
    "    numCumFreqPairs = zip(freqs.keys(), cumFreqs) # zip the keys and culm relative frequencies together\n",
    "    \n",
    "    return numCumFreqPairs"
   ]
  },
  {
   "cell_type": "markdown",
   "metadata": {},
   "source": [
    "## List Comprehensions in 04_04..."
   ]
  },
  {
   "cell_type": "markdown",
   "metadata": {
    "deletable": true,
    "editable": true
   },
   "source": [
    "## Real-world Data Ingestion\n",
    "\n",
    "Let us download the New York Power Ball winning lottery numbers since 2010 from this US government site:\n",
    "\n",
    "- [https://catalog.data.gov/dataset/lottery-powerball-winning-numbers-beginning-2010](https://catalog.data.gov/dataset/lottery-powerball-winning-numbers-beginning-2010)\n",
    "    \n",
    "using this url as a comma-separated-variable or csv file: \n",
    "\n",
    "- [https://data.ny.gov/api/views/d6yy-54nr/rows.csv?accessType=DOWNLOAD](https://data.ny.gov/api/views/d6yy-54nr/rows.csv?accessType=DOWNLOAD)"
   ]
  },
  {
   "cell_type": "code",
   "execution_count": 25,
   "metadata": {
    "collapsed": true,
    "deletable": true,
    "editable": true
   },
   "outputs": [],
   "source": [
    "from urllib import * \n",
    "NYpowerball = urlopen('https://data.ny.gov/api/views/d6yy-54nr/rows.csv?accessType=DOWNLOAD').read().decode('utf-8')"
   ]
  },
  {
   "cell_type": "code",
   "execution_count": 29,
   "metadata": {
    "collapsed": false,
    "deletable": true,
    "editable": true
   },
   "outputs": [
    {
     "data": {
      "text/plain": [
       "<type 'unicode'>"
      ]
     },
     "execution_count": 29,
     "metadata": {},
     "output_type": "execute_result"
    }
   ],
   "source": [
    "type(NYpowerball) # this is a unicode sequence"
   ]
  },
  {
   "cell_type": "code",
   "execution_count": 57,
   "metadata": {
    "collapsed": true,
    "deletable": true,
    "editable": true
   },
   "outputs": [],
   "source": [
    "NYpowerballLines = NYpowerball.split('\\n') # this splits the unicode by the end of line character '\\n' in a list"
   ]
  },
  {
   "cell_type": "code",
   "execution_count": 58,
   "metadata": {
    "collapsed": false,
    "deletable": true,
    "editable": true
   },
   "outputs": [
    {
     "data": {
      "text/plain": [
       "<type 'list'>"
      ]
     },
     "execution_count": 58,
     "metadata": {},
     "output_type": "execute_result"
    }
   ],
   "source": [
    "type(NYpowerballLines) # we have a list of lines now"
   ]
  },
  {
   "cell_type": "code",
   "execution_count": 60,
   "metadata": {
    "collapsed": false,
    "deletable": true,
    "editable": true
   },
   "outputs": [
    {
     "data": {
      "text/plain": [
       "[u'Draw Date,Winning Numbers,Multiplier',\n",
       " u'02/03/2010,17 22 36 37 52 24,2',\n",
       " u'02/06/2010,14 22 52 54 59 04,3',\n",
       " u'02/10/2010,05 08 29 37 38 34,5',\n",
       " u'02/13/2010,10 14 30 40 51 01,4',\n",
       " u'02/17/2010,07 08 19 26 36 15,3',\n",
       " u'02/20/2010,13 27 37 41 54 32,2',\n",
       " u'02/24/2010,04 17 35 50 57 12,2',\n",
       " u'02/27/2010,18 47 51 53 58 30,2',\n",
       " u'03/03/2010,07 09 14 45 49 23,4']"
      ]
     },
     "execution_count": 60,
     "metadata": {},
     "output_type": "execute_result"
    }
   ],
   "source": [
    "NYpowerballLines[0:10] #  we can see the first 10 lines now and the first 0-index row is the header line"
   ]
  },
  {
   "cell_type": "code",
   "execution_count": 62,
   "metadata": {
    "collapsed": false,
    "deletable": true,
    "editable": true
   },
   "outputs": [
    {
     "data": {
      "text/plain": [
       "853"
      ]
     },
     "execution_count": 62,
     "metadata": {},
     "output_type": "execute_result"
    }
   ],
   "source": [
    "len(NYpowerballLines) # looks like there are 853 items (lines) in the list "
   ]
  },
  {
   "cell_type": "code",
   "execution_count": 63,
   "metadata": {
    "collapsed": false,
    "deletable": true,
    "editable": true
   },
   "outputs": [
    {
     "data": {
      "text/plain": [
       "u'02/03/2010,17 22 36 37 52 24,2'"
      ]
     },
     "execution_count": 63,
     "metadata": {},
     "output_type": "execute_result"
    }
   ],
   "source": [
    "NYpowerballLines[1] # this grabs the first row of data - the winning numbers from Feb 03 2010"
   ]
  },
  {
   "cell_type": "code",
   "execution_count": 64,
   "metadata": {
    "collapsed": false,
    "deletable": true,
    "editable": true
   },
   "outputs": [
    {
     "data": {
      "text/plain": [
       "[u'02/03/2010', u'17 22 36 37 52 24', u'2']"
      ]
     },
     "execution_count": 64,
     "metadata": {},
     "output_type": "execute_result"
    }
   ],
   "source": [
    "NYpowerballLines[1].split(',') # this further split the row by comma character ',' into another list"
   ]
  },
  {
   "cell_type": "code",
   "execution_count": 65,
   "metadata": {
    "collapsed": false,
    "deletable": true,
    "editable": true
   },
   "outputs": [
    {
     "data": {
      "text/plain": [
       "u'17 22 36 37 52 24'"
      ]
     },
     "execution_count": 65,
     "metadata": {},
     "output_type": "execute_result"
    }
   ],
   "source": [
    "NYpowerballLines[1].split(',')[1] # this grabs the second element of the list with index 1"
   ]
  },
  {
   "cell_type": "code",
   "execution_count": 66,
   "metadata": {
    "collapsed": false,
    "deletable": true,
    "editable": true
   },
   "outputs": [
    {
     "data": {
      "text/plain": [
       "[u'17', u'22', u'36', u'37', u'52', u'24']"
      ]
     },
     "execution_count": 66,
     "metadata": {},
     "output_type": "execute_result"
    }
   ],
   "source": [
    "NYpowerballLines[1].split(',')[1].split(' ') # this splits the 6 integers by white space ' '"
   ]
  },
  {
   "cell_type": "code",
   "execution_count": 67,
   "metadata": {
    "collapsed": false,
    "deletable": true,
    "editable": true
   },
   "outputs": [
    {
     "data": {
      "text/plain": [
       "u'17'"
      ]
     },
     "execution_count": 67,
     "metadata": {},
     "output_type": "execute_result"
    }
   ],
   "source": [
    "NYpowerballLines[1].split(',')[1].split(' ')[0] # this grabs the first element of this list with 0-index"
   ]
  },
  {
   "cell_type": "code",
   "execution_count": 68,
   "metadata": {
    "collapsed": false,
    "deletable": true,
    "editable": true
   },
   "outputs": [
    {
     "data": {
      "text/plain": [
       "17"
      ]
     },
     "execution_count": 68,
     "metadata": {},
     "output_type": "execute_result"
    }
   ],
   "source": [
    "int(NYpowerballLines[1].split(',')[1].split(' ')[0]) # now we can turn this string into a Python int"
   ]
  },
  {
   "cell_type": "markdown",
   "metadata": {
    "deletable": true,
    "editable": true
   },
   "source": [
    "That was not too hard. But what we really want is the first winning number across all the draws. \n",
    "\n",
    "We can simply apply the expression in the last cell and loop it through each item say `line` in `NYpowerballLines`:\n",
    "\n",
    "-  `int(line[1].split(',')[1].split(' ')[0])`\n",
    "\n",
    "So let's do it."
   ]
  },
  {
   "cell_type": "code",
   "execution_count": 69,
   "metadata": {
    "collapsed": false,
    "deletable": true,
    "editable": true
   },
   "outputs": [
    {
     "ename": "ValueError",
     "evalue": "invalid literal for int() with base 10: 'Winning'",
     "output_type": "error",
     "traceback": [
      "\u001b[0;31m---------------------------------------------------------------------------\u001b[0m",
      "\u001b[0;31mValueError\u001b[0m                                Traceback (most recent call last)",
      "\u001b[0;32m<ipython-input-69-dd05c5dfbb9f>\u001b[0m in \u001b[0;36m<module>\u001b[0;34m()\u001b[0m\n\u001b[1;32m      1\u001b[0m \u001b[0mfirstWins\u001b[0m \u001b[0;34m=\u001b[0m \u001b[0;34m[\u001b[0m\u001b[0;34m]\u001b[0m \u001b[0;31m# initialize an empty list to append to it each winning first number\u001b[0m\u001b[0;34m\u001b[0m\u001b[0m\n\u001b[1;32m      2\u001b[0m \u001b[0;32mfor\u001b[0m \u001b[0mline\u001b[0m \u001b[0;32min\u001b[0m \u001b[0mNYpowerballLines\u001b[0m\u001b[0;34m:\u001b[0m\u001b[0;34m\u001b[0m\u001b[0m\n\u001b[0;32m----> 3\u001b[0;31m     \u001b[0mwin1\u001b[0m \u001b[0;34m=\u001b[0m \u001b[0mint\u001b[0m\u001b[0;34m(\u001b[0m\u001b[0mline\u001b[0m\u001b[0;34m.\u001b[0m\u001b[0msplit\u001b[0m\u001b[0;34m(\u001b[0m\u001b[0;34m','\u001b[0m\u001b[0;34m)\u001b[0m\u001b[0;34m[\u001b[0m\u001b[0mInteger\u001b[0m\u001b[0;34m(\u001b[0m\u001b[0;36m1\u001b[0m\u001b[0;34m)\u001b[0m\u001b[0;34m]\u001b[0m\u001b[0;34m.\u001b[0m\u001b[0msplit\u001b[0m\u001b[0;34m(\u001b[0m\u001b[0;34m' '\u001b[0m\u001b[0;34m)\u001b[0m\u001b[0;34m[\u001b[0m\u001b[0mInteger\u001b[0m\u001b[0;34m(\u001b[0m\u001b[0;36m0\u001b[0m\u001b[0;34m)\u001b[0m\u001b[0;34m]\u001b[0m\u001b[0;34m)\u001b[0m\u001b[0;34m\u001b[0m\u001b[0m\n\u001b[0m\u001b[1;32m      4\u001b[0m     \u001b[0mfirstWins\u001b[0m\u001b[0;34m.\u001b[0m\u001b[0mappend\u001b[0m\u001b[0;34m(\u001b[0m\u001b[0mwin1\u001b[0m\u001b[0;34m)\u001b[0m\u001b[0;34m\u001b[0m\u001b[0m\n",
      "\u001b[0;31mValueError\u001b[0m: invalid literal for int() with base 10: 'Winning'"
     ]
    }
   ],
   "source": [
    "firstWins = [] # initialize an empty list to append to it each winning first number\n",
    "for line in NYpowerballLines:\n",
    "    win1 = int(line.split(',')[1].split(' ')[0])\n",
    "    firstWins.append(win1)"
   ]
  },
  {
   "cell_type": "markdown",
   "metadata": {
    "deletable": true,
    "editable": true
   },
   "source": [
    "Opps, we got a `ValueError: invalid literal for int() with base 10: 'Winning'`."
   ]
  },
  {
   "cell_type": "code",
   "execution_count": 71,
   "metadata": {
    "collapsed": false,
    "deletable": true,
    "editable": true
   },
   "outputs": [
    {
     "data": {
      "text/plain": [
       "u'Draw Date,Winning Numbers,Multiplier'"
      ]
     },
     "execution_count": 71,
     "metadata": {},
     "output_type": "execute_result"
    }
   ],
   "source": [
    "NYpowerballLines[0]   # remember our header line at index 0 has 'Winning' a string ad this can't be cast to int"
   ]
  },
  {
   "cell_type": "markdown",
   "metadata": {
    "deletable": true,
    "editable": true
   },
   "source": [
    "We need to handle such error carefully, as data downloaded from public sources will generally come woth such caveats and more complicated issues in general.\n",
    "\n",
    "A proper way to handle such errors safely is called 'Exception Handling' using `try` and `catch`. Briefly from the [docs](https://docs.python.org/2/tutorial/errors.html#handling-exceptions):\n",
    "\n",
    "> The `try` statement works as follows.\n",
    "> \n",
    "> - First, the try clause (the statement(s) between the try and except keywords) is executed.\n",
    "> - If no exception occurs, the except clause is skipped and execution of the try statement is finished.\n",
    "> - If an exception occurs during execution of the try clause, the rest of the clause is skipped. Then if its type matches the exception named after the except keyword, the except clause is executed, and then execution continues after the try statement.\n",
    "> - If an exception occurs which does not match the exception named in the except clause, it is passed on to outer try statements; if no handler is found, it is an unhandled exception and execution stops with a message as shown above."
   ]
  },
  {
   "cell_type": "code",
   "execution_count": 93,
   "metadata": {
    "collapsed": false,
    "deletable": true,
    "editable": true
   },
   "outputs": [
    {
     "name": "stdout",
     "output_type": "stream",
     "text": [
      "Err.. numbers only - input was:  Draw Date,Winning Numbers,Multiplier\n"
     ]
    }
   ],
   "source": [
    "# let's be cautious and process only the first 10 lines\n",
    "firstWins = [] # initialize an empty list to append to it each winning first number\n",
    "for line in NYpowerballLines[0:10]:\n",
    "    try:\n",
    "        win1 = int(line.split(',')[1].split(' ')[0])\n",
    "        firstWins.append(win1)\n",
    "    except ValueError:\n",
    "        print \"Err.. numbers only - input was: \", line"
   ]
  },
  {
   "cell_type": "code",
   "execution_count": 94,
   "metadata": {
    "collapsed": false,
    "deletable": true,
    "editable": true
   },
   "outputs": [
    {
     "data": {
      "text/plain": [
       "[17, 14, 5, 10, 7, 13, 4, 18, 7]"
      ]
     },
     "execution_count": 94,
     "metadata": {},
     "output_type": "execute_result"
    }
   ],
   "source": [
    "firstWins # looks like we gracefully converted the first winning numbers for lines 2-10 indexed 1-9"
   ]
  },
  {
   "cell_type": "code",
   "execution_count": 95,
   "metadata": {
    "collapsed": false,
    "deletable": true,
    "editable": true
   },
   "outputs": [
    {
     "name": "stdout",
     "output_type": "stream",
     "text": [
      "Err.. numbers only - line was:  Draw Date,Winning Numbers,Multiplier\n"
     ]
    },
    {
     "ename": "IndexError",
     "evalue": "list index out of range",
     "output_type": "error",
     "traceback": [
      "\u001b[0;31m---------------------------------------------------------------------------\u001b[0m",
      "\u001b[0;31mIndexError\u001b[0m                                Traceback (most recent call last)",
      "\u001b[0;32m<ipython-input-95-50f11f62e63f>\u001b[0m in \u001b[0;36m<module>\u001b[0;34m()\u001b[0m\n\u001b[1;32m      3\u001b[0m \u001b[0;32mfor\u001b[0m \u001b[0mline\u001b[0m \u001b[0;32min\u001b[0m \u001b[0mNYpowerballLines\u001b[0m\u001b[0;34m:\u001b[0m\u001b[0;34m\u001b[0m\u001b[0m\n\u001b[1;32m      4\u001b[0m     \u001b[0;32mtry\u001b[0m\u001b[0;34m:\u001b[0m\u001b[0;34m\u001b[0m\u001b[0m\n\u001b[0;32m----> 5\u001b[0;31m         \u001b[0mwin1\u001b[0m \u001b[0;34m=\u001b[0m \u001b[0mint\u001b[0m\u001b[0;34m(\u001b[0m\u001b[0mline\u001b[0m\u001b[0;34m.\u001b[0m\u001b[0msplit\u001b[0m\u001b[0;34m(\u001b[0m\u001b[0;34m','\u001b[0m\u001b[0;34m)\u001b[0m\u001b[0;34m[\u001b[0m\u001b[0mInteger\u001b[0m\u001b[0;34m(\u001b[0m\u001b[0;36m1\u001b[0m\u001b[0;34m)\u001b[0m\u001b[0;34m]\u001b[0m\u001b[0;34m.\u001b[0m\u001b[0msplit\u001b[0m\u001b[0;34m(\u001b[0m\u001b[0;34m' '\u001b[0m\u001b[0;34m)\u001b[0m\u001b[0;34m[\u001b[0m\u001b[0mInteger\u001b[0m\u001b[0;34m(\u001b[0m\u001b[0;36m0\u001b[0m\u001b[0;34m)\u001b[0m\u001b[0;34m]\u001b[0m\u001b[0;34m)\u001b[0m\u001b[0;34m\u001b[0m\u001b[0m\n\u001b[0m\u001b[1;32m      6\u001b[0m         \u001b[0mfirstWins\u001b[0m\u001b[0;34m.\u001b[0m\u001b[0mappend\u001b[0m\u001b[0;34m(\u001b[0m\u001b[0mwin1\u001b[0m\u001b[0;34m)\u001b[0m\u001b[0;34m\u001b[0m\u001b[0m\n\u001b[1;32m      7\u001b[0m     \u001b[0;32mexcept\u001b[0m \u001b[0mValueError\u001b[0m\u001b[0;34m:\u001b[0m\u001b[0;34m\u001b[0m\u001b[0m\n",
      "\u001b[0;31mIndexError\u001b[0m: list index out of range"
     ]
    }
   ],
   "source": [
    "# now let's bravely process all the lines\n",
    "firstWins = [] # initialize an empty list to append to it each winning first number\n",
    "for line in NYpowerballLines:\n",
    "    try:\n",
    "        win1 = int(line.split(',')[1].split(' ')[0])\n",
    "        firstWins.append(win1)\n",
    "    except ValueError:\n",
    "        print \"Err.. numbers only - line was: \", line       "
   ]
  },
  {
   "cell_type": "markdown",
   "metadata": {
    "deletable": true,
    "editable": true
   },
   "source": [
    "Now we have a new error `IndexError: list index out of range`. But let's see how many numbers have been appended in our list `firstWins`."
   ]
  },
  {
   "cell_type": "code",
   "execution_count": 96,
   "metadata": {
    "collapsed": false,
    "deletable": true,
    "editable": true
   },
   "outputs": [
    {
     "data": {
      "text/plain": [
       "851"
      ]
     },
     "execution_count": 96,
     "metadata": {},
     "output_type": "execute_result"
    }
   ],
   "source": [
    "len(firstWins)"
   ]
  },
  {
   "cell_type": "code",
   "execution_count": 97,
   "metadata": {
    "collapsed": false,
    "deletable": true,
    "editable": true
   },
   "outputs": [
    {
     "data": {
      "text/plain": [
       "u'03/31/2018,08 24 52 55 61 21,3'"
      ]
     },
     "execution_count": 97,
     "metadata": {},
     "output_type": "execute_result"
    }
   ],
   "source": [
    "NYpowerballRows[851] # this grabs the second last row of data - the winning numbers from Feb 03 2010"
   ]
  },
  {
   "cell_type": "code",
   "execution_count": 98,
   "metadata": {
    "collapsed": false,
    "deletable": true,
    "editable": true
   },
   "outputs": [
    {
     "data": {
      "text/plain": [
       "853"
      ]
     },
     "execution_count": 98,
     "metadata": {},
     "output_type": "execute_result"
    }
   ],
   "source": [
    "len(NYpowerballLines) # but there is another line at index 852"
   ]
  },
  {
   "cell_type": "code",
   "execution_count": 99,
   "metadata": {
    "collapsed": false,
    "deletable": true,
    "editable": true
   },
   "outputs": [
    {
     "data": {
      "text/plain": [
       "u''"
      ]
     },
     "execution_count": 99,
     "metadata": {},
     "output_type": "execute_result"
    }
   ],
   "source": [
    "NYpowerballRows[852] # contents of the last line looks empty! this is our problem"
   ]
  },
  {
   "cell_type": "markdown",
   "metadata": {
    "deletable": true,
    "editable": true
   },
   "source": [
    "So, we need to handle this new exception.\n",
    "\n",
    "From the [docs](https://docs.python.org/2/tutorial/errors.html#handling-exceptions) we note that:\n",
    "\n",
    "> A `try` statement may have more than one `except` clause, to specify handlers for different exceptions. At most one handler will be executed....\n",
    "\n",
    "Let's have an `except` clause for `IndexError` next."
   ]
  },
  {
   "cell_type": "code",
   "execution_count": 100,
   "metadata": {
    "collapsed": false,
    "deletable": true,
    "editable": true
   },
   "outputs": [
    {
     "name": "stdout",
     "output_type": "stream",
     "text": [
      "Err.. numbers only - line was:  Draw Date,Winning Numbers,Multiplier\n",
      "list length had IndexError - line was:  \n"
     ]
    }
   ],
   "source": [
    "# now let's bravely process all the lines\n",
    "firstWins = [] # initialize an empty list to append to it each winning first number\n",
    "for line in NYpowerballLines:\n",
    "    try:\n",
    "        win1 = int(line.split(',')[1].split(' ')[0])\n",
    "        firstWins.append(win1)\n",
    "    except ValueError:\n",
    "        print \"Err.. numbers only - line was: \", line\n",
    "    except IndexError:\n",
    "        print \"list length had IndexError - line was: \", draw"
   ]
  },
  {
   "cell_type": "code",
   "execution_count": 101,
   "metadata": {
    "collapsed": false,
    "deletable": true,
    "editable": true
   },
   "outputs": [
    {
     "data": {
      "text/plain": [
       "851"
      ]
     },
     "execution_count": 101,
     "metadata": {},
     "output_type": "execute_result"
    }
   ],
   "source": [
    "len(firstWins) # now we got an exception-handled data processing done!"
   ]
  },
  {
   "cell_type": "code",
   "execution_count": 111,
   "metadata": {
    "collapsed": false,
    "deletable": true,
    "editable": true
   },
   "outputs": [
    {
     "name": "stdout",
     "output_type": "stream",
     "text": [
      "[17, 14, 5, 10, 7, 13, 4, 18, 7, 10] ... [24, 12, 13, 6, 43, 6, 22, 3, 10, 6]\n"
     ]
    }
   ],
   "source": [
    "print firstWins[0:10], \"...\", firstWins[840:850] # the first and last 10 balls in our list"
   ]
  },
  {
   "cell_type": "markdown",
   "metadata": {
    "deletable": true,
    "editable": true
   },
   "source": [
    "# Python Pandas\n",
    "We will next install a popular Python library for manipulating datasets as tables and dataframes.\n",
    "\n",
    "See [pandas tutorial](https://pandas.pydata.org/pandas-docs/stable/tutorials.html) for a quick start."
   ]
  },
  {
   "cell_type": "code",
   "execution_count": 5,
   "metadata": {
    "collapsed": false,
    "deletable": true,
    "editable": true
   },
   "outputs": [
    {
     "name": "stdout",
     "output_type": "stream",
     "text": [
      "Collecting pandas\n",
      "  Downloading pandas-0.22.0-cp27-cp27mu-manylinux1_x86_64.whl (24.3MB)\n",
      "\u001b[K    100% |████████████████████████████████| 24.3MB 52kB/s  eta 0:00:01\n",
      "\u001b[?25hRequirement already satisfied: python-dateutil in /home/raazesh/all/software/sage/SageMath/local/lib/python2.7/site-packages (from pandas)\n",
      "Requirement already satisfied: numpy>=1.9.0 in /home/raazesh/all/software/sage/SageMath/local/lib/python2.7/site-packages (from pandas)\n",
      "Requirement already satisfied: pytz>=2011k in /home/raazesh/all/software/sage/SageMath/local/lib/python2.7/site-packages (from pandas)\n",
      "Requirement already satisfied: six>=1.5 in /home/raazesh/all/software/sage/SageMath/local/lib/python2.7/site-packages (from python-dateutil->pandas)\n",
      "Installing collected packages: pandas\n",
      "Successfully installed pandas-0.22.0\n",
      "\u001b[33mYou are using pip version 9.0.1, however version 9.0.3 is available.\n",
      "You should consider upgrading via the 'pip install --upgrade pip' command.\u001b[0m\n"
     ]
    }
   ],
   "source": [
    "!sage -pip install pandas  # ! simply runs the following commands in shell"
   ]
  },
  {
   "cell_type": "code",
   "execution_count": 6,
   "metadata": {
    "collapsed": false,
    "deletable": true,
    "editable": true
   },
   "outputs": [
    {
     "name": "stdout",
     "output_type": "stream",
     "text": [
      "Collecting pip\n",
      "  Using cached pip-9.0.3-py2.py3-none-any.whl\n",
      "Installing collected packages: pip\n",
      "  Found existing installation: pip 9.0.1\n",
      "    Uninstalling pip-9.0.1:\n",
      "      Successfully uninstalled pip-9.0.1\n",
      "Successfully installed pip-9.0.3\n"
     ]
    }
   ],
   "source": [
    "!pip install --upgrade pip"
   ]
  },
  {
   "cell_type": "code",
   "execution_count": null,
   "metadata": {
    "collapsed": true,
    "deletable": true,
    "editable": true
   },
   "outputs": [],
   "source": []
  }
 ],
 "metadata": {
  "kernelspec": {
   "display_name": "SageMath 8.1",
   "language": "",
   "name": "sagemath"
  },
  "language_info": {
   "codemirror_mode": {
    "name": "ipython",
    "version": 2
   },
   "file_extension": ".py",
   "mimetype": "text/x-python",
   "name": "python",
   "nbconvert_exporter": "python",
   "pygments_lexer": "ipython2",
   "version": "2.7.14"
  }
 },
 "nbformat": 4,
 "nbformat_minor": 2
}
