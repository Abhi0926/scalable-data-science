{
 "cells": [
  {
   "cell_type": "markdown",
   "metadata": {},
   "source": [
    "# Simon #metoo step 3"
   ]
  },
  {
   "cell_type": "code",
   "execution_count": null,
   "metadata": {},
   "outputs": [],
   "source": [
    "import pandas as pd\n",
    "import seaborn as sns\n",
    "import matplotlib.pyplot as plt\n",
    "import matplotlib.ticker as ticker"
   ]
  },
  {
   "cell_type": "markdown",
   "metadata": {},
   "source": [
    "We use the `seaborn` package to plot how topics are distributed over time in tweets.\n",
    "\n",
    "We are dealing with categorical data, where the category in this case is the point in time.\n",
    "\n",
    "For each point in time, we see any topics with a probability `> X` as \"existing\". \n",
    "\n",
    "We need a dataframe with one categorical column (time) and one with a value (topicnumber)."
   ]
  },
  {
   "cell_type": "code",
   "execution_count": null,
   "metadata": {},
   "outputs": [],
   "source": [
    "df = pd.DataFrame.from_csv(\"topicmodel.csv\", index_col=None)\n",
    "\n",
    "df = df.sort_index()\n",
    "df.rename(columns={'Unnamed: 0': 'day'}, inplace=True)\n",
    "df = df.set_index('day')\n",
    "\n",
    "# Converting the index as date\n",
    "df.index = pd.to_datetime(df.index)\n",
    "\n",
    "df.head()"
   ]
  },
  {
   "cell_type": "markdown",
   "metadata": {},
   "source": [
    "Convert the imported dataframe rows to dicts in a list."
   ]
  },
  {
   "cell_type": "code",
   "execution_count": null,
   "metadata": {},
   "outputs": [],
   "source": [
    "outfile = open(\"strongtopics.csv\", \"w\")\n",
    "outfile.write(\"day,topic\\n\")\n",
    "\n",
    "for row in df.iterrows():\n",
    "    day = str(row[0])\n",
    "    values = row[1].to_dict()\n",
    "    for k,v in values.items():\n",
    "        if v > 0.01:\n",
    "            outfile.write(day + \",\" + k + \"\\n\")\n",
    "            \n",
    "df2 = pd.DataFrame.from_csv(\"strongtopics.csv\", index_col=None)\n",
    "df2 = df2.sort_values(by=\"day\")"
   ]
  },
  {
   "cell_type": "markdown",
   "metadata": {},
   "source": [
    "Now, we have a dataframe with all topics that are more probable than `0.3` for each hour."
   ]
  },
  {
   "cell_type": "code",
   "execution_count": null,
   "metadata": {},
   "outputs": [],
   "source": [
    "df2.head()"
   ]
  },
  {
   "cell_type": "markdown",
   "metadata": {},
   "source": [
    "#### A SET OF TOPICS ARE TALKED ABOUT THROUGHOUT WHILE OTHERS ARE MORE RANDOM"
   ]
  },
  {
   "cell_type": "code",
   "execution_count": null,
   "metadata": {},
   "outputs": [],
   "source": [
    "%matplotlib inline\n",
    "\n",
    "plt.figure(figsize=(10,10))\n",
    "\n",
    "sns.swarmplot(x=\"day\", y=\"topic\", data=df2)\n",
    "\n",
    "plt.savefig('test.pdf')\n",
    "plt.show()\n"
   ]
  },
  {
   "cell_type": "markdown",
   "metadata": {},
   "source": [
    "#### THE TOPIC COMPLEXITY IS INCREASING OVER TIME, THE HASHTAG LOSES FOCUS"
   ]
  },
  {
   "cell_type": "code",
   "execution_count": null,
   "metadata": {
    "scrolled": false
   },
   "outputs": [],
   "source": [
    "df3=df2.groupby('day').count().reset_index()\n",
    "df3.columns=['day','strong topics']\n",
    "df3 = df3.sort_values(by=\"day\")\n",
    "df3 = df3.reset_index(drop=True)\n",
    "df3.head()\n"
   ]
  },
  {
   "cell_type": "code",
   "execution_count": null,
   "metadata": {},
   "outputs": [],
   "source": [
    "df3['day'] = df3.index \n",
    "df3"
   ]
  },
  {
   "cell_type": "code",
   "execution_count": null,
   "metadata": {},
   "outputs": [],
   "source": [
    "df3.to_csv(\"df3.csv\")"
   ]
  },
  {
   "cell_type": "code",
   "execution_count": null,
   "metadata": {},
   "outputs": [],
   "source": [
    "plt.figure(figsize=(10,10))\n",
    "sns.regplot(x=\"day\", y=\"strong topics\", data=df3)\n",
    "\n",
    "plt.savefig('test2.pdf')\n",
    "\n"
   ]
  }
 ],
 "metadata": {
  "kernelspec": {
   "display_name": "Python 3",
   "language": "python",
   "name": "python3"
  },
  "language_info": {
   "codemirror_mode": {
    "name": "ipython",
    "version": 3
   },
   "file_extension": ".py",
   "mimetype": "text/x-python",
   "name": "python",
   "nbconvert_exporter": "python",
   "pygments_lexer": "ipython3",
   "version": "3.6.3"
  }
 },
 "nbformat": 4,
 "nbformat_minor": 2
}
