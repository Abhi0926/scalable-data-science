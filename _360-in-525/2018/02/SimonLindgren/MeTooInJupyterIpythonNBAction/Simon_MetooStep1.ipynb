{
 "cells": [
  {
   "cell_type": "markdown",
   "metadata": {},
   "source": [
    "# Simon #metoo step 1"
   ]
  },
  {
   "cell_type": "code",
   "execution_count": null,
   "metadata": {},
   "outputs": [],
   "source": [
    "from IPython.display import HTML\n",
    "import os"
   ]
  },
  {
   "cell_type": "markdown",
   "metadata": {},
   "source": [
    "Data was collected using [this method](http://www.simonlindgren.com/stuff/2017/12/13/back-to-future-btf-tweet-collector). It uses the Twitter API to go some days back in time, and then continuously streaming forward in real-time.\n",
    "\n",
    "The metoo data was collected around the time when the campaign took off, but today we wouldn't be able to get data further back than about a week from now.\n",
    "\n",
    "The video below shows the setup process for the collector."
   ]
  },
  {
   "cell_type": "code",
   "execution_count": null,
   "metadata": {},
   "outputs": [],
   "source": [
    "HTML(\"\"\"\n",
    "<video width=\"320\" height=\"240\" controls>\n",
    "  <source src=\"btf.m4v\" type=\"video/mp4\">\n",
    "</video>\n",
    "\"\"\")"
   ]
  },
  {
   "cell_type": "markdown",
   "metadata": {},
   "source": [
    "I had collected around 3 million metoo tweets, and they were in `sqlite3` database format. We won't run the parsing process live here but the code below shows how it is done."
   ]
  },
  {
   "cell_type": "code",
   "execution_count": null,
   "metadata": {},
   "outputs": [],
   "source": [
    "import sqlite3\n",
    "import pandas as pd\n",
    "pd.set_option('display.max_colwidth', -1)\n",
    "\n",
    "## Read sqlite query results into a pandas DataFrame\n",
    "# conn = sqlite3.connect(\"tweets.db\")\n",
    "# tweets_df = pd.read_sql_query(\"SELECT * from tweets\", conn)\n",
    "\n",
    "## Do some cleanupb\n",
    "#tweets_df = tweets_df.replace({'\\n': ' '}, regex=True) # remove linebreaks in the dataframe\n",
    "#tweets_df = tweets_df.replace({'\\t': ' '}, regex=True) # remove tabs in the dataframe\n",
    "#tweets_df = tweets_df.replace({'\\r': ' '}, regex=True) # remove carriage return in the dataframe"
   ]
  },
  {
   "cell_type": "markdown",
   "metadata": {},
   "source": [
    "For the continued analysis, I start from a csv-file that was created in this way."
   ]
  },
  {
   "cell_type": "code",
   "execution_count": null,
   "metadata": {},
   "outputs": [],
   "source": [
    "# Read the csv into pandas\n",
    "metoo_df = pd.DataFrame.from_csv(\"backup_metoo_171221.csv\")"
   ]
  },
  {
   "cell_type": "code",
   "execution_count": null,
   "metadata": {},
   "outputs": [],
   "source": [
    "len(metoo_df)"
   ]
  },
  {
   "cell_type": "code",
   "execution_count": null,
   "metadata": {},
   "outputs": [],
   "source": [
    "metoo_df.head()"
   ]
  },
  {
   "cell_type": "markdown",
   "metadata": {},
   "source": [
    "Now, let's clean the tweets, and add the clean version of the tweets as a column."
   ]
  },
  {
   "cell_type": "code",
   "execution_count": null,
   "metadata": {},
   "outputs": [],
   "source": [
    "newlist = []\n",
    "\n",
    "for tweet in metoo_df['text']:\n",
    "    #print(tweet)\n",
    "    tweet = [word.lower() for word in tweet.split() if not word.startswith('#')]\n",
    "    tweet = [word for word in tweet if not word.startswith('htt')]\n",
    "    tweet = [word for word in tweet if not word.startswith('@')]\n",
    "    tweet = [word for word in tweet if not '/' in word]\n",
    "    tweet = [word for word in tweet if word.isalpha()]\n",
    "    tweet = [word for word in tweet if not word == \"rt\"]\n",
    "    tweet = [word.strip(\".\") for word in tweet]\n",
    "    tweet = [word.strip() for word in tweet]\n",
    "    tweet = [word for word in tweet if not word == \"…\"]\n",
    "    tweet = \" \".join(tweet)\n",
    "    newlist.append(tweet)"
   ]
  },
  {
   "cell_type": "code",
   "execution_count": null,
   "metadata": {},
   "outputs": [],
   "source": [
    "tweets = pd.Series(newlist)\n",
    "tweets"
   ]
  },
  {
   "cell_type": "code",
   "execution_count": null,
   "metadata": {},
   "outputs": [],
   "source": [
    "metoo_df = metoo_df.reset_index(drop=True)\n",
    "\n",
    "metoo_df['tweets'] = tweets\n",
    "\n",
    "metoo_df.head()"
   ]
  },
  {
   "cell_type": "markdown",
   "metadata": {},
   "source": [
    "We want to group the tweets by day, so add a column that says which day they were posted."
   ]
  },
  {
   "cell_type": "code",
   "execution_count": null,
   "metadata": {},
   "outputs": [],
   "source": [
    "daylist = [day[:10] for day in metoo_df.created_at]\n",
    "daylist"
   ]
  },
  {
   "cell_type": "code",
   "execution_count": null,
   "metadata": {},
   "outputs": [],
   "source": [
    "days = pd.Series(daylist)\n",
    "metoo_df['day'] = days"
   ]
  },
  {
   "cell_type": "code",
   "execution_count": null,
   "metadata": {},
   "outputs": [],
   "source": [
    "metoo_df.head()"
   ]
  },
  {
   "cell_type": "markdown",
   "metadata": {},
   "source": [
    "Group the tweets (tweets) by day."
   ]
  },
  {
   "cell_type": "code",
   "execution_count": null,
   "metadata": {},
   "outputs": [],
   "source": [
    "tweets_by_day = metoo_df['tweets'].groupby(metoo_df['day'])"
   ]
  },
  {
   "cell_type": "markdown",
   "metadata": {},
   "source": [
    "View the grouping."
   ]
  },
  {
   "cell_type": "code",
   "execution_count": null,
   "metadata": {},
   "outputs": [],
   "source": [
    "groups = list(tweets_by_day)"
   ]
  },
  {
   "cell_type": "markdown",
   "metadata": {},
   "source": [
    "Now `groups` is a list of tuples where element `[0]` is the group name, and element `[1]` is a pandas series of all `text` belonging to the group."
   ]
  },
  {
   "cell_type": "code",
   "execution_count": null,
   "metadata": {},
   "outputs": [],
   "source": [
    "groups[0][0]"
   ]
  },
  {
   "cell_type": "code",
   "execution_count": null,
   "metadata": {},
   "outputs": [],
   "source": [
    "groups[0][1]"
   ]
  },
  {
   "cell_type": "markdown",
   "metadata": {},
   "source": [
    "The series is iterable."
   ]
  },
  {
   "cell_type": "code",
   "execution_count": null,
   "metadata": {},
   "outputs": [],
   "source": [
    "for i in groups[41][1]:\n",
    "    print(i)"
   ]
  },
  {
   "cell_type": "markdown",
   "metadata": {},
   "source": [
    "For topic modelling, we create one text document per group (day in this case)."
   ]
  },
  {
   "cell_type": "code",
   "execution_count": null,
   "metadata": {},
   "outputs": [],
   "source": [
    "os.getcwd()"
   ]
  },
  {
   "cell_type": "code",
   "execution_count": null,
   "metadata": {},
   "outputs": [],
   "source": [
    "try:\n",
    "    os.mkdir(\"tmfiles\")\n",
    "except:\n",
    "    print(\"Directory already exists\")"
   ]
  },
  {
   "cell_type": "code",
   "execution_count": null,
   "metadata": {},
   "outputs": [],
   "source": [
    "os.chdir(\"tmfiles\") # run once\n",
    "os.getcwd()"
   ]
  },
  {
   "cell_type": "code",
   "execution_count": null,
   "metadata": {},
   "outputs": [],
   "source": [
    "for c,i in enumerate(groups):\n",
    "    o = open(str(groups[c][0]) + \".txt\", \"w\")\n",
    "    for line in i[1]:\n",
    "        o.write(line + \"\\n\")"
   ]
  },
  {
   "cell_type": "markdown",
   "metadata": {},
   "source": [
    "Now we have the topicmodelling documents.\n",
    "\n",
    "Go back to the previous working directory."
   ]
  },
  {
   "cell_type": "code",
   "execution_count": null,
   "metadata": {},
   "outputs": [],
   "source": [
    "os.chdir('..')"
   ]
  },
  {
   "cell_type": "code",
   "execution_count": null,
   "metadata": {},
   "outputs": [],
   "source": [
    "os.getcwd()"
   ]
  }
 ],
 "metadata": {
  "kernelspec": {
   "display_name": "Python 3",
   "language": "python",
   "name": "python3"
  },
  "language_info": {
   "codemirror_mode": {
    "name": "ipython",
    "version": 3
   },
   "file_extension": ".py",
   "mimetype": "text/x-python",
   "name": "python",
   "nbconvert_exporter": "python",
   "pygments_lexer": "ipython3",
   "version": "3.6.3"
  }
 },
 "nbformat": 4,
 "nbformat_minor": 2
}
