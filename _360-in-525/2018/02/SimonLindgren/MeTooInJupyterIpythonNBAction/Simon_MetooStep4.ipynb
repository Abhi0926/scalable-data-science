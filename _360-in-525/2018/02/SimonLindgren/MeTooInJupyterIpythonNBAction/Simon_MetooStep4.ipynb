{
 "cells": [
  {
   "cell_type": "markdown",
   "metadata": {},
   "source": [
    "# Simon #metoo step 4"
   ]
  },
  {
   "cell_type": "markdown",
   "metadata": {},
   "source": [
    "For sentiment analysis, we will use the VADER library."
   ]
  },
  {
   "cell_type": "code",
   "execution_count": null,
   "metadata": {},
   "outputs": [],
   "source": [
    "from vaderSentiment.vaderSentiment import SentimentIntensityAnalyzer\n",
    "analyzer = SentimentIntensityAnalyzer()\n",
    "\n",
    "import pandas as pd\n",
    "pd.set_option('display.max_colwidth', -1)"
   ]
  },
  {
   "cell_type": "markdown",
   "metadata": {},
   "source": [
    "We can get the tweets to analyse by reading the `text` column from our metoo dataset. We also read the dates column."
   ]
  },
  {
   "cell_type": "code",
   "execution_count": null,
   "metadata": {},
   "outputs": [],
   "source": [
    "df = pd.DataFrame.from_csv(\"metoo_full_backup_3M.csv\")"
   ]
  },
  {
   "cell_type": "code",
   "execution_count": null,
   "metadata": {},
   "outputs": [],
   "source": [
    "sentences = df.text\n",
    "dates = df.created_at"
   ]
  },
  {
   "cell_type": "markdown",
   "metadata": {},
   "source": [
    "To skip some text cleaning and filtering steps here, we re-read the tweets from a pre-processed file."
   ]
  },
  {
   "cell_type": "code",
   "execution_count": null,
   "metadata": {},
   "outputs": [],
   "source": [
    "sentences = open('metoo_tweets.txt', 'r').readlines()"
   ]
  },
  {
   "cell_type": "markdown",
   "metadata": {},
   "source": [
    "Next, use VADER to calculate sentiment scores."
   ]
  },
  {
   "cell_type": "code",
   "execution_count": null,
   "metadata": {},
   "outputs": [],
   "source": [
    "vader_scores = []\n",
    "numdocs = len(sentences)\n",
    "for c,sentence in enumerate(sentences):\n",
    "    score = analyzer.polarity_scores(sentence)\n",
    "    vader_scores.append(score)\n",
    "    if c % 1000 == 0:\n",
    "        print(\"\\r\" + str(c) + \"/\" + str(numdocs) ,end = \"\")"
   ]
  },
  {
   "cell_type": "markdown",
   "metadata": {},
   "source": [
    "Iterate over the `sentences` list and the `vader_scores` list in parallel, to be able to add each sentence as a key to the dictionary of its scores."
   ]
  },
  {
   "cell_type": "code",
   "execution_count": null,
   "metadata": {},
   "outputs": [],
   "source": [
    "for sentence, score_dict in zip(sentences, vader_scores):\n",
    "    score_dict['text'] = sentence"
   ]
  },
  {
   "cell_type": "code",
   "execution_count": null,
   "metadata": {},
   "outputs": [],
   "source": [
    "for date, score_dict in zip(dates, vader_scores):\n",
    "    score_dict['created_at'] = date"
   ]
  },
  {
   "cell_type": "markdown",
   "metadata": {},
   "source": [
    "Now `vader_scores` is a list of dictionaries with scores and sentences. We write it to a [pandas dataframe](https://pandas.pydata.org/pandas-docs/stable/generated/pandas.DataFrame.html#pandas.DataFrame)."
   ]
  },
  {
   "cell_type": "code",
   "execution_count": null,
   "metadata": {},
   "outputs": [],
   "source": [
    "vader_df = pd.DataFrame(vader_scores)[['text', 'created_at','compound', 'neg', 'neu', 'pos']]\n",
    "vader_df = vader_df.sort_values('compound', ascending=True)\n",
    "vader_df.head(7)"
   ]
  },
  {
   "cell_type": "code",
   "execution_count": null,
   "metadata": {},
   "outputs": [],
   "source": [
    "vader_df = pd.DataFrame(vader_scores)[['text', 'compound', 'created_at']]\n",
    "vader_df = vader_df.sort_values('compound', ascending=True)\n",
    "vader_df.head(7)"
   ]
  },
  {
   "cell_type": "code",
   "execution_count": null,
   "metadata": {},
   "outputs": [],
   "source": [
    "df = df.sort_values(by=\"text\")\n",
    "vader_df = vader_df.sort_values(by=\"text\")\n",
    "df = df.reset_index(drop=True)\n",
    "vader_df = vader_df.reset_index(drop=True)\n",
    "\n",
    "\n",
    "df.head()"
   ]
  },
  {
   "cell_type": "code",
   "execution_count": null,
   "metadata": {},
   "outputs": [],
   "source": [
    "df.tail()"
   ]
  },
  {
   "cell_type": "code",
   "execution_count": null,
   "metadata": {},
   "outputs": [],
   "source": [
    "vader_df.dtypes"
   ]
  },
  {
   "cell_type": "code",
   "execution_count": null,
   "metadata": {},
   "outputs": [],
   "source": [
    "firstday = (vader_df['created_at'] > '2017-10-28') & (vader_df['created_at'] < '2017-10-31')\n",
    "firstday_df = df[firstday]\n",
    "firstday_df = firstday_df.sort_values(by=\"sentiment\", ascending = False)\n",
    "firstday_df.to_csv(\"firstday.csv\")\n",
    "\n",
    "firstday_df"
   ]
  },
  {
   "cell_type": "code",
   "execution_count": null,
   "metadata": {},
   "outputs": [],
   "source": [
    "firstday_df = firstday_df.sort_values(by=\"created_at\", ascending = True)\n",
    "\n",
    "firstday_df"
   ]
  },
  {
   "cell_type": "code",
   "execution_count": null,
   "metadata": {},
   "outputs": [],
   "source": [
    "firstday_df.dtypes"
   ]
  },
  {
   "cell_type": "code",
   "execution_count": null,
   "metadata": {},
   "outputs": [],
   "source": [
    "vader_df.head()"
   ]
  },
  {
   "cell_type": "code",
   "execution_count": null,
   "metadata": {},
   "outputs": [],
   "source": [
    "vader_df.tail()"
   ]
  },
  {
   "cell_type": "code",
   "execution_count": null,
   "metadata": {},
   "outputs": [],
   "source": [
    "df['neg'] = vader_df['neg']\n",
    "df['pos'] = vader_df['pos']"
   ]
  },
  {
   "cell_type": "code",
   "execution_count": null,
   "metadata": {},
   "outputs": [],
   "source": [
    "df['text2'] = vader_df.text"
   ]
  },
  {
   "cell_type": "code",
   "execution_count": null,
   "metadata": {},
   "outputs": [],
   "source": [
    "df.head()"
   ]
  },
  {
   "cell_type": "code",
   "execution_count": null,
   "metadata": {},
   "outputs": [],
   "source": [
    "df.to_csv(\"sentiment_dataframe.csv\")"
   ]
  },
  {
   "cell_type": "code",
   "execution_count": null,
   "metadata": {},
   "outputs": [],
   "source": [
    "sentiments = df[['created_at', 'neg', 'pos']]\n",
    "sentiments = sentiments.sort_values(by=\"created_at\")\n",
    "sentiments = sentiments.reset_index(drop=True)\n",
    "sentiments.head()"
   ]
  },
  {
   "cell_type": "code",
   "execution_count": null,
   "metadata": {},
   "outputs": [],
   "source": [
    "sentiments.tail()"
   ]
  },
  {
   "cell_type": "code",
   "execution_count": null,
   "metadata": {},
   "outputs": [],
   "source": [
    "sentiments['created_at'] =  pd.to_datetime(sentiments['created_at'])"
   ]
  },
  {
   "cell_type": "code",
   "execution_count": null,
   "metadata": {},
   "outputs": [],
   "source": [
    "groups = sentiments.groupby([sentiments['created_at'].dt.date])"
   ]
  },
  {
   "cell_type": "code",
   "execution_count": null,
   "metadata": {},
   "outputs": [],
   "source": [
    "daycol = []\n",
    "posmeancol = []\n",
    "negmeancol = []\n",
    "\n",
    "for name, group in groups:\n",
    "    posmeancol.append(group.pos.mean())\n",
    "    negmeancol.append(group.neg.mean())\n",
    "    date = group.created_at.tolist()[0]\n",
    "    daycol.append(str(date)[:-9])"
   ]
  },
  {
   "cell_type": "code",
   "execution_count": null,
   "metadata": {},
   "outputs": [],
   "source": [
    "daycol = pd.Series(daycol)\n",
    "posmeancol = pd.Series(posmeancol)\n",
    "negmeancol = pd.Series(negmeancol)\n",
    "sentdata = pd.concat([daycol, posmeancol, negmeancol], axis=1)\n",
    "sentdata.columns=['day', 'posmean', 'negmean']"
   ]
  },
  {
   "cell_type": "code",
   "execution_count": null,
   "metadata": {},
   "outputs": [],
   "source": [
    "import matplotlib.pyplot as plt\n",
    "from matplotlib import dates, pyplot\n",
    "import matplotlib.ticker as ticker\n",
    "%matplotlib inline\n",
    "\n",
    "# Create a new figure\n",
    "plt.figure(figsize=(10,6), dpi=100)\n",
    "\n",
    "# Define x\n",
    "#x = sentdata.day.tolist() # the day col in list-of-strings format\n",
    "x = range(68)\n",
    "xn = range(len(x)) # make it numerical 1 to n\n",
    "plt.xticks(xn, x) # name the ticks\n",
    "\n",
    "# What columns to plot\n",
    "pos = sentdata.posmean\n",
    "neg = sentdata.negmean\n",
    "\n",
    "# Plot them\n",
    "plt.plot(xn, pos, color=\"gray\", linewidth=2.0, linestyle=\":\", label=\"Positive scores\")\n",
    "plt.plot(xn, neg, color=\"black\", linewidth=2.0, linestyle=\"-\", label = \"Negative scores\")\n",
    "\n",
    "plt.legend(loc='upper left', frameon=False)\n",
    "\n",
    "# Set axis ranges\n",
    "plt.xlim(1,60)\n",
    "plt.ylim(0,0.2)\n",
    "\n",
    "# Label orientation and size\n",
    "plt.xticks(rotation=0, fontsize = 8)\n",
    "plt.yticks(rotation=0, fontsize = 8)\n",
    "\n",
    "# Tweak axes more\n",
    "ax = plt.gca() # get current axes in the plot\n",
    "\n",
    "# Loop over the x labels and hide all\n",
    "for label in ax.xaxis.get_ticklabels():\n",
    "    label.set_visible(False)\n",
    "\n",
    "# Loop over every nth x label and set it to visible\n",
    "for label in ax.xaxis.get_ticklabels()[::7]:\n",
    "    label.set_visible(True)\n",
    "    \n",
    "# Also, set the very first label to visible\n",
    "ax.xaxis.get_ticklabels()[1].set_visible(True)\n",
    "\n",
    "plt.ylabel(\"Mean weighted normalised composite score\")\n",
    "plt.xlabel(\"Day\")\n",
    "\n",
    "plt.savefig('sentiments.pdf')\n"
   ]
  },
  {
   "cell_type": "code",
   "execution_count": null,
   "metadata": {},
   "outputs": [],
   "source": [
    "sentdata_beginning = sentdata[(sentdata.day > '2017-10-25')]"
   ]
  },
  {
   "cell_type": "code",
   "execution_count": null,
   "metadata": {},
   "outputs": [],
   "source": [
    "sentdata_beginning.plot(kind='area')"
   ]
  },
  {
   "cell_type": "code",
   "execution_count": null,
   "metadata": {},
   "outputs": [],
   "source": [
    "october = sentiments[(sentiments.created_at < '2017-11-01')]\n",
    "november = sentiments[(sentiments.created_at > '2017-10-31') & (sentiments.created_at <= '2017-11-30')]\n",
    "december = sentiments[(sentiments.created_at > '2017-11-30')]"
   ]
  },
  {
   "cell_type": "code",
   "execution_count": null,
   "metadata": {},
   "outputs": [],
   "source": [
    "import seaborn as sns"
   ]
  },
  {
   "cell_type": "code",
   "execution_count": null,
   "metadata": {},
   "outputs": [],
   "source": [
    "%matplotlib inline\n",
    "sns.violinplot(data=october, inner=\"box\", orient = \"h\", bw=.03)\n",
    "#sns.violinplot(data=corr_df, palette=\"Set3\", bw=.2, cut=1, linewidth=1)"
   ]
  },
  {
   "cell_type": "code",
   "execution_count": null,
   "metadata": {},
   "outputs": [],
   "source": [
    "%matplotlib inline\n",
    "sns.violinplot(data=november, inner=\"box\", orient=\"h\", bw=.03)"
   ]
  },
  {
   "cell_type": "code",
   "execution_count": null,
   "metadata": {},
   "outputs": [],
   "source": [
    "%matplotlib inline\n",
    "sns.violinplot(data=december, inner=\"box\", orient = \"h\", bw=.03)"
   ]
  },
  {
   "cell_type": "code",
   "execution_count": null,
   "metadata": {},
   "outputs": [],
   "source": [
    "dta = sentiments.head(100) # testdata\n",
    "dta['item'] = dta.index\n",
    "dta.head()"
   ]
  },
  {
   "cell_type": "code",
   "execution_count": null,
   "metadata": {},
   "outputs": [],
   "source": [
    "hexbin = sns.jointplot(x=\"item\", y=\"sentiment\", data=dta, kind=\"scatter\")\n",
    "\n",
    "#bins='log', cmap='inferno'"
   ]
  }
 ],
 "metadata": {
  "kernelspec": {
   "display_name": "Python 3",
   "language": "python",
   "name": "python3"
  },
  "language_info": {
   "codemirror_mode": {
    "name": "ipython",
    "version": 3
   },
   "file_extension": ".py",
   "mimetype": "text/x-python",
   "name": "python",
   "nbconvert_exporter": "python",
   "pygments_lexer": "ipython3",
   "version": "3.6.3"
  }
 },
 "nbformat": 4,
 "nbformat_minor": 2
}
