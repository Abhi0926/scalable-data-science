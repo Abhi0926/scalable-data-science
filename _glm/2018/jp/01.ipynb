{
 "cells": [
  {
   "cell_type": "markdown",
   "metadata": {
    "deletable": true,
    "editable": true
   },
   "source": [
    "# 01. BASH Unix Shell \n",
    "## [Generalised Linear Models](https://lamastex.github.io/scalable-data-science/glm/2018/)\n",
    "\n",
    "&copy;2018 Raazesh Sainudiin. [Attribution 4.0 International (CC BY 4.0)](https://creativecommons.org/licenses/by/4.0/)\n",
    "\n",
    "1. Dropping into BASH (Unix Shell) and using basic Shell commands\n",
    "    * `pwd` --- print working directory\n",
    "    * `ls` --- list files in current working directory\n",
    "    * `mkdir` --- make directory\n",
    "    * `cd` --- change directory\n",
    "    * `man ls` --- manual pages for any command\n",
    "2. Grabbing files from the internet using `curl`"
   ]
  },
  {
   "cell_type": "code",
   "execution_count": 36,
   "metadata": {
    "collapsed": false,
    "deletable": true,
    "editable": true
   },
   "outputs": [
    {
     "data": {
      "text/html": [
       "\n",
       "        <iframe\n",
       "            width=\"95%\"\n",
       "            height=\"400\"\n",
       "            src=\"https://en.wikipedia.org/wiki/Bash_(Unix_shell)\"\n",
       "            frameborder=\"0\"\n",
       "            allowfullscreen\n",
       "        ></iframe>\n",
       "        "
      ],
      "text/plain": [
       "<IPython.lib.display.IFrame object at 0x7f9ae3f9ff90>"
      ]
     },
     "execution_count": 36,
     "metadata": {},
     "output_type": "execute_result"
    }
   ],
   "source": [
    "def showURL(url, ht=500):\n",
    "    \"\"\"Return an IFrame of the url to show in notebook with height ht\"\"\"\n",
    "    from IPython.display import IFrame\n",
    "    return IFrame(url, width='95%', height=ht) \n",
    "showURL('https://en.wikipedia.org/wiki/Bash_(Unix_shell)',400)"
   ]
  },
  {
   "cell_type": "markdown",
   "metadata": {
    "deletable": true,
    "editable": true
   },
   "source": [
    "## 1. Dropping into BASH (Unix Shell)\n",
    "\n",
    "Using `%%sh` in a code cell we can access the BASH (Unix Shell) command prompt.\n",
    "\n",
    "Let us `pwd` or print working directory."
   ]
  },
  {
   "cell_type": "code",
   "execution_count": 37,
   "metadata": {
    "collapsed": false,
    "deletable": true,
    "editable": true
   },
   "outputs": [
    {
     "name": "stdout",
     "output_type": "stream",
     "text": [
      "/home/raazesh/all/git/scalable-data-science/_glm/2018/jp\n"
     ]
    }
   ],
   "source": [
    "%%sh\n",
    "pwd"
   ]
  },
  {
   "cell_type": "code",
   "execution_count": 41,
   "metadata": {
    "collapsed": false,
    "deletable": true,
    "editable": true
   },
   "outputs": [
    {
     "name": "stdout",
     "output_type": "stream",
     "text": [
      "00.html\n",
      "00.ipynb\n",
      "00.md\n",
      "01.html\n",
      "01.ipynb\n",
      "01.md\n",
      "02.html\n",
      "02.ipynb\n",
      "02.md\n",
      "imagesFromR\n",
      "mydir\n"
     ]
    }
   ],
   "source": [
    "%%sh\n",
    "# this is a comment in BASH shell as it is preceeded by '#'\n",
    "ls  # list the contents of this working directory"
   ]
  },
  {
   "cell_type": "code",
   "execution_count": 43,
   "metadata": {
    "collapsed": false,
    "deletable": true,
    "editable": true
   },
   "outputs": [],
   "source": [
    "%%sh\n",
    "mkdir mydir"
   ]
  },
  {
   "cell_type": "code",
   "execution_count": 48,
   "metadata": {
    "collapsed": false,
    "deletable": true,
    "editable": true
   },
   "outputs": [
    {
     "name": "stdout",
     "output_type": "stream",
     "text": [
      "/home/raazesh/all/git/scalable-data-science/_glm/2018/jp/mydir\n",
      "total 3620\n",
      "drwxr-xr-x 3 raazesh raazesh    4096 Nov  6 14:09 .\n",
      "drwxr-xr-x 5 raazesh raazesh    4096 Nov  6 15:59 ..\n",
      "-rw-r--r-- 1 raazesh raazesh   29323 Nov  6 09:28 20170228.txt\n",
      "drwx------ 2 raazesh raazesh   12288 Feb 18  2016 sou\n",
      "-rw-r--r-- 1 raazesh raazesh 3652403 Nov  6 14:09 sou.tar.gz\n"
     ]
    }
   ],
   "source": [
    "%%sh\n",
    "cd mydir\n",
    "pwd\n",
    "ls -al"
   ]
  },
  {
   "cell_type": "code",
   "execution_count": 45,
   "metadata": {
    "collapsed": false,
    "deletable": true,
    "editable": true
   },
   "outputs": [
    {
     "name": "stdout",
     "output_type": "stream",
     "text": [
      "/home/raazesh/all/git/scalable-data-science/_glm/2018/jp\n"
     ]
    }
   ],
   "source": [
    "%%sh\n",
    "pwd"
   ]
  },
  {
   "cell_type": "code",
   "execution_count": 46,
   "metadata": {
    "collapsed": false,
    "deletable": true,
    "editable": true
   },
   "outputs": [
    {
     "name": "stdout",
     "output_type": "stream",
     "text": [
      "LS(1)                            User Commands                           LS(1)\n",
      "\n",
      "NAME\n",
      "       ls - list directory contents\n",
      "\n",
      "SYNOPSIS\n",
      "       ls [OPTION]... [FILE]...\n",
      "\n",
      "DESCRIPTION\n",
      "       List  information  about  the FILEs (the current directory by default).\n",
      "       Sort entries alphabetically if none of -cftuvSUX nor --sort  is  speci‐\n",
      "       fied.\n",
      "\n",
      "       Mandatory  arguments  to  long  options are mandatory for short options\n",
      "       too.\n",
      "\n",
      "       -a, --all\n",
      "              do not ignore entries starting with .\n",
      "\n",
      "       -A, --almost-all\n",
      "              do not list implied . and ..\n",
      "\n",
      "       --author\n",
      "              with -l, print the author of each file\n",
      "\n",
      "       -b, --escape\n",
      "              print C-style escapes for nongraphic characters\n",
      "\n",
      "       --block-size=SIZE\n",
      "              scale sizes by SIZE before printing them; e.g., '--block-size=M'\n",
      "              prints sizes in units of 1,048,576 bytes; see SIZE format below\n",
      "\n",
      "       -B, --ignore-backups\n",
      "              do not list implied entries ending with ~\n",
      "\n",
      "       -c     with -lt: sort by, and show, ctime (time of last modification of\n",
      "              file status information); with -l: show ctime and sort by  name;\n",
      "              otherwise: sort by ctime, newest first\n",
      "\n",
      "       -C     list entries by columns\n",
      "\n",
      "       --color[=WHEN]\n",
      "              colorize  the output; WHEN can be 'always' (default if omitted),\n",
      "              'auto', or 'never'; more info below\n",
      "\n",
      "       -d, --directory\n",
      "              list directories themselves, not their contents\n",
      "\n",
      "       -D, --dired\n",
      "              generate output designed for Emacs' dired mode\n",
      "\n",
      "       -f     do not sort, enable -aU, disable -ls --color\n",
      "\n",
      "       -F, --classify\n",
      "              append indicator (one of */=>@|) to entries\n",
      "\n",
      "       --file-type\n",
      "              likewise, except do not append '*'\n",
      "\n",
      "       --format=WORD\n",
      "              across -x, commas -m, horizontal -x, long -l, single-column  -1,\n",
      "              verbose -l, vertical -C\n",
      "\n",
      "       --full-time\n",
      "              like -l --time-style=full-iso\n",
      "\n",
      "       -g     like -l, but do not list owner\n",
      "\n",
      "       --group-directories-first\n",
      "              group directories before files;\n",
      "\n",
      "              can   be  augmented  with  a  --sort  option,  but  any  use  of\n",
      "              --sort=none (-U) disables grouping\n",
      "\n",
      "       -G, --no-group\n",
      "              in a long listing, don't print group names\n",
      "\n",
      "       -h, --human-readable\n",
      "              with -l and/or -s, print human readable sizes (e.g., 1K 234M 2G)\n",
      "\n",
      "       --si   likewise, but use powers of 1000 not 1024\n",
      "\n",
      "       -H, --dereference-command-line\n",
      "              follow symbolic links listed on the command line\n",
      "\n",
      "       --dereference-command-line-symlink-to-dir\n",
      "              follow each command line symbolic link\n",
      "\n",
      "              that points to a directory\n",
      "\n",
      "       --hide=PATTERN\n",
      "              do not list implied entries matching shell  PATTERN  (overridden\n",
      "              by -a or -A)\n",
      "\n",
      "       --hyperlink[=WHEN]\n",
      "              hyperlink file names; WHEN can be 'always' (default if omitted),\n",
      "              'auto', or 'never'\n",
      "\n",
      "       --indicator-style=WORD\n",
      "              append indicator with style WORD to entry names: none (default),\n",
      "              slash (-p), file-type (--file-type), classify (-F)\n",
      "\n",
      "       -i, --inode\n",
      "              print the index number of each file\n",
      "\n",
      "       -I, --ignore=PATTERN\n",
      "              do not list implied entries matching shell PATTERN\n",
      "\n",
      "       -k, --kibibytes\n",
      "              default to 1024-byte blocks for disk usage\n",
      "\n",
      "       -l     use a long listing format\n",
      "\n",
      "       -L, --dereference\n",
      "              when showing file information for a symbolic link, show informa‐\n",
      "              tion for the file the link references rather than for  the  link\n",
      "              itself\n",
      "\n",
      "       -m     fill width with a comma separated list of entries\n",
      "\n",
      "       -n, --numeric-uid-gid\n",
      "              like -l, but list numeric user and group IDs\n",
      "\n",
      "       -N, --literal\n",
      "              print entry names without quoting\n",
      "\n",
      "       -o     like -l, but do not list group information\n",
      "\n",
      "       -p, --indicator-style=slash\n",
      "              append / indicator to directories\n",
      "\n",
      "       -q, --hide-control-chars\n",
      "              print ? instead of nongraphic characters\n",
      "\n",
      "       --show-control-chars\n",
      "              show nongraphic characters as-is (the default, unless program is\n",
      "              'ls' and output is a terminal)\n",
      "\n",
      "       -Q, --quote-name\n",
      "              enclose entry names in double quotes\n",
      "\n",
      "       --quoting-style=WORD\n",
      "              use quoting style WORD for entry names: literal, locale,  shell,\n",
      "              shell-always, shell-escape, shell-escape-always, c, escape\n",
      "\n",
      "       -r, --reverse\n",
      "              reverse order while sorting\n",
      "\n",
      "       -R, --recursive\n",
      "              list subdirectories recursively\n",
      "\n",
      "       -s, --size\n",
      "              print the allocated size of each file, in blocks\n",
      "\n",
      "       -S     sort by file size, largest first\n",
      "\n",
      "       --sort=WORD\n",
      "              sort  by  WORD instead of name: none (-U), size (-S), time (-t),\n",
      "              version (-v), extension (-X)\n",
      "\n",
      "       --time=WORD\n",
      "              with -l, show time as WORD instead of default modification time:\n",
      "              atime  or  access  or  use  (-u); ctime or status (-c); also use\n",
      "              specified time as sort key if --sort=time (newest first)\n",
      "\n",
      "       --time-style=STYLE\n",
      "              with -l, show times using style STYLE: full-iso, long-iso,  iso,\n",
      "              locale,  or  +FORMAT;  FORMAT  is interpreted like in 'date'; if\n",
      "              FORMAT  is  FORMAT1<newline>FORMAT2,  then  FORMAT1  applies  to\n",
      "              non-recent  files  and FORMAT2 to recent files; if STYLE is pre‐\n",
      "              fixed with 'posix-', STYLE takes effect only outside  the  POSIX\n",
      "              locale\n",
      "\n",
      "       -t     sort by modification time, newest first\n",
      "\n",
      "       -T, --tabsize=COLS\n",
      "              assume tab stops at each COLS instead of 8\n",
      "\n",
      "       -u     with  -lt:  sort by, and show, access time; with -l: show access\n",
      "              time and sort by name; otherwise: sort by  access  time,  newest\n",
      "              first\n",
      "\n",
      "       -U     do not sort; list entries in directory order\n",
      "\n",
      "       -v     natural sort of (version) numbers within text\n",
      "\n",
      "       -w, --width=COLS\n",
      "              set output width to COLS.  0 means no limit\n",
      "\n",
      "       -x     list entries by lines instead of by columns\n",
      "\n",
      "       -X     sort alphabetically by entry extension\n",
      "\n",
      "       -Z, --context\n",
      "              print any security context of each file\n",
      "\n",
      "       -1     list one file per line.  Avoid '\\n' with -q or -b\n",
      "\n",
      "       --help display this help and exit\n",
      "\n",
      "       --version\n",
      "              output version information and exit\n",
      "\n",
      "       The  SIZE  argument  is  an  integer and optional unit (example: 10K is\n",
      "       10*1024).  Units are K,M,G,T,P,E,Z,Y  (powers  of  1024)  or  KB,MB,...\n",
      "       (powers of 1000).\n",
      "\n",
      "       Using  color  to distinguish file types is disabled both by default and\n",
      "       with --color=never.  With --color=auto, ls emits color codes only  when\n",
      "       standard  output is connected to a terminal.  The LS_COLORS environment\n",
      "       variable can change the settings.  Use the dircolors command to set it.\n",
      "\n",
      "   Exit status:\n",
      "       0      if OK,\n",
      "\n",
      "       1      if minor problems (e.g., cannot access subdirectory),\n",
      "\n",
      "       2      if serious trouble (e.g., cannot access command-line argument).\n",
      "\n",
      "AUTHOR\n",
      "       Written by Richard M. Stallman and David MacKenzie.\n",
      "\n",
      "REPORTING BUGS\n",
      "       GNU coreutils online help: <http://www.gnu.org/software/coreutils/>\n",
      "       Report ls translation bugs to <http://translationproject.org/team/>\n",
      "\n",
      "COPYRIGHT\n",
      "       Copyright © 2017 Free Software Foundation, Inc.   License  GPLv3+:  GNU\n",
      "       GPL version 3 or later <http://gnu.org/licenses/gpl.html>.\n",
      "       This  is  free  software:  you  are free to change and redistribute it.\n",
      "       There is NO WARRANTY, to the extent permitted by law.\n",
      "\n",
      "SEE ALSO\n",
      "       Full documentation at: <http://www.gnu.org/software/coreutils/ls>\n",
      "       or available locally via: info '(coreutils) ls invocation'\n",
      "\n",
      "GNU coreutils 8.28               January 2018                            LS(1)\n"
     ]
    }
   ],
   "source": [
    "%%sh\n",
    "man ls"
   ]
  },
  {
   "cell_type": "markdown",
   "metadata": {
    "deletable": true,
    "editable": true
   },
   "source": [
    "## 2. Grabbing files from internet using curl"
   ]
  },
  {
   "cell_type": "code",
   "execution_count": 8,
   "metadata": {
    "collapsed": false,
    "deletable": true,
    "editable": true
   },
   "outputs": [
    {
     "name": "stderr",
     "output_type": "stream",
     "text": [
      "  % Total    % Received % Xferd  Average Speed   Time    Time     Time  Current\n",
      "                                 Dload  Upload   Total   Spent    Left  Speed\n",
      "\r",
      "  0     0    0     0    0     0      0      0 --:--:-- --:--:-- --:--:--     0\r",
      " 58 29323   58 17117    0     0  17117      0  0:00:01 --:--:--  0:00:01 22114\r",
      "100 29323  100 29323    0     0  29323      0  0:00:01 --:--:--  0:00:01 37836\n"
     ]
    }
   ],
   "source": [
    "%%sh\n",
    "cd mydir\n",
    "curl -O http://lamastex.org/datasets/public/SOU/sou/20170228.txt"
   ]
  },
  {
   "cell_type": "code",
   "execution_count": 9,
   "metadata": {
    "collapsed": false,
    "deletable": true,
    "editable": true
   },
   "outputs": [
    {
     "name": "stdout",
     "output_type": "stream",
     "text": [
      "20170228.txt\n"
     ]
    }
   ],
   "source": [
    "%%sh\n",
    "ls mydir/"
   ]
  },
  {
   "cell_type": "code",
   "execution_count": 49,
   "metadata": {
    "collapsed": false,
    "deletable": true,
    "editable": true
   },
   "outputs": [
    {
     "name": "stdout",
     "output_type": "stream",
     "text": [
      "Donald J. Trump \n",
      "\n",
      "February 28, 2017 \n",
      "Thank you very much. Mr. Speaker, Mr. Vice President, members of Congress, the first lady of the United States ... \n",
      "... and citizens of America, tonight, as we mark the conclusion of our celebration of Black History Month, we are reminded of our nation's path toward civil rights and the work that still remains to be done. \n",
      "Recent threats ... \n",
      "Recent threats targeting Jewish community centers and vandalism of Jewish cemeteries, as well as last week's shooting in Kansas City, remind us that while we may be a nation divided on policies, we are a country that stands united in condemning hate and evil in all of its very ugly forms. \n",
      "Each American generation passes the torch of truth, liberty and justice, in an unbroken chain all the way down to the present. That torch is now in our hands. And we will use it to light up the world. \n",
      "I am here tonight to deliver a message of unity and strength, and it is a message deeply delivered from my heart. A new chapter ... \n",
      "... of American greatness is now beginning. A new national pride is sweeping across our nation. And a new surge of optimism is placing impossible dreams firmly within our grasp. What we are witnessing today is the renewal of the American spirit. Our allies will find that America is once again ready to lead. \n"
     ]
    }
   ],
   "source": [
    "%%sh\n",
    "cd mydir/\n",
    "head 20170228.txt "
   ]
  },
  {
   "cell_type": "markdown",
   "metadata": {},
   "source": [
    "## To have more fun with all SOU addresses\n",
    "Do the following:\n"
   ]
  },
  {
   "cell_type": "code",
   "execution_count": 32,
   "metadata": {
    "collapsed": false
   },
   "outputs": [
    {
     "name": "stderr",
     "output_type": "stream",
     "text": [
      "  % Total    % Received % Xferd  Average Speed   Time    Time     Time  Current\n",
      "                                 Dload  Upload   Total   Spent    Left  Speed\n",
      "\r",
      "  0     0    0     0    0     0      0      0 --:--:-- --:--:-- --:--:--     0\r",
      "  0 3566k    0  1177    0     0   1177      0  0:51:43 --:--:--  0:51:43  1252\r",
      "  2 3566k    2  100k    0     0   100k      0  0:00:35  0:00:01  0:00:34 61304\r",
      " 16 3566k   16  575k    0     0   287k      0  0:00:12  0:00:02  0:00:10  211k\r",
      " 30 3566k   30 1071k    0     0   357k      0  0:00:09  0:00:03  0:00:06  284k\r",
      " 41 3566k   41 1469k    0     0   367k      0  0:00:09  0:00:04  0:00:05  305k\r",
      " 54 3566k   54 1960k    0     0   392k      0  0:00:09  0:00:05  0:00:04  412k\r",
      " 64 3566k   64 2300k    0     0   383k      0  0:00:09  0:00:06  0:00:03  440k\r",
      " 78 3566k   78 2814k    0     0   402k      0  0:00:08  0:00:07  0:00:01  454k\r",
      " 93 3566k   93 3337k    0     0   417k      0  0:00:08  0:00:08 --:--:--  463k\r",
      "100 3566k  100 3566k    0     0   445k      0  0:00:08  0:00:08 --:--:--  502k\n"
     ]
    }
   ],
   "source": [
    "%%sh\n",
    "mkdir -p mydir # first create a directory called 'mydir'\n",
    "cd mydir # change into this mydir directory\n",
    "rm -f sou.tar.gz # remove any file in mydir called sou.tar.gz\n",
    "rm -f sou.tgz # remove any file in mydir called \n",
    "curl -O http://lamastex.org/datasets/public/SOU/sou.tar.gz"
   ]
  },
  {
   "cell_type": "code",
   "execution_count": 33,
   "metadata": {
    "collapsed": false
   },
   "outputs": [
    {
     "name": "stdout",
     "output_type": "stream",
     "text": [
      "/home/raazesh/all/git/scalable-data-science/_glm/2018/jp\n",
      "total 3.6M\n",
      "-rw-r--r-- 1 raazesh raazesh  29K Nov  6 09:28 20170228.txt\n",
      "-rw-r--r-- 1 raazesh raazesh 3.5M Nov  6 14:09 sou.tar.gz\n"
     ]
    }
   ],
   "source": [
    "%%sh\n",
    "pwd\n",
    "ls -lh mydir"
   ]
  },
  {
   "cell_type": "code",
   "execution_count": 35,
   "metadata": {
    "collapsed": false
   },
   "outputs": [
    {
     "name": "stdout",
     "output_type": "stream",
     "text": [
      "sou/\n",
      "sou/18111105.txt\n",
      "sou/20040120.txt\n",
      "sou/19061203.txt\n",
      "sou/18411207.txt\n",
      "sou/19091207.txt\n",
      "sou/18701205.txt\n",
      "sou/19410106.txt\n",
      "sou/18571208.txt\n",
      "sou/18891203.txt\n",
      "sou/18341201.txt\n",
      "sou/19660112.txt\n",
      "sou/17981208.txt\n",
      "sou/19610130.txt\n",
      "sou/18140920.txt\n",
      "sou/18011208.txt\n",
      "sou/18811206.txt\n",
      "sou/18281202.txt\n",
      "sou/19840125.txt\n",
      "sou/18611203.txt\n",
      "sou/18731201.txt\n",
      "sou/19400103.txt\n",
      "sou/19630114.txt\n",
      "sou/19281204.txt\n",
      "sou/19221208.txt\n",
      "sou/19031207.txt\n",
      "sou/18681209.txt\n",
      "sou/18431206.txt\n",
      "sou/18861206.txt\n",
      "sou/19261207.txt\n",
      "sou/19271206.txt\n",
      "sou/19141208.txt\n",
      "sou/18791201.txt\n",
      "sou/19131202.txt\n",
      "sou/19041206.txt\n",
      "sou/18001111.txt\n",
      "sou/18041108.txt\n",
      "sou/20010227.txt\n",
      "sou/18621201.txt\n",
      "sou/19251208.txt\n",
      "sou/19700122.txt\n",
      "sou/19790125.txt\n",
      "sou/19870127.txt\n",
      "sou/20050202.txt\n",
      "sou/18331203.txt\n",
      "sou/17961207.txt\n",
      "sou/18021215.txt\n",
      "sou/18771203.txt\n",
      "sou/19890209.txt\n",
      "sou/18301206.txt\n",
      "sou/18121104.txt\n",
      "sou/19580109.txt\n",
      "sou/20110125.txt\n",
      "sou/19450106.txt\n",
      "sou/18031017.txt\n",
      "sou/19301202.txt\n",
      "sou/18661203.txt\n",
      "sou/19520109.txt\n",
      "sou/19620111.txt\n",
      "sou/18531205.txt\n",
      "sou/19610112.txt\n",
      "sou/19430107.txt\n",
      "sou/19960123.txt\n",
      "sou/17911025.txt\n",
      "sou/18211203.txt\n",
      "sou/18951207.txt\n",
      "sou/18901201.txt\n",
      "sou/18721202.txt\n",
      "sou/20140128.txt\n",
      "sou/18361205.txt\n",
      "sou/18101205.txt\n",
      "sou/18081108.txt\n",
      "sou/18961204.txt\n",
      "sou/18871206.txt\n",
      "sou/18781202.txt\n",
      "sou/19480107.txt\n",
      "sou/19001203.txt\n",
      "sou/18421206.txt\n",
      "sou/18241207.txt\n",
      "sou/18131207.txt\n",
      "sou/19500104.txt\n",
      "sou/20010920.txt\n",
      "sou/19940125.txt\n",
      "sou/19850206.txt\n",
      "sou/18541204.txt\n",
      "sou/17921106.txt\n",
      "sou/19800121.txt\n",
      "sou/19311208.txt\n",
      "sou/18461208.txt\n",
      "sou/19161205.txt\n",
      "sou/19121203.txt\n",
      "sou/19370106.txt\n",
      "sou/19151207.txt\n",
      "sou/19051205.txt\n",
      "sou/19021202.txt\n",
      "sou/18321204.txt\n",
      "sou/18671203.txt\n",
      "sou/18651204.txt\n",
      "sou/19510108.txt\n",
      "sou/18581206.txt\n",
      "sou/18161203.txt\n",
      "sou/19390104.txt\n",
      "sou/19321206.txt\n",
      "sou/18641206.txt\n",
      "sou/20070123.txt\n",
      "sou/18691206.txt\n",
      "sou/17991203.txt\n",
      "sou/18551231.txt\n",
      "sou/19440111.txt\n",
      "sou/19910129.txt\n",
      "sou/18921206.txt\n",
      "sou/18061202.txt\n",
      "sou/19470106.txt\n",
      "sou/19590109.txt\n",
      "sou/18151205.txt\n",
      "sou/18751207.txt\n",
      "sou/18981205.txt\n",
      "sou/20090224.txt\n",
      "sou/18071027.txt\n",
      "sou/18171212.txt\n",
      "sou/18821204.txt\n",
      "sou/19211206.txt\n",
      "sou/18371205.txt\n",
      "sou/19181202.txt\n",
      "sou/19720120.txt\n",
      "sou/18601203.txt\n",
      "sou/19530107.txt\n",
      "sou/18741207.txt\n",
      "sou/19460121.txt\n",
      "sou/19350104.txt\n",
      "sou/19201207.txt\n",
      "sou/18591219.txt\n",
      "sou/18221203.txt\n",
      "sou/19231206.txt\n",
      "sou/19730202.txt\n",
      "sou/19291203.txt\n",
      "sou/19820126.txt\n",
      "sou/20060131.txt\n",
      "sou/18501202.txt\n",
      "sou/17931203.txt\n",
      "sou/18711204.txt\n",
      "sou/18441203.txt\n",
      "sou/17900108.txt\n",
      "sou/18561202.txt\n",
      "sou/18381203.txt\n",
      "sou/19071203.txt\n",
      "sou/19570110.txt\n",
      "sou/19171204.txt\n",
      "sou/18181116.txt\n",
      "sou/19420106.txt\n",
      "sou/18201114.txt\n",
      "sou/20130212.txt\n",
      "sou/20030128.txt\n",
      "sou/19340103.txt\n",
      "sou/19970204.txt\n",
      "sou/19810116.txt\n",
      "sou/18841201.txt\n",
      "sou/19101206.txt\n",
      "sou/18351207.txt\n",
      "sou/17951208.txt\n",
      "sou/19530202.txt\n",
      "sou/18971206.txt\n",
      "sou/18231202.txt\n",
      "sou/18831204.txt\n",
      "sou/19490105.txt\n",
      "sou/18991205.txt\n",
      "sou/18391202.txt\n",
      "sou/18481205.txt\n",
      "sou/18631208.txt\n",
      "sou/19930217.txt\n",
      "sou/19111205.txt\n",
      "sou/19740130.txt\n",
      "sou/20160112.txt\n",
      "sou/19880125.txt\n",
      "sou/19690114.txt\n",
      "sou/19360103.txt\n",
      "sou/20120124.txt\n",
      "sou/18091129.txt\n",
      "sou/19680117.txt\n",
      "sou/18851208.txt\n",
      "sou/20100127.txt\n",
      "sou/19191202.txt\n",
      "sou/19670110.txt\n",
      "sou/18451202.txt\n",
      "sou/19241203.txt\n",
      "sou/20080128.txt\n",
      "sou/18291208.txt\n",
      "sou/19980127.txt\n",
      "sou/18401205.txt\n",
      "sou/18471207.txt\n",
      "sou/19540107.txt\n",
      "sou/18191207.txt\n",
      "sou/18801206.txt\n",
      "sou/18491204.txt\n",
      "sou/18881203.txt\n",
      "sou/19950124.txt\n",
      "sou/19380103.txt\n",
      "sou/18761205.txt\n",
      "sou/18931203.txt\n",
      "sou/18051203.txt\n",
      "sou/18271204.txt\n",
      "sou/19900131.txt\n",
      "sou/18941202.txt\n",
      "sou/20150120.txt\n",
      "sou/17941119.txt\n",
      "sou/18261205.txt\n",
      "sou/19710122.txt\n",
      "sou/17901208.txt\n",
      "sou/19081208.txt\n",
      "sou/19550106.txt\n",
      "sou/17971122.txt\n",
      "sou/19560105.txt\n",
      "sou/19640108.txt\n",
      "sou/20020129.txt\n",
      "sou/19920128.txt\n",
      "sou/18511202.txt\n",
      "sou/18311206.txt\n",
      "sou/19770112.txt\n",
      "sou/18521206.txt\n",
      "sou/19760119.txt\n",
      "sou/18251206.txt\n",
      "sou/19860204.txt\n",
      "sou/19830125.txt\n",
      "sou/19780119.txt\n",
      "sou/19650104.txt\n",
      "sou/19990119.txt\n",
      "sou/20000127.txt\n",
      "sou/19600107.txt\n",
      "sou/19011203.txt\n",
      "sou/19750115.txt\n",
      "sou/18911209.txt\n"
     ]
    }
   ],
   "source": [
    "%%sh\n",
    "cd mydir \n",
    "tar zxvf sou.tar.gz"
   ]
  },
  {
   "cell_type": "code",
   "execution_count": 30,
   "metadata": {
    "collapsed": false
   },
   "outputs": [
    {
     "name": "stdout",
     "output_type": "stream",
     "text": [
      "total 40K\n",
      "-rw-r--r-- 1 raazesh raazesh 29K Nov  6 09:28 20170228.txt\n",
      "-rw-r--r-- 1 raazesh raazesh 351 Nov  6 13:51 sou.tar.gz\n",
      "-rw-r--r-- 1 raazesh raazesh 348 Nov  6 13:54 sou.tgz\n"
     ]
    }
   ],
   "source": [
    "%%sh\n",
    "ls -lh mydir/"
   ]
  },
  {
   "cell_type": "code",
   "execution_count": null,
   "metadata": {
    "collapsed": true
   },
   "outputs": [],
   "source": []
  }
 ],
 "metadata": {
  "kernelspec": {
   "display_name": "SageMath 8.1",
   "language": "",
   "name": "sagemath"
  },
  "language_info": {
   "codemirror_mode": {
    "name": "ipython",
    "version": 2
   },
   "file_extension": ".py",
   "mimetype": "text/x-python",
   "name": "python",
   "nbconvert_exporter": "python",
   "pygments_lexer": "ipython2",
   "version": "2.7.14"
  }
 },
 "nbformat": 4,
 "nbformat_minor": 2
}
