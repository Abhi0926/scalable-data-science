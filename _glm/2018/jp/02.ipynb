{
 "cells": [
  {
   "cell_type": "markdown",
   "metadata": {},
   "source": [
    "# 02. Introduction to R in SageMath Jupyter IPython Notebook\n",
    "## [Generalised Linear Models](https://lamastex.github.io/scalable-data-science/glm/2018/)\n",
    "\n",
    "&copy;2018 Raazesh Sainudiin. [Attribution 4.0 International (CC BY 4.0)](https://creativecommons.org/licenses/by/4.0/)\n",
    "\n",
    "1. How to run `R` commands in SageMath\n",
    "    * installing packages\n",
    "    * loading libraries\n",
    "    * loading data\n",
    "    * running `glm` model on the beetles data\n",
    "    * making PNG images of the plots\n",
    "    \n",
    "2. Why SageMath for `R`?"
   ]
  },
  {
   "cell_type": "markdown",
   "metadata": {},
   "source": [
    "### Use `%%r` to denote that the `Code` cell is of language `R`"
   ]
  },
  {
   "cell_type": "code",
   "execution_count": 1,
   "metadata": {
    "collapsed": false,
    "deletable": true,
    "editable": true
   },
   "outputs": [
    {
     "name": "stdout",
     "output_type": "stream",
     "text": [
      "Installing package into ‘/home/raazesh/R/x86_64-pc-linux-gnu-library/3.4’\n",
      "(as ‘lib’ is unspecified)\n",
      "trying URL 'http://cran.r-project.org/src/contrib/Flury_0.1-3.tar.gz'\n",
      "Content type 'application/x-gzip' length 50358 bytes (49 KB)\n",
      "==================================================\n",
      "downloaded 49 KB\n",
      "\n",
      "* installing *source* package ‘Flury’ ...\n",
      "** package ‘Flury’ successfully unpacked and MD5 sums checked\n",
      "** data\n",
      "** help\n",
      "*** installing help indices\n",
      "** building package indices\n",
      "** testing if installed package can be loaded\n",
      "* DONE (Flury)\n",
      "\n",
      "The downloaded source packages are in\n",
      "\t‘/tmp/RtmpTwwYwT/downloaded_packages’\n",
      "\n",
      "\n"
     ]
    }
   ],
   "source": [
    "%%r\n",
    "install.packages(\"Flury\")\n",
    "library(Flury)\n",
    "data(dead.beetles)"
   ]
  },
  {
   "cell_type": "markdown",
   "metadata": {},
   "source": [
    "## Additional Packages\n",
    "One often needs several additional packages to run certain desired `R` commands. Let's get some such packages.\n",
    "\n",
    "**Note:** Once a package is installed on a particular machine using `install.packages(\"wantedpackage\")` then you only need to load that library using `library(wantedpackage)` when you are using the same machine.\n",
    "\n",
    "In other words, you don't have to install packages that are already installed and thus can be automatically found by `R` in the default location it will be installed at. In the case below, you can see where the package was installed from the following line:\n",
    "\n",
    "-  `Installing package into ‘/home/raazesh/R/x86_64-pc-linux-gnu-library/3.4’`"
   ]
  },
  {
   "cell_type": "code",
   "execution_count": 2,
   "metadata": {
    "collapsed": false,
    "deletable": true,
    "editable": true
   },
   "outputs": [
    {
     "name": "stdout",
     "output_type": "stream",
     "text": [
      "Installing package into ‘/home/raazesh/R/x86_64-pc-linux-gnu-library/3.4’\n",
      "(as ‘lib’ is unspecified)\n",
      "trying URL 'http://cran.r-project.org/src/contrib/faraway_1.0.7.tar.gz'\n",
      "Content type 'application/x-gzip' length 450183 bytes (439 KB)\n",
      "==================================================\n",
      "downloaded 439 KB\n",
      "\n",
      "* installing *source* package ‘faraway’ ...\n",
      "** package ‘faraway’ successfully unpacked and MD5 sums checked\n",
      "** R\n",
      "** data\n",
      "*** moving datasets to lazyload DB\n",
      "** preparing package for lazy loading\n",
      "** help\n",
      "*** installing help indices\n",
      "** building package indices\n",
      "** testing if installed package can be loaded\n",
      "* DONE (faraway)\n",
      "\n",
      "The downloaded source packages are in\n",
      "\t‘/tmp/RtmpTwwYwT/downloaded_packages’\n",
      "\n",
      "ilogit                 package:faraway                 R Documentation\n",
      "\n",
      "_\bI_\bn_\bv_\be_\br_\bs_\be _\bL_\bo_\bg_\bi_\bt _\bT_\br_\ba_\bn_\bs_\bf_\bo_\br_\bm_\ba_\bt_\bi_\bo_\bn\n",
      "\n",
      "_\bD_\be_\bs_\bc_\br_\bi_\bp_\bt_\bi_\bo_\bn:\n",
      "\n",
      "     Computes the inverse logit transformation\n",
      "\n",
      "_\bU_\bs_\ba_\bg_\be:\n",
      "\n",
      "     ilogit(x)\n",
      "     \n",
      "_\bA_\br_\bg_\bu_\bm_\be_\bn_\bt_\bs:\n",
      "\n",
      "       x: a numeric vector\n",
      "\n",
      "_\bV_\ba_\bl_\bu_\be:\n",
      "\n",
      "     exp(x)/(1+exp(x))\n",
      "\n",
      "_\bA_\bu_\bt_\bh_\bo_\br(_\bs):\n",
      "\n",
      "     Julian Faraway\n",
      "\n",
      "_\bS_\be_\be _\bA_\bl_\bs_\bo:\n",
      "\n",
      "     logit\n",
      "\n",
      "_\bE_\bx_\ba_\bm_\bp_\bl_\be_\bs:\n",
      "\n",
      "     ilogit(1:3)\n",
      "     #[1] 0.7310586 0.8807971 0.9525741\n",
      "     \n",
      "\n"
     ]
    }
   ],
   "source": [
    "%%r\n",
    "install.packages(\"faraway\")\n",
    "library(faraway)\n",
    "?ilogit"
   ]
  },
  {
   "cell_type": "code",
   "execution_count": 3,
   "metadata": {
    "collapsed": false,
    "deletable": true,
    "editable": true
   },
   "outputs": [
    {
     "name": "stdout",
     "output_type": "stream",
     "text": [
      "\n"
     ]
    }
   ],
   "source": [
    "%%r\n",
    "m <- glm(data=dead.beetles, cbind(died, tested-died) ~ Dose, family=binomial(link=logit))"
   ]
  },
  {
   "cell_type": "code",
   "execution_count": 4,
   "metadata": {
    "collapsed": false,
    "deletable": true,
    "editable": true
   },
   "outputs": [
    {
     "name": "stdout",
     "output_type": "stream",
     "text": [
      "\n",
      "\n"
     ]
    }
   ],
   "source": [
    "%%r\n",
    "x <- seq(1.6, 1.9, by=0.01)\n",
    "y <- ilogit(coef(m)[\"(Intercept)\"] + x * coef(m)[\"Dose\"])"
   ]
  },
  {
   "cell_type": "code",
   "execution_count": 5,
   "metadata": {
    "collapsed": false,
    "deletable": true,
    "editable": true
   },
   "outputs": [
    {
     "name": "stdout",
     "output_type": "stream",
     "text": [
      "    Dose \n",
      "34.27033 \n"
     ]
    }
   ],
   "source": [
    "%%r\n",
    "coef(m)[\"Dose\"]"
   ]
  },
  {
   "cell_type": "code",
   "execution_count": 6,
   "metadata": {
    "collapsed": false,
    "deletable": true,
    "editable": true
   },
   "outputs": [
    {
     "name": "stdout",
     "output_type": "stream",
     "text": [
      "(Intercept) \n",
      "  -60.71745 \n"
     ]
    }
   ],
   "source": [
    "%%r\n",
    "coef(m)[\"(Intercept)\"]"
   ]
  },
  {
   "cell_type": "code",
   "execution_count": 7,
   "metadata": {
    "collapsed": false,
    "deletable": true,
    "editable": true
   },
   "outputs": [
    {
     "name": "stdout",
     "output_type": "stream",
     "text": [
      "/home/raazesh/all/git/scalable-data-science/_glm/2018/jp\n",
      "total 852K\n",
      "-rw-rw-r-- 1 raazesh raazesh 267K Nov  6 09:24 00.html\n",
      "-rw-r--r-- 1 raazesh raazesh  12K Nov  6 09:28 00.ipynb\n",
      "-rw-r--r-- 1 raazesh raazesh  411 Nov  6 09:35 00.md\n",
      "-rw-rw-r-- 1 raazesh raazesh 261K Nov  6 09:30 01.html\n",
      "-rw-r--r-- 1 raazesh raazesh  19K Nov  6 09:30 01.ipynb\n",
      "-rw-r--r-- 1 raazesh raazesh  411 Nov  6 09:36 01.md\n",
      "-rw-rw-r-- 1 raazesh raazesh 252K Nov  6 09:30 02.html\n",
      "-rw-r--r-- 1 raazesh raazesh 7.8K Nov  6 09:43 02.ipynb\n",
      "-rw-r--r-- 1 raazesh raazesh  411 Nov  6 09:36 02.md\n",
      "drwxr-xr-x 2 raazesh raazesh 4.0K Nov  6 09:27 mydir\n"
     ]
    }
   ],
   "source": [
    "%%sh\n",
    "pwd\n",
    "ls -lh"
   ]
  },
  {
   "cell_type": "code",
   "execution_count": 13,
   "metadata": {
    "collapsed": false
   },
   "outputs": [
    {
     "name": "stdout",
     "output_type": "stream",
     "text": [
      "total 860K\n",
      "-rw-rw-r-- 1 raazesh raazesh 267K Nov  6 09:24 00.html\n",
      "-rw-r--r-- 1 raazesh raazesh  12K Nov  6 09:28 00.ipynb\n",
      "-rw-r--r-- 1 raazesh raazesh  411 Nov  6 09:35 00.md\n",
      "-rw-rw-r-- 1 raazesh raazesh 261K Nov  6 09:30 01.html\n",
      "-rw-r--r-- 1 raazesh raazesh  19K Nov  6 09:30 01.ipynb\n",
      "-rw-r--r-- 1 raazesh raazesh  411 Nov  6 09:36 01.md\n",
      "-rw-rw-r-- 1 raazesh raazesh 252K Nov  6 09:30 02.html\n",
      "-rw-r--r-- 1 raazesh raazesh  11K Nov  6 09:47 02.ipynb\n",
      "-rw-r--r-- 1 raazesh raazesh  411 Nov  6 09:36 02.md\n",
      "drwxr-xr-x 2 raazesh raazesh 4.0K Nov  6 09:47 imagesFromR\n",
      "drwxr-xr-x 2 raazesh raazesh 4.0K Nov  6 09:27 mydir\n"
     ]
    }
   ],
   "source": [
    "%%sh\n",
    "mkdir -p imagesFromR\n",
    "ls -lh "
   ]
  },
  {
   "cell_type": "code",
   "execution_count": 14,
   "metadata": {
    "collapsed": false,
    "deletable": true,
    "editable": true
   },
   "outputs": [
    {
     "name": "stdout",
     "output_type": "stream",
     "text": [
      "\n",
      "\n",
      "\n",
      "null device \n",
      "          1 \n"
     ]
    }
   ],
   "source": [
    "%%r\n",
    "#with(dead.beetles, plot(Dose, died/tested))\n",
    "png(\"imagesFromR/plot1.png\")\n",
    "plot(dead.beetles$Dose, dead.beetles$died/dead.beetles$tested)\n",
    "dev.off()"
   ]
  },
  {
   "cell_type": "code",
   "execution_count": 16,
   "metadata": {
    "collapsed": false
   },
   "outputs": [
    {
     "name": "stdout",
     "output_type": "stream",
     "text": [
      "/home/raazesh/all/git/scalable-data-science/_glm/2018/jp\n",
      "total 4.0K\n",
      "-rw-r--r-- 1 raazesh raazesh 2.6K Nov  6 09:48 plot1.png\n"
     ]
    }
   ],
   "source": [
    "%%sh\n",
    "pwd\n",
    "ls -lh imagesFromR"
   ]
  },
  {
   "cell_type": "code",
   "execution_count": null,
   "metadata": {
    "collapsed": true
   },
   "outputs": [],
   "source": []
  }
 ],
 "metadata": {
  "kernelspec": {
   "display_name": "SageMath 8.1",
   "language": "",
   "name": "sagemath"
  },
  "language_info": {
   "codemirror_mode": {
    "name": "ipython",
    "version": 2
   },
   "file_extension": ".py",
   "mimetype": "text/x-python",
   "name": "python",
   "nbconvert_exporter": "python",
   "pygments_lexer": "ipython2",
   "version": "2.7.14"
  }
 },
 "nbformat": 4,
 "nbformat_minor": 2
}
