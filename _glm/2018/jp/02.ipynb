{
 "cells": [
  {
   "cell_type": "markdown",
   "metadata": {},
   "source": [
    "# 02. Introduction to R in SageMath Jupyter IPython Notebook\n",
    "## [Generalised Linear Models](https://lamastex.github.io/scalable-data-science/glm/2018/)\n",
    "\n",
    "&copy;2018 Raazesh Sainudiin. [Attribution 4.0 International (CC BY 4.0)](https://creativecommons.org/licenses/by/4.0/)\n",
    "\n",
    "1. How to run `R` commands in SageMath\n",
    "    * installing packages\n",
    "    * loading libraries\n",
    "    * loading data\n",
    "    * running `glm` model on the beetles data\n",
    "    * making PNG images of the plots\n",
    "    \n",
    "2. Why SageMath for `R`?"
   ]
  },
  {
   "cell_type": "markdown",
   "metadata": {},
   "source": [
    "### Use `%%r` to denote that the `Code` cell is of language `R`"
   ]
  },
  {
   "cell_type": "code",
   "execution_count": 8,
   "metadata": {
    "collapsed": false,
    "deletable": true,
    "editable": true
   },
   "outputs": [
    {
     "name": "stdout",
     "output_type": "stream",
     "text": [
      "Installing package into ‘/home/raazesh/R/x86_64-pc-linux-gnu-library/3.4’\n",
      "(as ‘lib’ is unspecified)\n",
      "trying URL 'http://cran.r-project.org/src/contrib/Flury_0.1-3.tar.gz'\n",
      "Content type 'application/x-gzip' length 50358 bytes (49 KB)\n",
      "==================================================\n",
      "downloaded 49 KB\n",
      "\n",
      "* installing *source* package ‘Flury’ ...\n",
      "** package ‘Flury’ successfully unpacked and MD5 sums checked\n",
      "** data\n",
      "** help\n",
      "*** installing help indices\n",
      "** building package indices\n",
      "** testing if installed package can be loaded\n",
      "* DONE (Flury)\n",
      "\n",
      "The downloaded source packages are in\n",
      "\t‘/tmp/RtmpTvkDnh/downloaded_packages’\n",
      "\n",
      "\n"
     ]
    }
   ],
   "source": [
    "%%r\n",
    "install.packages(\"Flury\")\n",
    "library(Flury)\n",
    "data(dead.beetles)"
   ]
  },
  {
   "cell_type": "markdown",
   "metadata": {},
   "source": [
    "## Additional Packages\n",
    "One often needs several additional packages to run certain desired `R` commands. Let's get some such packages.\n",
    "\n",
    "**Note:** Once a package is installed on a particular machine using `install.packages(\"wantedpackage\")` then you only need to load that library using `library(wantedpackage)` when you are using the same machine.\n",
    "\n",
    "In other words, you don't have to install packages that are already installed and thus can be automatically found by `R` in the default location it will be installed at. In the case below, you can see where the package was installed from the following line:\n",
    "\n",
    "-  `Installing package into ‘/home/raazesh/R/x86_64-pc-linux-gnu-library/3.4’`"
   ]
  },
  {
   "cell_type": "code",
   "execution_count": 16,
   "metadata": {
    "collapsed": false,
    "deletable": true,
    "editable": true
   },
   "outputs": [
    {
     "name": "stdout",
     "output_type": "stream",
     "text": [
      "Installing package into ‘/home/raazesh/R/x86_64-pc-linux-gnu-library/3.4’\n",
      "(as ‘lib’ is unspecified)\n",
      "trying URL 'http://cran.r-project.org/src/contrib/faraway_1.0.7.tar.gz'\n",
      "Content type 'application/x-gzip' length 450183 bytes (439 KB)\n",
      "==================================================\n",
      "downloaded 439 KB\n",
      "\n",
      "* installing *source* package ‘faraway’ ...\n",
      "** package ‘faraway’ successfully unpacked and MD5 sums checked\n",
      "** R\n",
      "** data\n",
      "*** moving datasets to lazyload DB\n",
      "** preparing package for lazy loading\n",
      "** help\n",
      "*** installing help indices\n",
      "** building package indices\n",
      "** testing if installed package can be loaded\n",
      "* DONE (faraway)\n",
      "\n",
      "The downloaded source packages are in\n",
      "\t‘/tmp/RtmpTvkDnh/downloaded_packages’\n",
      "\n",
      "Error in fetch(key) : \n",
      "  lazy-load database '/home/raazesh/R/x86_64-pc-linux-gnu-library/3.4/faraway/help/faraway.rdb' is corrupt\n",
      "In addition: Warning message:\n",
      "In fetch(key) : internal error -3 in R_decompress1\n"
     ]
    }
   ],
   "source": [
    "%%r\n",
    "install.packages(\"faraway\")\n",
    "library(faraway)\n",
    "?ilogit"
   ]
  },
  {
   "cell_type": "code",
   "execution_count": 10,
   "metadata": {
    "collapsed": false,
    "deletable": true,
    "editable": true
   },
   "outputs": [
    {
     "name": "stdout",
     "output_type": "stream",
     "text": [
      "\n"
     ]
    }
   ],
   "source": [
    "%%r\n",
    "m <- glm(data=dead.beetles, cbind(died, tested-died) ~ Dose, family=binomial(link=logit))"
   ]
  },
  {
   "cell_type": "code",
   "execution_count": 28,
   "metadata": {
    "collapsed": false,
    "deletable": true,
    "editable": true
   },
   "outputs": [
    {
     "name": "stdout",
     "output_type": "stream",
     "text": [
      "\n",
      "\n"
     ]
    }
   ],
   "source": [
    "%%r\n",
    "x <- seq(1.6, 1.9, by=0.01)\n",
    "y <- ilogit(coef(m)[\"(Intercept)\"] + x * coef(m)[\"Dose\"])"
   ]
  },
  {
   "cell_type": "code",
   "execution_count": 27,
   "metadata": {
    "collapsed": false,
    "deletable": true,
    "editable": true
   },
   "outputs": [
    {
     "name": "stdout",
     "output_type": "stream",
     "text": [
      "    Dose \n",
      "34.27033 \n"
     ]
    }
   ],
   "source": [
    "%%r\n",
    "coef(m)[\"Dose\"]"
   ]
  },
  {
   "cell_type": "code",
   "execution_count": 25,
   "metadata": {
    "collapsed": false,
    "deletable": true,
    "editable": true
   },
   "outputs": [
    {
     "name": "stdout",
     "output_type": "stream",
     "text": [
      "(Intercept) \n",
      "  -60.71745 \n"
     ]
    }
   ],
   "source": [
    "%%r\n",
    "coef(m)[\"(Intercept)\"]"
   ]
  },
  {
   "cell_type": "code",
   "execution_count": 38,
   "metadata": {
    "collapsed": false,
    "deletable": true,
    "editable": true
   },
   "outputs": [
    {
     "name": "stdout",
     "output_type": "stream",
     "text": [
      "\n",
      "\n",
      "\n",
      "PNG \n",
      "  2 \n"
     ]
    }
   ],
   "source": [
    "%%r\n",
    "#with(dead.beetles, plot(Dose, died/tested))\n",
    "png(\"plot1.png\")\n",
    "plot(dead.beetles$Dose, dead.beetles$died/dead.beetles$tested)\n",
    "dev.off()"
   ]
  },
  {
   "cell_type": "code",
   "execution_count": null,
   "metadata": {
    "collapsed": true,
    "deletable": true,
    "editable": true
   },
   "outputs": [],
   "source": []
  }
 ],
 "metadata": {
  "kernelspec": {
   "display_name": "SageMath 8.1",
   "language": "",
   "name": "sagemath"
  },
  "language_info": {
   "codemirror_mode": {
    "name": "ipython",
    "version": 2
   },
   "file_extension": ".py",
   "mimetype": "text/x-python",
   "name": "python",
   "nbconvert_exporter": "python",
   "pygments_lexer": "ipython2",
   "version": "2.7.14"
  }
 },
 "nbformat": 4,
 "nbformat_minor": 2
}
