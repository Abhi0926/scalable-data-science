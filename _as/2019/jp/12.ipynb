{
 "cells": [
  {
   "cell_type": "markdown",
   "metadata": {
    "deletable": false
   },
   "source": [
    "# [Applied Statistics](https://lamastex.github.io/scalable-data-science/as/2019/)\n",
    "## 1MS926, Spring 2019, Uppsala University \n",
    "&copy;2019 Raazesh Sainudiin. [Attribution 4.0 International (CC BY 4.0)](https://creativecommons.org/licenses/by/4.0/)"
   ]
  },
  {
   "cell_type": "markdown",
   "metadata": {},
   "source": [
    "# 12. Linear Regression\n",
    "\n",
    "- Regression \n",
    "  - linear models and their least-squares estimators\n",
    "  - assessing fit using diagnostic plots\n",
    "\n",
    "- Introduction to R in SageMath Jupyter IPython Notebook - SageMath/R\n"
   ]
  },
  {
   "cell_type": "markdown",
   "metadata": {},
   "source": [
    "# Introduction\n",
    "**Regression** is a method for studying the relationship between a **response variable** $Y$ and a **covariate** $X$. \n",
    "The covariate is also called a **feature** or a **predictor** variable.\n",
    "\n",
    "A simple way to summarise the relationship between $X$ and $Y$ is through the regression function $r(x)$:\n",
    "\n",
    "$$\n",
    "r(x) = E(Y | X=x) = \\int y \\, f(y|x) dy\n",
    "$$\n",
    "\n",
    "Our objective is to estimate the regression function $r(x)$ from data of the form:\n",
    "\n",
    "$$\n",
    "(Y_1,X_1),(Y_2,X_2),\\ldots,(Y_n,X_n) \\overset{IID}{\\sim} F_{X,Y}\n",
    "$$\n",
    "\n",
    "We assume that $F_{X,Y}$, the joint distribution of $X$ and $Y$, is parametric and $r$ is linear."
   ]
  },
  {
   "cell_type": "markdown",
   "metadata": {},
   "source": [
    "# Simple Linear Regression\n",
    "\n",
    "The **simple linear regression model** is when $X_i$ is real-valued (one-dimensional) and $r(x)$ is assumed to be linear:\n",
    "\n",
    "$$\n",
    "r(x) = \\beta_0 + \\beta_1 x, \\qquad \\text{and } \\quad V(Y | X=x)=\\sigma^2 \\, \\text{ is independent of } x\n",
    "$$\n",
    "\n",
    "Thus simple linear regression model is the following:\n",
    "\n",
    "$$\n",
    "\\boxed{\n",
    "Y_i = \\beta_0 + \\beta_1 X_i + \\epsilon_i, \\qquad \\text{ where, } \\quad E(\\epsilon_i | X_i)=0 \\text{ and } V(\\epsilon_i | X_i)=\\sigma^2\n",
    "}\n",
    "$$\n",
    "\n",
    "The unknown parameters and their estimates in the model are:\n",
    "\n",
    "- the intercept $\\beta_0$ and its estimate $\\widehat{\\beta}_0$,\n",
    "- the slope $\\beta_1$ and its estimate $\\widehat{\\beta}_1$ and\n",
    "- the variance $\\sigma^2$ and its estimate $\\widehat{\\sigma}^2$\n",
    "\n",
    "The **fitted line** is:\n",
    "$$\n",
    "\\widehat{r}(x) = \\widehat{\\beta}_0 + \\widehat{\\beta}_1 x\n",
    "$$\n",
    "\n",
    "The **fitted or predicted values** are:\n",
    "$$\n",
    "\\widehat{Y}_i = \\widehat{r}(X_i) \n",
    "$$\n",
    "\n",
    "The **residuals** are:\n",
    "$$\n",
    "\\widehat{\\epsilon}_i = Y_i-\\widehat{Y}_i=Y_i-\\left(\\widehat{\\beta}_0 + \\widehat{\\beta}_1 X_i\\right)\n",
    "$$\n",
    "\n",
    "The **residual sum of squares** or **RSS**, that measures how well the line fits the data, is defined by\n",
    "$$\n",
    "RSS = \\sum_{i=1}^n \\widehat{\\epsilon}_i^2\n",
    "$$\n",
    "\n",
    "The **least squares estimates** are the values $\\widehat{\\beta}_0$ and $\\widehat{\\beta}_1$ that minimise $RSS$ and they are given by:\n",
    "\n",
    "$$\n",
    "\\boxed{\n",
    "\\widehat{\\beta}_1 = \\displaystyle{\\frac{\\sum_{i=1}^n(X_i-\\overline{X}_n)(Y_i-\\overline{Y}_n)}{\\sum_{i=1}^n(X_i-\\overline{X}_n)^2}}\n",
    "\\, , \\qquad\n",
    "\\widehat{\\beta}_0 = \\displaystyle{\\overline{Y}_n - \\widehat{\\beta}_1 \\overline{X}_n}\n",
    "\\, , \\qquad \n",
    "\\widehat{\\sigma}^2 = \\displaystyle{\\left(\\frac{1}{n-2}\\right) \\sum_{i=1}^n \\widehat{\\epsilon}_i^2}\n",
    "}\n",
    "$$"
   ]
  },
  {
   "cell_type": "markdown",
   "metadata": {},
   "source": [
    "## Interactive Animations for Regression\n",
    "\n",
    "Check out:\n",
    "- [http://setosa.io/ev/ordinary-least-squares-regression/](http://setosa.io/ev/ordinary-least-squares-regression/)"
   ]
  },
  {
   "cell_type": "markdown",
   "metadata": {},
   "source": [
    "# Implementing Simple Linear Regression from Scratch\n",
    "\n",
    "Using the above formulas we can implement Python functions to calculate the **least squares estimates**,\n",
    "$\\widehat{\\beta}_0$ and $\\widehat{\\beta}_1$, that minimise $RSS$."
   ]
  },
  {
   "cell_type": "code",
   "execution_count": 117,
   "metadata": {},
   "outputs": [],
   "source": [
    "import numpy as np \n",
    "import matplotlib.pyplot as plt\n",
    "\n",
    "def estimate_coefficients(x, y): \n",
    "    # size of the dataset  \n",
    "    n = np.size(x) \n",
    "    # mean of x and y\n",
    "    mean_x, mean_y = np.mean(x), np.mean(y) \n",
    "    # xy cross-deviation and xx deviation\n",
    "    SS_xy = np.sum(y*x - n*mean_y*mean_x) \n",
    "    SS_xx = np.sum(x*x - n*mean_x*mean_x)  \n",
    "    # calculating regression coefficients \n",
    "    b_1 = SS_xy / SS_xx \n",
    "    b_0 = mean_y - b_1*mean_x \n",
    "    return(b_0, b_1)\n",
    "\n",
    "def plot_regression_line(x, y, b): \n",
    "    # plotting the data points on a graph\n",
    "    plt.scatter(x, y, color = \"m\",marker = \"o\", s = 10) \n",
    "    # predicted response vector \n",
    "    y_pred = b[0] + b[1]*x \n",
    "    # plotting the fitted regression line\n",
    "    plt.plot(x, y_pred, color = \"b\")\n",
    "    # putting generic labels for x and y axis\n",
    "    plt.xlabel('x') \n",
    "    plt.ylabel('y') \n",
    "    # function to show plotted graph\n",
    "    plt.show()\n",
    "\n",
    "def SimpleLinearRegression(x,y): \n",
    "    # estimating coefficients \n",
    "    b = estimate_coefficients(x, y) \n",
    "    print(\"Estimated coefficients:\\nb_0 = {} \\nb_1 = {}\".format(b[0], b[1])) \n",
    "    # plotting fitted regression line  with data\n",
    "    plot_regression_line(x, y, b)"
   ]
  },
  {
   "cell_type": "code",
   "execution_count": 17,
   "metadata": {},
   "outputs": [
    {
     "name": "stdout",
     "output_type": "stream",
     "text": [
      "Estimated coefficients:\n",
      "b_0 = -0.000193932215061 \n",
      "b_1 = 0.00526687127757\n"
     ]
    },
    {
     "data": {
      "image/png": "[encoded data removed]",
      "text/plain": [
       "<Figure size 432x288 with 1 Axes>"
      ]
     },
     "metadata": {},
     "output_type": "display_data"
    }
   ],
   "source": [
    "# Datasets for x and y \n",
    "LSAT=np.array([576, 635, 558, 578, 666, 580, 555, 661, 651, 605, 653, 575, 545, 572, 594]) # LSAT data\n",
    "GPA=np.array([3.39, 3.30, 2.81, 3.03, 3.44, 3.07, 3.00, 3.43, 3.36, 3.13, 3.12, 2.74, 2.76, 2.88, 3.96]) # GPA data\n",
    "\n",
    "SimpleLinearRegression(LSAT,GPA)"
   ]
  },
  {
   "cell_type": "markdown",
   "metadata": {},
   "source": [
    "We can look at the residuals of the fitted line as follows."
   ]
  },
  {
   "cell_type": "code",
   "execution_count": 121,
   "metadata": {},
   "outputs": [
    {
     "data": {
      "text/plain": [
       "Text(0,0.5,'$\\\\epsilon_i$')"
      ]
     },
     "execution_count": 121,
     "metadata": {},
     "output_type": "execute_result"
    },
    {
     "data": {
      "image/png": "[encoded data removed]",
      "text/plain": [
       "<Figure size 432x288 with 1 Axes>"
      ]
     },
     "metadata": {},
     "output_type": "display_data"
    }
   ],
   "source": [
    "predictedGPA = -0.000193932215061 + 0.00526687127757*LSAT\n",
    "residuals = GPA - predictedGPA\n",
    "plt.scatter(LSAT, residuals, color = \"k\",marker = \"o\", s = 10) \n",
    "plt.axhline()\n",
    "# putting generic labels for x and y axis\n",
    "plt.xlabel('LSAT') # draw a y=0 line\n",
    "plt.ylabel('$\\epsilon_i$') # in general we want residuals to be Normally distributes about 0 with the same variance"
   ]
  },
  {
   "cell_type": "markdown",
   "metadata": {},
   "source": [
    "## Solving Least Squares Using Numerical Linear Algebra Routine in scipy\n",
    "\n",
    "We can use [scipy.linalg.lstsq](https://docs.scipy.org/doc/scipy/reference/generated/scipy.linalg.lstsq.html#scipy.linalg.lstsq) to get the least squares solution to our regression problems quite easily, including generalisation to multiple linear regression when the covariates are in more than 1 dimension."
   ]
  },
  {
   "cell_type": "markdown",
   "metadata": {},
   "source": [
    "Let us try to understand the code in the previous cell by learning how to do a least squares fit by setting up the right design matrix."
   ]
  },
  {
   "cell_type": "code",
   "execution_count": 26,
   "metadata": {},
   "outputs": [
    {
     "data": {
      "text/plain": [
       "array([[ 1. ,  1. ],\n",
       "       [ 1. ,  2.5],\n",
       "       [ 1. ,  3.5],\n",
       "       [ 1. ,  4. ],\n",
       "       [ 1. ,  5. ],\n",
       "       [ 1. ,  7. ],\n",
       "       [ 1. ,  8.5]])"
      ]
     },
     "execution_count": 26,
     "metadata": {},
     "output_type": "execute_result"
    }
   ],
   "source": [
    "from scipy.linalg import lstsq\n",
    "import matplotlib.pyplot as plt\n",
    "import numpy as np\n",
    "\n",
    "# suppose we have the following data\n",
    "x = np.array([1, 2.5, 3.5, 4, 5, 7, 8.5])\n",
    "y = np.array([0.3, 1.1, 1.5, 2.0, 3.2, 6.6, 8.6])\n",
    "\n",
    "#We want to fit a line of the form y = a + b*x to this data. We first form the \n",
    "#“design matrix” M, with a constant column of 1s and a column containing x\n",
    "M1 = x[:, np.newaxis]^[0, 1]\n",
    "M1"
   ]
  },
  {
   "cell_type": "code",
   "execution_count": 30,
   "metadata": {},
   "outputs": [
    {
     "data": {
      "text/plain": [
       "array([-1.93080357,  1.16875   ])"
      ]
     },
     "execution_count": 30,
     "metadata": {},
     "output_type": "execute_result"
    }
   ],
   "source": [
    "#We want to find the least-squares solution to \n",
    "#M1.dot(p) = y, where p is a vector with length 2 that holds the parameters a and b.\n",
    "p, res, rnk, s = lstsq(M1, y)\n",
    "p"
   ]
  },
  {
   "cell_type": "code",
   "execution_count": 33,
   "metadata": {},
   "outputs": [
    {
     "data": {
      "image/png": "[encoded data removed]",
      "text/plain": [
       "<Figure size 432x288 with 1 Axes>"
      ]
     },
     "metadata": {},
     "output_type": "display_data"
    }
   ],
   "source": [
    "plt.plot(x, y, 'o', label='data')\n",
    "xx = np.linspace(0, 9, 101)\n",
    "yy = p[0] + p[1]*xx\n",
    "plt.plot(xx, yy, label='least squares fit, $y = a + bx$')\n",
    "plt.xlabel('x')\n",
    "plt.ylabel('y')\n",
    "plt.legend(framealpha=1, shadow=True)\n",
    "plt.grid(alpha=0.25)\n",
    "plt.show()"
   ]
  },
  {
   "cell_type": "markdown",
   "metadata": {},
   "source": [
    "### Fitting a Quadratic is also Simple Linear Regresssion\n",
    "Suppose we want to fit a quadratic polynomial of the form $y = a + b*x^2$ to the same data. \n",
    "Then we first form the design matrix `M2`, with a constant column of `1`s and a column containing `x^2` as follows:"
   ]
  },
  {
   "cell_type": "code",
   "execution_count": 35,
   "metadata": {},
   "outputs": [
    {
     "data": {
      "text/plain": [
       "array([[  1.  ,   1.  ],\n",
       "       [  1.  ,   6.25],\n",
       "       [  1.  ,  12.25],\n",
       "       [  1.  ,  16.  ],\n",
       "       [  1.  ,  25.  ],\n",
       "       [  1.  ,  49.  ],\n",
       "       [  1.  ,  72.25]])"
      ]
     },
     "execution_count": 35,
     "metadata": {},
     "output_type": "execute_result"
    }
   ],
   "source": [
    "M2 = x[:, np.newaxis]^[0, 2]\n",
    "M2"
   ]
  },
  {
   "cell_type": "code",
   "execution_count": 34,
   "metadata": {},
   "outputs": [
    {
     "data": {
      "image/png": "[encoded data removed]",
      "text/plain": [
       "<Figure size 432x288 with 1 Axes>"
      ]
     },
     "metadata": {},
     "output_type": "display_data"
    }
   ],
   "source": [
    "# least square solution with M2\n",
    "p, res, rnk, s = lstsq(M2, y)\n",
    "plt.plot(x, y, 'o', label='data')\n",
    "xx = np.linspace(0, 9, 101)\n",
    "yy = p[0] + p[1]*xx^2\n",
    "plt.plot(xx, yy, label='least squares fit, $y = a + bx$')\n",
    "plt.xlabel('x')\n",
    "plt.ylabel('y')\n",
    "plt.legend(framealpha=1, shadow=True)\n",
    "plt.grid(alpha=0.25)\n",
    "plt.show()"
   ]
  },
  {
   "cell_type": "markdown",
   "metadata": {},
   "source": [
    "# Multivariate Regression\n",
    "## is just as simple - except we have more than one covariate\n",
    "\n",
    "...\n",
    "\n",
    "### Fitting a 3rd Order Polynomial is Multiple Linear Regresssion\n",
    "Suppose we want to fit a degree-3 polynomial of the form $y = \\beta_0 + \\beta_1 x + \\beta_2 x^2+ \\beta_3 x^3$ to the same data. \n",
    "Then we first form the design matrix `M3`, with a constant column of `1`s with `x^0` and three additional columns containing `x^1`, `x^2` and `x^3` as follows:"
   ]
  },
  {
   "cell_type": "code",
   "execution_count": 41,
   "metadata": {},
   "outputs": [
    {
     "data": {
      "text/plain": [
       "array([[   1.   ,    1.   ,    1.   ,    1.   ],\n",
       "       [   1.   ,    2.5  ,    6.25 ,   15.625],\n",
       "       [   1.   ,    3.5  ,   12.25 ,   42.875],\n",
       "       [   1.   ,    4.   ,   16.   ,   64.   ],\n",
       "       [   1.   ,    5.   ,   25.   ,  125.   ],\n",
       "       [   1.   ,    7.   ,   49.   ,  343.   ],\n",
       "       [   1.   ,    8.5  ,   72.25 ,  614.125]])"
      ]
     },
     "execution_count": 41,
     "metadata": {},
     "output_type": "execute_result"
    }
   ],
   "source": [
    "# Fitting a cubic polynolial is the same idea\n",
    "M3 = x[:, np.newaxis]^[0, 1, 2, 3]\n",
    "M3"
   ]
  },
  {
   "cell_type": "code",
   "execution_count": 42,
   "metadata": {},
   "outputs": [
    {
     "data": {
      "image/png": "[encoded data removed]",
      "text/plain": [
       "<Figure size 432x288 with 1 Axes>"
      ]
     },
     "metadata": {},
     "output_type": "display_data"
    }
   ],
   "source": [
    "p, res, rnk, s = lstsq(M3, y)\n",
    "plt.plot(x, y, 'o', label='data')\n",
    "xx = np.linspace(0, 9, 101)\n",
    "yy = p[0] + p[1]*xx + p[2]*xx^2 + p[3]*xx^3\n",
    "plt.plot(xx, yy, label='least squares fit, $y = a + bx$')\n",
    "plt.xlabel('x')\n",
    "plt.ylabel('y')\n",
    "plt.legend(framealpha=1, shadow=True)\n",
    "plt.grid(alpha=0.25)\n",
    "plt.show()"
   ]
  },
  {
   "cell_type": "markdown",
   "metadata": {},
   "source": [
    "# Sample Exam Problem 8\n",
    "\n",
    "Using the `lstsq` method shown above, and data arrays `x` and `y` in the next cell that contain log light intensity and log surface temperature in a give range of measurements from nearby stars, compute the least squares estimates of $\\beta_0$ and $\\beta_1$ under the simple linear regression model with an intercept and a slope term. Make a plot similar to the one above with the data points and the fitted regression line."
   ]
  },
  {
   "cell_type": "code",
   "execution_count": null,
   "metadata": {},
   "outputs": [],
   "source": [
    "# Sample Exam Problem 8 \n",
    "# do not change this import and data block ########################\n",
    "from scipy.linalg import lstsq\n",
    "import matplotlib.pyplot as plt\n",
    "import numpy as np\n",
    "logLightIntens_logSurfTemp=[(4.37,5.23),(4.56,5.74),\n",
    "(4.26,4.93),(4.56,5.74),(4.30,5.19),(4.46,5.46),(3.84,4.65),(4.57,5.27),(4.26,5.57),(4.37,5.12),(3.49,5.73),\n",
    "(4.43,5.45),(4.48,5.42),(4.01,4.05),(4.29,4.26),(4.42,4.58),(4.23,3.94),(4.42,4.18),(4.23,4.18),(3.49,5.89),\n",
    "(4.29,4.38),(4.29,4.22),(4.42,4.42),(4.49,4.85),(4.38,5.02),(4.42,4.66),(4.29,4.66),(4.38,4.90),(4.22,4.39),\n",
    "(3.48,6.05),(4.38,4.42),(4.56,5.10),(4.45,5.22),(3.49,6.29),(4.23,4.34),(4.62,5.62),(4.53,5.10),(4.45,5.22),\n",
    "(4.53,5.18),(4.43,5.57),(4.38,4.62),(4.45,5.06),(4.50,5.34),(4.45,5.34),(4.55,5.54),(4.45,4.98),(4.42,4.50)]\n",
    "CleanedlogLightIntens_logSurfTemp=\\\n",
    "np.array([yx for yx in logLightIntens_logSurfTemp if yx[1]<5.9 and yx[0]>4]) # data range constraint\n",
    "x=CleanedlogLightIntens_logSurfTemp[:,1]\n",
    "y=CleanedlogLightIntens_logSurfTemp[:,0]\n",
    "########### end of import and data block ##########################\n",
    "\n",
    "# Replace only ZZZ by the right values\n",
    "M1 = ZZZ # design matrix M1\n",
    "b, res, rnk, s = lstsq(ZZZ,ZZZ)\n",
    "plt.plot(x, y, 'o', label='data')\n",
    "xx = np.linspace(ZZZ, ZZZ, 101)\n",
    "yy = ZZZ *xx\n",
    "plt.plot(xx, yy, label='least squares fit')\n",
    "plt.xlabel('log light intensity (X)')\n",
    "plt.ylabel('log surface temperature (Y)')\n",
    "plt.legend(framealpha=1, shadow=True)\n",
    "plt.grid(alpha=0.25)\n",
    "plt.text(4, 4.7, r'$\\widehat{r}(x) = \\widehat{\\beta}_0 + \\widehat{\\beta}_1 x, \\quad \\\n",
    "\\widehat{\\beta}_0 = $ %(b0)0.3f , $\\widehat{\\beta}_1 = $ %(b1)0.3f' % {'b0': b[0], 'b1': b[1]} )\n",
    "plt.show()"
   ]
  },
  {
   "cell_type": "code",
   "execution_count": 124,
   "metadata": {},
   "outputs": [
    {
     "data": {
      "image/png": "[encoded data removed]",
      "text/plain": [
       "<Figure size 432x288 with 1 Axes>"
      ]
     },
     "metadata": {},
     "output_type": "display_data"
    }
   ],
   "source": [
    "# Sample Exam Problem 8 Solution\n",
    "logLightIntens_logSurfTemp=[(4.37,5.23),(4.56,5.74),\n",
    "(4.26,4.93),(4.56,5.74),(4.30,5.19),(4.46,5.46),(3.84,4.65),(4.57,5.27),(4.26,5.57),(4.37,5.12),(3.49,5.73),\n",
    "(4.43,5.45),(4.48,5.42),(4.01,4.05),(4.29,4.26),(4.42,4.58),(4.23,3.94),(4.42,4.18),(4.23,4.18),(3.49,5.89),\n",
    "(4.29,4.38),(4.29,4.22),(4.42,4.42),(4.49,4.85),(4.38,5.02),(4.42,4.66),(4.29,4.66),(4.38,4.90),(4.22,4.39),\n",
    "(3.48,6.05),(4.38,4.42),(4.56,5.10),(4.45,5.22),(3.49,6.29),(4.23,4.34),(4.62,5.62),(4.53,5.10),(4.45,5.22),\n",
    "(4.53,5.18),(4.43,5.57),(4.38,4.62),(4.45,5.06),(4.50,5.34),(4.45,5.34),(4.55,5.54),(4.45,4.98),(4.42,4.50)]\n",
    "CleanedlogLightIntens_logSurfTemp=\\\n",
    "np.array([yx for yx in logLightIntens_logSurfTemp if yx[1]<5.9 and yx[0]>4]) # data range constraint\n",
    "x=CleanedlogLightIntens_logSurfTemp[:,1]\n",
    "y=CleanedlogLightIntens_logSurfTemp[:,0]\n",
    "\n",
    "from scipy.linalg import lstsq\n",
    "import matplotlib.pyplot as plt\n",
    "import numpy as np\n",
    "M1 = x[:, np.newaxis]^[0, 1]\n",
    "b, res, rnk, s = lstsq(M1, y)\n",
    "plt.plot(x, y, 'o', label='data')\n",
    "xx = np.linspace(3.9, 5.8, 101)\n",
    "yy = b[0] + b[1]*xx\n",
    "plt.plot(xx, yy, label='least squares fit')\n",
    "plt.xlabel('log light intensity (X)')\n",
    "plt.ylabel('log surface temperature (Y)')\n",
    "plt.legend(framealpha=1, shadow=True)\n",
    "plt.grid(alpha=0.25)\n",
    "plt.text(4, 4.7, r'$\\widehat{r}(x) = \\widehat{\\beta}_0 + \\widehat{\\beta}_1 x, \\quad \\\n",
    "\\widehat{\\beta}_0 = $ %(b0)0.3f , $\\widehat{\\beta}_1 = $ %(b1)0.3f' % {'b0': b[0], 'b1': b[1]} )\n",
    "plt.show()"
   ]
  },
  {
   "cell_type": "markdown",
   "metadata": {
    "lx_assignment_number": "3",
    "lx_problem_cell_type": "PROBLEM"
   },
   "source": [
    "---\n",
    "## Assignment 3, PROBLEM 8\n",
    "Maximum Points = 2"
   ]
  },
  {
   "cell_type": "markdown",
   "metadata": {
    "lx_assignment_number": "3",
    "lx_problem_cell_type": "PROBLEM",
    "lx_problem_number": "8",
    "lx_problem_points": "2"
   },
   "source": [
    "\n",
    "For the fitted regression model in the next cell get the residuals and plot them against the covariate. \n",
    "How do the residuals compare to a Normal random variable centred at $0$ with a constant variance (summarise in a sentence or two by double-clicking this cell and writing in between the two lines `---` below)?\n",
    "\n",
    "---\n",
    "\n",
    "---"
   ]
  },
  {
   "cell_type": "code",
   "execution_count": null,
   "metadata": {
    "lx_assignment_number": "3",
    "lx_problem_cell_type": "PROBLEM",
    "lx_problem_number": "8",
    "lx_problem_points": "2"
   },
   "outputs": [],
   "source": [
    "logLightIntens_logSurfTemp=[(4.37,5.23),(4.56,5.74),\n",
    "(4.26,4.93),(4.56,5.74),(4.30,5.19),(4.46,5.46),(3.84,4.65),(4.57,5.27),(4.26,5.57),(4.37,5.12),(3.49,5.73),\n",
    "(4.43,5.45),(4.48,5.42),(4.01,4.05),(4.29,4.26),(4.42,4.58),(4.23,3.94),(4.42,4.18),(4.23,4.18),(3.49,5.89),\n",
    "(4.29,4.38),(4.29,4.22),(4.42,4.42),(4.49,4.85),(4.38,5.02),(4.42,4.66),(4.29,4.66),(4.38,4.90),(4.22,4.39),\n",
    "(3.48,6.05),(4.38,4.42),(4.56,5.10),(4.45,5.22),(3.49,6.29),(4.23,4.34),(4.62,5.62),(4.53,5.10),(4.45,5.22),\n",
    "(4.53,5.18),(4.43,5.57),(4.38,4.62),(4.45,5.06),(4.50,5.34),(4.45,5.34),(4.55,5.54),(4.45,4.98),(4.42,4.50)]\n",
    "CleanedlogLightIntens_logSurfTemp=\\\n",
    "np.array([yx for yx in logLightIntens_logSurfTemp if yx[1]<5.9 and yx[0]>4]) # data range constraint\n",
    "x=CleanedlogLightIntens_logSurfTemp[:,1]\n",
    "y=CleanedlogLightIntens_logSurfTemp[:,0]\n",
    "\n",
    "from scipy.linalg import lstsq\n",
    "import matplotlib.pyplot as plt\n",
    "import numpy as np\n",
    "M1 = x[:, np.newaxis]^[0, 1]\n",
    "b, res, rnk, s = lstsq(M1, y)\n",
    "plt.plot(x, y, 'o', label='data')\n",
    "xx = np.linspace(3.9, 5.8, 101)\n",
    "yy = b[0] + b[1]*xx\n",
    "plt.plot(xx, yy, label='least squares fit')\n",
    "plt.xlabel('log light intensity (X)')\n",
    "plt.ylabel('log surface temperature (Y)')\n",
    "plt.legend(framealpha=1, shadow=True)\n",
    "plt.grid(alpha=0.25)\n",
    "plt.text(4, 4.7, r'$\\widehat{r}(x) = \\widehat{\\beta}_0 + \\widehat{\\beta}_1 x, \\quad \\\n",
    "\\widehat{\\beta}_0 = $ %(b0)0.3f , $\\widehat{\\beta}_1 = $ %(b1)0.3f' % {'b0': b[0], 'b1': b[1]} )\n",
    "plt.show()\n",
    "\n",
    "# Obtain the residuals and plot them (summarise in the markdown cell above)\n",
    "XXX\n",
    "XXX\n",
    "XXX"
   ]
  },
  {
   "cell_type": "markdown",
   "metadata": {},
   "source": [
    "# Least Squares and Maximum Likelihood\n",
    "\n",
    "..."
   ]
  },
  {
   "cell_type": "markdown",
   "metadata": {},
   "source": [
    "# Prediction\n",
    "\n",
    "..."
   ]
  },
  {
   "cell_type": "markdown",
   "metadata": {},
   "source": [
    "# Multiple Regression Examples\n",
    "\n",
    "..."
   ]
  },
  {
   "cell_type": "markdown",
   "metadata": {},
   "source": [
    "## Loss functions and gradient descent\n",
    "\n",
    "In the above example with linear regression we wanted to minimize the vertical distance between the fitted line and the data, this vertical distance is a prime example of a **loss function**. In general when we are faced with a regression problem we want a way of measure how good our model is, this quantity that we want to *minimise* is called the loss function and its expectation (over different sample data-points is called the **risk**). The mathematical statistical justification for this approach towards minimising expected loss or risk is called [empirical risk minimisation](https://en.wikipedia.org/wiki/Empirical_risk_minimization), as we will see in the sequel in more detail.\n",
    "\n",
    "Let us circle back to linear regression once again. The way the `np.argmin` method searched for the minimum of:\n",
    "\n",
    "$$L(a,b) = \\sum_{i=1}^N (y_i - f_{a,b}(x_i))^2$$\n",
    "\n",
    "was by simply evaluating $L(a,b)$ for each value of $a$ in the array `prop_a` with our guessed values for $a$ and picking the $a$ that minimised $L(a,b)$. Recall we fixed $b$ in the search.\n",
    "\n",
    "> np.argmin? # see the docstring for np.argmin and other functions/methods we are using throughout if you need to know right away.\n",
    "\n",
    "This approaching of evaluating the loss at a set of parameter values quickly becomes infeasible when the dimension of the problem is larger than $1$. \n",
    "\n",
    "Even if we just have two guess for each dimension of the parameter space with $d$ dimensions, then we will need to evaluate the loss at $2^d$ parameter values. When $d=10,100,1000$ the number of evaluation points become $1024$, $1.268e30, 1.072e301$, respectively.\n",
    "\n",
    "Often in big-data settings, the number of dimensions for the regression problem can easily extend over a few thousands. \n",
    "Thus, we need a systematic way to find the optimal parameters, i.e., the parameters that minimise the loss function.\n",
    "\n",
    "The iterative solution is called **gradient descent** and it goes like this: \n",
    "\n",
    "- *Initialise:* Let us start with some initial parameters, say in our linear regression example $(a,b) = (0,0)$, say at iteration $i=0$.\n",
    "- *Update:* then we construct an update rule like the following to update the parameter values at $i+1$ from those at iteration $i$:\n",
    "  - $a_i = a_{i-1}-l \\frac{dL}{da}(a_{i-1},b_{i-1})$\n",
    "  - $b_i = b_{i-1}-l \\frac{dL}{db}(a_{i-1},b_{i-1}) $\n",
    "  - where $l > 0$ is called the learning rate.\n",
    "- *Stop:* Finally we stop when a stopping rule like the following is satisfied:\n",
    "$$\\sqrt( ( L(a_{i+1},b_{i+1})- L(a_{i},b_{i}))^2) < \\tau, \\qquad \\text{ where, $\\tau$ is some tolerance threshold that says we are close enough to the minimum value found by our iteration}.$$\n"
   ]
  },
  {
   "cell_type": "code",
   "execution_count": null,
   "metadata": {},
   "outputs": [],
   "source": []
  },
  {
   "cell_type": "code",
   "execution_count": null,
   "metadata": {},
   "outputs": [],
   "source": []
  },
  {
   "cell_type": "markdown",
   "metadata": {},
   "source": [
    "# Introduction to R in SageMath Jupyter IPython Notebook\n",
    "\n",
    "1. How to run `R` commands in SageMath\n",
    "    * installing packages\n",
    "    * loading libraries\n",
    "    * loading data\n",
    "    * running typical statistical models like generalised linear models (a superset of linear regression models in this course) on the beetles data\n",
    "    * making PNG images of the plots\n",
    "    \n",
    "2. Why SageMath for `R`?"
   ]
  },
  {
   "cell_type": "markdown",
   "metadata": {},
   "source": [
    "## Running R in SageMath is \"easy as\":\n",
    "\n",
    "- Use `%%r` to denote that the `Code` cell is of language `R`\n",
    "- Installing R packages with `install.packages(...)`\n",
    "\n",
    "**Note:** Once a package is installed on a particular machine using `install.packages(\"wantedpackage\")` then you only need to load that library using `library(wantedpackage)` when you are using the same machine.\n"
   ]
  },
  {
   "cell_type": "code",
   "execution_count": 40,
   "metadata": {},
   "outputs": [
    {
     "name": "stdout",
     "output_type": "stream",
     "text": [
      "\n",
      "\n",
      "\n"
     ]
    }
   ],
   "source": [
    "%%r\n",
    "#install.packages(\"Flury\")\n",
    "#library(Flury)\n",
    "#data(dead.beetles)"
   ]
  },
  {
   "cell_type": "markdown",
   "metadata": {},
   "source": [
    "## Additional Packages\n",
    "\n",
    "One often needs several additional packages to run certain desired `R` commands. Let's get some such packages.\n",
    "\n",
    "\n",
    "In other words, you don't have to install packages that are already installed and thus can be automatically found by `R` in the default location it will be installed at. In the case below, you can see where the package was installed from the following line:\n",
    "\n",
    "-  `Installing package into ‘/some_path_to_where_the_package_is_installed’`"
   ]
  }
 ],
 "metadata": {
  "kernelspec": {
   "display_name": "SageMath 8.4",
   "language": "",
   "name": "sagemath"
  },
  "language_info": {
   "codemirror_mode": {
    "name": "ipython",
    "version": 2
   },
   "file_extension": ".py",
   "mimetype": "text/x-python",
   "name": "python",
   "nbconvert_exporter": "python",
   "pygments_lexer": "ipython2",
   "version": "2.7.15"
  },
  "lx_course_instance": "Spring 2019, Uppsala University",
  "lx_course_name": "Applied Statistics",
  "lx_course_number": "1MS926"
 },
 "nbformat": 4,
 "nbformat_minor": 2
}
