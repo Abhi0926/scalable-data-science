{
 "cells": [
  {
   "cell_type": "markdown",
   "metadata": {
    "deletable": false
   },
   "source": [
    "# [Applied Statistics](https://lamastex.github.io/scalable-data-science/as/2019/)\n",
    "## 1MS926, Spring 2019, Uppsala University \n",
    "&copy;2019 Raazesh Sainudiin. [Attribution 4.0 International (CC BY 4.0)](https://creativecommons.org/licenses/by/4.0/)"
   ]
  },
  {
   "cell_type": "markdown",
   "metadata": {},
   "source": [
    "# 08. Pseudo-Random Numbers, Simulating from Some Discrete and Continuous Random Variables\n",
    "\n",
    "\n",
    "- The $Uniform(0,1)$ RV\n",
    "- The $Bernoulli(\\theta)$ RV\n",
    "- Simulating from the $Bernoulli(\\theta)$ RV\n",
    "- The Equi-Probable $de\\,Moivre(k)$ RV\n",
    "- Simulating from the Equi-Probable $de\\,Moivre(k)$ RV\n",
    "- The $Uniform(\\theta_1, \\theta_2)$ RV\n",
    "- Simulating from the $Uniform(\\theta_1, \\theta_2)$ RV\n",
    "- The $Exponential(\\lambda)$ RV\n",
    "- Simulating from the $Exponential(\\lambda)$ RV\n",
    "- The standard $Cauchy$ RV\n",
    "- Simulating from the standard $Cauchy$ RV\n",
    "- Investigating running means\n",
    "- Replicable samples\n",
    "- A simple simulation\n",
    " \n",
    "\n",
    "In the last notebook, we started to look at how we can produce realisations from the most elementary $Uniform(0,1)$ random variable.\n",
    "\n",
    "i.e., how can we produce samples $(x_1, x_2, \\ldots, x_n)$ from $X_1, X_2, \\ldots, X_n$ $\\overset{IID}{\\thicksim}$ $Uniform(0,1)$?\n",
    "\n",
    "What is SageMath doing when we ask for random()?"
   ]
  },
  {
   "cell_type": "code",
   "execution_count": 108,
   "metadata": {},
   "outputs": [
    {
     "data": {
      "text/plain": [
       "0.42537586382629056"
      ]
     },
     "execution_count": 108,
     "metadata": {},
     "output_type": "execute_result"
    }
   ],
   "source": [
    "random()"
   ]
  },
  {
   "cell_type": "markdown",
   "metadata": {},
   "source": [
    "We looked at how Modular arithmetic and number theory gives us pseudo-random number generators.\n",
    "\n",
    "We used linear congruential generators (LCG) as simple pseudo-random number generators.\n",
    "\n",
    "Remember that \"pseudo-random\" means that the numbers are not really random.  We saw that some linear congruential generators (LCG) have much shorter, more predictable, patterns than others and we learned what makes a good LCG.\n",
    "\n",
    "We introduced the pseudo-random number generator (PRNG) called the Mersenne Twister that we will use for simulation purposes in this course.  It is based on more sophisticated theory than that of LCG but the basic principles of recurrence relations are the same. \n",
    "\n",
    "# The $Uniform(0,1)$ Random Variable\n",
    "\n",
    "Recall that the $Uniform(0,1)$ random variable is the fundamental model as we can transform it to any other random variable, random vector or random structure.  The PDF $f$ and DF $F$ of $X \\sim Uniform(0,1)$ are:\n",
    "\n",
    "$f(x) = \\begin{cases} 0 & \\text{if} \\ x \\notin [0,1] \\\\ 1 & \\text{if} \\ x \\in [0,1] \\end{cases}$\n",
    "\n",
    "$F(x) = \\begin{cases} 0 & \\text{if} \\ x < 0 \\\\ 1 & \\text{if} \\ x > 1 \\\\ x  & \\text{if} \\ x \\in [0,1] \\end{cases}$\n",
    "\n",
    "We use the Mersenne twister pseudo-random number generator to mimic independent and identically distributed draws from the $uniform(0,1)$ RV. \n",
    "\n",
    "In Sage, we use the python random module to generate pseudo-random numbers for us.  (We have already used it:  remember randint?)\n",
    "\n",
    "random() will give us one simulation from the $Uniform(0,1)$ RV:"
   ]
  },
  {
   "cell_type": "code",
   "execution_count": 109,
   "metadata": {},
   "outputs": [
    {
     "data": {
      "text/plain": [
       "0.1419435218349382"
      ]
     },
     "execution_count": 109,
     "metadata": {},
     "output_type": "execute_result"
    }
   ],
   "source": [
    "random()"
   ]
  },
  {
   "cell_type": "markdown",
   "metadata": {},
   "source": [
    "If we want a whole simulated sample we can use a list comprehension.   We will be using this technique frequently so make sure you understand what is going on.   \"for i in range(3)\" is acting like a counter to give us 3 simulated values in the list we are making"
   ]
  },
  {
   "cell_type": "code",
   "execution_count": 110,
   "metadata": {},
   "outputs": [
    {
     "data": {
      "text/plain": [
       "[0.21144920037695336, 0.08745776343863265, 0.6333202773964204]"
      ]
     },
     "execution_count": 110,
     "metadata": {},
     "output_type": "execute_result"
    }
   ],
   "source": [
    "[random() for i in range(3)]"
   ]
  },
  {
   "cell_type": "code",
   "execution_count": 111,
   "metadata": {},
   "outputs": [
    {
     "data": {
      "text/plain": [
       "[0.17655378715967285, 0.7004267014793566, 0.9012955679211002]"
      ]
     },
     "execution_count": 111,
     "metadata": {},
     "output_type": "execute_result"
    }
   ],
   "source": [
    "listOfUniformSamples = [random() for i in range(3) ]\n",
    "listOfUniformSamples"
   ]
  },
  {
   "cell_type": "markdown",
   "metadata": {},
   "source": [
    "If we do this again, we will get a different sample:"
   ]
  },
  {
   "cell_type": "code",
   "execution_count": 112,
   "metadata": {},
   "outputs": [
    {
     "data": {
      "text/plain": [
       "[0.42878376363455883, 0.8653346858675243, 0.9496138119215649]"
      ]
     },
     "execution_count": 112,
     "metadata": {},
     "output_type": "execute_result"
    }
   ],
   "source": [
    "listOfUniformSamples2 = [random() for i in range(3) ]\n",
    "listOfUniformSamples2"
   ]
  },
  {
   "cell_type": "markdown",
   "metadata": {},
   "source": [
    "Often is it useful to be able to replicate the same random sample.   For example, if we were writing some code to do some simulations using samples from a PRNG, and we \"improved\" the way that we were doing it, how would we want to test our improvement?  If we could replicate the same samples then we could show that our new code was equivalent to our old code, just more efficient.  \n",
    "\n",
    "Remember when we were using the LCGs, and we could set the seed $x_0$?  More sophisticated PRNGs like the Mersenne Twister also have a seed.  By setting this seed to a specified value we can make sure that we can replicate samples. "
   ]
  },
  {
   "cell_type": "code",
   "execution_count": 113,
   "metadata": {},
   "outputs": [],
   "source": [
    "?set_random_seed"
   ]
  },
  {
   "cell_type": "code",
   "execution_count": 114,
   "metadata": {},
   "outputs": [],
   "source": [
    "set_random_seed(256526)"
   ]
  },
  {
   "cell_type": "code",
   "execution_count": 115,
   "metadata": {},
   "outputs": [
    {
     "data": {
      "text/plain": [
       "[0.6409693377860118, 0.9433546579659949, 0.5147129803356773]"
      ]
     },
     "execution_count": 115,
     "metadata": {},
     "output_type": "execute_result"
    }
   ],
   "source": [
    "listOfUniformSamples = [random() for i in range(3) ]\n",
    "listOfUniformSamples"
   ]
  },
  {
   "cell_type": "code",
   "execution_count": 116,
   "metadata": {},
   "outputs": [
    {
     "data": {
      "text/plain": [
       "256526L"
      ]
     },
     "execution_count": 116,
     "metadata": {},
     "output_type": "execute_result"
    }
   ],
   "source": [
    "initial_seed()"
   ]
  },
  {
   "cell_type": "markdown",
   "metadata": {},
   "source": [
    "Now we can replicate the same sample again by setting the seed to the same value:"
   ]
  },
  {
   "cell_type": "code",
   "execution_count": 117,
   "metadata": {},
   "outputs": [
    {
     "data": {
      "text/plain": [
       "[0.6409693377860118, 0.9433546579659949, 0.5147129803356773]"
      ]
     },
     "execution_count": 117,
     "metadata": {},
     "output_type": "execute_result"
    }
   ],
   "source": [
    "set_random_seed(256526)\n",
    "listOfUniformSamples2 = [random() for i in range(3) ]\n",
    "listOfUniformSamples2"
   ]
  },
  {
   "cell_type": "code",
   "execution_count": 118,
   "metadata": {},
   "outputs": [
    {
     "data": {
      "text/plain": [
       "256526L"
      ]
     },
     "execution_count": 118,
     "metadata": {},
     "output_type": "execute_result"
    }
   ],
   "source": [
    "initial_seed()"
   ]
  },
  {
   "cell_type": "code",
   "execution_count": 119,
   "metadata": {},
   "outputs": [
    {
     "data": {
      "text/plain": [
       "[0.31709291282858576, 0.47750941216422715, 0.24185704293897292]"
      ]
     },
     "execution_count": 119,
     "metadata": {},
     "output_type": "execute_result"
    }
   ],
   "source": [
    "set_random_seed(2676676766)\n",
    "listOfUniformSamples2 = [random() for i in range(3) ]\n",
    "listOfUniformSamples2"
   ]
  },
  {
   "cell_type": "code",
   "execution_count": 120,
   "metadata": {},
   "outputs": [
    {
     "data": {
      "text/plain": [
       "2676676766L"
      ]
     },
     "execution_count": 120,
     "metadata": {},
     "output_type": "execute_result"
    }
   ],
   "source": [
    "initial_seed()"
   ]
  },
  {
   "cell_type": "markdown",
   "metadata": {},
   "source": [
    "We can compare some samples visually by plotting them:"
   ]
  },
  {
   "cell_type": "code",
   "execution_count": 121,
   "metadata": {},
   "outputs": [
    {
     "data": {
      "image/png": "[encoded data removed]",
      "text/plain": [
       "Graphics Array of size 1 x 3"
      ]
     },
     "metadata": {},
     "output_type": "display_data"
    }
   ],
   "source": [
    "set_random_seed(256526)\n",
    "listOfUniformSamples = [(i,random()) for i in range(100)]\n",
    "plotsSeed1 = points(listOfUniformSamples)\n",
    "t1 = text('Seed 1 = 256626', (60,1.2), rgbcolor='blue',fontsize=10) \n",
    "set_random_seed(2676676766)\n",
    "plotsSeed2 = points([(i,random()) for i in range(100)],rgbcolor=\"red\")\n",
    "t2 = text('Seed 2 = 2676676766', (60,1.2), rgbcolor='red',fontsize=10) \n",
    "bothSeeds = plotsSeed1 + plotsSeed2\n",
    "t31 = text('Seed 1 and', (30,1.2), rgbcolor='blue',fontsize=10) \n",
    "t32 = text('Seed 2', (65,1.2), rgbcolor='red',fontsize=10)\n",
    "show(graphics_array( (plotsSeed1+t1,plotsSeed2+t2, bothSeeds+t31+t32)),figsize=[9,3])"
   ]
  },
  {
   "cell_type": "markdown",
   "metadata": {},
   "source": [
    "### YouTry\n",
    "\n",
    "Try looking at the more advanced documentation and play a bit."
   ]
  },
  {
   "cell_type": "code",
   "execution_count": 122,
   "metadata": {},
   "outputs": [],
   "source": [
    "#?sage.misc.randstate"
   ]
  },
  {
   "cell_type": "code",
   "execution_count": null,
   "metadata": {},
   "outputs": [],
   "source": []
  },
  {
   "cell_type": "code",
   "execution_count": null,
   "metadata": {},
   "outputs": [],
   "source": []
  },
  {
   "cell_type": "markdown",
   "metadata": {},
   "source": [
    "(end of You Try)\n",
    "\n",
    "---\n",
    "\n",
    "---\n",
    "\n",
    "### Question:\n",
    "\n",
    "What can we do with samples from a $Uniform(0,1)$ RV?  Why bother?\n",
    "\n",
    "### Answer:\n",
    "\n",
    "We can use them to sample or simulate from other, more complex, random variables. \n",
    "\n",
    " \n",
    "\n",
    "# The $Bernoulli(\\theta)$ Random Variable\n",
    "\n",
    "The $Bernoulli(\\theta)$ RV $X$ with PMF $f(x;\\theta)$ and DF $F(x;\\theta)$ parameterised by some real $\\theta\\in [0,1]$ is a discrete random variable with only two possible outcomes. \n",
    "\n",
    "$f(x;\\theta)= \\theta^x (1-\\theta)^{1-x} \\mathbf{1}_{\\{0,1\\}}(x) =\n",
    "\\begin{cases}\n",
    "\\theta & \\text{if} \\ x=1,\\\\\n",
    "1-\\theta & \\text{if} \\ x=0,\\\\\n",
    "0 & \\text{otherwise}\n",
    "\\end{cases}$\n",
    "\n",
    "$F(x;\\theta) =\n",
    "\\begin{cases}\n",
    "1 & \\text{if} \\ 1 \\leq x,\\\\\n",
    "1-\\theta & \\text{if} \\ 0 \\leq x < 1,\\\\\n",
    "0 & \\text{otherwise}\n",
    "\\end{cases}$\n",
    "\n",
    "Here are some functions for the PMF and DF for a $Bernoulli$ RV along with various useful functions for us in the sequel. Let's take a quick look at them."
   ]
  },
  {
   "cell_type": "code",
   "execution_count": 123,
   "metadata": {},
   "outputs": [],
   "source": [
    "def bernoulliPMF(x, theta):\n",
    "    '''Probability mass function for Bernoulli(theta).\n",
    "    \n",
    "    Param x is the value to find the Bernoulli probability mass of.\n",
    "    Param theta is the theta parameterising this Bernoulli RV.'''\n",
    "    \n",
    "    retValue = 0\n",
    "    if x == 1:\n",
    "        retValue = theta\n",
    "    elif x == 0:\n",
    "        retValue = 1 - theta\n",
    "    return retValue\n",
    "    \n",
    "def bernoulliCDF(x, theta):\n",
    "    '''DF for Bernoulli(theta).\n",
    "    \n",
    "    Param x is the value to find the Bernoulli cumulative density function of.\n",
    "    Param theta is the theta parameterising this Bernoulli RV.'''\n",
    "    \n",
    "    retValue = 0\n",
    "    if x >= 1:\n",
    "        retValue = 1\n",
    "    elif x >= 0:\n",
    "        retValue = 1 - theta\n",
    "    # in the case where x < 0, retValue is the default of 0\n",
    "    return retValue\n",
    "\n",
    "# PFM plot\n",
    "def pmfPlot(outcomes, pmf_values):\n",
    "    '''Returns a pmf plot for a discrete distribution.'''\n",
    "    \n",
    "    pmf = points(zip(outcomes,pmf_values), rgbcolor=\"blue\", pointsize='20')\n",
    "    for i in range(len(outcomes)):\n",
    "        pmf += line([(outcomes[i], 0),(outcomes[i], pmf_values[i])], rgbcolor=\"blue\", linestyle=\":\")\n",
    "    # padding\n",
    "    pmf += point((0,1), rgbcolor=\"black\", pointsize=\"0\")\n",
    "    return pmf\n",
    "\n",
    "# CDF plot\n",
    "def cdfPlot(outcomes, cdf_values):\n",
    "    '''Returns a DF plot for a discrete distribution.'''\n",
    "    \n",
    "    cdf_pairs = zip(outcomes, cdf_values)\n",
    "    cdf = point(cdf_pairs, rgbcolor = \"red\", faceted = false, pointsize=\"20\")\n",
    "    for k in range(len(cdf_pairs)):\n",
    "        x, kheight = cdf_pairs[k]     # unpack tuple\n",
    "        previous_x = 0\n",
    "        previous_height = 0\n",
    "        if k > 0:\n",
    "            previous_x, previous_height = cdf_pairs[k-1] # unpack previous tuple\n",
    "            cdf += line([(previous_x, previous_height),(x, previous_height)], rgbcolor=\"grey\")\n",
    "            cdf += points((x, previous_height),rgbcolor = \"white\", faceted = true, pointsize=\"20\")\n",
    "            cdf += line([(x, previous_height),(x, kheight)], rgbcolor=\"blue\", linestyle=\":\")\n",
    "        \n",
    "    # padding\n",
    "    max_index = len(outcomes)-1\n",
    "    cdf += line([(outcomes[0]-0.2, 0),(outcomes[0], 0)], rgbcolor=\"grey\")\n",
    "    cdf += line([(outcomes[max_index],cdf_values[max_index]),(outcomes[max_index]+0.2, cdf_values[max_index])], rgbcolor=\"grey\")\n",
    "    return cdf\n",
    "    \n",
    "def makeFreqDictHidden(myDataList):\n",
    "    '''Make a frequency mapping out of a list of data.\n",
    "    \n",
    "    Param myDataList, a list of data.\n",
    "    Return a dictionary mapping each data value from min to max in steps of 1 to its frequency count.'''\n",
    "    \n",
    "    freqDict = {}             # start with an empty dictionary\n",
    "    sortedMyDataList = sorted(myDataList)\n",
    "    for k in sortedMyDataList:\n",
    "        freqDict[k] = myDataList.count(k)\n",
    "    \n",
    "    return freqDict # return the dictionary created\n",
    "\n",
    "def makeEMFHidden(myDataList):\n",
    "    '''Make an empirical mass function from a data list.\n",
    "    \n",
    "    Param myDataList, list of data to make emf from.\n",
    "    Return list of tuples comprising (data value, relative frequency) ordered by data value.'''\n",
    "    \n",
    "    freqs = makeFreqDictHidden(myDataList)     # make the frequency counts mapping\n",
    "    totalCounts = sum(freqs.values())\n",
    "    relFreqs = [fr/(1.0*totalCounts) for fr in freqs.values()] # use a list comprehension\n",
    "    numRelFreqPairs = zip(freqs.keys(), relFreqs) # zip the keys and relative frequencies together\n",
    "    numRelFreqPairs.sort() # sort the list of tuples\n",
    "\n",
    "    return numRelFreqPairs\n",
    "\n",
    "from pylab import array\n",
    "\n",
    "def makeEDFHidden(myDataList):\n",
    "    '''Make an empirical distribution function from a data list.\n",
    "    \n",
    "    Param myDataList, list of data to make emf from.\n",
    "    Return list of tuples comprising (data value, cumulative relative frequency) ordered by data value.'''\n",
    "    \n",
    "    freqs = makeFreqDictHidden(myDataList)     # make the frequency counts mapping\n",
    "    totalCounts = sum(freqs.values())\n",
    "    relFreqs = [fr/(1.0*totalCounts) for fr in freqs.values()] # use a list comprehension\n",
    "    relFreqsArray = array(relFreqs)\n",
    "    cumFreqs = list(relFreqsArray.cumsum())\n",
    "    numCumFreqPairs = zip(freqs.keys(), cumFreqs) # zip the keys and culm relative frequencies together\n",
    "    numCumFreqPairs.sort() # sort the list of tuples\n",
    "    \n",
    "    return numCumFreqPairs\n",
    "    \n",
    "# EPMF plot\n",
    "def epmfPlot(samples):\n",
    "    '''Returns an empirical probability mass function plot from samples data.'''\n",
    "    \n",
    "    epmf_pairs = makeEMFHidden(samples)\n",
    "    epmf = point(epmf_pairs, rgbcolor = \"blue\", pointsize=\"20\")\n",
    "    for k in epmf_pairs:    # for each tuple in the list\n",
    "        kkey, kheight = k     # unpack tuple\n",
    "        epmf += line([(kkey, 0),(kkey, kheight)], rgbcolor=\"blue\", linestyle=\":\")\n",
    "    # padding\n",
    "    epmf += point((0,1), rgbcolor=\"black\", pointsize=\"0\")\n",
    "    return epmf\n",
    "    \n",
    "\n",
    "# ECDF plot\n",
    "def ecdfPlot(samples):\n",
    "    '''Returns an empirical probability mass function plot from samples data.'''\n",
    "    ecdf_pairs = makeEDFHidden(samples)\n",
    "    ecdf = point(ecdf_pairs, rgbcolor = \"red\", faceted = false, pointsize=\"20\")\n",
    "    for k in range(len(ecdf_pairs)):\n",
    "        x, kheight = ecdf_pairs[k]     # unpack tuple\n",
    "        previous_x = 0\n",
    "        previous_height = 0\n",
    "        if k > 0:\n",
    "            previous_x, previous_height = ecdf_pairs[k-1] # unpack previous tuple\n",
    "            ecdf += line([(previous_x, previous_height),(x, previous_height)], rgbcolor=\"grey\")\n",
    "            ecdf += points((x, previous_height),rgbcolor = \"white\", faceted = true, pointsize=\"20\")\n",
    "            ecdf += line([(x, previous_height),(x, kheight)], rgbcolor=\"blue\", linestyle=\":\")\n",
    "    # padding\n",
    "    ecdf += line([(ecdf_pairs[0][0]-0.2, 0),(ecdf_pairs[0][0], 0)], rgbcolor=\"grey\")\n",
    "    max_index = len(ecdf_pairs)-1\n",
    "    ecdf += line([(ecdf_pairs[max_index][0], ecdf_pairs[max_index][1]),(ecdf_pairs[max_index][0]+0.2, ecdf_pairs[max_index][1])],rgbcolor=\"grey\")\n",
    "    return ecdf"
   ]
  },
  {
   "cell_type": "markdown",
   "metadata": {},
   "source": [
    "We can see the effect of varying $\\theta$ interactively:"
   ]
  },
  {
   "cell_type": "code",
   "execution_count": 124,
   "metadata": {},
   "outputs": [
    {
     "data": {
      "application/vnd.jupyter.widget-view+json": {
       "model_id": "efc8dd08c057452cbf5a0c627d3e80fc",
       "version_major": 2,
       "version_minor": 0
      },
      "text/plain": [
       "SW50ZXJhY3RpdmUgZnVuY3Rpb24gPGZ1bmN0aW9uIF8gYXQgMHg3ZjM2NDQ5MTczOTg+IHdpdGggMSB3aWRnZXQKICB0aGV0YTogRmxvYXRTbGlkZXIodmFsdWU9MC41LCBkZXNjcmlwdGlvbj3igKY=\n"
      ]
     },
     "metadata": {},
     "output_type": "display_data"
    }
   ],
   "source": [
    "@interact\n",
    "def _(theta=(0.5)):\n",
    "    '''Interactive function to plot the bernoulli pmf and cdf.'''\n",
    "    if theta <=1 and theta >= 0:\n",
    "        outcomes = (0, 1) # define the bernoulli outcomes\n",
    "        print \"Bernoulli (\", RR(theta).n(digits=2), \") pmf and cdf\"\n",
    "        # pmf plot\n",
    "        pmf_values = [bernoulliPMF(x, theta) for x in outcomes]\n",
    "        pmf = pmfPlot(outcomes, pmf_values) # this is one of our own, hidden, functions\n",
    "        # cdf plot\n",
    "        cdf_values = [bernoulliCDF(x, theta) for x in outcomes]\n",
    "        cdf = cdfPlot(outcomes, cdf_values) # this is one of our own, hidden, functions\n",
    "        show(graphics_array([pmf, cdf]),figsize=[8,3])\n",
    "    else:\n",
    "        print \"0 <= theta <= 1\""
   ]
  },
  {
   "cell_type": "markdown",
   "metadata": {},
   "source": [
    "Don't worry about how these plots are done:  you are not expected to be able to understand all of these details now.  \n",
    "\n",
    "Just use them to see the effect of varying $\\theta$.\n",
    "\n",
    "## Simulating a sample from the $Bernoulli(\\theta)$ RV\n",
    "\n",
    "We can simulate a sample from a $Bernoulli$ distribution by transforming input from a $Uniform(0,1)$ distribution using the floor() function in Sage.    In maths, $\\lfloor x \\rfloor$,  the 'floor of  $x$' is the largest integer that is smaller than or equal to $x$.  For example, $\\lfloor 3.8 \\rfloor = 3$."
   ]
  },
  {
   "cell_type": "code",
   "execution_count": 125,
   "metadata": {},
   "outputs": [
    {
     "data": {
      "text/plain": [
       "3"
      ]
     },
     "execution_count": 125,
     "metadata": {},
     "output_type": "execute_result"
    }
   ],
   "source": [
    "z=3.8\n",
    "floor(z)"
   ]
  },
  {
   "cell_type": "markdown",
   "metadata": {},
   "source": [
    "Using floor, we can do inversion sampling from the $Bernoulli(\\theta)$ RV using the the $Uniform(0,1)$ random variable that we said is the fundamental model.\n",
    "\n",
    "We will introduce inversion sampling more formally later.  In general, inversion sampling means using the inverse of the CDF $F$, $F^{[-1]}$, to transform input from a $Uniform(0,1)$ distribution. \n",
    "\n",
    "To simulate from the $Bernoulli(\\theta)$, we can use the following algorithm:\n",
    "\n",
    "### Input:\n",
    "\n",
    "- $u \\thicksim Uniform(0,1)$ from a PRNG,   $\\qquad \\qquad \\text{where, } \\sim$ means \"sample from\"\n",
    "- $\\theta$, the parameter\n",
    "\n",
    "### Output:\n",
    "\n",
    "$x \\thicksim Bernoulli(\\theta)$\n",
    "\n",
    "### Steps:\n",
    "\n",
    "- $u \\leftarrow Uniform(0,1)$\n",
    "- $x \\leftarrow  \\lfloor u + \\theta \\rfloor$\n",
    "- Return $x$\n",
    "\n",
    " We can illustrate this with SageMath:"
   ]
  },
  {
   "cell_type": "code",
   "execution_count": 126,
   "metadata": {},
   "outputs": [
    {
     "data": {
      "text/plain": [
       "0"
      ]
     },
     "execution_count": 126,
     "metadata": {},
     "output_type": "execute_result"
    }
   ],
   "source": [
    "theta = 0.5 # theta must be such that 0 <= theta <= 1\n",
    "u = random()\n",
    "x = floor(u + theta)\n",
    "x"
   ]
  },
  {
   "cell_type": "markdown",
   "metadata": {},
   "source": [
    "To make  a number of simulations, we can use list comprehensions again:"
   ]
  },
  {
   "cell_type": "code",
   "execution_count": 127,
   "metadata": {},
   "outputs": [
    {
     "data": {
      "text/plain": [
       "[0, 0, 1, 1, 0, 0, 1, 0, 1, 1, 1, 1, 1, 1, 0, 0, 1, 1, 0, 0]"
      ]
     },
     "execution_count": 127,
     "metadata": {},
     "output_type": "execute_result"
    }
   ],
   "source": [
    "theta = 0.5\n",
    "n = 20\n",
    "randomUs = [random() for i in range(n)]\n",
    "simulatedBs = [floor(u + theta) for u in randomUs]\n",
    "simulatedBs"
   ]
  },
  {
   "cell_type": "markdown",
   "metadata": {},
   "source": [
    "To make modular reusable code we can package up what we have done as functions. \n",
    "\n",
    "The function `bernoulliFInverse(u, theta)` codes the inverse of the CDF of a Bernoulli distribution parameterised by `theta`.  The function `bernoulliSample(n, theta)` uses `bernoulliFInverse(...)` in a list comprehension to simulate n samples from a Bernoulli distribution parameterised by theta, i.e., the distribution of our $Bernoulli(\\theta)$ RV."
   ]
  },
  {
   "cell_type": "code",
   "execution_count": 128,
   "metadata": {},
   "outputs": [],
   "source": [
    "def bernoulliFInverse(u, theta):\n",
    "    '''A function to evaluate the inverse CDF of a bernoulli.\n",
    "    \n",
    "    Param u is the value to evaluate the inverse CDF at.\n",
    "    Param theta is the distribution parameters.\n",
    "    Returns inverse CDF under theta evaluated at u'''\n",
    "    \n",
    "    return floor(u + theta)\n",
    "    \n",
    "def bernoulliSample(n, theta):\n",
    "    '''A function to simulate samples from a bernoulli distribution.\n",
    "    \n",
    "    Param n is the number of samples to simulate.\n",
    "    Param theta is the bernoulli distribution parameter.\n",
    "    Returns a simulated Bernoulli sample as a list'''\n",
    "    \n",
    "    us = [random() for i in range(n)]\n",
    "    # use bernoulliFInverse in a list comprehension\n",
    "    return [bernoulliFInverse(u, theta) for u in us] \n"
   ]
  },
  {
   "cell_type": "markdown",
   "metadata": {},
   "source": [
    "Note that we are using a list comprehension and the built-in SageMath `random()` function to make a list of pseudo-random simulations from the $Uniform(0,1)$.  The length of the list is determined by the value of n.  Inside the body of the function we assign this list to a variable named `us` (i.e., u plural).  We then use another list comprehension to make our simulated sample.  This list comprehension works by calling our function `bernoulliFInverse(...)` and passing in values for theta together with each u in us in turn.\n",
    "\n",
    "Let's try a small number of samples:"
   ]
  },
  {
   "cell_type": "code",
   "execution_count": 129,
   "metadata": {},
   "outputs": [
    {
     "data": {
      "text/plain": [
       "[0, 0, 0, 1, 0, 1, 0, 0, 0, 1]"
      ]
     },
     "execution_count": 129,
     "metadata": {},
     "output_type": "execute_result"
    }
   ],
   "source": [
    "theta = 0.2\n",
    "n = 10\n",
    "samples = bernoulliSample(n, theta)\n",
    "samples"
   ]
  },
  {
   "cell_type": "markdown",
   "metadata": {},
   "source": [
    "Now lets explore the effect of interactively varying n and $\\theta$:"
   ]
  },
  {
   "cell_type": "code",
   "execution_count": 130,
   "metadata": {},
   "outputs": [
    {
     "data": {
      "application/vnd.jupyter.widget-view+json": {
       "model_id": "bbf69567821a42a191c9ba7f9d06b5e1",
       "version_major": 2,
       "version_minor": 0
      },
      "text/plain": [
       "SW50ZXJhY3RpdmUgZnVuY3Rpb24gPGZ1bmN0aW9uIF8gYXQgMHg3ZjM2M2RlNmEzOTg+IHdpdGggMiB3aWRnZXRzCiAgdGhldGE6IEZsb2F0U2xpZGVyKHZhbHVlPTAuNSwgZGVzY3JpcHRpb27igKY=\n"
      ]
     },
     "metadata": {},
     "output_type": "display_data"
    }
   ],
   "source": [
    "@interact\n",
    "def _(theta=(0.5), n=(10,(0..1000))):\n",
    "    '''Interactive function to plot samples from bernoulli distribution.'''\n",
    "    if theta >= 0 and theta <= 1:\n",
    "        print \"epmf and ecdf for \", n, \" samples from Bernoulli (\", theta, \")\"\n",
    "        samples = bernoulliSample(n, theta)\n",
    "        # epmf plot\n",
    "        epmf = epmfPlot(samples) # this is one of our hidden functions\n",
    "        # ecdf plot\n",
    "        ecdf = ecdfPlot(samples)  # this is one of our hidden functions\n",
    "        show(graphics_array([epmf, ecdf]),figsize=[8,3])\n",
    "    else:\n",
    "        print \"0 <= theta <=1, n>0\""
   ]
  },
  {
   "cell_type": "markdown",
   "metadata": {},
   "source": [
    "You can vary $\\theta$ and $n$ on the interactive plot.  You should be able to see that as $n$ increases, the empirical plots should get closer to the theoretical $f$ and $F$. \n",
    "\n",
    "\n",
    "\n",
    "### YouTry\n",
    "\n",
    "Check that you understand what `floor` is doing.  We have put some extra print statements into our demonstration of floor so that you can see what is going on in each step.  Try evaluating this cell several times so that you see what happens with different values of `u`."
   ]
  },
  {
   "cell_type": "code",
   "execution_count": 131,
   "metadata": {},
   "outputs": [
    {
     "name": "stdout",
     "output_type": "stream",
     "text": [
      "u is 0.634132126453\n",
      "u + theta is 1.13413212645321\n",
      "floor(u + theta) is 1\n"
     ]
    }
   ],
   "source": [
    "theta = 0.5 # theta must be such that 0 <= theta <= 1\n",
    "u = random()\n",
    "print \"u is\", u\n",
    "print \"u + theta is\", (u + theta)\n",
    "print \"floor(u + theta) is\", floor(u + theta)"
   ]
  },
  {
   "cell_type": "markdown",
   "metadata": {},
   "source": [
    "In the cell below we use floor to get 1's and 0's from the pseudo-random u's given by random().  It is effectively doing exactly the same thing as the functions above that we use to simulate a specified number of $Bernoulli(\\theta)$ RVs, but the why that it is written may be easier to understand.  If `floor` is doing what we want it to, then when `n` is sufficiently large, we'd expect our proportion of `1`s to be close to `theta` (remember Kolmogorov's axiomatic motivations for probability!).  Try changing the value assigned to the variable `theta` and re-evaluting the cell to check this.  "
   ]
  },
  {
   "cell_type": "code",
   "execution_count": 132,
   "metadata": {},
   "outputs": [
    {
     "data": {
      "text/plain": [
       "0.699650000000000"
      ]
     },
     "execution_count": 132,
     "metadata": {},
     "output_type": "execute_result"
    }
   ],
   "source": [
    "theta = 0.7 # theta must be such that 0 <= theta <= 1\n",
    "listFloorResults = [] # an empty list to store results in\n",
    "n = 100000    # how many iterations to do\n",
    "for i in range(n): # a for loop to do something n times\n",
    "    u = random() # generate u\n",
    "    x = floor(u + theta) # use floor\n",
    "    listFloorResults.append(x) # add x to the list of results\n",
    "listFloorResults.count(1)*1.0/len(listFloorResults) # proportion of 1s in the results"
   ]
  },
  {
   "cell_type": "code",
   "execution_count": null,
   "metadata": {},
   "outputs": [],
   "source": []
  },
  {
   "cell_type": "markdown",
   "metadata": {},
   "source": [
    "# The equi-probable $de~Moivre(\\theta)$ Random Variable\n",
    "\n",
    "The $de~Moivre(\\theta_1,\\theta_2,\\ldots,\\theta_k)$ RV is the natural generalisation of the $Bernoulli (\\theta)$ RV to more than two outcomes.  Take a die (i.e. one of a pair of dice): there are 6 possible outcomes from tossing a die if the die is a normal six-sided one (the outcome is which face is the on the top).  To start with we can allow the possibility that the different faces could be loaded so that they have different probabilities of being the face on the top if we throw the die.  In this case, k=6 and the parameters $\\theta_1$, $\\theta_2$, ...$\\theta_6$ specify how the die is loaded, and the number on the upper-most face if the die is tossed is a $de\\,Moivre$ random variable parameterised by $\\theta_1,\\theta_2,\\ldots,\\theta_6$. \n",
    "\n",
    "If $\\theta_1=\\theta_2=\\ldots=\\theta_6= \\frac{1}{6}$ then we have a fair die.\n",
    "\n",
    "Here are some functions for the equi-probable $de\\, Moivre$ PMF and CDF where we code the possible outcomes as the numbers on the faces of a k-sided die, i.e, 1,2,...k."
   ]
  },
  {
   "cell_type": "code",
   "execution_count": 133,
   "metadata": {},
   "outputs": [],
   "source": [
    "def deMoivrePMF(x, k):\n",
    "    '''Probability mass function for equi-probable de Moivre(k).\n",
    "    \n",
    "    Param x is the value to evaluate the deMoirve pmf at.\n",
    "    Param k is the k parameter for an equi-probable deMoivre.\n",
    "    Returns the evaluation of the deMoivre(k) pmf at x.'''\n",
    "    \n",
    "    if (int(x)==x) & (x > 0) & (x <= k):\n",
    "        return 1.0/k\n",
    "    else:\n",
    "        return 0\n",
    "    \n",
    "def deMoivreCDF(x, k):\n",
    "    '''DF for equi-probable de Moivre(k).\n",
    "    \n",
    "    Param x is the value to evaluate the deMoirve cdf at.\n",
    "    Param k is the k parameter for an equi-probable deMoivre.\n",
    "    Returns the evaluation of the deMoivre(k) cdf at x.'''\n",
    "    \n",
    "    return 1.0*x/k"
   ]
  },
  {
   "cell_type": "code",
   "execution_count": 134,
   "metadata": {},
   "outputs": [
    {
     "data": {
      "application/vnd.jupyter.widget-view+json": {
       "model_id": "b24b185a51bf48c9823ab1b295fae8af",
       "version_major": 2,
       "version_minor": 0
      },
      "text/plain": [
       "SW50ZXJhY3RpdmUgZnVuY3Rpb24gPGZ1bmN0aW9uIF8gYXQgMHg3ZjM2M2U4NzE1MDA+IHdpdGggMSB3aWRnZXQKICBrOiBJbnRTbGlkZXIodmFsdWU9NiwgZGVzY3JpcHRpb249dSdrJywgbWHigKY=\n"
      ]
     },
     "metadata": {},
     "output_type": "display_data"
    }
   ],
   "source": [
    "@interact\n",
    "def _(k=(6)):\n",
    "    '''Interactive function to plot the de Moivre pmf and cdf.'''\n",
    "    if (int(k) == k) and (k >= 1):\n",
    "        outcomes = range(1,k+1,1) # define the outcomes\n",
    "        pmf_values = [deMoivrePMF(x, k) for x in outcomes]\n",
    "        print \"equi-probable de Moivre (\", k, \") pmf and cdf\"\n",
    "        # pmf plot\n",
    "        pmf = pmfPlot(outcomes, pmf_values) # this is one of our hidden functions\n",
    "        \n",
    "        # cdf plot\n",
    "        cdf_values = [deMoivreCDF(x, k) for x in outcomes]\n",
    "        cdf = cdfPlot(outcomes, cdf_values) # this is one of our hidden functions\n",
    "        \n",
    "        show(graphics_array([pmf, cdf]),figsize=[8,3])\n",
    "    else:\n",
    "        print \"k must be an integer, k>0\""
   ]
  },
  {
   "cell_type": "markdown",
   "metadata": {},
   "source": [
    "### YouTry\n",
    "Try changing the value of k in the above interact."
   ]
  },
  {
   "cell_type": "markdown",
   "metadata": {},
   "source": [
    "## Simulating a sample from the equi-probable $de\\,Moivre(k)$ random variable\n",
    "\n",
    "We use floor ($\\lfloor \\, \\rfloor$) again for simulating from the equi-probable $de \\, Moivre(k)$ RV, but because we are defining our outcomes as 1, 2, ... k, we just add 1 to the result.  "
   ]
  },
  {
   "cell_type": "code",
   "execution_count": 135,
   "metadata": {},
   "outputs": [
    {
     "data": {
      "text/plain": [
       "2"
      ]
     },
     "execution_count": 135,
     "metadata": {},
     "output_type": "execute_result"
    }
   ],
   "source": [
    "k = 6\n",
    "u = random()\n",
    "x = floor(u*k)+1\n",
    "x"
   ]
  },
  {
   "cell_type": "markdown",
   "metadata": {},
   "source": [
    "To simulate from the equi-probable $de\\,Moivre(k)$, we can use the following algorithm:\n",
    "\n",
    "#### Input:\n",
    "\n",
    "- $u \\thicksim Uniform(0,1)$ from a PRNG\n",
    "- $k$, the parameter\n",
    "\n",
    "#### Output:\n",
    "\n",
    "- $x \\thicksim \\text{equi-probable } de \\, Moivre(k)$\n",
    "\n",
    "#### Steps:\n",
    "\n",
    "- $u \\leftarrow Uniform(0,1)$\n",
    "- $x \\leftarrow \\lfloor uk \\rfloor + 1$\n",
    "- return $x$\n",
    "\n",
    "We can illustrate this with SageMath:"
   ]
  },
  {
   "cell_type": "code",
   "execution_count": 136,
   "metadata": {},
   "outputs": [],
   "source": [
    "def deMoivreFInverse(u, k):\n",
    "    '''A function to evaluate the inverse CDF of an equi-probable de Moivre.\n",
    "    \n",
    "    Param u is the value to evaluate the inverse CDF at.\n",
    "    Param k is the distribution parameter.\n",
    "    Returns the inverse CDF for a de Moivre(k) distribution evaluated at u.'''\n",
    "    \n",
    "    return floor(k*u) + 1\n",
    "\n",
    "def deMoivreSample(n, k):\n",
    "    '''A function to simulate samples from an equi-probable de Moivre.\n",
    "    \n",
    "    Param n is the number of samples to simulate.\n",
    "    Param k is the bernoulli distribution parameter.\n",
    "    Returns a simulated sample of size n from an equi-probable de Moivre(k) distribution as a list.'''\n",
    "    \n",
    "    us = [random() for i in range(n)]\n",
    "    \n",
    "    return [deMoivreFInverse(u, k) for u in us]"
   ]
  },
  {
   "cell_type": "markdown",
   "metadata": {},
   "source": [
    "A small sample:"
   ]
  },
  {
   "cell_type": "code",
   "execution_count": 137,
   "metadata": {},
   "outputs": [
    {
     "data": {
      "text/plain": [
       "[6, 3, 3, 5, 3, 1, 6, 5, 3, 4, 1, 4, 5, 2, 2]"
      ]
     },
     "execution_count": 137,
     "metadata": {},
     "output_type": "execute_result"
    }
   ],
   "source": [
    "deMoivreSample(15,6)"
   ]
  },
  {
   "cell_type": "markdown",
   "metadata": {},
   "source": [
    "You should understand the `deMoivreFInverse` and `deMoivreSample` functions and be able to write something like them if you were asked to. \n",
    "\n",
    "You are not expected to be to make the interactive plots below (but this is not too hard to do by syntactic mimicry and google searches!). \n",
    "\n",
    "Now let's do some interactive sampling where you can vary $k$ and the sample size $n$:"
   ]
  },
  {
   "cell_type": "code",
   "execution_count": 138,
   "metadata": {},
   "outputs": [
    {
     "data": {
      "application/vnd.jupyter.widget-view+json": {
       "model_id": "5b3f6caea4a844c98520223475f4cb28",
       "version_major": 2,
       "version_minor": 0
      },
      "text/plain": [
       "SW50ZXJhY3RpdmUgZnVuY3Rpb24gPGZ1bmN0aW9uIF8gYXQgMHg3ZjM2M2ViNTEwNTA+IHdpdGggMiB3aWRnZXRzCiAgazogSW50U2xpZGVyKHZhbHVlPTYsIGRlc2NyaXB0aW9uPXUnaycsIG3igKY=\n"
      ]
     },
     "metadata": {},
     "output_type": "display_data"
    }
   ],
   "source": [
    "@interact\n",
    "def _(k=(6), n=(10,(0..500))):\n",
    "    '''Interactive function to plot samples from equi-probable de Moivre distribution.'''\n",
    "    if n > 0 and k >= 0 and int(k) == k:\n",
    "        print \"epmf and ecdf for \", n, \" samples from equi-probable de Moivre (\", k, \")\"\n",
    "        outcomes = range(1,k+1,1) # define the outcomes\n",
    "        samples = deMoivreSample(n, k) # get the samples\n",
    "        epmf = epmfPlot(samples) # this is one of our hidden functions\n",
    "        \n",
    "        ecdf = ecdfPlot(samples) # this is one of our hidden functions\n",
    "        \n",
    "        show(graphics_array([epmf, ecdf]),figsize=[10,3])\n",
    "    else:\n",
    "        print \"k>0 must be an integer, n>0\""
   ]
  },
  {
   "cell_type": "markdown",
   "metadata": {},
   "source": [
    "Try changing $n$ and/or $k$.  With $k = 40$ for example, you could be simulating the number on the first ball for $n$ Lotto draws."
   ]
  },
  {
   "cell_type": "markdown",
   "metadata": {},
   "source": [
    "### YouTry\n",
    "\n",
    "A useful counterpart to the floor of a number is the ceiling, denoted $\\lceil \\, \\rceil$.  In maths, $\\lceil x \\rceil$,  the 'ceiling of  $x$' is the smallest integer that is larger than or equal to $x$.  For example, $\\lceil 3.8 \\rceil = 4$.  We can use the ceil function to do this in Sage:"
   ]
  },
  {
   "cell_type": "code",
   "execution_count": 139,
   "metadata": {},
   "outputs": [
    {
     "data": {
      "text/plain": [
       "4"
      ]
     },
     "execution_count": 139,
     "metadata": {},
     "output_type": "execute_result"
    }
   ],
   "source": [
    "ceil(3.8)"
   ]
  },
  {
   "cell_type": "markdown",
   "metadata": {},
   "source": [
    "Try using `ceil` to check that you understand what it is doing.  What would `ceil(0)` be?  "
   ]
  },
  {
   "cell_type": "code",
   "execution_count": null,
   "metadata": {},
   "outputs": [],
   "source": []
  },
  {
   "cell_type": "markdown",
   "metadata": {},
   "source": [
    "# Inversion Sampler for Continuous Random Variables\n",
    "\n",
    "When we simulated from the discrete RVs above, the $Bernoulli(\\theta)$ and the equi-probable $de\\,Moivre(k)$, we transformed some $u \\thicksim Uniform(0,1)$ into some value for the RV.  \n",
    "\n",
    "Now we will look at the formal idea of an inversion sampler for continuous random variables.  Inversion sampling for continuous random variables is a way to simulate values for a continuous random variable $X$ using $u \\thicksim Uniform(0,1)$. \n",
    "\n",
    "The idea of the inversion sampler is to treat $u \\thicksim Uniform(0,1)$ as some value taken by the CDF $F$ and find the value $x$ at which $F(X \\le x) = u$.\n",
    "\n",
    "To find x where $F(X \\le x) = u$ we need to use the inverse of $F$, $F^{[-1]}$.  This is why it is called an **inversion sampler**.\n",
    "\n",
    "Formalising this,\n",
    "\n",
    "### Proposition\n",
    "\n",
    "Let $F(x) := \\int_{- \\infty}^{x} f(y) \\,d y : \\mathbb{R} \\rightarrow [0,1]$ be a continuous DF with density $f$, and let its inverse $F^{[-1]} $ be:\n",
    "\n",
    "$$ F^{[-1]}(u) := \\inf \\{ x : F(x) = u \\}  : [0,1] \\rightarrow \\mathbb{R} $$\n",
    "\n",
    "Then, $F^{[-1]}(U)$ has the distribution function $F$, provided $U \\thicksim Uniform(0,1)$ ($U$ is a $Uniform(0,1)$ RV).\n",
    "\n",
    "Note:\n",
    "\n",
    "The infimum of a set A of real numbers, denoted by $\\inf(A)$, is the greatest lower bound of every element of $A$.\n",
    "\n",
    "Proof\n",
    "\n",
    "The \"one-line proof\" of the proposition is due to the following equalities: \n",
    "\n",
    "$$P(F^{[-1]}(U) \\leq x) = P(\\inf \\{ y : F(y) = U)\\} \\leq x ) = P(U \\leq F(x)) = F(x), \\quad \\text{for all } x \\in \\mathbb{R} . $$\n",
    "\n",
    "# Algorithm for Inversion Sampler\n",
    "\n",
    "#### Input:\n",
    "\n",
    "- A PRNG for $Uniform(0,1)$ samples\n",
    "- A procedure to give us $F^{[-1]}(u)$, inverse of the DF of the target RV $X$ evaluated at $u$\n",
    "\n",
    "#### Output:\n",
    "\n",
    "- A sample $x$ from $X$ distributed according to $F$\n",
    "\n",
    "#### Algorithm steps:\n",
    "\n",
    "- Draw $u \\sim Uniform(0,1)$\n",
    "- Calculate $x = F^{[-1]}(u)$\n",
    "\n",
    "# The $Uniform(\\theta_1, \\theta_2)$RV\n",
    "\n",
    "We have already met the$Uniform(\\theta_1, \\theta_2)$ RV.\n",
    "\n",
    "Given two real parameters $\\theta_1,\\theta_2 \\in \\mathbb{R}$, such that $\\theta_1 < \\theta_2$, the PDF of the $Uniform(\\theta_1,\\theta_2)$ RV $X$ is:\n",
    "\n",
    "$$f(x;\\theta_1,\\theta_2) =\n",
    "\\begin{cases}\n",
    "\\frac{1}{\\theta_2 - \\theta_1} & \\text{if }\\theta_1 \\leq x \\leq \\theta_2\\text{,}\\\\\n",
    "0 & \\text{otherwise}\n",
    "\\end{cases}\n",
    "$$\n",
    "\n",
    "and its DF given by $F(x;\\theta_1,\\theta_2) = \\int_{- \\infty}^x f(y; \\theta_1,\\theta_2) \\, dy$ is:\n",
    "\n",
    "$$\n",
    "F(x; \\theta_1,\\theta_2) =\n",
    "\\begin{cases}\n",
    "0 & \\text{if }x < \\theta_1 \\\\\n",
    "\\frac{x-\\theta_1}{\\theta_2-\\theta_1} & \\text{if}~\\theta_1 \\leq x \\leq \\theta_2,\\\\\n",
    "1 & \\text{if} x > \\theta_2 \n",
    "\\end{cases}\n",
    "$$\n",
    "\n",
    "For example, here are the PDF, CDF and inverse CDF for the $Uniform(-1,1)$:\n",
    "\n",
    "<img src=\"images/UniformMinus11ThreeCharts.png\" width=800>\n",
    "\n",
    "As usual, we can make some SageMath functions for the PDF and CDF:"
   ]
  },
  {
   "cell_type": "code",
   "execution_count": 140,
   "metadata": {},
   "outputs": [],
   "source": [
    "# uniform pdf\n",
    "def uniformPDF(x, theta1, theta2):\n",
    "    '''Uniform(theta1, theta2) pdf function f(x; theta1, theta2).\n",
    "    \n",
    "    x is the value to evaluate the pdf at.\n",
    "    theta1, theta2 are the distribution parameters.'''\n",
    "    \n",
    "    retvalue = 0 # default return value\n",
    "    if x >= theta1 and x <= theta2:\n",
    "        retvalue = 1.0/(theta2-theta1)\n",
    "    return retvalue\n",
    "\n",
    "# uniform cdf        \n",
    "def uniformCDF(x, theta1, theta2):\n",
    "    '''Uniform(theta1, theta2) CDF or DF function F(x; theta1, theta2).\n",
    "    \n",
    "    x is the value to evaluate the cdf at.\n",
    "    theta1, theta2 are the distribution parameters.'''\n",
    "    \n",
    "    retvalue = 0 # default return value\n",
    "    if (x > theta2):\n",
    "        retvalue = 1\n",
    "    elif (x > theta1): # else-if\n",
    "        retvalue =  (x - theta1) / (theta2-theta1)   \n",
    "    # if (x < theta1), retvalue will be 0\n",
    "    return retvalue"
   ]
  },
  {
   "cell_type": "markdown",
   "metadata": {},
   "source": [
    "Using these functions in an interactive plot, we can see the effect of changing the distribution parameters $\\theta_1$ and $\\theta_2$."
   ]
  },
  {
   "cell_type": "code",
   "execution_count": 141,
   "metadata": {},
   "outputs": [
    {
     "data": {
      "application/vnd.jupyter.widget-view+json": {
       "model_id": "0c26a069c1634fc095a0082eacb38b10",
       "version_major": 2,
       "version_minor": 0
      },
      "text/plain": [
       "SW50ZXJhY3RpdmUgZnVuY3Rpb24gPGZ1bmN0aW9uIEludGVyYWN0aXZlVW5pZm9ybVBERkNERlBsb3RzIGF0IDB4N2YzNjQ0NGIxOGMwPiB3aXRoIDIgd2lkZ2V0cwogIHRoZXRhMTogSW50U2zigKY=\n"
      ]
     },
     "metadata": {},
     "output_type": "display_data"
    }
   ],
   "source": [
    "@interact\n",
    "def InteractiveUniformPDFCDFPlots(theta1=0,theta2=1):\n",
    "    if theta2 > theta1:\n",
    "        print \"Uniform(\", + RR(theta1).n(digits=2), \",\", RR(theta2).n(digits=2), \") pdf and cdf\"\n",
    "        p1 = line([(theta1-1,0), (theta1,0)], rgbcolor='blue')\n",
    "        p1 += line([(theta1,1/(theta2-theta1)), (theta2,1/(theta2-theta1))], rgbcolor='blue')\n",
    "        p1 += line([(theta2,0), (theta2+1,0)], rgbcolor='blue')\n",
    "        \n",
    "        p2 = line([(theta1-1,0), (theta1,0)], rgbcolor='red')\n",
    "        p2 += line([(theta1,0), (theta2,1)], rgbcolor='red')\n",
    "        p2 += line([(theta2,1), (theta2+1,1)], rgbcolor='red')\n",
    "        show(graphics_array([p1, p2]),figsize=[8,3])\n",
    "    else:\n",
    "        print \"theta2 must be greater than theta1\""
   ]
  },
  {
   "cell_type": "markdown",
   "metadata": {},
   "source": [
    "# Simulating from the $Uniform(\\theta_1, \\theta_2)$ RV\n",
    "\n",
    "We can simulate from the $Uniform(\\theta_1,\\theta_2)$ using the inversion sampler, provided that we can get an expression for $F^{[-1]}$ that can be implemented as a procedure. \n",
    "\n",
    "We can get this by solving for $x$ in terms of $u=F(x;\\theta_1,\\theta_2)$:\n",
    "\n",
    "$$\n",
    "u = \\frac{x-\\theta_1}{\\theta_2-\\theta_1} \\quad \\iff  \\quad x = (\\theta_2-\\theta_1)u+\\theta_1 \\quad  \\iff \\quad  F^{[-1]}(u;\\theta_1,\\theta_2) = \\theta_1+(\\theta_2-\\theta_1)u \n",
    "$$\n",
    "\n",
    "<img src=\"images/Week7InverseUniformSampler.png\" width=600>\n",
    "\n",
    "## Algorithm for Inversion Sampler for the $Uniform(\\theta_1, \\theta_2)$ RV\n",
    "\n",
    "#### Input:\n",
    "\n",
    "- $u \\thicksim Uniform(0,1)$\n",
    "- $F^{[-1]}(u)$\n",
    "- $\\theta_1$, $\\theta_2$\n",
    "\n",
    "#### Output:\n",
    "\n",
    "- A sample $x \\thicksim Uniform(\\theta_1, \\theta_2)$\n",
    "\n",
    "#### Algorithm steps:\n",
    "\n",
    "- Draw $u \\sim Uniform(0,1)$\n",
    "- Calculate $x = F^{[-1]}(u) = (\\theta_1 + u(\\theta_2 - \\theta_1))$\n",
    "- Return $x$\n",
    "\n",
    "We can illustrate this with SageMath by writing a function to calculate the inverse of the CDF of a uniform distribution parameterised by theta1 and theta2.  Given a value between 0 and 1 for the parameter u, it returns the height of the inverse CDF at this point, i.e. the value in the range theta1 to theta2 where the CDF evaluates to u.\n"
   ]
  },
  {
   "cell_type": "code",
   "execution_count": 142,
   "metadata": {},
   "outputs": [],
   "source": [
    "def uniformFInverse(u, theta1, theta2):\n",
    "    '''A function to evaluate the inverse CDF of a uniform(theta1, theta2) distribution.\n",
    "    \n",
    "    u, u should be 0 <= u <= 1, is the value to evaluate the inverse CDF at.\n",
    "    theta1, theta2, theta2 > theta1, are the uniform distribution parameters.'''\n",
    "    \n",
    "    return theta1 + (theta2 - theta1)*u"
   ]
  },
  {
   "cell_type": "markdown",
   "metadata": {},
   "source": [
    "This function transforms a single $u$ into a single simulated value from the $Uniform(\\theta_1, \\theta_2)$, for example:"
   ]
  },
  {
   "cell_type": "code",
   "execution_count": 143,
   "metadata": {},
   "outputs": [
    {
     "data": {
      "text/plain": [
       "3.000185740410118"
      ]
     },
     "execution_count": 143,
     "metadata": {},
     "output_type": "execute_result"
    }
   ],
   "source": [
    "u = random()\n",
    "theta1, theta2 = 3, 6\n",
    "uniformFInverse(u, theta1, theta2)"
   ]
  },
  {
   "cell_type": "markdown",
   "metadata": {},
   "source": [
    "Then we can use this function inside another function to generate a number of samples:"
   ]
  },
  {
   "cell_type": "code",
   "execution_count": 144,
   "metadata": {},
   "outputs": [],
   "source": [
    "def uniformSample(n, theta1, theta2):\n",
    "    '''A function to simulate samples from a uniform distribution.\n",
    "    \n",
    "    n > 0 is the number of samples to simulate.\n",
    "    theta1, theta2 (theta2 > theta1) are the uniform distribution parameters.'''\n",
    "    \n",
    "    us = [random() for i in range(n)]\n",
    "    \n",
    "    return [uniformFInverse(u, theta1, theta2) for u in us]"
   ]
  },
  {
   "cell_type": "markdown",
   "metadata": {},
   "source": [
    "The basic strategy is the same as for simulating $Bernoulli$ and $de \\, Moirve$ samples:  we are using a list comprehension and the built-in SAGE random() function to make a list of pseudo-random simulations from the $Uniform(0,1)$.  The length of the list is determined by the value of n.  Inside the body of the function we assign this list to a variable named us (i.e., u plural).  We then use another list comprehension to make our simulated sample.  This list comprehension works by calling our function uniformFInverse(...) and passing in values for theta1 and theta2 together with each u in us in turn.\n",
    "\n",
    "You should be able to write simple functions like uniformFinverse and uniformSample yourself.\n",
    "\n",
    "Try this for a small sample:"
   ]
  },
  {
   "cell_type": "code",
   "execution_count": 145,
   "metadata": {},
   "outputs": [
    {
     "name": "stdout",
     "output_type": "stream",
     "text": [
      "[2.8957510482187026, 0.03128423174056394, 2.5419773139045034, 4.587000660522651, 3.017723728004537, 0.05305196079818053, 3.5570768970634745, 3.098468698217623, -4.156826181220163, 3.8334293816113494, 0.11277226038258892, 3.678064489253778, -2.49096599755666, -4.9393678427190055, -0.7536381266056988, 0.4943773601439805, 4.152171454112787, -3.176695740118023, -1.6627741539117071, 2.411177478936607, -3.6743958858960735, 4.2637761390893605, -3.3123332132398167, 1.1147343318388945, 0.857106205419214, -4.408559113596703, 1.5718140253264865, 3.6437636999952563, -4.768100573981843, 0.22751787199277906]\n"
     ]
    }
   ],
   "source": [
    "param1 = -5\n",
    "param2 = 5\n",
    "nToGenerate = 30\n",
    "myUniformSample = uniformSample(nToGenerate, param1, param2)\n",
    "print(myUniformSample)"
   ]
  },
  {
   "cell_type": "markdown",
   "metadata": {},
   "source": [
    "Much more fun, we can make an interactive plot which uses the uniformSample(...) function to generate and plot while you choose the parameters and number to generate (you are not expected to be able to make interactive plots like this):"
   ]
  },
  {
   "cell_type": "code",
   "execution_count": 146,
   "metadata": {},
   "outputs": [
    {
     "data": {
      "application/vnd.jupyter.widget-view+json": {
       "model_id": "1da8a47d5b634d038281ea0c8c8cbade",
       "version_major": 2,
       "version_minor": 0
      },
      "text/plain": [
       "SW50ZXJhY3RpdmUgZnVuY3Rpb24gPGZ1bmN0aW9uIF8gYXQgMHg3ZjM2M2RmOTFlNjA+IHdpdGggMyB3aWRnZXRzCiAgdGhldGExOiBJbnRTbGlkZXIodmFsdWU9MCwgZGVzY3JpcHRpb249dSfigKY=\n"
      ]
     },
     "metadata": {},
     "output_type": "display_data"
    }
   ],
   "source": [
    "@interact\n",
    "def _(theta1=0, theta2=1, n=(1..5000)):\n",
    "    '''Interactive function to plot samples from uniform distribution.'''\n",
    "    if theta2 > theta1:\n",
    "        if n == 1:\n",
    "            print n, \"uniform(\", + RR(theta1).n(digits=2), \",\", RR(theta2).n(digits=2), \") sample\"\n",
    "        else:\n",
    "            print n, \"uniform(\", + RR(theta1).n(digits=2), \",\", RR(theta2).n(digits=2), \") samples\"   \n",
    "        sample = uniformSample(n, theta1, theta2)\n",
    "        pts = zip(range(1,n+1,1),sample) # plot so that first sample is at x=1\n",
    "        p=points(pts)\n",
    "        p+= text(str(theta1), (0, theta1), fontsize=10, color='black') # add labels manually\n",
    "        p+= text(str(theta2), (0, theta2), fontsize=10, color='black')\n",
    "        p.show(xmin=0, xmax = n+1, ymin=theta1, ymax = theta2, axes=false, gridlines=[[0,n+1],[theta1,theta2]], figsize=[7,3])\n",
    "                \n",
    "    else:\n",
    "        print \"Theta1 must be less than theta2\""
   ]
  },
  {
   "cell_type": "markdown",
   "metadata": {},
   "source": [
    "We can get a better idea of the distribution of our sample using a histogram (the minimum sample size has been set to 50 here because the automatic histogram generation does not do a very good job with small samples)."
   ]
  },
  {
   "cell_type": "code",
   "execution_count": 147,
   "metadata": {},
   "outputs": [
    {
     "data": {
      "application/vnd.jupyter.widget-view+json": {
       "model_id": "c9e75970baf84c4dac4db0f5b333a6d1",
       "version_major": 2,
       "version_minor": 0
      },
      "text/plain": [
       "SW50ZXJhY3RpdmUgZnVuY3Rpb24gPGZ1bmN0aW9uIF8gYXQgMHg3ZjM2M2Q5MzQxYjg+IHdpdGggNCB3aWRnZXRzCiAgdGhldGExOiBJbnRTbGlkZXIodmFsdWU9MCwgZGVzY3JpcHRpb249dSfigKY=\n"
      ]
     },
     "metadata": {},
     "output_type": "display_data"
    }
   ],
   "source": [
    "import pylab\n",
    "@interact\n",
    "def _(theta1=0, theta2=1, n=(50..5000), Bins=5):\n",
    "    '''Interactive function to plot samples from uniform distribution as a histogram.'''\n",
    "    if theta2 > theta1:\n",
    "        sample = uniformSample(n, theta1, theta2)\n",
    "        pylab.clf() # clear current figure\n",
    "        n, bins, patches = pylab.hist(sample, Bins, normed=true) \n",
    "        pylab.ylabel('normalised count')\n",
    "        pylab.title('Normalised histogram')\n",
    "        pylab.savefig('myHist') # to actually display the figure\n",
    "        pylab.show()\n",
    "    else:\n",
    "        print \"Theta1 must be less than theta2\""
   ]
  },
  {
   "cell_type": "markdown",
   "metadata": {
    "collapsed": true
   },
   "source": [
    "# The $Exponential(\\lambda)$ Random Variable\n",
    "\n",
    "For a given $\\lambda$ > 0, an $Exponential(\\lambda)$ Random Variable has the following PDF $f$ and DF $F$:\n",
    "\n",
    " \n",
    "\n",
    "$$\n",
    "f(x;\\lambda) =\\begin{cases}\\lambda e^{-\\lambda x} & \\text{if }x \\ge 0\\text{,}\\\\ 0 & \\text{otherwise}\\end{cases}\n",
    "$$\n",
    "\n",
    "$$\n",
    "F(x;\\lambda) =\\begin{cases}1 - e^{-\\lambda x} & \\text{if }x \\ge 0\\text{,}\\\\ 0 & \\text{otherwise}\\end{cases}\n",
    "$$\n",
    "\n",
    "An exponential distribution is useful because is can often be used to model inter-arrival times or making inter-event measurements (if you are familiar with the $Poisson$ distribution, a discrete distribution, you may have also met the $Exponential$ distribution as the time between $Poisson$ events).  Here are some examples of random variables which are sometimes modelled with an exponential distribution:\n",
    "\n",
    "time between the arrival of buses at a bus-stop\n",
    "distance between roadkills on a stretch of highway\n",
    "In SageMath, the we can use `exp(x)` to calculate $e^x$, for example:"
   ]
  },
  {
   "cell_type": "code",
   "execution_count": 148,
   "metadata": {},
   "outputs": [
    {
     "data": {
      "text/plain": [
       "20.0855369231877"
      ]
     },
     "execution_count": 148,
     "metadata": {},
     "output_type": "execute_result"
    }
   ],
   "source": [
    "x = 3.0\n",
    "exp(x)"
   ]
  },
  {
   "cell_type": "markdown",
   "metadata": {},
   "source": [
    "We can code some functions for the PDF and DF of an $Exponential$ parameterised by lambda like this $\\lambda$.   \n",
    "\n",
    "**Note** that we cannot or should not use the name `lambda` for the parameter because in SageMath (and Python), the term `lambda` has a special meaning. Do you recall lambda expressions?"
   ]
  },
  {
   "cell_type": "code",
   "execution_count": 149,
   "metadata": {},
   "outputs": [],
   "source": [
    "def exponentialPDF(x, lam):\n",
    "    '''Exponential pdf function.\n",
    "    \n",
    "    x is the value we want to evaluate the pdf at.\n",
    "    lam is the exponential distribution parameter.'''\n",
    "    \n",
    "    return lam*exp(-lam*x)\n",
    "    \n",
    "def exponentialCDF(x, lam):\n",
    "    '''Exponential cdf or df function.\n",
    "    \n",
    "    x is the value we want to evaluate the cdf at.\n",
    "    lam is the exponential distribution parameter.'''\n",
    "    \n",
    "    return 1 - exp(-lam*x)"
   ]
  },
  {
   "cell_type": "markdown",
   "metadata": {},
   "source": [
    "You should be able to write simple functions like `exponentialPDF` and  `exponentialCDF` yourself, but you are not expected to be able to make the interactive plots.\n",
    "\n",
    "You can see the shapes of the PDF and CDF for different values of $\\lambda$ using the interactive plot below."
   ]
  },
  {
   "cell_type": "code",
   "execution_count": 150,
   "metadata": {},
   "outputs": [
    {
     "data": {
      "application/vnd.jupyter.widget-view+json": {
       "model_id": "f371fd8589284b7e8a25e738c9637112",
       "version_major": 2,
       "version_minor": 0
      },
      "text/plain": [
       "SW50ZXJhY3RpdmUgZnVuY3Rpb24gPGZ1bmN0aW9uIF8gYXQgMHg3ZjM2NDQ4MjhlZDg+IHdpdGggMiB3aWRnZXRzCiAgbGFtOiBGbG9hdFNsaWRlcih2YWx1ZT0wLjUsIGRlc2NyaXB0aW9uPXXigKY=\n"
      ]
     },
     "metadata": {},
     "output_type": "display_data"
    }
   ],
   "source": [
    "@interact\n",
    "def _(lam=('lambda',0.5),Xmax=(5..100)):\n",
    "    '''Interactive function to plot the exponential pdf and cdf.'''\n",
    "    if lam > 0:\n",
    "        print \"Exponential(\", RR(lam).n(digits=2), \") pdf and cdf\"\n",
    "        from pylab import arange\n",
    "        xvalues = list(arange(0.1, Xmax, 0.1))\n",
    "        p1 = line(zip(xvalues, [exponentialPDF(y, lam) for y in xvalues]), rgbcolor='blue')\n",
    "        p2 = line(zip(xvalues, [exponentialCDF(y, lam) for y in xvalues]), rgbcolor='red')\n",
    "        show(graphics_array([p1, p2]),figsize=[8,3])\n",
    " \n",
    "    else:\n",
    "        print \"Lambda must be greater than 0\""
   ]
  },
  {
   "cell_type": "markdown",
   "metadata": {},
   "source": [
    "We are going to write some functions to help us to do inversion sampling from the $Exponential(\\lambda)$ RV.\n",
    "\n",
    "As before, we need an expression for $F^{[-1]}$ that can be implemented as a procedure.\n",
    "\n",
    "We can get this by solving for $x$ in terms of $u=F(x;\\lambda)$\n",
    "\n",
    "\n",
    "### YouTry later\n",
    "\n",
    "Show that\n",
    "\n",
    "$$\n",
    "F^{[-1]}(u;\\lambda) =\\frac{-1}{\\lambda} \\ln(1-u)\n",
    "$$\n",
    "\n",
    "$\\ln = \\log_e$ is the natural logarthim.\n",
    "\n",
    "(end of You try)\n",
    "\n",
    "---\n",
    "\n",
    "---\n",
    " \n",
    "\n",
    "\n",
    "\n",
    "# Simulating from the $Exponential(\\lambda)$ RV\n",
    "\n",
    "Algorithm for Inversion Sampler for the $Exponential(\\lambda)$ RV\n",
    "\n",
    "#### Input:\n",
    "\n",
    "- $u \\thicksim Uniform(0,1)$\n",
    "- $F^{[-1]}(u)$\n",
    "- $\\lambda$\n",
    "\n",
    "### Output:\n",
    "\n",
    "- sample $x \\thicksim Exponential(\\lambda)$\n",
    "\n",
    "#### Algorithm steps:\n",
    "\n",
    "- Draw $u \\sim Uniform(0,1)$\n",
    "- Calculate $x = F^{[-1]}(u) = \\frac{-1}{\\lambda}\\ln(1-u)$\n",
    "- Return $x$\n",
    "\n",
    "The function `exponentialFInverse(u, lam)` codes the inverse of the CDF of an exponential distribution parameterised by `lam`.  Given a value between 0 and 1 for the parameter `u`, it returns the height of the inverse CDF of the exponential distribution at this point, i.e. the value where the CDF evaluates to `u`.  The function `exponentialSample(n, lam)` uses `exponentialFInverse(...)` to simulate `n` samples from an exponential distribution parameterised by `lam`.  "
   ]
  },
  {
   "cell_type": "code",
   "execution_count": 151,
   "metadata": {},
   "outputs": [],
   "source": [
    "def exponentialFInverse(u, lam):\n",
    "    '''A function to evaluate the inverse CDF of a exponential distribution.\n",
    "    \n",
    "    u is the value to evaluate the inverse CDF at.\n",
    "    lam is the exponential distribution parameter.'''\n",
    "    \n",
    "    # log without a base is the natural logarithm\n",
    "    return (-1.0/lam)*log(1 - u)\n",
    "    \n",
    "def exponentialSample(n, lam):\n",
    "    '''A function to simulate samples from an exponential distribution.\n",
    "    \n",
    "    n is the number of samples to simulate.\n",
    "    lam is the exponential distribution parameter.'''\n",
    "    \n",
    "    us = [random() for i in range(n)]\n",
    "    \n",
    "    return [exponentialFInverse(u, lam) for u in us]"
   ]
  },
  {
   "cell_type": "markdown",
   "metadata": {},
   "source": [
    "We can have a look at a small sample:"
   ]
  },
  {
   "cell_type": "code",
   "execution_count": 152,
   "metadata": {},
   "outputs": [
    {
     "name": "stdout",
     "output_type": "stream",
     "text": [
      "[0.0125113588205858, 0.0446106177884152, 0.168104035485009, 0.197652284327824, 0.223456265784130, 0.230155647487195, 0.289451334866385, 0.330234991767644, 0.524450122724420, 0.615868006331397, 0.855682886147430, 0.861598562693223, 0.899938425232603, 1.12601683541338, 1.18879810930181, 1.50404136083550, 1.67626340919313, 1.80407870498492, 1.85186057920650, 1.92968601068065, 2.05984179746552, 2.35359507332389, 4.17665957500900, 4.20066826966049, 4.53052080151337, 4.69313988593758, 5.17968272452207, 5.42884373902885, 8.84366900758729, 17.0836471409921]\n"
     ]
    }
   ],
   "source": [
    "lam = 0.5\n",
    "nToGenerate = 30\n",
    "sample = exponentialSample(nToGenerate, lam)\n",
    "print sorted(sample) # recall that sorted makes a new sorted list"
   ]
  },
  {
   "cell_type": "markdown",
   "metadata": {},
   "source": [
    "You should be able to write simple functions like `exponentialFinverse` and `exponentialSample` yourself by now.\n",
    "\n",
    "The best way to visualise the results is to use a histogram.  With this interactive plot you can explore the effect of varying lambda and n:"
   ]
  },
  {
   "cell_type": "code",
   "execution_count": 153,
   "metadata": {},
   "outputs": [
    {
     "data": {
      "application/vnd.jupyter.widget-view+json": {
       "model_id": "e80f3049eedf45909b14265c581ddb86",
       "version_major": 2,
       "version_minor": 0
      },
      "text/plain": [
       "SW50ZXJhY3RpdmUgZnVuY3Rpb24gPGZ1bmN0aW9uIF8gYXQgMHg3ZjM2M2U4YmRkZTg+IHdpdGggMyB3aWRnZXRzCiAgbGFtOiBGbG9hdFNsaWRlcih2YWx1ZT0wLjUsIGRlc2NyaXB0aW9uPXXigKY=\n"
      ]
     },
     "metadata": {},
     "output_type": "display_data"
    }
   ],
   "source": [
    "import pylab\n",
    "@interact\n",
    "def _(lam=('lambda',0.5), n=(50,(10..10000)), Bins=(5,(1,1000))):\n",
    "    '''Interactive function to plot samples from exponential distribution.'''\n",
    "    if lam > 0:\n",
    "        pylab.clf() # clear current figure\n",
    "        n, bins, patches = pylab.hist(exponentialSample(n, lam), Bins, normed=true) \n",
    "        pylab.ylabel('normalised count')\n",
    "        pylab.title('Normalised histogram')\n",
    "        pylab.savefig('myHist') # to actually display the figure\n",
    "        pylab.show()\n",
    "\n",
    "\n",
    "    else:\n",
    "        print \"Lambda must be greater than 0\""
   ]
  },
  {
   "cell_type": "markdown",
   "metadata": {},
   "source": [
    "# The Standard $Cauchy$ Random Variable\n",
    "\n",
    "A standard $Cauchy$ Random Variable has the following PDF $f$ and DF $F$:\n",
    "\n",
    "$$\n",
    "f(x) =\\frac{1}{\\pi(1+x^2)}\\text{,}\\,\\, -\\infty < x < \\infty\n",
    "$$\n",
    "\n",
    "$$\n",
    "F(x) = \\frac{1}{\\pi}\\tan^{-1}(x) + 0.5\n",
    "$$\n",
    "\n",
    " \n",
    "\n",
    "The $Cauchy$ distribution is an interesting distribution because the expectation does not exist:\n",
    "\n",
    "$$\n",
    "\\int \\left|x\\right|\\,dF(x) = \\frac{2}{\\pi} \\int_0^{\\infty} \\frac{x}{1+x^2}\\,dx = \\left(x \\tan^{-1}(x) \\right]_0^{\\infty} - \\int_0^{\\infty} \\tan^{-1}(x)\\, dx = \\infty \\ .\n",
    "$$\n",
    "\n",
    "In SageMath, we can use the `arctan` function for $tan^{-1}$, and `pi` for $\\pi$ and code some functions for the PDF and DF of the standard Cauchy as follows."
   ]
  },
  {
   "cell_type": "code",
   "execution_count": 154,
   "metadata": {},
   "outputs": [],
   "source": [
    "def cauchyPDF(x):\n",
    "    '''Standard Cauchy pdf function.\n",
    "    \n",
    "    x is the value to evaluate the pdf at.'''\n",
    "    \n",
    "    return 1.0/(pi.n()*(1+x^2))\n",
    "    \n",
    "def cauchyCDF(x):\n",
    "    '''Standard Cauchy cdf function.\n",
    "    \n",
    "    x is the value to evaluate the cdf at.'''\n",
    "    \n",
    "    return (1.0/pi.n())*arctan(x) + 0.5"
   ]
  },
  {
   "cell_type": "markdown",
   "metadata": {},
   "source": [
    "\n",
    "You can see the shapes of the PDF and CDF using the plot below.  Note from the PDF $f$ above is defined for $-\\infty < x < \\infty$.  This means we should set some arbitrary limits on the minimum and maximum values to use for the x-axis on the plots.  You can change these limits interactively."
   ]
  },
  {
   "cell_type": "code",
   "execution_count": 155,
   "metadata": {},
   "outputs": [
    {
     "data": {
      "application/vnd.jupyter.widget-view+json": {
       "model_id": "a78ab365c2434868a5516f7aa422476d",
       "version_major": 2,
       "version_minor": 0
      },
      "text/plain": [
       "SW50ZXJhY3RpdmUgZnVuY3Rpb24gPGZ1bmN0aW9uIF8gYXQgMHg3ZjM2NDNhODZmNTA+IHdpdGggMiB3aWRnZXRzCiAgbG93ZXI6IEludFNsaWRlcih2YWx1ZT0tNCwgZGVzY3JpcHRpb249dSfigKY=\n"
      ]
     },
     "metadata": {},
     "output_type": "display_data"
    }
   ],
   "source": [
    "@interact\n",
    "def _(lower=(-4), upper=(4)):\n",
    "    '''Interactive function to plot the Cauchy pdf and cdf.'''\n",
    "    if lower < upper:\n",
    "        print \"Standard Cauchy pdf and cdf\" \n",
    "        p1 = plot(cauchyPDF, lower,upper, rgbcolor='blue')\n",
    "        p2 = plot(cauchyCDF, lower,upper, rgbcolor='red')\n",
    "        show(graphics_array([p1, p2]),figsize=[8,3])\n",
    "    else:\n",
    "        print \"Upper must be greater than lower\""
   ]
  },
  {
   "cell_type": "markdown",
   "metadata": {},
   "source": [
    "#### Constructing a standard $Cauchy$ RVs\n",
    "\n",
    "- Place a double light sabre (i.e., one that can shoot its lazer beam from both ends, like that of Darth Mole in Star Wars) on a cartesian axis so that it is centred on $(0, 1)$.  \n",
    "- Randomly spin it (so that its spin angle to the x-axis is $\\theta \\thicksim Uniform (0, 2\\pi)$).  \n",
    "- Let it come to rest.\n",
    "- The y-coordinate of the point of intersection with the y-axis is a standard Cauchy RV.  \n",
    "\n",
    "You can see that we are equally likely to get positive and negative values (the density function of the standard $Cauchy$ RV is symmetrical about 0) and whenever the spin angle is close to $\\frac{\\pi}{4}$ ($90^{\\circ}$) or $\\frac{3\\pi}{2}$ ($270^{\\circ}$), the intersections will be a long way out up or down the y-axis, i.e. very negative or very positive values.  If the light sabre is exactly parallel to the y-axis there will be no intersection:  a $Cauchy$ RV $X$ can take values $-\\infty < x < \\infty$\n",
    "\n",
    " \n",
    "\n",
    "<img src=\"images/Week7CauchyLightSabre.png\" width=300>\n",
    "\n",
    " \n",
    "\n",
    "## Simulating from the standard $Cauchy$\n",
    "\n",
    "We can perform inversion sampling on the $Cauchy$ RV by transforming a $Uniform(0,1)$ random variable into a $Cauchy$ random variable using the inverse CDF.\n",
    "\n",
    "We can get this by replacing $F(x)$ by $u$ in the expression for $F(x)$:\n",
    "\n",
    "$$\n",
    "\\frac{1}{\\pi}tan^{-1}(x) + 0.5 = u\n",
    "$$\n",
    "\n",
    "and solving for $x$:\n",
    "\n",
    "$$\n",
    "\\begin{array}{lcl} \\frac{1}{\\pi}tan^{-1}(x) + 0.5 = u & \\iff & \\frac{1}{\\pi} tan^{-1}(x) = u - \\frac{1}{2}\\\\ & \\iff & tan^{-1}(x) = (u - \\frac{1}{2})\\pi\\\\ & \\iff & tan(tan^{-1}(x)) = tan((u - \\frac{1}{2})\\pi)\\\\ & \\iff & x = tan((u - \\frac{1}{2})\\pi) \\end{array}\n",
    "$$\n",
    "\n",
    "## Inversion Sampler for the standard $Cauchy$ RV\n",
    "\n",
    "#### Input:\n",
    "\n",
    "- $u \\thicksim Uniform(0,1)$\n",
    "- $F^{[-1]}(u)$\n",
    "\n",
    "#### Output:\n",
    "\n",
    "- A sample $x \\thicksim \\text{standard } Cauchy$\n",
    "\n",
    "#### Algorithm steps:\n",
    "\n",
    "- Draw $u \\sim Uniform(0,1)$\n",
    "- Calculate $x = F^{[-1]}(u) = tan((u - \\frac{1}{2})\\pi)$\n",
    "- Return $x$\n",
    "\n",
    "The function `cauchyFInverse(u)` codes the inverse of the CDF of the standard Cauchy distribution.  Given a value between 0 and 1 for the parameter u, it returns the height of the inverse CDF of the standard $Cauchy$ at this point, i.e. the value where the CDF evaluates to u.  The function `cauchySample(n`) uses `cauchyFInverse(...)` to simulate `n` samples from a standard Cauchy distribution."
   ]
  },
  {
   "cell_type": "code",
   "execution_count": 156,
   "metadata": {},
   "outputs": [],
   "source": [
    "def cauchyFInverse(u):\n",
    "    '''A function to evaluate the inverse CDF of a standard Cauchy distribution.\n",
    "    \n",
    "    u is the value to evaluate the inverse CDF at.'''\n",
    "    \n",
    "    return RR(tan(pi*(u-0.5)))\n",
    "    \n",
    "def cauchySample(n):\n",
    "    '''A function to simulate samples from a standard Cauchy distribution.\n",
    "    \n",
    "    n is the number of samples to simulate.'''\n",
    "    \n",
    "    us = [random() for i in range(n)]\n",
    "    return [cauchyFInverse(u) for u in us]"
   ]
  },
  {
   "cell_type": "markdown",
   "metadata": {},
   "source": [
    "And we can visualise these simulated samples with an interactive plot:"
   ]
  },
  {
   "cell_type": "code",
   "execution_count": 157,
   "metadata": {},
   "outputs": [
    {
     "data": {
      "application/vnd.jupyter.widget-view+json": {
       "model_id": "109f609decb049e29e347d5f94eb7533",
       "version_major": 2,
       "version_minor": 0
      },
      "text/plain": [
       "SW50ZXJhY3RpdmUgZnVuY3Rpb24gPGZ1bmN0aW9uIF8gYXQgMHg3ZjM2M2U4NzFlNjA+IHdpdGggMSB3aWRnZXQKICBuOiBTZWxlY3Rpb25TbGlkZXIoZGVzY3JpcHRpb249dSduJywgaW5kZXjigKY=\n"
      ]
     },
     "metadata": {},
     "output_type": "display_data"
    }
   ],
   "source": [
    "@interact\n",
    "def _(n=(50,(0..5000))):\n",
    "    '''Interactive function to plot samples from standard Cauchy distribution.'''\n",
    "    if n == 1:\n",
    "        print n, \"Standard Cauchy sample\"\n",
    "    else:\n",
    "        print n, \"Standard Cauchy samples\"\n",
    "    sample = cauchySample(n)\n",
    "    pts = zip(range(1,n+1,1),sample)\n",
    "    p=points(pts)\n",
    "    p+= text(str(floor(min(sample))), (0, floor(min(sample))), \\\n",
    "             fontsize=10, color='black') # add labels manually\n",
    "    p+= text(str(ceil(max(sample))), (0, ceil(max(sample))), \\\n",
    "             fontsize=10, color='black')\n",
    "    p.show(xmin=0, xmax = n+1, ymin=floor(min(sample)), \\\n",
    "           ymax = ceil(max(sample)), axes=false, \\\n",
    "           gridlines=[[0,n+1],[floor(min(sample)),ceil(max(sample))]],\\\n",
    "           figsize=[7,3])"
   ]
  },
  {
   "cell_type": "markdown",
   "metadata": {},
   "source": [
    "Notice how we can get some very extreme values  This is because of the 'thick tails' of the density function of the $Cauchy$ RV.  Think about this in relation to the  double light sabre visualisation.   We can see effect of the extreme values with a histogram visualisation as well.  The interactive plot below will only use values between lower and upper in the histogram.  Try increasing the sample size to something like 1000 and then gradually widening the limits:"
   ]
  },
  {
   "cell_type": "code",
   "execution_count": 158,
   "metadata": {},
   "outputs": [
    {
     "data": {
      "application/vnd.jupyter.widget-view+json": {
       "model_id": "59a9a1f5179146c8bda1371cde2da499",
       "version_major": 2,
       "version_minor": 0
      },
      "text/plain": [
       "SW50ZXJhY3RpdmUgZnVuY3Rpb24gPGZ1bmN0aW9uIF8gYXQgMHg3ZjM2M2U5NDhmNTA+IHdpdGggNCB3aWRnZXRzCiAgbjogU2VsZWN0aW9uU2xpZGVyKGRlc2NyaXB0aW9uPXUnbicsIGluZGXigKY=\n"
      ]
     },
     "metadata": {},
     "output_type": "display_data"
    }
   ],
   "source": [
    "import pylab\n",
    "@interact\n",
    "def _(n=(50,(0..5000)), lower=(-4), upper=(4), Bins=(5,(1,100))):\n",
    "    '''Interactive function to plot samples from \n",
    "       standard Cauchy distribution.'''\n",
    "    if lower < upper:\n",
    "        if n == 1:\n",
    "            print n, \"Standard Cauchy sample\"\n",
    "        else:\n",
    "            print n, \"Standard Cauchy samples\"\n",
    "        sample = cauchySample(n) # the whole sample\n",
    "        sampleToShow=[c for c in sample if (c >= lower and c <= upper)]\n",
    "        pylab.clf() # clear current figure\n",
    "        n, bins, patches = pylab.hist(sampleToShow, Bins, normed=true) \n",
    "        pylab.ylabel('normalised count')\n",
    "        pylab.title('Normalised histogram, values between ' \\\n",
    "                    + str(floor(lower)) + ' and ' + str(ceil(upper)))\n",
    "        pylab.savefig('myHist') # to actually display the figure\n",
    "        pylab.show()\n",
    "    else:\n",
    "        print \"lower must be less than upper\""
   ]
  },
  {
   "cell_type": "markdown",
   "metadata": {},
   "source": [
    "# Running means\n",
    "\n",
    "When we introduced the $Cauchy$ distribution, we noted that the expectation of the $Cauchy$ RV does not exist.   This means that attempts to estimate the mean of a $Cauchy$ RV by looking at a sample mean will not be successful:  as you take larger and larger samples, the effect of the extreme values will still cause the sample mean to swing around wildly (we will cover estimation properly soon).  You are going to investigate the sample mean of simulated $Cauchy$ samples of steadily increasing size and show how unstable this is.   A convenient way of doing this is to look at a running mean.  We will start by working through the process of calculating some running means for the $Uniform(0,10)$, which do stabilise.  You will then do the same thing for the $Cauchy$ and be able to see the instability.\n",
    "\n",
    "We will be using the pylab.cumsum function, so we make sure that we have it available.  We then generate a sample from the $Uniform(0,10)$"
   ]
  },
  {
   "cell_type": "code",
   "execution_count": 159,
   "metadata": {},
   "outputs": [
    {
     "name": "stdout",
     "output_type": "stream",
     "text": [
      "[5.234123372317886, 8.494432455891982, 9.693289516301245, 5.025095534949817, 6.860022865668135, 5.194665625019904, 3.236702879672173, 1.3642271829174146, 4.653495098823827, 0.5932379933902066]\n"
     ]
    }
   ],
   "source": [
    "from pylab import cumsum\n",
    "nToGenerate = 10 # sample size to generate\n",
    "theta1, theta2 = 0, 10 # uniform parameters\n",
    "uSample = uniformSample(nToGenerate, theta1, theta2)\n",
    "print(uSample)"
   ]
  },
  {
   "cell_type": "markdown",
   "metadata": {},
   "source": [
    "We are going to treat this sample as though it is actually 10 samples of increasing size:\n",
    "\n",
    "- sample 1 is the first element in uSample\n",
    "- sample 2 contains the first 2 elements in uSample\n",
    "- sample 3 contains the first 3 elements in uSample\n",
    "- ...\n",
    "- sample10 contains the first 10 elements in uSample\n",
    "\n",
    "We know that a sample mean is the sum of the elements in the sample divided by the number of elements in the sample $n$:\n",
    "\n",
    "$$\n",
    "\\bar{x} = \\frac{1}{n} \\sum_{i=1}^n x_i\n",
    "$$\n",
    "\n",
    "We can get the sum of the elements in each of our 10 samples with the cumulative sum of `uSample`. \n",
    "\n",
    "We use `cumsum` to get the cumulative sum.  This will be a `pylab.array` (or `numpy.arrat`) type, so we use the `list` function to turn it back into a list:"
   ]
  },
  {
   "cell_type": "code",
   "execution_count": 160,
   "metadata": {},
   "outputs": [
    {
     "name": "stdout",
     "output_type": "stream",
     "text": [
      "[5.2341233723178862, 13.728555828209867, 23.421845344511112, 28.446940879460929, 35.306963745129067, 40.501629370148969, 43.738332249821141, 45.102559432738559, 49.756054531562384, 50.349292524952588]\n"
     ]
    }
   ],
   "source": [
    "csUSample = list(cumsum(uSample))\n",
    "print(csUSample)"
   ]
  },
  {
   "cell_type": "markdown",
   "metadata": {},
   "source": [
    "What we have now is effectively a list\n",
    "\n",
    "$$\\left[\\displaystyle\\sum_{i=1}^1x_i, \\sum_{i=1}^2x_i, \\sum_{i=1}^3x_i, \\ldots, \\sum_{i=1}^{10}x_i\\right]$$\n",
    "\n",
    "So all we have to do is divide each element in `csUSample` by the number of elements that were summed to make it, and we have a list of running means \n",
    "\n",
    "$$\\left[\\frac{1}{1}\\displaystyle\\sum_{i=1}^1x_i, \\frac{1}{2}\\sum_{i=1}^2x_i, \\frac{1}{3}\\sum_{i=1}^3x_i, \\ldots, \\frac{1}{10}\\sum_{i=1}^{10}x_i\\right]$$\n",
    "\n",
    "We can get the running sample sizes using the `range` function:"
   ]
  },
  {
   "cell_type": "code",
   "execution_count": 161,
   "metadata": {},
   "outputs": [
    {
     "data": {
      "text/plain": [
       "[1, 2, 3, 4, 5, 6, 7, 8, 9, 10]"
      ]
     },
     "execution_count": 161,
     "metadata": {},
     "output_type": "execute_result"
    }
   ],
   "source": [
    "samplesizes = range(1, len(uSample)+1,1)\n",
    "samplesizes"
   ]
  },
  {
   "cell_type": "markdown",
   "metadata": {},
   "source": [
    "And we can do the division with list comprehension:"
   ]
  },
  {
   "cell_type": "code",
   "execution_count": 162,
   "metadata": {},
   "outputs": [
    {
     "name": "stdout",
     "output_type": "stream",
     "text": [
      "[5.2341233723178862, 6.8642779141049335, 7.8072817815037041, 7.1117352198652322, 7.0613927490258135, 6.7502715616914948, 6.2483331785458773, 5.6378199290923199, 5.5284505035069316, 5.0349292524952585]\n"
     ]
    }
   ],
   "source": [
    "uniformRunningMeans = [csUSample[i]/samplesizes[i]  for i in range(nToGenerate)]\n",
    "print(uniformRunningMeans)"
   ]
  },
  {
   "cell_type": "markdown",
   "metadata": {},
   "source": [
    "We could pull all of this together into a function which produced a list of running means for sample sizes 1 to $n$."
   ]
  },
  {
   "cell_type": "code",
   "execution_count": 163,
   "metadata": {},
   "outputs": [],
   "source": [
    "def uniformRunningMeans(n, theta1, theta2):\n",
    "    '''Function to give a list of n running means from uniform(theta1, theta2).\n",
    "    \n",
    "    n is the number of running means to generate.\n",
    "    theta1, theta2 are the uniform distribution parameters.\n",
    "    return a list of n running means.'''\n",
    "    \n",
    "    sample = uniformSample(n, theta1, theta2)\n",
    "    from pylab import cumsum # we can import in the middle of code!\n",
    "    csSample = list(cumsum(sample))\n",
    "    samplesizes = range(1, n+1,1)\n",
    "    return [csSample[i]/samplesizes[i] for i in range(n)]"
   ]
  },
  {
   "cell_type": "markdown",
   "metadata": {},
   "source": [
    "Have a look at the running means of 10 incrementally-sized samples:"
   ]
  },
  {
   "cell_type": "code",
   "execution_count": 164,
   "metadata": {},
   "outputs": [
    {
     "data": {
      "image/png": "[encoded data removed]",
      "text/plain": [
       "Graphics object consisting of 1 graphics primitive"
      ]
     },
     "metadata": {},
     "output_type": "display_data"
    }
   ],
   "source": [
    "nToGenerate = 10\n",
    "theta1, theta2 = 0, 10\n",
    "uRunningMeans = uniformRunningMeans(nToGenerate, theta1, theta2)\n",
    "pts = zip(range(1, len(uRunningMeans)+1,1),uRunningMeans)\n",
    "p = points(pts)\n",
    "show(p, figsize=[5,3])"
   ]
  },
  {
   "cell_type": "markdown",
   "metadata": {},
   "source": [
    "Recall that the expectation $E_{(\\theta_1, \\theta_2)}(X)$ of a $X \\thicksim Uniform(\\theta_1, \\theta_2) = \\frac{(\\theta_1 +\\theta_2)}{2}$\n",
    "\n",
    "In our simulations we are using $\\theta_1 = 0$, $\\theta_2 = 10$, so if $X \\thicksim Uniform(0,10)$,  $E(X) = 5$\n",
    "\n",
    "To show that the running means of different simulations from a $Uniform$ distribution settle down to be close to the expectation, we can plot say 5 different groups of running means for sample sizes $1, \\ldots, 1000$.  We will use a line plot rather than plotting individual points. "
   ]
  },
  {
   "cell_type": "code",
   "execution_count": 165,
   "metadata": {},
   "outputs": [
    {
     "data": {
      "image/png": "[encoded data removed]",
      "text/plain": [
       "Graphics object consisting of 5 graphics primitives"
      ]
     },
     "metadata": {},
     "output_type": "display_data"
    }
   ],
   "source": [
    "nToGenerate = 1000\n",
    "theta1, theta2 = 0, 10\n",
    "iterations = 5\n",
    "xvalues = range(1, nToGenerate+1,1)\n",
    "for i in range(iterations):\n",
    "    redshade = 0.5*(iterations - 1 - i)/iterations # to get different colours for the lines\n",
    "    uRunningMeans = uniformRunningMeans(nToGenerate, theta1, theta2)\n",
    "    pts = zip(xvalues,uRunningMeans)\n",
    "    if (i == 0):\n",
    "        p = line(pts, rgbcolor = (redshade,0,1))\n",
    "    else:\n",
    "        p += line(pts, rgbcolor = (redshade,0,1))\n",
    "show(p, figsize=[5,3])"
   ]
  },
  {
   "cell_type": "markdown",
   "metadata": {},
   "source": [
    "### YouTry!\n",
    "\n",
    "Your task is to now do the same thing for some standard Cauchy running means.\n",
    "\n",
    "To start with, do not put everything into a function, just put statements into the cell(s) below to:\n",
    "\n",
    "Make variable for the number of running means to generate; assign it a small value like 10 at this stage\n",
    "Use the cauchySample function to generate the sample from the standard $Cauchy$; have a look at your sample\n",
    "Make a named list of cumulative sums of your $Cauchy$ sample using list and cumsum, as we did above; have a look at your cumulative sums\n",
    "Make a named list of sample sizes, as we did above\n",
    "Use a list comprehension to turn the cumulative sums and sample sizes into a list of running means, as we did above\n",
    "Have a look at your running means; do they make sense to you given the individual sample values?\n",
    "Add more cells as you need them."
   ]
  },
  {
   "cell_type": "code",
   "execution_count": null,
   "metadata": {},
   "outputs": [],
   "source": []
  },
  {
   "cell_type": "code",
   "execution_count": null,
   "metadata": {},
   "outputs": [],
   "source": []
  },
  {
   "cell_type": "code",
   "execution_count": null,
   "metadata": {},
   "outputs": [],
   "source": []
  },
  {
   "cell_type": "markdown",
   "metadata": {},
   "source": [
    "When you are happy that you are doing the right things, **write a function**, parameterised by the number of running means to do, that returns a list of running means.   Try to make your own function rather than copying and changing the one we used for the $Uniform$: you will learn more by trying to do it yourself.   Please call your function `cauchyRunningMeans`, so that (if you have done everything else right), you'll be able to use some code we will supply you with to plot the results.  "
   ]
  },
  {
   "cell_type": "code",
   "execution_count": null,
   "metadata": {},
   "outputs": [],
   "source": []
  },
  {
   "cell_type": "code",
   "execution_count": null,
   "metadata": {},
   "outputs": [],
   "source": []
  },
  {
   "cell_type": "markdown",
   "metadata": {},
   "source": [
    "Try checking your function by using it to create a small list of running means.  Check that the function does not report an error and gives you the kind of list you expect."
   ]
  },
  {
   "cell_type": "code",
   "execution_count": null,
   "metadata": {},
   "outputs": [],
   "source": []
  },
  {
   "cell_type": "markdown",
   "metadata": {},
   "source": [
    "When you think that your function is working correctly, try evaluating the cell below: this will put the plot of 5 groups of  $Uniform(0,10)$ running means beside a plot of 5 groups of standard $Cauchy$ running means produced by your function. "
   ]
  },
  {
   "cell_type": "code",
   "execution_count": null,
   "metadata": {},
   "outputs": [],
   "source": []
  },
  {
   "cell_type": "code",
   "execution_count": null,
   "metadata": {},
   "outputs": [],
   "source": []
  },
  {
   "cell_type": "code",
   "execution_count": 168,
   "metadata": {},
   "outputs": [
    {
     "data": {
      "image/png": "[encoded data removed]",
      "text/plain": [
       "Graphics Array of size 1 x 2"
      ]
     },
     "metadata": {},
     "output_type": "display_data"
    }
   ],
   "source": [
    "nToGenerate = 10000\n",
    "theta1, theta2 = 0, 10\n",
    "iterations = 5\n",
    "xvalues = range(1, nToGenerate+1,1)\n",
    "for i in range(iterations):\n",
    "    shade = 0.5*(iterations - 1 - i)/iterations # to get different colours for the lines\n",
    "    uRunningMeans = uniformRunningMeans(nToGenerate, theta1, theta2)\n",
    "    problemStr=\"\" # an empty string\n",
    "    # use try to catch problems with cauchyRunningMeans functions\n",
    "    try:\n",
    "        cRunningMeans = cauchyRunningMeans(nToGenerate)\n",
    "        ##cRunningMeans = hiddenCauchyRunningMeans(nToGenerate)\n",
    "        cPts = zip(xvalues, cRunningMeans)\n",
    "    except NameError, e:\n",
    "        # cauchyRunningMeans is not defined\n",
    "        cRunningMeans = [1 for c in range(nToGenerate)] # default value\n",
    "        problemStr = \"No \" \n",
    "    except Exception, e:\n",
    "        # some other problem with cauchyRunningMeans\n",
    "        cRunningMeans = [1 for c in range(nToGenerate)]\n",
    "        problemStr = \"Problem with \"      \n",
    "    uPts = zip(xvalues, uRunningMeans)\n",
    "    cPts = zip(xvalues, cRunningMeans)\n",
    "    if (i < 1):\n",
    "        p1 = line(uPts, rgbcolor = (shade, 0, 1))\n",
    "        p2 = line(cPts, rgbcolor = (1-shade, 0, shade))\n",
    "        cauchyTitleMax = max(cRunningMeans) # for placement of cauchy title\n",
    "    else:\n",
    "        p1 += line(uPts, rgbcolor = (shade, 0, 1))\n",
    "        p2 += line(cPts, rgbcolor = (1-shade, 0, shade))\n",
    "        if max(cRunningMeans) > cauchyTitleMax:\n",
    "            cauchyTitleMax = max(cRunningMeans)\n",
    "titleText1 = \"Uniform(\" + str(theta1) + \",\" + str(theta2) + \") running means\" # make title text\n",
    "t1 = text(titleText1, (nToGenerate/2,theta2), rgbcolor='blue',fontsize=10) \n",
    "titleText2 = problemStr + \"standard Cauchy running means\" # make title text\n",
    "t2 = text(titleText2, (nToGenerate/2,ceil(cauchyTitleMax)+1), rgbcolor='red',fontsize=10) \n",
    "show(graphics_array((p1+t1,p2+t2)),figsize=[10,5])"
   ]
  },
  {
   "cell_type": "code",
   "execution_count": null,
   "metadata": {},
   "outputs": [],
   "source": []
  },
  {
   "cell_type": "markdown",
   "metadata": {},
   "source": [
    "# Replicable samples\n",
    "\n",
    "Remember that we know how to set the seed of the PRNG used by `random()` with `set_random_seed`?  If we wanted our sampling functions to give repeatable samples, we could also pass the functions the seed to use.  Try making a new version of `uniformSample` which has a parameter for a value to use as the random number generator seed.   Call your new version `uniformSampleSeeded` to distinguish it from the original one. "
   ]
  },
  {
   "cell_type": "code",
   "execution_count": null,
   "metadata": {},
   "outputs": [],
   "source": []
  },
  {
   "cell_type": "code",
   "execution_count": null,
   "metadata": {},
   "outputs": [],
   "source": []
  },
  {
   "cell_type": "markdown",
   "metadata": {},
   "source": [
    "Try out your new `uniformSampleSeeded` function:  if you generate two samples using the same seed they should be exactly the same.  You could try using a large sample and checking on sample statistics such as the mean, min, max, variance etc, rather than comparing small samples by eye. "
   ]
  },
  {
   "cell_type": "code",
   "execution_count": null,
   "metadata": {},
   "outputs": [],
   "source": []
  },
  {
   "cell_type": "markdown",
   "metadata": {},
   "source": [
    "Recall that you can also give parameters default values in SageMath.  Using a default value means that if no value is passed to the function for that parameter, the default value is used.  Here is an example with a very simple function:"
   ]
  },
  {
   "cell_type": "code",
   "execution_count": 60,
   "metadata": {},
   "outputs": [],
   "source": [
    "def simpleDefaultExample(x, y=0):\n",
    "    '''A simple function to demonstrate default parameter values.\n",
    "    \n",
    "    x is the first parameter, with no default value.\n",
    "    y is the second parameter, defaulting to 0.'''\n",
    "    \n",
    "    return x + y"
   ]
  },
  {
   "cell_type": "markdown",
   "metadata": {},
   "source": [
    "Note that parameters with default values need to come after parameters without default values when we define the function. \n",
    "\n",
    "Now you can try the function - evaluate the following cells to see what you get:"
   ]
  },
  {
   "cell_type": "code",
   "execution_count": 61,
   "metadata": {},
   "outputs": [
    {
     "data": {
      "text/plain": [
       "4"
      ]
     },
     "execution_count": 61,
     "metadata": {},
     "output_type": "execute_result"
    }
   ],
   "source": [
    "simpleDefaultExample (1,3) # specifying two arguments for the function"
   ]
  },
  {
   "cell_type": "code",
   "execution_count": 62,
   "metadata": {},
   "outputs": [
    {
     "data": {
      "text/plain": [
       "1"
      ]
     },
     "execution_count": 62,
     "metadata": {},
     "output_type": "execute_result"
    }
   ],
   "source": [
    "simpleDefaultExample (1) # specifying one argument for the function"
   ]
  },
  {
   "cell_type": "code",
   "execution_count": 63,
   "metadata": {},
   "outputs": [
    {
     "data": {
      "text/plain": [
       "6"
      ]
     },
     "execution_count": 63,
     "metadata": {},
     "output_type": "execute_result"
    }
   ],
   "source": [
    "# another way to specify one argument for the function\n",
    "simpleDefaultExample (x=6) "
   ]
  },
  {
   "cell_type": "code",
   "execution_count": 64,
   "metadata": {},
   "outputs": [],
   "source": [
    "# uncomment next line and evaluate - but this will give an error because x has no default value\n",
    "#simpleDefaultExample() "
   ]
  },
  {
   "cell_type": "code",
   "execution_count": 65,
   "metadata": {},
   "outputs": [],
   "source": [
    "# uncomment next line and evaluate - but this will also give an error because x has no default value\n",
    "# simpleDefaultExample (y=9) "
   ]
  },
  {
   "cell_type": "markdown",
   "metadata": {},
   "source": [
    "Try making yet another version of the uniform sampler which takes a value to be used as a random number generator seed, but defaults to `None` if no value is supplied for that parameter.  `None` is a special Python type."
   ]
  },
  {
   "cell_type": "code",
   "execution_count": 66,
   "metadata": {},
   "outputs": [
    {
     "data": {
      "text/plain": [
       "<type 'NoneType'>"
      ]
     },
     "execution_count": 66,
     "metadata": {},
     "output_type": "execute_result"
    }
   ],
   "source": [
    "x = None\n",
    "type(x)"
   ]
  },
  {
   "cell_type": "markdown",
   "metadata": {},
   "source": [
    "Using `set_random_seed(None)` will mean that the random seed is actually reset to a new ('random') value.  You can see this by testing what happens when you do this twice in succession and then check what seed is being used with `initial_seed`:"
   ]
  },
  {
   "cell_type": "code",
   "execution_count": 67,
   "metadata": {},
   "outputs": [
    {
     "data": {
      "text/plain": [
       "182305543035065892959152716636273735205L"
      ]
     },
     "execution_count": 67,
     "metadata": {},
     "output_type": "execute_result"
    }
   ],
   "source": [
    "set_random_seed(None)\n",
    "initial_seed()"
   ]
  },
  {
   "cell_type": "code",
   "execution_count": 68,
   "metadata": {},
   "outputs": [
    {
     "data": {
      "text/plain": [
       "185354251236761915576729583739956012220L"
      ]
     },
     "execution_count": 68,
     "metadata": {},
     "output_type": "execute_result"
    }
   ],
   "source": [
    "set_random_seed(None)\n",
    "initial_seed()"
   ]
  },
  {
   "cell_type": "markdown",
   "metadata": {},
   "source": [
    "Do another version of the `uniformSampleSeeded` function with a default value for the seed of `None`."
   ]
  },
  {
   "cell_type": "code",
   "execution_count": null,
   "metadata": {},
   "outputs": [],
   "source": []
  },
  {
   "cell_type": "markdown",
   "metadata": {},
   "source": [
    "Check your function again by testing with both when you supply a value for the seed and when you don't."
   ]
  },
  {
   "cell_type": "code",
   "execution_count": null,
   "metadata": {},
   "outputs": [],
   "source": []
  },
  {
   "cell_type": "code",
   "execution_count": null,
   "metadata": {},
   "outputs": [],
   "source": []
  },
  {
   "cell_type": "markdown",
   "metadata": {},
   "source": [
    "### YouTry\n",
    "\n",
    "### A Simple Simulation\n",
    "\n",
    "We could use the samplers we have made to do a very simple simulation.  Suppose the inter-arrival times, in minutes, of Orbiter buses at an Orbiter stop follows an $Exponential(\\lambda = 0.1)$ distribution.  Also suppose that this is quite a popular bus stop, and the arrival of people is very predictable:  one new person will arrive in each whole minute.  This means that the longer another bus takes in coming, the more people arrive to join the queue.  Also suppose that the number of free seats available on any bus follows a $de\\, Moivre(k=40)$ distribution, i.e, there are equally like to to be 1, or 2, or 3 ... or 40 spare seats.   If there are more spare seats than people in the queue, everyone can get onto the bus and  nobody is left waiting, but if there are not enough spare seats some people will be left waiting for the next bus.  As they wait, more people arrive to join the queue....\n",
    "\n",
    "This is not very realistic - we would want a better model for how many people arrive at the stop at least, and for the number of spare seats there will be on the bus.  However, we are just using this as a simple example that you can do using the RVs you know how to simulate samples from.\n",
    "\n",
    "Try to code this example yourself, using our suggested steps.  We have put our version the code into a cell below, but you will get more out of this example by trying to do it yourself first.\n",
    "\n",
    "#### Suggested steps:\n",
    "\n",
    "- Get a list of 100 $Exponential(\\lambda = 0.1)$ samples using the `exponentialSamples` function.  Assign the list to a variable named something like `busTime`s.  These are your 100 simulated bus inter-arrival times.  \n",
    "- Choose a value for the number of people who will be waiting at the busstop when you start the simulation.  Call this something like `waiting`.  \n",
    "- Make a list called something like `leftWaiting`, which to begin with contains just the value assigned to `waiting`. \n",
    "- Make an empty list called something like `boardBus`.   \n",
    "- Start a for loop which takes each element in `busTimes` in turn, i.e. each bus inter-arrival time, and within the for loop:\n",
    "  - Calculate the number of people arriving at the stop as the floor of the time taken for that bus to arrive (i.e., one person for each whole minute until the bus arrives)\n",
    "  - Add this to the number of people waiting (e.g., if the number of arrivals is assigned to a variable arrivals, then waiting = waiting + arrivals will increment the value assigned to the waiting variable by the value of arrivals).\n",
    "  - Simulate a value for the number of seats available on the bus as one simulation from a $de \\, Moirve(k=40)$ RV (it may be easier to use `deMoirveFInverse` rather than `deMoivrveSample` because you only need one value - remember that you will have to pass a simulated $u \\thicksim Uniform(0,1)$ to `deMoivreFInverse` as well as the value of the parameter $k$).\n",
    "  - The number of people who can get on the bus is the minimum of the number of people waiting in the queue and the number of seats on the bus.  Calculate this value and assign it to a variable called something like `getOnBus`.\n",
    "  - Append `getOnBus` to the list `boardBus`.\n",
    "  - Subtract `getOnBus` from the number of people waiting, waiting (e.g.,  `waiting = waiting - getOnBus` will decrement waiting by the number of people who get on the bus).\n",
    "  - Append the new value of `waiting` to the list `leftWaiting`. \n",
    "- That is the end of the for loop: you now have two lists, one for the number of people waiting at the stop and one for the number of people who can board each bus as it arrives."
   ]
  },
  {
   "cell_type": "markdown",
   "metadata": {
    "collapsed": true
   },
   "source": [
    "### YouTry!"
   ]
  },
  {
   "cell_type": "code",
   "execution_count": null,
   "metadata": {},
   "outputs": [],
   "source": []
  },
  {
   "cell_type": "code",
   "execution_count": null,
   "metadata": {},
   "outputs": [],
   "source": []
  },
  {
   "cell_type": "markdown",
   "metadata": {},
   "source": [
    "Here is our code to do the bust stop simulation. \n",
    "Yours may be different - maybe it will be better!"
   ]
  },
  {
   "cell_type": "code",
   "execution_count": 69,
   "metadata": {},
   "outputs": [],
   "source": [
    "buses = 100\n",
    "lam = 0.1\n",
    "busTimes = exponentialSample(buses,lam)\n",
    "waiting = 0 # how many people are waiting at the start of the simulation\n",
    "boardBus = [] # empty list\n",
    "leftWaiting = [waiting] # list with just waiting in it\n",
    "for time in busTimes: # for each bus inter-arrival time\n",
    "    arrivals = floor(time) # people who arrive at the stop before the bus gets there\n",
    "    waiting = waiting + arrivals # add them to the queue\n",
    "    busSeats = deMoivreFInverse(random(), 40) # how many seats available on the bus\n",
    "    getOnBus = min(waiting, busSeats) # how many people can get on the bus\n",
    "    boardBus.append(getOnBus) # add to the list\n",
    "    waiting = waiting - getOnBus # take the people who board the bus out of the queue\n",
    "    leftWaiting.append(waiting) # add to the list\n"
   ]
  },
  {
   "cell_type": "code",
   "execution_count": 70,
   "metadata": {},
   "outputs": [
    {
     "name": "stdout",
     "output_type": "stream",
     "text": [
      "[0, 0, 0, 11, 12, 13, 10, 42, 19, 0, 0, 0, 0, 0, 0, 0, 3, 1, 0, 0, 0, 0, 0, 0, 0, 0, 0, 0, 0, 0, 0, 0, 0, 4, 0, 0, 0, 0, 0, 0, 7, 0, 0, 3, 1, 0, 0, 7, 0, 4, 0, 0, 0, 0, 0, 0, 0, 0, 0, 0, 0, 0, 0, 0, 8, 0, 0, 0, 0, 7, 0, 0, 0, 0, 0, 0, 0, 0, 0, 0, 0, 0, 0, 0, 0, 0, 0, 0, 0, 0, 6, 1, 9, 0, 0, 1, 0, 0, 5, 10, 0]\n"
     ]
    }
   ],
   "source": [
    "print(leftWaiting) # look at the leftWaiting list"
   ]
  },
  {
   "cell_type": "markdown",
   "metadata": {},
   "source": [
    "We could do a visualisation of this, showing the number of people able to board the bus and the number of people left by the height of lines on the plot."
   ]
  },
  {
   "cell_type": "code",
   "execution_count": 71,
   "metadata": {},
   "outputs": [
    {
     "data": {
      "image/png": "[encoded data removed]",
      "text/plain": [
       "Graphics object consisting of 205 graphics primitives"
      ]
     },
     "metadata": {},
     "output_type": "display_data"
    }
   ],
   "source": [
    "p1 = line([(0.5,0),(0.5,leftWaiting[0])])\n",
    "from pylab import cumsum\n",
    "csBusTimes=list(cumsum(busTimes))\n",
    "for i in range(1, len(leftWaiting), 1):\n",
    "    \n",
    "    p1+= line([(csBusTimes[i-1],0),(csBusTimes[i-1],boardBus[i-1])], rgbcolor='green')\n",
    "    p1+= line([(csBusTimes[i-1]+.01,0),(csBusTimes[i-1]+.01,leftWaiting[i])], rgbcolor='red')\n",
    "\n",
    "t1 = text(\"Boarding the bus\", (csBusTimes[len(busTimes)-1]/3,max(max(boardBus),max(leftWaiting))+1), rgbcolor='green',fontsize=10) \n",
    "t2 = text(\"Waiting\", (csBusTimes[len(busTimes)-1]*(2/3),max(max(boardBus),max(leftWaiting))+1), rgbcolor='red',fontsize=10)     \n",
    "xaxislabel = text(\"Time\", (csBusTimes[len(busTimes)-1],-10),fontsize=10,color='black')\n",
    "yaxislabel = text(\"People\", (-50,max(max(boardBus),max(leftWaiting))+1),fontsize=10,color='black')\n",
    "show(p1+t1+t2+xaxislabel+yaxislabel,figsize=[8,5])"
   ]
  },
  {
   "cell_type": "markdown",
   "metadata": {},
   "source": [
    "You could try the effect on your simulation of changing the $Exponential$ parameter $\\lambda$, or some of the other factors involved. "
   ]
  },
  {
   "cell_type": "code",
   "execution_count": null,
   "metadata": {},
   "outputs": [],
   "source": []
  },
  {
   "cell_type": "code",
   "execution_count": null,
   "metadata": {},
   "outputs": [],
   "source": []
  },
  {
   "cell_type": "markdown",
   "metadata": {},
   "source": [
    "#### Solution for CauchyRunningMeans"
   ]
  },
  {
   "cell_type": "code",
   "execution_count": 167,
   "metadata": {},
   "outputs": [],
   "source": [
    "def hiddenCauchyRunningMeans(n):\n",
    "    '''Function to give a list of n running means from standardCauchy.\n",
    "    \n",
    "    n is the number of running means to generate.'''\n",
    "    \n",
    "    sample = cauchySample(n)\n",
    "    from pylab import cumsum\n",
    "    csSample = list(cumsum(sample))\n",
    "    samplesizes = range(1, n+1,1)\n",
    "    return [csSample[i]/samplesizes[i] for i in range(n)]"
   ]
  },
  {
   "cell_type": "code",
   "execution_count": null,
   "metadata": {},
   "outputs": [],
   "source": []
  }
 ],
 "metadata": {
  "kernelspec": {
   "display_name": "SageMath 8.4",
   "language": "",
   "name": "sagemath"
  },
  "language_info": {
   "codemirror_mode": {
    "name": "ipython",
    "version": 2
   },
   "file_extension": ".py",
   "mimetype": "text/x-python",
   "name": "python",
   "nbconvert_exporter": "python",
   "pygments_lexer": "ipython2",
   "version": "2.7.15"
  },
  "lx_course_instance": "Spring 2019, Uppsala University",
  "lx_course_name": "Applied Statistics",
  "lx_course_number": "1MS926"
 },
 "nbformat": 4,
 "nbformat_minor": 2
}
