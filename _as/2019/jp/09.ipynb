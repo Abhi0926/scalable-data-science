{
 "cells": [
  {
   "cell_type": "markdown",
   "metadata": {
    "deletable": false
   },
   "source": [
    "# [Applied Statistics](https://lamastex.github.io/scalable-data-science/as/2019/)\n",
    "## 1MS926, Spring 2019, Uppsala University \n",
    "&copy;2019 Raazesh Sainudiin. [Attribution 4.0 International (CC BY 4.0)](https://creativecommons.org/licenses/by/4.0/)"
   ]
  },
  {
   "cell_type": "markdown",
   "metadata": {},
   "source": [
    "# 09. Estimation, Likelihood, Maximum Likelihood Estimators and Regressions\n",
    "\n"
   ]
  },
  {
   "cell_type": "markdown",
   "metadata": {},
   "source": [
    "- Estimation and Likelihood\n",
    "- Parameter, Models, and Real Life\n",
    "- The Likelihood Function\n",
    "- The Likelihood Function for the $Bernoulli(\\theta)$ RV\n",
    "- The Log-likelihood Function\n",
    "- Maximum Likelihood Estimator\n",
    "- Example: New Zealand Lotto Data\n",
    "- Using Sage for Basic Algebra and Calculus\n",
    "- Symbolic Expressions for the Maximum Likelihood Estimator using Sage\n",
    "- New Zealand Earth Quakes - Inter-occurrence times\n",
    "- The Maximum Likelihood Principle\n",
    "- Maximum Likelihood and the $Exponential(\\lambda)$ RV\n",
    "- Inter-earthquake Times for New Zealand Earthquakes\n",
    "- Regression (we will most probably come to regression last; after seeing concepts in notebooks 10 and 11)\n",
    "  - Point Estimation (parametric estimation with the likelihood principle and MLE)\n",
    "    - linear and logistic models and their least-squares estimators\n",
    "    - problem of prediction: in regression and classification\n",
    "      - correlation versus causation\n",
    "      - assessing fit using diagnostic plots\n",
    "  - Point Estimation (with empirical risk minimisation principle - point estimation with validation of penalised least squares estimators)\n",
    "    - bias-variance trade-off (over-fitting)\n",
    "    - hold-out estimators including cross-validation\n",
    "  \n",
    "\n",
    "## Estimation and Likelihood\n",
    "\n",
    "**Likelihood** is one of the most fundamental concepts in **statistical inference**.  You may have already met some of its applications in other statistics courses, if not there is no sweat!  We will see the ideas from scratch.  The following three so-called decision problems are our main attractions in this likelihood tour.\n",
    "\n",
    "- **Point estimation**.  A 'single best guess' at some quantity of interest.\n",
    "- **Set estimation**. Guess a set that traps some quantity of interest with a high probability, for example, a confidence interval.\n",
    "- **Hypothesis testing**.  Attempt to reject a falsifiable null hypothesis, i.e., make scientific progress through Popper's [falsifiability](http://en.wikipedia.org/wiki/Falsifiability), an important concept in [science](http://en.wikipedia.org/wiki/Science) and the [philosophy of science](http://en.wikipedia.org/wiki/Philosophy_of_science).\n",
    "\n",
    "Likelihood also comes into regression, classification, risk minimisation, *all Bayesian methods*, etc. ...\n",
    "\n",
    "There are two types of estimation.  In this worksheet we are looking at **parametric estimation**.  The other kind of estimation is *non-parametric estimation*.\n",
    "\n",
    "## Parameters, Models and Real Life\n",
    "\n",
    "What do we mean by parametric estimation?  In parametric estimation, we assume that the data comes from a particular type of probability distribution and we try to estimate the parameters of that distribution.  What are parameters, in a statistical sense?  Remember the $Bernoulli(\\theta)$ random variable?  A $Bernoulli$ distribution has one parameter, usually denoted as $\\theta$.  We talked about modelling events such as the outcome of a toss of a coin as using the $Bernoulli(\\theta)$ random variable.  If the coin is fair then, in our model, $\\theta = \\frac{1}{2}$.  If the random variable $X$ takes value 1 when the fair coin lands heads, then we model $P(X = 1) = \\frac{1}{2}$.\n",
    "\n",
    "When we speak about the probability of observing events such as the outcome of a toss of a coin, we are assuming some kind of model.  In the case of a coin, the model is a $Bernoulli$ RV. This model would have one parameter,  the probability of the coin landing heads.\n",
    "\n",
    "When we introduced the $Exponential$ distribution, we talked about the $Exponential(\\lambda$) RV, or the $Exponential$ parameterised by $\\lambda$.  Distributions can be parameterised by more than one quantity.  We have already met the $Uniform(\\theta_1, \\theta_2)$ - this has two parameters, $\\theta_1$ and $\\theta_2$.  Another distribution you may be familiar with, although we have not discussed it in this course, is the Normal distribution which is parameterised by $\\mu$ and $\\sigma$.   The symbols like $\\theta$, $\\lambda$, $\\mu$, $\\sigma$ are conventionally used for the parameters of these distributions.  It is useful to  become familiar with these conventions (see for example Wikipedia on the Exponential  or Normal)\n",
    "\n",
    "There are many applications of computational statistics which involve models of real life events, and it is not enough to say \"this can be modeled with a $Bernoulli$ RV\", or \"Orbiter bus inter-arrival times can be modelled with an $Exponential$ RV\".  We also have to choose parameters for our models.\n",
    "\n",
    "We also remind ourselves that the probabilty density function (probability mass function for a discrete random variable) and distribution function depend on the parameters when we write them.  In the case of the $Bernoulli$, for example, the probability mass function is denoted by  $f(x;\\theta)$.  \n",
    "\n",
    "In real life, we are usually not trying to do \"textbook\" examples like calculating the probability of an event given a distribution and parameter value(s).  We may be able to see the outcomes of a process, but we can never know exactly what that process is, all we can do is try to find a useful model for it.  We are trying to use the information available to us in the form of observations or data to make our models, including guessing/estimating values for the model parameters.   We have to turn our thinking around and focus on what the data can tell us about the model.  In particular, in this course, we focus on what the data can tell us about model parameters - parametric estimation.   Now is a good time to reflect on these words of the renowned Statisticians:\n",
    "\n",
    "> All models are wrong, but some are useful --- George Edward Pelham Box\n",
    "\n",
    "> The only math I did not use is the one I did not know -- Lucien Le Cam\n",
    "\n",
    "## The Likelihood Function\n",
    "\n",
    "Likelihood, as we said above, is a fundamental concept in statistical inference (\"inference\" - making inferences from observations, making guesses based on information in data).\n",
    "\n",
    "In informal terms, likelihood is \"the likelihood of the parameters for the observed data\".  More formally, *likelihood is a function of the parameter and is proportional to the conditional probability of the data given the parameter*. \n",
    "\n",
    "We can talk about a likelihood function where the domain of the likelihood function is all the possible values for the parameters (remember, a function is a mapping from a domain to a range): the likelihood function is a mapping from possible values for the parameters to the likelihood of those parameters for the data.  \n",
    "\n",
    "The likelihood function of $\\theta$ based on $n$ observations $x_1, x_2, \\ldots, x_n$ is denoted $L_n(\\theta)$.  We have said that it is a mapping from \"all possible values for the parameters\", i.e. all possible values for $\\theta$, to the likelihood of those parameters given the data $x_1, x_2, \\ldots, x_n$.  In our formal notation, if we know that $\\theta$ must be somewhere in the parameter space ${\\mathbf{\\Theta}}$, then $L_n(\\theta)$ is a mapping from $\\mathbf{\\Theta}$ to the real numbers $\\mathbb{R}$:\n",
    "\n",
    "$$L_n(\\theta): \\mathbf{\\Theta} \\rightarrow \\mathbb{R}$$\n",
    "\n",
    "For example, in the case of a $Bernoulli(\\theta)$ RV, we know that the parameter $\\theta$ must be between $0$ and $1$, or $\\theta \\in [0,1]$.  In the case of an $Exponential(\\lambda)$ random variable parameterised by $\\lambda$, we know $\\lambda > 0$, i.e., $\\lambda \\in \\mathbf{\\Lambda} = (0,\\infty)$. \n",
    "\n",
    "NOTE: $\\Lambda$ is the Greek upper-case of $\\lambda$, which as usual we reserve for random variables taking values in $\\mathbf{\\Lambda}$. These distinctions are not too impotant for this course, and we will keep the notation light here, but when you learn more advanced concepts in statistical machine learning and Bayesian inference, it will become very important to keep the notations clear between samples, random variables and the space where they take their values for data, statistics and parameters (which themselves become random variables in advanced courses you may take in a couple years).\n",
    "\n",
    "We will focus on the likelihood function for independent and identically distributed (IID) random variables.\n",
    "\n",
    "Suppose we have $X_1,X_2,\\ldots,X_n$ as $n$ independent random variables and they are all identically distributed with $f(x;\\theta)$.   We would write this as $X_1,X_2,\\ldots,X_n \\overset{IID}{\\sim} f(x;\\theta)$. Here $(X_1,X_2,\\ldots,X_n)$ is an $\\mathbb{R}^n$-valued random variable (sometimes called a random vector). Then, \n",
    "\n",
    "$$X_1,X_2,\\ldots,X_n \\overset{IID}{\\sim} f(x;\\theta)$$\n",
    "\n",
    "merely means, due to independent and identical distribution among all $X_1,X_2,\\ldots,X_n$, that the $\\mathbb{R}^n$-valued random variable $(X_1,X_2,\\ldots,X_n)$ has joint density:\n",
    "\n",
    "$$f(x_1,x_2,\\ldots,x_n; \\theta) = f(x_1;\\theta)\\times f(x_2;\\theta) \\times \\cdots \\times f(x_n;\\theta) = \\prod_{i=1}^n f(x_i;\\theta) $$\n",
    "\n",
    "Thus, $f(x_1,x_2,\\ldots,x_n; \\theta)$ is termed the joint density of the data $(X_1, X_2, \\ldots, X_n)$ for a given $\\theta$.\n",
    "\n",
    "In conclusion, when $X_1,X_2,\\ldots,X_n \\overset{IID}{\\sim} f(x;\\theta)$ the joint density $f(x_1, x_2, \\ldots, x_n; \\theta)$ is the product of the individual densities $\\displaystyle \\prod_{i=1}^n f(x_i ; \\theta)$. \n",
    "\n",
    "\n",
    "This implies that the likeilihood function $L_n(\\theta)$, which formally also depends on the observed data, is:\n",
    "$$\n",
    "\\begin{array}{ll}\n",
    "L_n(\\theta) &:= L_n(\\theta; x_1,x_2,\\ldots,x_n) = L_n(\\theta; \\text{ data })\\\\\n",
    "&\\propto P(\\text{ data } | \\theta)\\\\\n",
    "&= f(x_1,x_2,\\ldots,x_n; \\theta)\\\\\n",
    "&= f(x_1;\\theta)\\,f(x_2;\\theta) \\ldots f(x_n;\\theta) \\\\\n",
    "&=: \\prod_{i=1}^n f(x_i ; \\theta)\\\\\n",
    "\\end{array}\n",
    "$$\n",
    "\n",
    "\n",
    "So when $X_1,X_2,\\ldots,X_n \\overset{IID}{\\sim} f(x;\\theta)$, \n",
    "\n",
    "$$\n",
    "\\boxed{L_n(\\theta) := \\prod_{i=1}^n f(x_i ; \\theta)}\n",
    "$$\n",
    " \n",
    "\n",
    "### The likelihood Function for the $Bernoulli(\\theta)$ RV\n",
    "\n",
    "We can make all this theory a little more real by considering the $Bernoulli$ RV.  In the last worksheet, we wrote function to be able to simulate samples from a $Bernoulli(\\theta)$ RV given some value for the parameter $\\theta$ and the number of samples required.  Suppose we used this function, with a small adaptation, to simulate some samples now using $\\theta^*$ - but there is a catch:  you don't know what the value of $\\theta^*$ is. "
   ]
  },
  {
   "cell_type": "markdown",
   "metadata": {},
   "source": [
    "### Prepare to simulate data from a secret $\\theta^*$\n",
    "\n",
    "Just place cursor on next hidden cell hit 'Run' button to evaluate it - its generating our simulated data from a secret $theta^*$ that we will not see by clicking on _here_ below. It has a function `bernoulliSampleSecretTheta(n)` that will produce $n$ IID $Bernoulli(\\theta^*)$ samples for us."
   ]
  },
  {
   "cell_type": "code",
   "execution_count": 6,
   "metadata": {},
   "outputs": [
    {
     "data": {
      "text/html": [
       "<script>\n",
       "code_show=true; \n",
       "function code_toggle() {\n",
       "    if (code_show){\n",
       "        $('div.cell.code_cell.rendered.selected div.input').hide();\n",
       "    } else {\n",
       "        $('div.cell.code_cell.rendered.selected div.input').show();\n",
       "    }\n",
       "    code_show = !code_show\n",
       "} \n",
       "\n",
       "$( document ).ready(code_toggle);\n",
       "</script>\n",
       "\n",
       "To show/hide this cell's raw code input, click <a href=\"javascript:code_toggle()\">here</a>."
      ],
      "text/plain": [
       "<IPython.core.display.HTML object>"
      ]
     },
     "execution_count": 6,
     "metadata": {},
     "output_type": "execute_result"
    }
   ],
   "source": [
    "# this needs to be hidden\n",
    "def bernoulliFInverse(u, theta):\n",
    "    '''A function to evaluate the inverse CDF of a bernoulli.\n",
    "    \n",
    "    Param u is the value to evaluate the inverse CDF at.\n",
    "    Param theta is the distribution parameters.\n",
    "    Returns inverse CDF under theta evaluated at u'''\n",
    "    \n",
    "    return floor(u + theta)\n",
    "    \n",
    "def bernoulliSampleSecretTheta(n, theta=0.30, mySeed=30):\n",
    "    '''A function to simulate samples from a bernoulli distribution.\n",
    "    \n",
    "    Param n is the number of samples to simulate.\n",
    "    Param theta is the bernoulli distribution parameter.\n",
    "    Param mySeed is a seed for the random number generator, defaulting to None.\n",
    "    Returns a simulated Bernoulli sample as a list.'''\n",
    "    set_random_seed(mySeed)\n",
    "    us = [random() for i in range(n)]\n",
    "    set_random_seed(None)\n",
    "    # use bernoulliFInverse in a list comprehension\n",
    "    return [bernoulliFInverse(u, theta) for u in us] \n",
    "\n",
    "\n",
    "from IPython.display import HTML\n",
    "HTML('''<script>\n",
    "code_show=true; \n",
    "function code_toggle() {\n",
    "    if (code_show){\n",
    "        $('div.cell.code_cell.rendered.selected div.input').hide();\n",
    "    } else {\n",
    "        $('div.cell.code_cell.rendered.selected div.input').show();\n",
    "    }\n",
    "    code_show = !code_show\n",
    "} \n",
    "\n",
    "$( document ).ready(code_toggle);\n",
    "</script>\n",
    "\n",
    "To show/hide this cell's raw code input, click <a href=\"javascript:code_toggle()\">here</a>.''')"
   ]
  },
  {
   "cell_type": "code",
   "execution_count": 11,
   "metadata": {},
   "outputs": [
    {
     "name": "stdout",
     "output_type": "stream",
     "text": [
      "[0, 1, 0, 1, 0, 0, 1, 0, 0, 0]\n"
     ]
    }
   ],
   "source": [
    "# Press Ctrl+Enter to evaluate this cell \n",
    "# and obtain our data, i.e., sample of 10 Bernoulli(theta*) RVs\n",
    "bSample = bernoulliSampleSecretTheta(10)\n",
    "print bSample"
   ]
  },
  {
   "cell_type": "code",
   "execution_count": 3,
   "metadata": {},
   "outputs": [],
   "source": [
    "# evaluate the hidden cell above and hide it immediately - its generating our simulated data from a secret theta*"
   ]
  },
  {
   "cell_type": "markdown",
   "metadata": {},
   "source": [
    "What we have is $X_1,X_2,\\ldots,X_n \\overset{IID}{\\sim} Bernoulli(\\theta^*)$ where $\\theta^* \\in [0,1]$ is the true, but unknown value (assuming you have not peeked into click `here` above!) of the parameter $\\theta$ responsible for producing all those observations in `bSample`.\n",
    "\n",
    "Recall that the $Bernoulli(\\theta)$ RV $X$ has probability mass function (PMF), for $x \\in \\{0, 1\\}$, $f(x;\\theta)$: \n",
    "\n",
    "$$\n",
    "f(x;\\theta)= \\theta^x (1-\\theta)^{1-x} \n",
    "=\\begin{cases}\n",
    "\\theta & \\text{ if } \\ x=1,\\\\\n",
    "1-\\theta &\\text{  if } \\ x=0,\\\\\n",
    "0 & \\text{ otherwise} \n",
    "\\end{cases}\n",
    "$$\n",
    "\n",
    "So, for $x_1, x_2, \\ldots, x_n \\in \\{0,1\\}$, the joint density of $n$ IID $Bernoulli(\\theta)$ RVs is:\n",
    "\n",
    "$$\n",
    "\\begin{array}{lcl}\n",
    "f(x_1,x_2,\\ldots,x_n; \\theta) \n",
    ":= \\displaystyle\\prod_{i=1}^n f(x_i ; \\theta) \n",
    "& = & \\prod_{i=1}^n\\theta^{x_i}(1-\\theta)^{1-x_i}\\\\ \n",
    "& = & \\theta^{\\sum_{i=1}^n x_i} (1-\\theta)^{\\left(n - \\sum_{i=1}^n x_i\\right)} \n",
    "\\end{array}\n",
    "$$\n",
    "\n",
    "$\\sum_{i=1}^n x_i$ is a bit of a mouthful, so lets summarise this as $t_n = \\displaystyle\\sum_{i=1}^n x_i$\n",
    "\n",
    "We can use $t_n$ to make our likelihood function a little more friendly:\n",
    "\n",
    "$$L_n(\\theta) = \\theta^{t_n}(1-\\theta)^{(n-t_n)}$$\n",
    "\n",
    "What we have actually done is to *define a statistic of the data*.  Remember that a statistic is a function of the data.  We will call our statistic (note the big $T$) $T_n$.  The $n$ subscript reminds us that it is a function of $n$ observations or data points $X_1,X_2,\\ldots,X_n$. \n",
    "\n",
    "$T_n$ is a function of the data, a mapping from the data space $\\mathbb{X} = \\{0,1\\}^n$ to the space $\\mathbb{T}_n$:\n",
    "\n",
    "$$\n",
    "T_n(X_1, \\ldots, X_n) = \\displaystyle \\sum_{i=1}^n X_i : \\mathbb{X} \\rightarrow \\mathbb{T}_n\n",
    "$$\n",
    "\n",
    "If you are wondering what the space $\\mathbb{T}_n$ is for the $Bernoulli$, think about the range of possible values of $\\displaystyle\\sum_{i=1}^n X_i$ when each $X_i$ can only be 0 or 1..... Now, do you agree that $\\mathbb{T}_n=\\{0,1,\\ldots,n\\}$? If so, observe that the size of the data space $\\mathbb{X}_n$ is $2^n$ but that of the statistic $\\mathbb{T}_n$ is just $n+1$. The natural question now is if we have lost any information about the parameter $\\theta$ that was in the data when summarising the data by this statistic? Such questions of so called *[sufficiency](https://en.wikipedia.org/wiki/Sufficient_statistic) of the statistic for the probability model parameterised by $\\theta$ that is assumed to be generating the data* are the starting point for a more mathematical statistical path one can take. We will not delve into this here.\n",
    "\n",
    "**In conclusion**, we have some actual observations or data points or just sample $(x_1, \\ldots, x_n)$, such that:\n",
    "\n",
    "- $(x_1, \\ldots, x_n)$ as a realisation of $\\mathbb{X}$-valued random variable $(X_1,X_2,\\ldots,X_n)$ from $n$ IID $Bernoulli(\\theta)$ trials\n",
    "  - with joint density $f(x_1,x_2,\\ldots,x_n; \\theta): \\mathbf{X} \\to \\mathbb{R}$ \n",
    "- and corresponding to this we have a realisation of our statistic $T(X_1,X_2,\\ldots,X_n)=\\sum_{i=1}^n X_i : \\mathbb{X} \\to \\{0,1,\\ldots,n\\}$:\n",
    "  - $T_n(x_1, \\ldots, x_n) = t_n = \\displaystyle\\sum_{i=1}^n x_i$\n",
    "- and finally we can express the likelihood function as $L_n(\\theta) = \\theta^{t_n}(1-\\theta)^{(n-t_n)}$\n",
    "\n",
    "We can easily use SageMath/Python to calculate $t_n$ for us, using the sum function.  For example, for the small sample of 20 simulated Bernoulli observations above:"
   ]
  },
  {
   "cell_type": "code",
   "execution_count": 12,
   "metadata": {},
   "outputs": [
    {
     "data": {
      "text/plain": [
       "3"
      ]
     },
     "execution_count": 12,
     "metadata": {},
     "output_type": "execute_result"
    }
   ],
   "source": [
    "tn = sum(bSample)\n",
    "tn"
   ]
  },
  {
   "cell_type": "markdown",
   "metadata": {},
   "source": [
    "We can also write ourselves a SageMath/Python function to calculate the likelihood of a specified value of $\\theta$ given $n$ and $t_n$.  "
   ]
  },
  {
   "cell_type": "code",
   "execution_count": 13,
   "metadata": {},
   "outputs": [],
   "source": [
    "def likelihoodBernoulli(theta, n, tStatistic):\n",
    "    '''Bernoulli likelihood function.\n",
    "    theta in [0,1] is the theta to evaluate the likelihood at.\n",
    "    n is the number of observations.\n",
    "    tStatistic is the sum of the n Bernoulli observations.\n",
    "    return a value for the likelihood of theta given the n observations and tStatistic.'''\n",
    "    retValue = 0 # default return value\n",
    "    if (theta >= 0 and theta <= 1): # check on theta\n",
    "        mpfrTheta = RR(theta) # make sure we use a Sage mpfr \n",
    "        retValue = (mpfrTheta^tStatistic)*(1-mpfrTheta)^(n-tStatistic)\n",
    "    return retValue"
   ]
  },
  {
   "cell_type": "markdown",
   "metadata": {},
   "source": [
    "**Note:** We use `RR(theta)` above to make sure that we use a  souped-up Sage multi-precision floating-point real (mpfr) number type in our calculation, which will improve the precision of the calculation of the likelihoods. \n",
    "\n",
    "This may seem like an over-kill to those who have their own ideas of what a \"course\" in *statistics*, *computer science* or *mathematics* is supposed to \"teach\". Asking those whose fingers on key-boards are fielding real-world fires in *problems of applied statistics* may know the advantages of using readily available muli-precision floating point arithemtic at our immediate disposal here. You can try removing `RR` and replace it with Python `float` and increase sample size $n$ to know what is meant here (unless you field via `log`s and number-screen dynamic shifts)!"
   ]
  },
  {
   "cell_type": "markdown",
   "metadata": {},
   "source": [
    "### YouTry in class\n",
    "\n",
    "You should be able to understand what the `likelihoodBernoulli` function is doing and be able to write this kind of SageMath function for yourselves.  Why do we need to check that the value for `theta` passed to the function is between 0 and 1?  How does the function deal with a situation where it is asked to evaluate a likelihood for `theta < 0` or `theta > 1`?"
   ]
  },
  {
   "cell_type": "code",
   "execution_count": null,
   "metadata": {
    "collapsed": true
   },
   "outputs": [],
   "source": []
  },
  {
   "cell_type": "markdown",
   "metadata": {},
   "source": [
    "(end of You Try)\n",
    "\n",
    "---\n",
    "\n",
    "Let's look at a very simple situation where we have one observation ($n=1$) and it is a 0.  What is the realisation of $T_1$, i.e., $t_1$?"
   ]
  },
  {
   "cell_type": "code",
   "execution_count": 14,
   "metadata": {},
   "outputs": [
    {
     "data": {
      "text/plain": [
       "0"
      ]
     },
     "execution_count": 14,
     "metadata": {},
     "output_type": "execute_result"
    }
   ],
   "source": [
    "bernoulliSample0 = [0]\n",
    "tn = sum(bernoulliSample0)\n",
    "tn"
   ]
  },
  {
   "cell_type": "markdown",
   "metadata": {},
   "source": [
    "### YouTry in class if you are bored or at home\n",
    "\n",
    "Try going back to the $Bernoulli$ likelihood function $L_n(\\theta) = \\theta^{t_n}(1-\\theta)^{(n-t_n)}$ to calculate the likelihood of $\\theta =0$ without using the SageMath function. Think about what the likelihood function is doing (the mathematical derivation for the $Bernoulli$ case was already scribed above, but you need to be able to do such derivations on your own in the exam or in assignments when I give you another distribution that the data is independent and identically distributed from). \n",
    "\n",
    "When you have done that, check that you get the same answer using our `likelihoodBernoulli` SageMath function:"
   ]
  },
  {
   "cell_type": "code",
   "execution_count": 15,
   "metadata": {},
   "outputs": [
    {
     "data": {
      "text/plain": [
       "1.00000000000000"
      ]
     },
     "execution_count": 15,
     "metadata": {},
     "output_type": "execute_result"
    }
   ],
   "source": [
    "tryTheta0 = 0 # a value of theta to find the likelihood for\n",
    "n = len(bernoulliSample0) # find n as the length of the sample list\n",
    "tn = sum(bernoulliSample0) # find tn as the sum of the samples\n",
    "# calculate the likelihood of theta=tryTheta0=0\n",
    "likelihoodBernoulli(tryTheta0, n, tn)"
   ]
  },
  {
   "cell_type": "markdown",
   "metadata": {},
   "source": [
    "What about $\\theta = 1$?  What is the likelihood of $\\theta = 1$ when we have observed 0?  Think back to what the $\\theta$ parameter means in a $Bernoulli$ distribution:\n",
    "\n",
    "The $Bernoulli(\\theta)$ RV $X$ has probability mass function (PMF), for $x \\in \\{0, 1\\}$, $f(x;\\theta)$: \n",
    "\n",
    "$$\n",
    "f(x;\\theta)= \\theta^x (1-\\theta)^{1-x} =\\begin{cases}\\theta& \\text{ if } \\ x=1,\\\\1-\\theta &\\text{ if } \\ x=0,\\\\0 & \\text{ otherwise} \\end{cases}\n",
    "$$\n",
    "\n",
    "Remember that the idea behind the likelihood function is \"what is the likelihood of a parameter value given our data?\"\n",
    "\n",
    "When you have worked out the answer using $L_n(\\theta)$, check using our `likelihoodBernoulli` SageMath function:"
   ]
  },
  {
   "cell_type": "code",
   "execution_count": 16,
   "metadata": {},
   "outputs": [
    {
     "data": {
      "text/plain": [
       "0.000000000000000"
      ]
     },
     "execution_count": 16,
     "metadata": {},
     "output_type": "execute_result"
    }
   ],
   "source": [
    "tryTheta1 = 1 # a value of theta to find the likelihood for\n",
    "n = len(bernoulliSample0) # find n as the length of the sample list\n",
    "tn = sum(bernoulliSample0) # find tn as the sum of the samples\n",
    "# calculate the likelihood of theta=tryTheta0=0\n",
    "likelihoodBernoulli(tryTheta1, n, tn)"
   ]
  },
  {
   "cell_type": "markdown",
   "metadata": {},
   "source": [
    "What about $\\theta = \\frac{1}{2}$?"
   ]
  },
  {
   "cell_type": "code",
   "execution_count": 17,
   "metadata": {},
   "outputs": [
    {
     "data": {
      "text/plain": [
       "0.500000000000000"
      ]
     },
     "execution_count": 17,
     "metadata": {},
     "output_type": "execute_result"
    }
   ],
   "source": [
    "tryTheta1 = 0.5 # a value of theta to find the likelihood for\n",
    "n = len(bernoulliSample0) # find n as the length of the sample list\n",
    "tn = sum(bernoulliSample0) # find tn as the sum of the samples\n",
    "# calculate the likelihood of theta=tryTheta0=0\n",
    "likelihoodBernoulli(tryTheta1, n, tn)"
   ]
  },
  {
   "cell_type": "markdown",
   "metadata": {},
   "source": [
    "Try to sketch the likelihood function over $\\theta \\in [0,1]$ for our one observation of 0.\n",
    "\n",
    "Now, what if instead of observing a 0 in our one-observation case, we had observed a 1?\n",
    "\n",
    "What is our realisation of $T_n$ now?  What is our intuition about the likelihood of $\\theta = 0$? $\\theta = 1$? \n",
    "\n",
    "Again try to sketch the likelihood function for our single observation of 1.\n",
    "\n",
    "We could use `likelihoodBernoulli` and a for loop to calculate the likelihood for some different values of $\\theta$ without repeating code: "
   ]
  },
  {
   "cell_type": "code",
   "execution_count": 18,
   "metadata": {},
   "outputs": [
    {
     "name": "stdout",
     "output_type": "stream",
     "text": [
      "If we observe [1] The likelihood of theta= 0.0  is  0.000000000000000\n",
      "If we observe [1] The likelihood of theta= 0.2  is  0.200000000000000\n",
      "If we observe [1] The likelihood of theta= 0.4  is  0.400000000000000\n",
      "If we observe [1] The likelihood of theta= 0.6  is  0.600000000000000\n",
      "If we observe [1] The likelihood of theta= 0.8  is  0.800000000000000\n",
      "If we observe [1] The likelihood of theta= 1.0  is  1.00000000000000\n"
     ]
    }
   ],
   "source": [
    "bernoulliSample1 = [1]\n",
    "n = len(bernoulliSample1) # find n as the length of the sample list\n",
    "tn = sum(bernoulliSample1) # find tn as the sum of the samples\n",
    "from pylab import arange # import arange from pylab\n",
    "for t in arange(0, 1.1, 0.2):\n",
    "    # calculate the likelihood of theta=tryTheta0=0\n",
    "    print \"If we observe\", bernoulliSample1, \\\n",
    "        \"The likelihood of theta=\", t, \" is \", \\\n",
    "        likelihoodBernoulli(t, n, tn)"
   ]
  },
  {
   "cell_type": "markdown",
   "metadata": {},
   "source": [
    "Or, we could use a list comprehension to get a list of likelihoods corresponding to the list of possible values of $\\theta$:"
   ]
  },
  {
   "cell_type": "code",
   "execution_count": 19,
   "metadata": {},
   "outputs": [
    {
     "data": {
      "text/plain": [
       "[0.000000000000000,\n",
       " 0.200000000000000,\n",
       " 0.400000000000000,\n",
       " 0.600000000000000,\n",
       " 0.800000000000000,\n",
       " 1.00000000000000]"
      ]
     },
     "execution_count": 19,
     "metadata": {},
     "output_type": "execute_result"
    }
   ],
   "source": [
    "ths = arange(0, 1.1, 0.2)\n",
    "[likelihoodBernoulli(t,len(bernoulliSample1),sum(bernoulliSample1)) \\\n",
    "     for t in ths]"
   ]
  },
  {
   "cell_type": "markdown",
   "metadata": {},
   "source": [
    "If you have forgotten about the arange function, it is a useful way of getting a sequence of values in steps.  We have used the statement `from pylab import arange` because we don't want the whole of the `pylab libary`, just `arange`.  Check the documentation if you need a reminder about `arange`."
   ]
  },
  {
   "cell_type": "code",
   "execution_count": 20,
   "metadata": {},
   "outputs": [],
   "source": [
    "?arange"
   ]
  },
  {
   "cell_type": "markdown",
   "metadata": {},
   "source": [
    "You will see that the `arange` function (which stands for array range) can take values for `start`, `stop`, and `step`.  You will also see that (like `range`), the list you get will go to just below the value you specifiy for `stop`.  To get a list of values from 0 to 1 in steps of 0.2 our `stop` value was 1.1.  1.2 would also have worked, but a `stop` value of 1.3 or 1.4 would have given us a list from 0 to 1.2 in steps of 0.2. \n",
    "\n",
    "Try some different values in `arange` if you want to check how it works again. *But you should recall this from the*  `numpy` *lectures! on* `array`."
   ]
  },
  {
   "cell_type": "code",
   "execution_count": 21,
   "metadata": {},
   "outputs": [
    {
     "data": {
      "text/plain": [
       "array([ 0. ,  0.2,  0.4,  0.6,  0.8,  1. ])"
      ]
     },
     "execution_count": 21,
     "metadata": {},
     "output_type": "execute_result"
    }
   ],
   "source": [
    "from pylab import arange\n",
    "arange(0, 1.1, 0.2)"
   ]
  },
  {
   "cell_type": "code",
   "execution_count": null,
   "metadata": {},
   "outputs": [],
   "source": []
  },
  {
   "cell_type": "markdown",
   "metadata": {},
   "source": [
    "(end of You Try)\n",
    "\n",
    "---\n",
    "\n",
    "Now, we look at a possible sample of $n=2$ observations from a Bernoulli process with unknown $\\theta$:"
   ]
  },
  {
   "cell_type": "code",
   "execution_count": 22,
   "metadata": {},
   "outputs": [],
   "source": [
    "smallBSample = [0,1]"
   ]
  },
  {
   "cell_type": "markdown",
   "metadata": {},
   "source": [
    "What is $t_n$, the realisation of the $T_n$ statistic now with $n=2$?"
   ]
  },
  {
   "cell_type": "code",
   "execution_count": 23,
   "metadata": {},
   "outputs": [
    {
     "data": {
      "text/plain": [
       "1"
      ]
     },
     "execution_count": 23,
     "metadata": {},
     "output_type": "execute_result"
    }
   ],
   "source": [
    "tn = sum(smallBSample) # what is tn\n",
    "tn"
   ]
  },
  {
   "cell_type": "markdown",
   "metadata": {},
   "source": [
    "Use $L_n(\\theta) = \\theta^{t_n}(1-\\theta)^{(n-t_n)}$ to think about the likelihood of some possible values for $\\theta$ given this data.  Think what the shape of the likelihood function might be. \n",
    "\n",
    "In the visualisation below we have used our `likelihoodBernoulli` function to plot the likelihood function for the cases where we have a single observation 0, a single observation 1, and a small sample of size two with observations: 0, 1."
   ]
  },
  {
   "cell_type": "code",
   "execution_count": 24,
   "metadata": {},
   "outputs": [
    {
     "data": {
      "image/png": "[encoded data removed]",
      "text/plain": [
       "Graphics Array of size 1 x 3"
      ]
     },
     "metadata": {},
     "output_type": "display_data"
    }
   ],
   "source": [
    "bernoulliSample0 = [0] # make sure we know about our samples\n",
    "bernoulliSample1 = [1]\n",
    "smallBSample = [0,1]\n",
    "from pylab import arange\n",
    "ths = arange(0,1.01,0.01) # get some values to plot against\n",
    "p1 = line(zip(ths, [likelihoodBernoulli(t, len(bernoulliSample0),sum(bernoulliSample0)) for t in ths]))\n",
    "t1 = text(\"One observation, x1 = 0\", (0.5,1.1), fontsize=10)\n",
    "p1 = p1+t1\n",
    "p2 = line(zip(ths, [likelihoodBernoulli(t, len(bernoulliSample1),sum(bernoulliSample1)) for t in ths]))\n",
    "t2 = text(\"One observation, x1 = 1\", (0.5,1.1), fontsize=10)\n",
    "p2 = p2+t2\n",
    "p3 = line(zip(ths, [likelihoodBernoulli(t, len(smallBSample),sum(smallBSample)) for t in ths]))\n",
    "t3 = text(\"Two observations, x1=0, x2=1\", (0.5,1.1), fontsize=10)\n",
    "p3 = p3+t3\n",
    "show(graphics_array([p1, p2, p3]),figsize=[9,4])"
   ]
  },
  {
   "cell_type": "markdown",
   "metadata": {},
   "source": [
    "There are other samples we could get if we draw a sample of size $n=2$ from a $Bernoulli$ RV.  In the visualisation below we plot the likelihood functions for the four unique possible samples:"
   ]
  },
  {
   "cell_type": "code",
   "execution_count": 25,
   "metadata": {},
   "outputs": [
    {
     "data": {
      "image/png": "[encoded data removed]",
      "text/plain": [
       "Graphics Array of size 1 x 4"
      ]
     },
     "metadata": {},
     "output_type": "display_data"
    }
   ],
   "source": [
    "smallBSample1 = [0,0]\n",
    "smallBSample2 = [1,0]\n",
    "smallBSample3 = [0,1]\n",
    "smallBSample4 = [1,1]\n",
    "listOfSamples = [smallBSample1, smallBSample2, smallBSample3, smallBSample4] # a list of lists\n",
    "from pylab import arange\n",
    "ths = arange(0,1.01,0.01) # get some values to plot against\n",
    "l_plots = [] # an empty list of plots\n",
    "for sample in listOfSamples: # go through the list of samples one by one\n",
    "    ptitle = text(\"Sample x1 = \" + str(sample[0]) + \", x2 = \" + str(sample[1]), (0.5,1.1), fontsize=10)\n",
    "    l_plots.append(line(zip(ths, [likelihoodBernoulli(t, len(sample),sum(sample)) for t in ths])) + ptitle) # append plot to list of plots\n",
    "show(graphics_array(l_plots),figsize=[9,4]) # show the list of plots"
   ]
  },
  {
   "cell_type": "markdown",
   "metadata": {},
   "source": [
    "We can see that the shape of the likekihood function depends on the sample:\n",
    "\n",
    "- $(x_1,x_2) \\in \\{ (0,0), (1,0), (0,1), (1,1)\\}$ \n",
    "- and more crucially on the statistic \n",
    "  - $t_2 \\in \\{0,1,2\\}$\n",
    "  \n",
    "In the above plots we are looking at the likelihood for the parameter given the actual data (simulated here, of course for pedagogical reasons).  \n",
    "\n",
    "As usual, you do not have to know how to do these plots or the interactive plot below to do well in the exam or assignments, but you should understand what a list comprehension statement like the following:\n",
    "\n",
    "> `[likelihoodBernoulli(t,len(smallBSample),sum(smallBSample)) for t in ths]`\n",
    "\n",
    "is doing, when `ths = arange(0, 1.01, 0.01)` are some possible values for $\\theta \\in [0,1]$.\n",
    "\n",
    "What happens as we increase the sample size $n$?  In the interactive plot below, we use our `bernoulliSampleSecretTheta` to simulate samples of size $n$ with an unknown $\\theta^*$.  You can have a look at the effect of increasing $n$:"
   ]
  },
  {
   "cell_type": "code",
   "execution_count": 26,
   "metadata": {},
   "outputs": [
    {
     "data": {
      "application/vnd.jupyter.widget-view+json": {
       "model_id": "1e7b3d43965d4078abeedd921a01a336",
       "version_major": 2,
       "version_minor": 0
      },
      "text/plain": [
       "SW50ZXJhY3RpdmUgZnVuY3Rpb24gPGZ1bmN0aW9uIF8gYXQgMHg3ZjFmMjhhZDkyYTg+IHdpdGggMSB3aWRnZXQKICBuOiBTZWxlY3Rpb25TbGlkZXIoZGVzY3JpcHRpb249dSduJywgb3B0aW/igKY=\n"
      ]
     },
     "metadata": {},
     "output_type": "display_data"
    }
   ],
   "source": [
    "@interact\n",
    "def _(n=(2,(2..1000))):\n",
    "    '''Interactive function to plot the bernoulli likelihood for different n.'''\n",
    "    if n > 0:\n",
    "        thisBSample = bernoulliSampleSecretTheta(n) # make sample\n",
    "        n = len(thisBSample) # what is n\n",
    "        tn = sum(thisBSample)\n",
    "        print \"Likelihood function for n = \", n , \" and tn = \", tn\n",
    "        from pylab import arange\n",
    "        ths = arange(0,1,0.01) # get some values to plot against\n",
    "        p = line(zip(ths, [likelihoodBernoulli(t, n, tn) for t in ths]))\n",
    "        show(p, figsize=(8,4))\n",
    "    else:\n",
    "        print \"n must be greater than 0\""
   ]
  },
  {
   "cell_type": "markdown",
   "metadata": {},
   "source": [
    "Remember that for each $n$ you try, the shape of the likelihood function will depend on the $t_n$ for the sample simulated by `bernoulliSampleSecretTheta`."
   ]
  },
  {
   "cell_type": "markdown",
   "metadata": {},
   "source": [
    "## The Log-likelihood Function\n",
    "\n",
    "Working with products, as in \n",
    "\n",
    "$$\n",
    "L_n(\\theta) = \\displaystyle \\prod_{i=1}^n f(x_i;\\theta) \\quad \\text{,  where  } X_1, X_2, \\ldots, X_n \\overset{IID} \\sim f(x_i;\\theta)\n",
    "$$ \n",
    "\n",
    "(i.e., $n$ independent and identically distributed random variables), can be inconvenient. Taking logs can be useful here.  The log-likelihood function for some parameter $\\theta$ is $l_n(\\theta)$ and it is literally the log of the likelihood function $L_n(\\theta)$:\n",
    "\n",
    "$$l_n(\\theta) := log(L_n(\\theta))$$\n",
    "\n",
    "You will probably recall from pre-calculus that $\\log(a \\times b) = \\log(a) + \\log(b)$.\n",
    "\n",
    "In SageMath, using the `log` function without specifying a base gives the natural logarithm (logarithm to base $e$) of a value."
   ]
  },
  {
   "cell_type": "code",
   "execution_count": 27,
   "metadata": {},
   "outputs": [
    {
     "data": {
      "text/plain": [
       "3.40119738166216"
      ]
     },
     "execution_count": 27,
     "metadata": {},
     "output_type": "execute_result"
    }
   ],
   "source": [
    "a = 5.0\n",
    "b = 6.0\n",
    "log(a*b)"
   ]
  },
  {
   "cell_type": "code",
   "execution_count": 28,
   "metadata": {},
   "outputs": [
    {
     "data": {
      "text/plain": [
       "3.40119738166216"
      ]
     },
     "execution_count": 28,
     "metadata": {},
     "output_type": "execute_result"
    }
   ],
   "source": [
    "log(a) + log(b)"
   ]
  },
  {
   "cell_type": "code",
   "execution_count": 29,
   "metadata": {},
   "outputs": [],
   "source": [
    "?log"
   ]
  },
  {
   "cell_type": "markdown",
   "metadata": {},
   "source": [
    "The SageMath `log` function provides a default parameter value of `None` for the base, and if the base is `None` the natural log is calculated.  If you specify a value for the base when you use the `log` function, you will get the logarithm using this base (default parameter values and `Non`e were discussed in the last notebook:  go back there in your own time if you need to)."
   ]
  },
  {
   "cell_type": "code",
   "execution_count": 30,
   "metadata": {},
   "outputs": [
    {
     "data": {
      "text/plain": [
       "0.698970004336019"
      ]
     },
     "execution_count": 30,
     "metadata": {},
     "output_type": "execute_result"
    }
   ],
   "source": [
    "log(a, 10) # log to base 10"
   ]
  },
  {
   "cell_type": "markdown",
   "metadata": {},
   "source": [
    "We can generalise this into a useful trick (of course most of you must have seen this in high-school, but just in case!):  \n",
    "\n",
    "**the log of products is the sum of logs**\n",
    "\n",
    "$$\\log\\left(\\displaystyle\\prod_{j=1}^n y_j\\right) = \\displaystyle\\sum_{j=1}^n\\left(\\log(y_j)\\right)$$\n",
    "\n",
    "So, if we have $n$ IID (independent and identically distributed) random variables, the log-likelihood function is\n",
    "\n",
    "$$\n",
    "X_1,X_2,\\ldots,X_n \\overset{IID}{\\sim} f(x;\\theta) \\Longrightarrow\n",
    "l_n(\\theta) = \\log(L_n(\\theta)) := \\log\\left(\\prod_{i=1}^n f(x_i ; \\theta)\\right) = \\sum_{i=1}^n \\log(f(x_i; \\theta))\n",
    "$$\n",
    "\n",
    "In the case of $X_1, X_2, \\ldots, X_n \\overset{IID}{\\sim} Bernoulli(\\theta)$, $n$ independent and identically distributed $Bernoulli$ RVs,\n",
    "\n",
    "$$\n",
    "l_n(\\theta) = \\log(L_n(\\theta)) = \\log\\left(\\theta^{t_n}(1-\\theta)^{(n-t_n)}\\right) = t_n\\log(\\theta) + (n-t_n)\\log(1-\\theta)\n",
    "$$\n",
    "\n",
    "Here we are using the fact that $\\log(a^c) = c\\log(a)$. \n",
    "\n",
    "If this is not familiar to you, consider $\\log(a^2) = \\log(a \\times a) = \\log(a) + \\log(a) = 2\\log(a)$\n",
    "\n",
    "and then think what happens if you have $\\log(a^3) = \\log(a \\times a^2) = \\log(a) +\\ log(a^2) = \\log(a) + 2log(a) = 3\\log(a)$, etc etc.\n",
    "\n",
    "### YouTry in class\n",
    "\n",
    "Write down for yourself the steps to prove that the log-likelihood function $l_n(\\theta) = t_n\\log(\\theta) + (n-t_n)\\log(1-\\theta)$ for $n$ IID samples from $Bernoulli$ RVs.\n",
    "\n",
    "(end of You Try)\n",
    "\n",
    "---\n",
    "\n",
    "Logarithm is a **monotone function** (also known as a monotonic function).  What does it mean when we say that something is a monotone function?  In words, it means that the function preserves the given order.  For once, putting something as a formula may make it easier to understand than the words.  If $f$ is some monotone function and we have two values $a$ and $b$ in the domain of $f$ (values that $f$ can be applied to) such that $a \\le b$, then $f(a) \\le f(b)$.\n",
    "\n",
    "So, if $a \\le b$, $\\log(a) \\le \\log(b)$:  log preserves order.   If we calculatete the likelihood $L_n$ for two different possible values of $\\theta$, say $\\theta_a$ and $\\theta_b$ and find that $L_n(\\theta_a) \\le L_n(\\theta_b)$, then we know that $l_n(\\theta_a) = \\log(L_n(\\theta_a)) \\le l_n(\\theta_b) = \\log(L_n(\\theta_b))$.\n",
    "\n",
    "We can see this if we adapt our interactive plot for the $Bernoulli$ likelihood function:"
   ]
  },
  {
   "cell_type": "code",
   "execution_count": 31,
   "metadata": {},
   "outputs": [
    {
     "data": {
      "application/vnd.jupyter.widget-view+json": {
       "model_id": "60452f118cc84a53982a4af5cc4b1001",
       "version_major": 2,
       "version_minor": 0
      },
      "text/plain": [
       "SW50ZXJhY3RpdmUgZnVuY3Rpb24gPGZ1bmN0aW9uIF8gYXQgMHg3ZjFmMjdmMjYwYzg+IHdpdGggMSB3aWRnZXQKICBuOiBTZWxlY3Rpb25TbGlkZXIoZGVzY3JpcHRpb249dSduJywgb3B0aW/igKY=\n"
      ]
     },
     "metadata": {},
     "output_type": "display_data"
    }
   ],
   "source": [
    "@interact\n",
    "def _(n=(2,(2..1000))):\n",
    "    '''Interactive function to plot the bernoulli likelihood for different n.'''\n",
    "    if n > 0:\n",
    "        thisBSample = bernoulliSampleSecretTheta(n) # make sample\n",
    "        n = len(thisBSample) # what is n\n",
    "        tn = sum(thisBSample)\n",
    "        print \"n = \", n , \" and tn = \", tn\n",
    "        from pylab import arange\n",
    "        ths = arange(0,1,0.01) # get some values to plot against\n",
    "        liks = [likelihoodBernoulli(t,n,tn) for t in ths]\n",
    "        p1 = line(zip(ths, liks))\n",
    "        p1 += text(\"Likelihood function\", (0.5, max(liks)*1.1))\n",
    "        thsForLog = arange(0.01,1,0.01) # fudge to avoid log(0) get some values to plot log against\n",
    "        logliks = [log(likelihoodBernoulli(t,n,tn)) for t in thsForLog]\n",
    "        p2 = line(zip(thsForLog, logliks), rgbcolor=\"red\")\n",
    "        p2 += text(\"Log-likelihood function\", (0.5, max(logliks)*0.8), rgbcolor=\"red\")\n",
    "        show(graphics_array([p1, p2]),figsize=[8,3])\n",
    "    else:\n",
    "        print \"n must be greater than 0\""
   ]
  },
  {
   "cell_type": "markdown",
   "metadata": {},
   "source": [
    "# Maximum Likelihood Estimator\n",
    "\n",
    "So now, we know about the **likelihood function**, the function that tells us about the likelihood of parameter values given the data, and we know about the **log-likelihood function**.   How do either of these help us to make an estimate of a parameter value? \n",
    "\n",
    "How about estimating a parameter with the value that maximises the likelihood function?   This is called the **Maximum Likelihood Estimator (MLE)**.\n",
    "\n",
    "And, because log is a monotone function, we know that if some particular value for the unknown parameter maximises the likelihood function, then it will also maximise the log-likelihood function.\n",
    "\n",
    "Formally,\n",
    "\n",
    "Let $(X_1,\\ldots,X_n) \\sim f(x_1,\\ldots,x_n;\\theta^*)$, i.e., let $(X_1,\\ldots,X_n)$ have joint density $ f(x_1,\\ldots,x_n;\\theta^*)$ where $\\theta^*$ is the *\"true\"* but possibly unknown parameter value *under our assumed probability model* for the $n$ observations $(x_1,\\ldots,x_n)$.\n",
    "\n",
    "The *maximum likelihood estimator or MLE* denoted by $\\widehat{\\Theta}_n$ of the fixed and possibly unknown true parameter $\\theta^* \\in \\Theta$ is a function that returns the value of $\\theta$ that maximises the likelihood function.\n",
    "\n",
    "As we saw, when we looked at the different possible unique samples of size $n=2$ from a $Bernoulli$ RV, the shape of the likelihood function depends on the data. The maximum likelihood estimator, i.e., the value of $\\theta$ which maximises the likelihood function (or log-likelihood function) is clearly a function of data itself. \n",
    "\n",
    "$$\n",
    "\\widehat{\\Theta}_n := \\widehat{\\Theta}_n(X_1,X_2,\\ldots,X_n) := \\underset{\\theta \\in \\Theta}{argmax} \\, L_n(\\theta) \n",
    "$$\n",
    "Equivalently, the maximum likelihood estimator is the value of $\\theta$ that maximises the log-likelihood function:\n",
    "$$\n",
    "\\widehat{\\Theta}_n := \\underset{\\theta \\in \\Theta}{argmax} \\, l_n(\\theta)\n",
    "$$\n",
    "\n",
    "Thus, $\\underset{\\theta \\in \\Theta}{argmax}L_n(\\theta)$ is the value of $\\theta \\in \\Theta$ that maximises $L_n(\\theta)$.   $argmax$ is doing what we try to do by eye when we look at the shape of a likelihood function and try to see which value of $\\theta$ corresponds to the function's highest point. \n",
    "\n",
    "How do we find the value which maximises the likelihood function, or log-likelihood function?  What do we usually do when we want to find the value of a parameter which maximises a function?   We find the turning point(s) of the function by taking the derivative of the function with respect to the parameter (for maximums, we are looking for turning points where the slope of the function changes from positive to negative, which we could check with a second derivative, but let's just concentrate on finding the derivative for the moment).\n",
    "\n",
    "Consider finding the maximum likelihood estimator for $X_1, X_2, \\ldots, X_n \\overset{IID}{\\sim} Bernoulli(\\theta^*)$ ($n$ independent Bernoulli random variables, identically distributed with the same true parameter value $\\theta^*$):\n",
    "\n",
    "We found that the likelihood function $L_n(\\theta) = \\theta^{t_n} (1-\\theta)^{(n-t_n)}$ and the log-likelihood function $l_n(\\theta) = t_n\\log(\\theta) + (n-t_n)\\log(1-\\theta)$.\n",
    "\n",
    "It is much easier to work with the log-likelihood function when we are taking the derivative with respect to $\\theta$:\n",
    "\n",
    "$$\n",
    "\\begin{eqnarray}\n",
    "\\frac{\\partial}{\\partial \\theta} l_n(\\theta)\n",
    "&=& \\frac{\\partial}{\\partial \\theta}  t_n \\log(\\theta) + \\frac{\\partial}{\\partial \\theta}  (n-t_n) \\log(1-\\theta) \\notag \\\\\n",
    "&=& \\frac{t_n}{\\theta} - \\frac{n-t_n}{1-\\theta} \\notag\n",
    "\\end{eqnarray}\n",
    "$$\n",
    "\n",
    "Here, we are using the useful fact that $\\frac{\\partial \\log(\\theta)}{\\partial \\theta} = \\frac{1}{\\theta}$ (and $\\frac{\\partial \\log(1-\\theta)}{\\partial \\theta} = \\frac{-1}{1-\\theta})$\n",
    "\n",
    "Now, set $\\frac{\\partial}{\\partial \\theta} l_n(\\theta)=0$ and solve for $\\theta$ to obtain the maximum likelihood estimate  $\\widehat{\\theta}_n$:\n",
    "\n",
    "$$\n",
    "\\frac{\\partial}{\\partial \\theta} l_n(\\theta)) = 0 \\iff\n",
    "\\frac{t_n}{\\theta} = \\frac{n-t_n}{1-\\theta} \\iff\n",
    "\\frac{1-\\theta}{\\theta} = \\frac{n-t_n}{t_n} \\iff\n",
    "\\frac{1}{\\theta}-1 = \\frac{n}{t_n}-1 \\iff \\widehat{\\theta}_n = \\frac{t_n}{n}\n",
    "$$\n",
    "\n",
    "What was $t_n$?  \n",
    "\n",
    "$t_n = \\displaystyle \\sum_{i=1}^n x_i$, so we can see that $\\widehat{\\theta}_n = \\frac{1}{n}\\displaystyle\\sum_{i=1}^n x_i$\n",
    "\n",
    "In general, the maximum likelihood estimator as a function of the RVs $X_1, X_2, \\ldots, X_n$  is:\n",
    "\n",
    "$$\n",
    "\\widehat{\\Theta}_n(X_1,X_2,\\ldots,X_n) = \\frac{1}{n}T_n(X_1,X_2,\\ldots,X_n) = \\frac{1}{n} \\sum_{i=1}^n X_i = \\overline{X}_n\n",
    "$$\n",
    "\n",
    "Now, let's look an another version of the interactive plot of the log-likelihood function for a sample of size $n$ from a $Bernoulli$ process with unknown $\\theta^*$, but this time we will show the maximum point on the function and the maximum likelihood estimator (MLE):"
   ]
  },
  {
   "cell_type": "code",
   "execution_count": 32,
   "metadata": {},
   "outputs": [
    {
     "data": {
      "application/vnd.jupyter.widget-view+json": {
       "model_id": "d51ee6c616284e3292dc9d5cacb4239d",
       "version_major": 2,
       "version_minor": 0
      },
      "text/plain": [
       "SW50ZXJhY3RpdmUgZnVuY3Rpb24gPGZ1bmN0aW9uIF8gYXQgMHg3ZjFmMjU1ODcyYTg+IHdpdGggMSB3aWRnZXQKICBuOiBTZWxlY3Rpb25TbGlkZXIoZGVzY3JpcHRpb249dSduJywgb3B0aW/igKY=\n"
      ]
     },
     "metadata": {},
     "output_type": "display_data"
    }
   ],
   "source": [
    "@interact\n",
    "def _(n=(2,(2..2000))):\n",
    "    '''Interactive function to plot the bernoulli likelihood for different n.'''\n",
    "    if n > 0:\n",
    "        thisBSample = bernoulliSampleSecretTheta(n) # make sample\n",
    "        n = len(thisBSample) # what is n\n",
    "        tn = sum(thisBSample)\n",
    "        from pylab import arange\n",
    "        thsForLog = arange(0.01,1,0.01) # fudge to avoid log(0) get some values to plot log against\n",
    "        logliks = [log(likelihoodBernoulli(t,n,tn)) for t in thsForLog]\n",
    "        p = line(zip(thsForLog, logliks), rgbcolor=\"red\")\n",
    "        MLE = RR(tn/n)\n",
    "        MLEpt = (MLE, log(likelihoodBernoulli(MLE,n,tn)))\n",
    "        p += points(MLEpt,rgbcolor=\"red\", pointsize=30)\n",
    "        print \"Log-likelihood function for n = \", n , \" and tn = \", tn, \": MLE = \",MLE.n(digits = 3)\n",
    "        show(p,figsize=[8,3])\n",
    "    else:\n",
    "        print \"n must be greater than 0\""
   ]
  },
  {
   "cell_type": "markdown",
   "metadata": {},
   "source": [
    "### YouTry\n",
    "What happens above as you gradually increase $n$?  What do you think the true value $\\theta^*$ is?"
   ]
  },
  {
   "cell_type": "markdown",
   "metadata": {},
   "source": [
    "# Example : New Zealand Lotto Data\n",
    "\n",
    "Now, we are going to apply what we have learned about maximum likelihood estimates to the the NZ lotto data we looked at earlier in the course.  Specifically, we are interested in whether Ball One is odd or even.   This can be considered as a Bernoulli random variable where the outcome is 1 if the number drawn for Ball One is odd, and 0 if the number drawn is even.   The observed outcomes of the draws for Ball One are modelled as independently and identically distributed (IID) realisations of the $Bernoulli(\\theta^*)$ random variable.    Thus our probability model is:\n",
    "\n",
    "$$X_1,X_2,\\ldots,X_n \\overset{IID}{\\sim} Bernoulli(\\theta^*), \\ \\text{where}, \\ \\theta^* \\in  [0,1] $$\n",
    "\n",
    "We have provided the functions needed for you to access the data, so all you have to do is to evaluate the cell below to get a list of the Ball one data between 1987 and 2008:"
   ]
  },
  {
   "cell_type": "code",
   "execution_count": 16,
   "metadata": {
    "collapsed": true
   },
   "outputs": [],
   "source": [
    "# These lotto draws of the first ball from NZ Lotto was already downloaded and processed for you\n",
    "listBallOne = [4, 3, 11, 35, 23, 12, 14, 13, 15, 19, 36, 18, 37, 39, 37, 35, 39, 1, 24, 29, 38, 18, 40, 35, \\\n",
    "            12, 7, 14, 23, 21, 35, 14, 32, 19, 2, 1, 34, 39, 29, 7, 20, 2, 40, 28, 4, 30, 34, 20, 37, 9, 24,\\\n",
    "            36, 4, 22, 1, 31, 12, 16, 29, 36, 5, 21, 23, 30, 39, 38, 22, 13, 6, 14, 30, 40, 21, 5, 12, 28, 27,\\\n",
    "            13, 18, 19, 23, 2, 10, 37, 31, 40, 4, 25, 4, 17, 6, 34, 26, 38, 35, 3, 38, 14, 40, 3, 30, 21, 4,\\\n",
    "            24, 34, 27, 14, 25, 18, 21, 1, 25, 39, 18, 40, 18, 11, 5, 37, 33, 26, 29, 26, 36, 33, 18, 32, 3, 1,\\\n",
    "            5, 22, 39, 25, 12, 21, 23, 12, 31, 1, 35, 8, 32, 24, 34, 14, 26, 4, 3, 31, 17, 22, 24, 10, 29, 40,\\\n",
    "            4, 8, 26, 11, 8, 18, 25, 22, 8, 30, 10, 14, 32, 14, 5, 35, 3, 32, 40, 17, 39, 7, 21, 4, 35, 9, 16,\\\n",
    "            30, 30, 11, 28, 22, 38, 5, 16, 27, 16, 23, 22, 1, 27, 32, 30, 24, 32, 29, 11, 3, 26, 19, 22, 25, 3,\\\n",
    "            34, 31, 17, 16, 31, 20, 29, 10, 2, 17, 36, 6, 34, 11, 7, 22, 28, 13, 15, 20, 39, 16, 10, 25, 1, 37,\\\n",
    "            14, 28, 35, 20, 39, 3, 39, 20, 40, 6, 20, 17, 26, 27, 4, 24, 40, 16, 24, 7, 8, 25, 16, 15, 8, 29, 13,\\\n",
    "            16, 39, 2, 24, 24, 23, 24, 37, 39, 40, 5, 11, 13, 6, 24, 1, 5, 7, 15, 38, 3, 35, 10, 22, 19, 3, 21,\\\n",
    "            39, 38, 4, 30, 17, 15, 9, 32, 28, 7, 12, 6, 37, 25, 4, 8, 30, 7, 31, 12, 21, 31, 13, 2, 20, 14, 40,\\\n",
    "            32, 23, 10, 1, 35, 35, 32, 16, 25, 13, 20, 33, 27, 2, 26, 12, 5, 34, 20, 7, 34, 38, 20, 8, 5, 11, 17,\\\n",
    "            10, 36, 34, 1, 36, 6, 7, 37, 22, 33, 7, 32, 18, 8, 1, 37, 25, 35, 29, 23, 11, 19, 7, 21, 30, 23, 12,\\\n",
    "            10, 26, 21, 9, 9, 25, 2, 14, 16, 14, 25, 40, 8, 28, 19, 8, 35, 22, 23, 27, 31, 36, 22, 33, 22, 15, 3,\\\n",
    "            37, 8, 2, 22, 39, 3, 6, 13, 33, 18, 37, 28, 3, 17, 8, 2, 36, 1, 14, 38, 5, 31, 34, 16, 37, 2, 40, 14,\\\n",
    "            16, 21, 40, 5, 21, 24, 24, 38, 26, 38, 33, 20, 25, 7, 33, 12, 22, 34, 34, 20, 38, 12, 20, 7, 28, 26,\\\n",
    "            30, 13, 40, 36, 29, 11, 31, 15, 9, 13, 17, 32, 18, 9, 24, 6, 40, 1, 1, 9, 13, 28, 19, 5, 7, 27, 12,\\\n",
    "            3, 34, 26, 20, 28, 28, 25, 21, 23, 6, 15, 19, 30, 10, 13, 8, 11, 38, 7, 33, 12, 16, 11, 40, 25, 32,\\\n",
    "            34, 1, 32, 31, 33, 15, 39, 9, 25, 39, 30, 35, 20, 34, 3, 30, 17, 24, 20, 15, 10, 25, 6, 39, 19, 20,\\\n",
    "            23, 16, 17, 31, 25, 8, 17, 15, 31, 20, 19, 33, 11, 37, 31, 4, 12, 37, 7, 40, 8, 22, 3, 25, 35, 8, 9,\\\n",
    "            14, 13, 33, 4, 2, 1, 31, 24, 8, 13, 19, 34, 10, 32, 35, 28, 11, 10, 31, 25, 8, 6, 13, 33, 19, 35, 19,\\\n",
    "            8, 21, 10, 40, 36, 16, 27, 31, 1, 18, 36, 40, 18, 37, 18, 24, 33, 34, 31, 6, 10, 24, 8, 7, 24, 27, 12,\\\n",
    "            19, 23, 5, 33, 20, 2, 32, 33, 6, 13, 5, 25, 7, 31, 40, 1, 30, 37, 19, 27, 40, 28, 3, 24, 36, 7, 22,\\\n",
    "            20, 21, 36, 38, 15, 11, 37, 21, 4, 13, 9, 12, 13, 34, 30, 8, 23, 40, 4, 13, 6, 4, 22, 35, 2, 35, 20,\\\n",
    "            9, 28, 9, 13, 33, 19, 5, 38, 24, 18, 37, 10, 25, 25, 31, 3, 13, 25, 35, 1, 36, 21, 3, 22, 23, 7, 6,\\\n",
    "            26, 11, 6, 1, 24, 2, 25, 38, 3, 16, 16, 20, 22, 12, 8, 27, 38, 10, 39, 9, 37, 30, 33, 12, 4, 32, 2,\\\n",
    "            29, 6, 34, 2, 3, 12, 9, 1, 22, 40, 38, 9, 18, 40, 17, 5, 17, 26, 17, 26, 6, 7, 18, 10, 27, 24, 39, 1,\\\n",
    "            3, 26, 38, 2, 12, 5, 7, 38, 2, 8, 30, 35, 18, 19, 29, 37, 5, 27, 35, 40, 14, 25, 15, 20, 32, 22, 9, 1,\\\n",
    "            8, 14, 38, 27, 23, 24, 15, 29, 7, 4, 19, 6, 21, 27, 23, 21, 35, 32, 13, 27, 34, 1, 11, 36, 24, 23, 13,\\\n",
    "            2, 33, 25, 18, 1, 10, 5, 27, 1, 36, 36, 11, 3, 31, 30, 31, 39, 7, 21, 25, 28, 38, 2, 3, 40, 10, 40,\\\n",
    "            12, 22, 20, 16, 14, 30, 16, 19, 33, 32, 30, 19, 36, 16, 27, 7, 18, 38, 14, 14, 33, 29, 24, 21, 22, 15,\\\n",
    "            25, 27, 25, 37, 35, 34, 11, 19, 35, 10, 30, 8, 11, 20, 7, 27, 19, 16, 21, 13, 6, 29, 35, 13, 31, 23,\\\n",
    "            26, 10, 18, 39, 38, 5, 16, 33, 21, 31, 21, 23, 32, 35, 2, 24, 11, 25, 30, 7, 18, 32, 38, 22, 27, 2, 6,\\\n",
    "            31, 24, 34, 33, 15, 39, 21, 9, 1, 8, 38, 37, 40, 14, 2, 25, 30, 16, 6, 36, 27, 28, 8, 17, 37, 15, 29,\\\n",
    "            27, 30, 30, 19, 15, 13, 34, 5, 24, 18, 40, 37, 1, 28, 17, 32, 8, 34, 5, 6, 31, 8, 9, 28, 26, 40, 40,\\\n",
    "            9, 23, 36, 28, 24, 33, 18, 36, 6, 22, 29, 6, 6, 25, 15, 29, 18, 38, 20, 26, 30, 17, 30, 32, 33, 19,\\\n",
    "            10, 29, 25, 24, 19, 28, 38, 3, 24, 12, 28, 29, 29, 20, 12, 11, 12, 21, 11, 24, 36, 3, 3, 5, 28, 2,\\\n",
    "            8, 30, 23, 4, 40, 28, 6, 31, 37, 25, 9, 23, 20, 20, 16, 38, 21, 35, 18, 3, 15, 40, 19, 33, 34, 20,\\\n",
    "            3, 11, 34, 35, 10, 32, 23, 10, 29, 13, 12, 6, 30, 7, 5, 4, 29, 22, 22, 2, 26, 24, 7, 13, 26, 27, 27,\\\n",
    "            15, 12, 18, 38, 33, 4, 11, 20, 33, 21, 5, 26, 10, 22, 36, 3, 4, 35, 35, 16, 32, 5, 19, 23, 24, 40,\\\n",
    "            25, 30, 10, 9, 23, 12, 40, 21, 29, 18, 17, 15, 32, 2, 35, 7, 30, 4, 2, 16, 6, 8, 35]"
   ]
  },
  {
   "cell_type": "markdown",
   "metadata": {},
   "source": [
    "Remember that we can find how many observations we have using the len function:"
   ]
  },
  {
   "cell_type": "code",
   "execution_count": 17,
   "metadata": {},
   "outputs": [
    {
     "data": {
      "text/plain": [
       "1114"
      ]
     },
     "execution_count": 17,
     "metadata": {},
     "output_type": "execute_result"
    }
   ],
   "source": [
    "len(listBallOne)"
   ]
  },
  {
   "cell_type": "markdown",
   "metadata": {},
   "source": [
    "Now we can get to what we are really interested in - whether the number drawn is odd or even.   You'll recall that we can get a 1 to represent an odd number and a 0 to represent an even number with the modulus operator `%`."
   ]
  },
  {
   "cell_type": "code",
   "execution_count": 18,
   "metadata": {},
   "outputs": [],
   "source": [
    "bernoulliBallOneOdd = [x % 2 for x in listBallOne]\n",
    "#print(bernoulliBallOneOdd)"
   ]
  },
  {
   "cell_type": "markdown",
   "metadata": {},
   "source": [
    "We want to start our investigation of the relative number of odd and even numbers that occur in the draws for Ball one by visualising the outcome data in terms of the proportion of odd numbers that are observed in the Ball One draws.  One way to find the number of occurrences of a particular value in a list is to use the list's `count(...)` method:"
   ]
  },
  {
   "cell_type": "code",
   "execution_count": 19,
   "metadata": {},
   "outputs": [
    {
     "data": {
      "text/plain": [
       "546"
      ]
     },
     "execution_count": 19,
     "metadata": {},
     "output_type": "execute_result"
    }
   ],
   "source": [
    "bernoulliBallOneOdd.count(1) # find how many 1s there are in the list bernoulliBallOneOdd"
   ]
  },
  {
   "cell_type": "code",
   "execution_count": 20,
   "metadata": {
    "collapsed": true
   },
   "outputs": [],
   "source": [
    "?list.count"
   ]
  },
  {
   "cell_type": "markdown",
   "metadata": {},
   "source": [
    "Note also that since our Bernoulli random variable outcomes are 1 or 0, we can also count how many odd numbers are drawn by simply adding up the outcomes:  every odd number contributes 1 to the sum and the total is therefore the number of odd numbers drawn.  Doing this over all 1114 observations should give us the same value as counting the number of 1s"
   ]
  },
  {
   "cell_type": "code",
   "execution_count": 21,
   "metadata": {},
   "outputs": [
    {
     "data": {
      "text/plain": [
       "546"
      ]
     },
     "execution_count": 21,
     "metadata": {},
     "output_type": "execute_result"
    }
   ],
   "source": [
    "sum(bernoulliBallOneOdd)"
   ]
  },
  {
   "cell_type": "markdown",
   "metadata": {},
   "source": [
    "This is the equivalent of $t_n = \\displaystyle\\sum_{i=1}^n$, the realisation of the statistic $T_n(X_1, X_2, ..., X_n) = \\sum_{i=1}^n X_i$.\n",
    "\n",
    "We saw that the Bernoulli likelihood function is $ L_n(\\theta) = \\theta^{t_n}(1-\\theta)^{(n-t_n)} $ and the log-likelihood function is $l_n(\\theta) = log( L_n(\\theta))$ = $t_n$ $log(\\theta) $ + $(n-t_n)$ $log(1-\\theta) $\n",
    "\n",
    "With our Bernoulli model, our maximum likelihood estimate $\\widehat{\\theta}_n$ for the parameter $\\theta$, the probability that a ball is odd, is $\\frac{t_n}{n}$ which we can see is the same as the proportion of odd-numbered balls in the sample.\n",
    "\n",
    "Using the sum(...) function makes it very easy for us to explore how, as we look at more and more draws (samples), the proportion of odd-numbered balls settles down. \n",
    "\n",
    "Remember the `pylab` function `cumsum` which you can use to calculate the cumulative sum of an array or 'array-like object' (i.e. an object that the function can convert into an array, such as a list or tuple)?  We can use this to give us the cumulative sum of the number of odd-numbered balls in the sample:"
   ]
  },
  {
   "cell_type": "code",
   "execution_count": 22,
   "metadata": {},
   "outputs": [],
   "source": [
    "import pylab\n",
    "csBernoulliBallOneOdd = list(pylab.cumsum(bernoulliBallOneOdd))\n",
    "#print(csBernoulliBallOneOdd)"
   ]
  },
  {
   "cell_type": "markdown",
   "metadata": {},
   "source": [
    "Note that our lotto data and counts are `sage.rings.integer.Integer` types, but the values returned by the `pylab.cumsum` function are `numpy.int64` (plain integer) types."
   ]
  },
  {
   "cell_type": "code",
   "execution_count": 23,
   "metadata": {},
   "outputs": [
    {
     "data": {
      "text/plain": [
       "<type 'sage.rings.integer.Integer'>"
      ]
     },
     "execution_count": 23,
     "metadata": {},
     "output_type": "execute_result"
    }
   ],
   "source": [
    "type(bernoulliBallOneOdd[0])"
   ]
  },
  {
   "cell_type": "code",
   "execution_count": 24,
   "metadata": {},
   "outputs": [
    {
     "data": {
      "text/plain": [
       "<type 'numpy.int64'>"
      ]
     },
     "execution_count": 24,
     "metadata": {},
     "output_type": "execute_result"
    }
   ],
   "source": [
    "type(csBernoulliBallOneOdd[0])"
   ]
  },
  {
   "cell_type": "markdown",
   "metadata": {},
   "source": [
    "What we want to do is to visualise the changing proportion of odd numbers as we get more and more samples.  The proportion of odd numbers is the number of odds (calculated as the sum of the outcomes in the samples we have so far) over the total number of samples so far.   To help plotting this we make ourselves a sequence of sample sizes, going up from 1 to 1114:"
   ]
  },
  {
   "cell_type": "code",
   "execution_count": 25,
   "metadata": {},
   "outputs": [],
   "source": [
    "sampleSize = range(1,1115,1)"
   ]
  },
  {
   "cell_type": "markdown",
   "metadata": {},
   "source": [
    "Imagine you are at the end of week one of the draws (8 January 1987).  You'll have seen one draw and Ball One was 4, i.e., even.  The proportion of odd numbers is from this one draw is 0 ( = 0/1).  Then week two comes along, there is another draw, the number is 3 (odd) and so the proportion of odds in the 2 samples so far is 1/2.  Then week 3 (11, odd), so the proportion is 2/3, etc etc etc.   After each draw, we are dividing the cumulative sum of the outcomes by the number of draws to date.    If we kept doing this week after week we'd get something like this, ending up with 546 odds out of 1114 observations which simplifies to 273/557 (we are making the results display as rational numbers by converting the plain int types returned by the pylab.cumsum function to Sage integers using the ZZ(...) function to make the results easier to interpret)."
   ]
  },
  {
   "cell_type": "code",
   "execution_count": 26,
   "metadata": {},
   "outputs": [],
   "source": [
    "relFreqsCsBernoulliBallOneOdd = [(i, ZZ(csBernoulliBallOneOdd[i])/sampleSize[i]) \\\n",
    "                                 for i in range(1114)]\n",
    "#print(relFreqsCsBernoulliBallOneOdd)"
   ]
  },
  {
   "cell_type": "markdown",
   "metadata": {},
   "source": [
    "With a slight variation on our list comprehension, we can make a list of points out of this, plotting the proportion of odds on the y-axis against the number of observations on the x-axis:"
   ]
  },
  {
   "cell_type": "code",
   "execution_count": 27,
   "metadata": {},
   "outputs": [
    {
     "data": {
      "image/png": "[encoded data removed]",
      "text/plain": [
       "Graphics object consisting of 1 graphics primitive"
      ]
     },
     "metadata": {},
     "output_type": "display_data"
    }
   ],
   "source": [
    "show(points(relFreqsCsBernoulliBallOneOdd, size=1), figsize=[8,3])"
   ]
  },
  {
   "cell_type": "markdown",
   "metadata": {},
   "source": [
    "We have effectively plotted the maximum likelihood estimate or MLE $\\widehat{\\theta}_n$ for $\\theta$ in our $Bernoulli$ model over increasing values of $n$.\n",
    "\n",
    "We can also look at the shape of the whole log-likelihood function, not just the value that maximises it.\n",
    "\n",
    "This interactive plot draws the log-likelihood function for samples based on for different values of $n$.  Again, for $n=1$, you have only observed the first draw, for $n=2$ you have observed two draws, etc etc."
   ]
  },
  {
   "cell_type": "code",
   "execution_count": 28,
   "metadata": {},
   "outputs": [
    {
     "data": {
      "application/vnd.jupyter.widget-view+json": {
       "model_id": "ca4ec4d71c9a472fa285bd582e9559cf"
      }
     },
     "metadata": {},
     "output_type": "display_data"
    }
   ],
   "source": [
    "@interact\n",
    "def _(n=(1..1114)):\n",
    "    '''Interactive function to plot sample-size specific log likelihood function.'''\n",
    "    if n == 1:\n",
    "        print \"Log-likelihood function based on first sample\"\n",
    "    else:\n",
    "        print \"log-likelihood function based on\", n,  \"samples\"    \n",
    "    tn = csBernoulliBallOneOdd[n-1]\n",
    "    theta = var('theta')\n",
    "    show(plot((tn * log(theta) + (n - tn) * log(1-theta)), theta,0,1),figsize=[8,3])"
   ]
  },
  {
   "cell_type": "markdown",
   "metadata": {},
   "source": [
    "Try changing $n$ to see how the shape of the log-likelihood function changes as we get more and more observations.  \n",
    "\n",
    "We can also show the log likelihood functions for a number of different value of $n$ all on the same plot.  The first cell below shows log-likelihood functions for $n = 1$ to $n = 20$.  This is where the log-likelihood moves around most as $n$ changes."
   ]
  },
  {
   "cell_type": "code",
   "execution_count": 29,
   "metadata": {},
   "outputs": [
    {
     "data": {
      "image/png": "[encoded data removed]",
      "text/plain": [
       "Graphics object consisting of 19 graphics primitives"
      ]
     },
     "metadata": {},
     "output_type": "display_data"
    }
   ],
   "source": [
    "theta = var('theta')\n",
    "n = 1\n",
    "tn = csBernoulliBallOneOdd[n-1]\n",
    "p = plot((tn * log(theta) + (n-tn)*log(1-theta)), theta,0,1)\n",
    "for n in range(2,20,1):\n",
    "    Tn = csBernoulliBallOneOdd[n-1]\n",
    "    p += plot((tn * log(theta) + (n-tn)*log(1-theta)), theta,0,1)\n",
    "show(p, figsize=[6,3])"
   ]
  },
  {
   "cell_type": "markdown",
   "metadata": {},
   "source": [
    "Looking at larger values of n, we can see the shape of the log-likelihood function settling down as n increases.  Colour has been used to show the changing values of $n$ which result in each curved line on the plot: bluer shades for smaller $n$, moving to red as $n$ increases.  "
   ]
  },
  {
   "cell_type": "code",
   "execution_count": 30,
   "metadata": {},
   "outputs": [
    {
     "data": {
      "image/png": "[encoded data removed]",
      "text/plain": [
       "Graphics object consisting of 113 graphics primitives"
      ]
     },
     "metadata": {},
     "output_type": "display_data"
    }
   ],
   "source": [
    "theta = var('theta')\n",
    "n=1\n",
    "Tn = csBernoulliBallOneOdd[n-1]\n",
    "p = plot((Tn * log(theta) + (n-Tn) * log(1-theta)), theta,0,1, rgbcolor=(0,0,1))\n",
    "for n in range(10,1111,10):\n",
    "    Tn = csBernoulliBallOneOdd[n-1]\n",
    "    redshade = 1*n/1114.0\n",
    "    blueshade = 1 - redshade\n",
    "    p += plot((Tn * log(theta) + (n-Tn) * log(1-theta)), theta,0,1, rgbcolor = (redshade, 0, blueshade))\n",
    "n = 1114\n",
    "p += plot((Tn * log(theta) + (n-Tn) * log(1-theta)), theta,0,1, rgbcolor=\"red\")\n",
    "show(p,figsize=[6,3])"
   ]
  },
  {
   "cell_type": "markdown",
   "metadata": {},
   "source": [
    "# Using Sage for Basic Algebra and Calculus\n",
    "\n",
    "When we wanted to differentiate the log-likelihood $l_n(\\theta)$ above, we did it for ourselves, but Sage could have helped us to do even that. \n",
    "\n",
    "Sage can be used to find solutions to equations and for basic calculus.  The secret is to create a symbolic expression using the `var(...)` function.  The details of the symbolic rings used for symbolic expressions in Sage are beyond the scope of this course, but they do offer us some useful features. It is probably easiest to think of var as a way to tell Sage that something is a variable name without having to assign that variable to an actual value. Then, using the function  solve  we can solve equations, i.e. use Sage to find the value(s) of a variable which would solve the equation of interest, or expressions for one variable in terms of other variables involved in the equation(s).\n",
    "\n",
    "The examples used here are taken from the book Sage Tutorial, The Sage Group."
   ]
  },
  {
   "cell_type": "code",
   "execution_count": 46,
   "metadata": {
    "collapsed": true
   },
   "outputs": [],
   "source": [
    "x=1"
   ]
  },
  {
   "cell_type": "code",
   "execution_count": 47,
   "metadata": {},
   "outputs": [
    {
     "data": {
      "text/plain": [
       "<type 'sage.rings.integer.Integer'>"
      ]
     },
     "execution_count": 47,
     "metadata": {},
     "output_type": "execute_result"
    }
   ],
   "source": [
    "type(x)"
   ]
  },
  {
   "cell_type": "code",
   "execution_count": 51,
   "metadata": {},
   "outputs": [
    {
     "data": {
      "text/plain": [
       "<type 'sage.symbolic.expression.Expression'>"
      ]
     },
     "execution_count": 51,
     "metadata": {},
     "output_type": "execute_result"
    }
   ],
   "source": [
    "x = var('x') # symbolic expression\n",
    "type(x)"
   ]
  },
  {
   "cell_type": "code",
   "execution_count": 48,
   "metadata": {
    "collapsed": true
   },
   "outputs": [],
   "source": [
    "?var"
   ]
  },
  {
   "cell_type": "code",
   "execution_count": 49,
   "metadata": {
    "collapsed": true
   },
   "outputs": [],
   "source": [
    "?solve"
   ]
  },
  {
   "cell_type": "markdown",
   "metadata": {},
   "source": [
    "Let's try a simple example, solving $x^2 + 3x + 2 = 0$ for $x$."
   ]
  },
  {
   "cell_type": "code",
   "execution_count": 52,
   "metadata": {},
   "outputs": [
    {
     "data": {
      "text/plain": [
       "[x == -2, x == -1]"
      ]
     },
     "execution_count": 52,
     "metadata": {},
     "output_type": "execute_result"
    }
   ],
   "source": [
    "solve(x^2 + 3*x + 2, x)"
   ]
  },
  {
   "cell_type": "markdown",
   "metadata": {},
   "source": [
    "We can also use `solve` if we have variables instead of known values for the coefficients."
   ]
  },
  {
   "cell_type": "code",
   "execution_count": 54,
   "metadata": {},
   "outputs": [
    {
     "data": {
      "text/plain": [
       "[x == -1/2*(b + sqrt(b^2 - 4*a*c))/a, x == -1/2*(b - sqrt(b^2 - 4*a*c))/a]"
      ]
     },
     "execution_count": 54,
     "metadata": {},
     "output_type": "execute_result"
    }
   ],
   "source": [
    "x, a, b, c = var('x a b c')\n",
    "solve([a*(x^2) + b*x + c == 0], x)"
   ]
  },
  {
   "cell_type": "markdown",
   "metadata": {},
   "source": [
    "And we can solve a system of equations for several variables."
   ]
  },
  {
   "cell_type": "code",
   "execution_count": 55,
   "metadata": {},
   "outputs": [
    {
     "data": {
      "text/plain": [
       "[[x == 5, y == 1]]"
      ]
     },
     "execution_count": 55,
     "metadata": {},
     "output_type": "execute_result"
    }
   ],
   "source": [
    "x, y = var('x y')\n",
    "solve([x+y==6, x-y==4], x, y)"
   ]
  },
  {
   "cell_type": "markdown",
   "metadata": {},
   "source": [
    "Sometimes Sage cannot find an exact solution to the equation, as in the following cell:"
   ]
  },
  {
   "cell_type": "code",
   "execution_count": 56,
   "metadata": {},
   "outputs": [
    {
     "data": {
      "text/plain": [
       "[sin(theta) == cos(theta)]"
      ]
     },
     "execution_count": 56,
     "metadata": {},
     "output_type": "execute_result"
    }
   ],
   "source": [
    "theta = var('theta')\n",
    "solve([cos(theta) == sin(theta)], theta)"
   ]
  },
  {
   "cell_type": "markdown",
   "metadata": {},
   "source": [
    "Then we can try using the `find_root` function to find a numerical solution.  Note that as well as the equation, you have to pass `find_root(...)` values for the end points of the interval within which you want it to search for the solution.  In this case we are searching within the interval $[0, \\frac{\\pi}{2}]$."
   ]
  },
  {
   "cell_type": "code",
   "execution_count": 57,
   "metadata": {},
   "outputs": [
    {
     "data": {
      "text/plain": [
       "0.7853981633974484"
      ]
     },
     "execution_count": 57,
     "metadata": {},
     "output_type": "execute_result"
    }
   ],
   "source": [
    "find_root(cos (theta) == sin(theta), 0, pi/2)"
   ]
  },
  {
   "cell_type": "code",
   "execution_count": 60,
   "metadata": {
    "collapsed": true
   },
   "outputs": [],
   "source": [
    "?find_root"
   ]
  },
  {
   "cell_type": "markdown",
   "metadata": {},
   "source": [
    "We can also use calculus with our symbolic expressions.  We differentiate with the diff function or method."
   ]
  },
  {
   "cell_type": "code",
   "execution_count": 314,
   "metadata": {},
   "outputs": [
    {
     "data": {
      "text/plain": [
       "cos(u)"
      ]
     },
     "execution_count": 314,
     "metadata": {},
     "output_type": "execute_result"
    }
   ],
   "source": [
    "u = var('u')\n",
    "diff(sin(u), u)"
   ]
  },
  {
   "cell_type": "markdown",
   "metadata": {},
   "source": [
    "We can also tackle higher derivatives, such as the fourth derivative of $\\sin(x^2)$ in the following cell."
   ]
  },
  {
   "cell_type": "code",
   "execution_count": 315,
   "metadata": {},
   "outputs": [
    {
     "data": {
      "text/plain": [
       "16*x^4*sin(x^2) - 48*x^2*cos(x^2) - 12*sin(x^2)"
      ]
     },
     "execution_count": 315,
     "metadata": {},
     "output_type": "execute_result"
    }
   ],
   "source": [
    "x = var('x')\n",
    "diff(sin(x^2), x, 4)"
   ]
  },
  {
   "cell_type": "code",
   "execution_count": 316,
   "metadata": {
    "collapsed": true
   },
   "outputs": [],
   "source": [
    "?diff"
   ]
  },
  {
   "cell_type": "markdown",
   "metadata": {},
   "source": [
    "Partial derivatives can also be found:"
   ]
  },
  {
   "cell_type": "code",
   "execution_count": 317,
   "metadata": {},
   "outputs": [
    {
     "data": {
      "text/plain": [
       "2*x"
      ]
     },
     "execution_count": 317,
     "metadata": {},
     "output_type": "execute_result"
    }
   ],
   "source": [
    "x, y = var('x y')\n",
    "f = x^2 + 17*y^2\n",
    "f.diff(x) # differentiate f with respect to x"
   ]
  },
  {
   "cell_type": "markdown",
   "metadata": {},
   "source": [
    "Let's try a simple example."
   ]
  },
  {
   "cell_type": "code",
   "execution_count": 318,
   "metadata": {},
   "outputs": [
    {
     "data": {
      "text/plain": [
       "34*y"
      ]
     },
     "execution_count": 318,
     "metadata": {},
     "output_type": "execute_result"
    }
   ],
   "source": [
    "x, y = var('x y')\n",
    "f = x^2 + 17*y^2\n",
    "f.diff(y) # differentiate f with respect to y"
   ]
  },
  {
   "cell_type": "markdown",
   "metadata": {},
   "source": [
    "The `integral(...)` function does integration."
   ]
  },
  {
   "cell_type": "code",
   "execution_count": 319,
   "metadata": {},
   "outputs": [
    {
     "data": {
      "text/plain": [
       "-1/2*cos(x^2)"
      ]
     },
     "execution_count": 319,
     "metadata": {},
     "output_type": "execute_result"
    }
   ],
   "source": [
    "x = var('x')\n",
    "integral(x*sin(x^2), x)"
   ]
  },
  {
   "cell_type": "markdown",
   "metadata": {},
   "source": [
    "## Symbolic Expressions for the Maximum Likelihood Estimator\n",
    "\n",
    "We can use these SageMath capabilities to help us to find maximum likelihood estimators.   We will first have to find an expression for the likelihood of the parameter(s) in terms of of some statistic or statistics of the observations.  We then take logs to get a log-likelihood function (since logs are usually easier to work with).  Then, with the Sage diff function and the solve function, we have some powerful tools to then help us to differentiate and find the value at which the differential is 0. \n",
    "\n",
    "Let's start with the Bernoulli log-likelihood function $l_n(\\theta) = log( L_n(\\theta))$ = $t_n$ $log(\\theta) $ + $(n-t_n)$ $log(1-\\theta)$ and first of all find an expression for the differential of this with respect to $\\theta$"
   ]
  },
  {
   "cell_type": "code",
   "execution_count": 61,
   "metadata": {},
   "outputs": [
    {
     "data": {
      "text/plain": [
       "(n - tn)/(theta - 1) + tn/theta"
      ]
     },
     "execution_count": 61,
     "metadata": {},
     "output_type": "execute_result"
    }
   ],
   "source": [
    "theta, n, tn = var('theta n tn')\n",
    "logL = tn*log(theta) + (n-tn)*log(1-theta) # Bernoulli log likelihood\n",
    "dlogL = logL.diff(theta)\n",
    "dlogL"
   ]
  },
  {
   "cell_type": "markdown",
   "metadata": {},
   "source": [
    "And then solve for $\\theta$ when the differential is zero:"
   ]
  },
  {
   "cell_type": "code",
   "execution_count": 62,
   "metadata": {},
   "outputs": [
    {
     "data": {
      "text/plain": [
       "[theta == tn/n]"
      ]
     },
     "execution_count": 62,
     "metadata": {},
     "output_type": "execute_result"
    }
   ],
   "source": [
    "solve([dlogL == 0], theta)"
   ]
  },
  {
   "cell_type": "markdown",
   "metadata": {},
   "source": [
    "Magic!  We get the expression for $\\widehat{\\theta}_n$ that we derived before!\n",
    "\n",
    "### YouTry later\n",
    "\n",
    "Try `diff`, `integral`, and `solve` on some other functions"
   ]
  },
  {
   "cell_type": "code",
   "execution_count": null,
   "metadata": {
    "collapsed": true
   },
   "outputs": [],
   "source": []
  },
  {
   "cell_type": "code",
   "execution_count": null,
   "metadata": {
    "collapsed": true
   },
   "outputs": [],
   "source": []
  },
  {
   "cell_type": "code",
   "execution_count": null,
   "metadata": {
    "collapsed": true
   },
   "outputs": [],
   "source": []
  },
  {
   "cell_type": "markdown",
   "metadata": {},
   "source": [
    "(end of You Try)\n",
    "\n",
    "---\n",
    "\n",
    "# The Maximum Likelihood Principle\n",
    "\n",
    "Do we always use the MLE?  No, not always, but we can follow the same principle of using the \"most likely\" possible value.  \n",
    "\n",
    "## Example: The Most-Likely of Three Coins\n",
    "\n",
    "Suppose there are three coins in a bag, but they are not all fair coins.   Using our $Bernoulli$ model for the probability of getting a head on a single toss:\n",
    "\n",
    "Coin 1 has $\\theta = \\frac{1}{4}$\n",
    "Coin 2 has $\\theta = \\frac{3}{4}$\n",
    "Coin 3 has $\\theta = \\frac{1}{2}$\n",
    "The coins are otherwise identical - you can't tell by look or feel which is which.\n",
    "\n",
    "You have to choose a single coin from the bag and guess which one it is.  To help your guess, you can toss it three times and observe the results.  Then you make your 'single best guess':  is it Coin 1, Coin 2, or Coin 3?\n",
    "\n",
    "The experiment\n",
    "\n",
    "$X_1, X_2, X_3 \\overset{IID}{\\sim} Bernoulli(\\theta^*)$, with $\\theta^* \\in \\{\\frac{1}{4}, \\frac{3}{4}, \\frac{1}{2}\\}$\n",
    "\n",
    "(i.e., our model is  three $Bernoulli$ random variables, independent and identically distributed with true parameter value $\\theta^*$ which is known to be one of either $\\frac{1}{4}$, $\\frac{3}{4}$, or $\\frac{1}{2}$.)\n",
    "\n",
    "Suppose the results of your three tosses are $x_1 = 1$, $x_2 = 0$, $x_3 = 0$ (a head, a tail, a tail)\n",
    "\n",
    "According to what we have learned so far, the MLE $\\widehat{\\theta}_3 = \\frac{t_n}{n} = \\frac{1+0+0}{3} = \\frac{1}{3}$\n",
    "\n",
    "But now we have a problem:  we know that $\\theta^* \\in \\{\\frac{1}{4}, \\frac{3}{4}, \\frac{1}{2}\\}$ and $\\widehat{\\theta}_3 \\notin \\{\\frac{1}{4}, \\frac{3}{4}, \\frac{1}{2}\\}$ ($\\notin$ means \"is not in\").\n",
    "\n",
    "So, the MLE $\\widehat{\\theta}_n = \\frac{t_n}{n} = \\frac{1}{n}\\displaystyle\\sum_{i=1}^n x_i$ is not a good idea if we have a finite set of possible values for $\\theta$.  Remember that we derived the MLE for the $Bernoulli$ on the continuous parameter space $[0,1]$ (\"$\\theta^* \\in [0,1]$ the true but unknown value ...\"),  which is rather different to a situation where $\\theta^* \\in \\{\\frac{1}{4}, \\frac{3}{4}, \\frac{1}{2}\\}$, a finite set.\n",
    "\n",
    "In this situation, we take each of the possible values in the set in turn and say \"if $\\theta$ was this value, what is the likelihood\":\n",
    "\n",
    "(Coin 1) $L_3(\\frac{1}{4} = f(x_1, x_2, x_3;\\theta = \\frac{1}{4}) = f(1,0,0; \\theta = \\frac{1}{4}) = \\frac{1}{4} \\times (1-\\frac{1}{4}) \\times (1-\\frac{1}{4}) = \\frac{1}{4} \\times \\frac{3}{4} \\times \\frac{3}{4} = \\frac{9}{64}$\n",
    "\n",
    "(Coin 2) $L_3(\\frac{3}{4} = f(x_1, x_2, x_3;\\theta = \\frac{3}{4}) = f(1,0,0; \\theta = \\frac{3}{4}) = \\frac{3}{4} \\times (1-\\frac{3}{4}) \\times (1-\\frac{3}{4}) = \\frac{3}{4} \\times \\frac{1}{4} \\times \\frac{1}{4} = \\frac{3}{64}$\n",
    "\n",
    "(Coin 3) $L_3(\\frac{1}{2} = f(x_1, x_2, x_3;\\theta = \\frac{1}{2}) = f(1,0,0; \\theta = \\frac{1}{2}) = \\frac{1}{2} \\times (1-\\frac{1}{2}) \\times (1-\\frac{1}{2}) = \\frac{1}{2} \\times \\frac{1}{2} \\times \\frac{1}{2} = \\frac{1}{8} = \\frac{8}{64}$\n",
    "\n",
    "So, the \"most likely\" estimate following the three tosses on the basis of the maximum likelihood principle is $\\widehat{\\theta}_3 = \\frac{1}{4}$ (Coin 1)."
   ]
  },
  {
   "cell_type": "code",
   "execution_count": null,
   "metadata": {
    "collapsed": true
   },
   "outputs": [],
   "source": []
  },
  {
   "cell_type": "markdown",
   "metadata": {},
   "source": [
    "## Maximum Likelihood and the $Exponential(\\lambda)$ RV\n",
    "\n",
    "The $Exponential$ is parameterised by $\\lambda$.  We have seen that, for a given $\\lambda \\in (0,\\infty)$, an $Exponential(\\lambda)$ random variable has the following PDF $f$ and DF $F$:\n",
    "\n",
    "\n",
    "$$f(x;\\lambda) = \\lambda e^{-\\lambda x}$$\n",
    "\n",
    "\n",
    "$$F(x;\\lambda) = 1 - e^{-\\lambda x}$$\n",
    "\n",
    " \n",
    "\n",
    "### YouTry in class\n",
    "\n",
    "On paper, try to work out $f(x_1,x_2,\\ldots,x_n; \\lambda)$, the joint density of $X_1,X_2,\\ldots,X_n \\overset{IID}{\\sim} f(x;\\lambda)$ remembering that for for $X_1, \\ldots, X_n$ IID (independent and identically distributed), the joint density is the product of the individual densities, i.e., $\\displaystyle \\prod_{i=1}^n f(x_i ; \\lambda)$.\n",
    "\n",
    "Here is the start:\n",
    "\n",
    "The joint density of $n$ IID $Exponential(\\lambda)$ RVs is:\n",
    "\n",
    "$$\n",
    "\\begin{array}{lcl}\n",
    "\n",
    "f(x_1,x_2,\\ldots,x_n; \\lambda) := \\displaystyle\\prod_{i=1}^n f(x_i ; \\lambda) & = & \\prod_{i=1}^n \\lambda e^{-\\lambda x_i}\\\\ & = & ? \\end{array}\n",
    "$$\n",
    "\n",
    " \n",
    "\n",
    "Hint: $\\displaystyle \\prod_{i=1}^n \\lambda e^{-\\lambda x_i} = \\left(\\displaystyle\\prod_{i=1}^n \\lambda \\right)\\left(\\displaystyle\\prod_{i=1}^n e^{-\\lambda x_i} \\right)$\n",
    "\n",
    "Another hint: $e^ae^b = e^{a + b}$\n",
    "\n",
    "When you have got the joint density, use it to get the likelihood function $L_n(\\lambda) = f(x_1, x_2, \\ldots, x_n; \\lambda)$ and then show that the log-likelihood function for the $Exponential$ is \n",
    "\n",
    "$$l_n(\\lambda) = \\log(L_n(\\lambda)) = n\\log(\\lambda) - \\lambda t_n$$\n",
    "where $t_n = \\displaystyle\\sum_{i=1}^n x_i$\n",
    "\n",
    "Try differentiating $l_n(\\lambda)$ with respect to $\\lambda$.\n",
    "\n",
    "Compare what you have got with the answer from Sage using diff:"
   ]
  },
  {
   "cell_type": "code",
   "execution_count": 322,
   "metadata": {},
   "outputs": [
    {
     "data": {
      "text/plain": [
       "lam^(n - 1)*n/lam^n - tn"
      ]
     },
     "execution_count": 322,
     "metadata": {},
     "output_type": "execute_result"
    }
   ],
   "source": [
    "lam, n, tn = var('lam n tn')\n",
    "logL = log(lam^n) - lam*tn # Exponential log likelihood\n",
    "dlogL = logL.diff(lam)\n",
    "dlogL"
   ]
  },
  {
   "cell_type": "markdown",
   "metadata": {},
   "source": [
    "(Note that we can't use a variable name lambda in Sage:  in Sage \"lambda\" is reserved for a special use.)\n",
    "\n",
    "Can you show that the maximum likelihood estimator $\\widehat{\\lambda}_n = \\frac{n}{t_n} = \\frac{n}{\\sum_{i=1}^n x_i}$ by solving $\\frac{\\partial l_n(\\lambda)}{\\partial \\lambda} = 0$?\n",
    "\n",
    " \n",
    "\n",
    "Compare this to the answer from Sage using solve:"
   ]
  },
  {
   "cell_type": "code",
   "execution_count": 323,
   "metadata": {},
   "outputs": [
    {
     "data": {
      "text/plain": [
       "[lam == n/tn]"
      ]
     },
     "execution_count": 323,
     "metadata": {},
     "output_type": "execute_result"
    }
   ],
   "source": [
    "solve([dlogL == 0], lam)"
   ]
  },
  {
   "cell_type": "markdown",
   "metadata": {},
   "source": [
    "(end of YouTry)\n",
    "\n",
    "---"
   ]
  },
  {
   "cell_type": "markdown",
   "metadata": {},
   "source": [
    "# Example: New Zealand Earth Quakes\n",
    "\n",
    "We will obtain inter-EQ times from the csv file and then obtain the MLE under an IID $Exponential$ model."
   ]
  },
  {
   "cell_type": "markdown",
   "metadata": {},
   "source": [
    "## Step 1: Processing Timestamps and Floats with Try-Catch and more...\n",
    "\n",
    "We want to get a list earthquake times as a Unix time number for earthquakes occurrence times.\n",
    "    \n",
    "Date as `origintime` is the 2nd column of the csv file of NZ Earth Quakes we downloaded in `data/earthquakes.csv`.\n",
    "    \n",
    "We will makw a function `makeQuakeTimes` to returns a list of occurrence times.\n",
    "Next we can get the time between occurrence of earthquakes as a Unix time number.\n",
    "Unix time starts at 1.1.1970; the Unix time number counts seconds since 1.1.1970.\n",
    "\n",
    "First let's take a look at the file: where it is, how many lies it has and the first three lines using BASH commands below, repsectively."
   ]
  },
  {
   "cell_type": "code",
   "execution_count": 63,
   "metadata": {},
   "outputs": [
    {
     "name": "stdout",
     "output_type": "stream",
     "text": [
      "earthquakes.csv\n",
      "earthquakes_small.csv\n",
      "rainfallInChristchurch.csv\n",
      "21017 data/earthquakes.csv\n",
      "publicid,eventtype,origintime,modificationtime,longitude, latitude, magnitude, depth,magnitudetype,depthtype,evaluationmethod,evaluationstatus,evaluationmode,earthmodel,usedphasecount,usedstationcount,magnitudestationcount,minimumdistance,azimuthalgap,originerror,magnitudeuncertainty\n",
      "2018p368955,,2018-05-17T12:19:35.516Z,2018-05-17T12:21:54.953Z,178.4653957,-37.51944533,2.209351541,20.9375,M,,NonLinLoc,,automatic,nz3drx,12,12,6,0.1363924727,261.0977462,0.8209633086,0\n",
      "2018p368878,,2018-05-17T11:38:24.646Z,2018-05-17T11:40:26.254Z,177.8775115,-37.46115663,2.155154561,58.4375,M,,NonLinLoc,,automatic,nz3drx,11,11,7,0.3083220739,232.7487132,0.842884174,0\n"
     ]
    }
   ],
   "source": [
    "%%sh\n",
    "ls data\n",
    "wc -l data/earthquakes.csv\n",
    "head -3 data/earthquakes.csv"
   ]
  },
  {
   "cell_type": "markdown",
   "metadata": {},
   "source": [
    "### Handling time-stamps in Python - in a big hurry!\n",
    "\n",
    "Dive into the following for details:\n",
    "- [https://docs.python.org/2/library/datetime.html](https://docs.python.org/2/library/datetime.html) \n",
    "- [https://docs.python.org/2/library/time.html](https://docs.python.org/2/library/time.html)"
   ]
  },
  {
   "cell_type": "code",
   "execution_count": 64,
   "metadata": {
    "collapsed": true
   },
   "outputs": [],
   "source": [
    "from datetime import datetime # import datetime module\n",
    "\n",
    "# create some date strings that are simple\n",
    "string_dates = ['7/2/2011', '8/6/2012', '11/13/2013', '5/26/2011', '5/2/2001']"
   ]
  },
  {
   "cell_type": "code",
   "execution_count": 65,
   "metadata": {},
   "outputs": [
    {
     "data": {
      "text/plain": [
       "[datetime.datetime(2011, 7, 2, 0, 0),\n",
       " datetime.datetime(2012, 8, 6, 0, 0),\n",
       " datetime.datetime(2013, 11, 13, 0, 0),\n",
       " datetime.datetime(2011, 5, 26, 0, 0),\n",
       " datetime.datetime(2001, 5, 2, 0, 0)]"
      ]
     },
     "execution_count": 65,
     "metadata": {},
     "output_type": "execute_result"
    }
   ],
   "source": [
    "# listcomp using striptime method that takes a format string we can specify\n",
    "dateTimesList = [datetime.strptime(ts, '%m/%d/%Y') for ts in string_dates]\n",
    "\n",
    "# this gives datetime objects with year, month, day and hour and minutes set to 0\n",
    "dateTimesList"
   ]
  },
  {
   "cell_type": "code",
   "execution_count": 66,
   "metadata": {},
   "outputs": [
    {
     "data": {
      "text/plain": [
       "[1309557600.0, 1344204000.0, 1384297200.0, 1306360800.0, 988754400.0]"
      ]
     },
     "execution_count": 66,
     "metadata": {},
     "output_type": "execute_result"
    }
   ],
   "source": [
    "# But we want to convert these datetime objects into a number - unix time number\n",
    "\n",
    "import time # need this for our purpose\n",
    "\n",
    "[time.mktime(ds.timetuple()) for ds in dateTimesList]"
   ]
  },
  {
   "cell_type": "code",
   "execution_count": 67,
   "metadata": {},
   "outputs": [
    {
     "data": {
      "text/plain": [
       "[1309557600.0, 1344204000.0, 1384297200.0, 1306360800.0, 988754400.0]"
      ]
     },
     "execution_count": 67,
     "metadata": {},
     "output_type": "execute_result"
    }
   ],
   "source": [
    "# let's do it all at once\n",
    "from datetime import datetime\n",
    "import time\n",
    "[time.mktime(datetime.strptime(ts, '%m/%d/%Y').timetuple()) for ts in string_dates]"
   ]
  },
  {
   "cell_type": "code",
   "execution_count": 68,
   "metadata": {},
   "outputs": [
    {
     "data": {
      "text/plain": [
       "[datetime.datetime(2011, 7, 2, 0, 0),\n",
       " datetime.datetime(2012, 8, 6, 0, 0),\n",
       " datetime.datetime(2013, 11, 13, 0, 0),\n",
       " datetime.datetime(2011, 5, 26, 0, 0),\n",
       " datetime.datetime(2001, 5, 2, 0, 0)]"
      ]
     },
     "execution_count": 68,
     "metadata": {},
     "output_type": "execute_result"
    }
   ],
   "source": [
    "# use parse in dateutil.parser to try to auto-covert common time formats\n",
    "from dateutil.parser import parse\n",
    "[parse(ts) for ts in string_dates]"
   ]
  },
  {
   "cell_type": "code",
   "execution_count": 69,
   "metadata": {},
   "outputs": [
    {
     "data": {
      "text/plain": [
       "time.struct_time(tm_year=2018, tm_mon=5, tm_mday=17, tm_hour=12, tm_min=19, tm_sec=35, tm_wday=3, tm_yday=137, tm_isdst=0)"
      ]
     },
     "execution_count": 69,
     "metadata": {},
     "output_type": "execute_result"
    }
   ],
   "source": [
    "# Let's see if parse works on our EQ time stamps \n",
    "parse('2018-05-17T12:19:35.516Z').timetuple()"
   ]
  },
  {
   "cell_type": "code",
   "execution_count": 70,
   "metadata": {},
   "outputs": [
    {
     "data": {
      "text/plain": [
       "[datetime.datetime(2018, 5, 17, 12, 19, 35, 516000, tzinfo=tzutc()),\n",
       " datetime.datetime(2018, 5, 17, 11, 38, 24, 646000, tzinfo=tzutc())]"
      ]
     },
     "execution_count": 70,
     "metadata": {},
     "output_type": "execute_result"
    }
   ],
   "source": [
    "# So we can just use parse in a listcomp like this\n",
    "EQ_string_dates = ['2018-05-17T12:19:35.516Z','2018-05-17T11:38:24.646Z']\n",
    "[parse(ts) for ts in EQ_string_dates]"
   ]
  },
  {
   "cell_type": "code",
   "execution_count": 71,
   "metadata": {},
   "outputs": [
    {
     "data": {
      "text/plain": [
       "[1526555975.0, 1526553504.0]"
      ]
     },
     "execution_count": 71,
     "metadata": {},
     "output_type": "execute_result"
    }
   ],
   "source": [
    "#Finally all in one\n",
    "from datetime import datetime\n",
    "import time\n",
    "from dateutil.parser import parse\n",
    "\n",
    "EQ_string_dates = ['2018-05-17T12:19:35.516Z','2018-05-17T11:38:24.646Z']\n",
    "[time.mktime(parse(ts).timetuple()) for ts in EQ_string_dates]"
   ]
  },
  {
   "cell_type": "markdown",
   "metadata": {},
   "source": [
    "Now we need to read in the csv file and grab the fields we want.\n",
    "\n",
    "Here are the nuts and bots of this process - without using overly auto-magic file readers."
   ]
  },
  {
   "cell_type": "code",
   "execution_count": 72,
   "metadata": {},
   "outputs": [
    {
     "data": {
      "text/plain": [
       "21018"
      ]
     },
     "execution_count": 72,
     "metadata": {},
     "output_type": "execute_result"
    }
   ],
   "source": [
    "with open(\"data/earthquakes.csv\") as f:\n",
    "    reader = f.read()\n",
    "    \n",
    "dataList = reader.split('\\n')\n",
    "len(dataList)"
   ]
  },
  {
   "cell_type": "code",
   "execution_count": 73,
   "metadata": {},
   "outputs": [
    {
     "data": {
      "text/plain": [
       "'publicid,eventtype,origintime,modificationtime,longitude, latitude, magnitude, depth,magnitudetype,depthtype,evaluationmethod,evaluationstatus,evaluationmode,earthmodel,usedphasecount,usedstationcount,magnitudestationcount,minimumdistance,azimuthalgap,originerror,magnitudeuncertainty'"
      ]
     },
     "execution_count": 73,
     "metadata": {},
     "output_type": "execute_result"
    }
   ],
   "source": [
    "dataList[0]"
   ]
  },
  {
   "cell_type": "code",
   "execution_count": 74,
   "metadata": {},
   "outputs": [
    {
     "data": {
      "text/plain": [
       "'2018p368955,,2018-05-17T12:19:35.516Z,2018-05-17T12:21:54.953Z,178.4653957,-37.51944533,2.209351541,20.9375,M,,NonLinLoc,,automatic,nz3drx,12,12,6,0.1363924727,261.0977462,0.8209633086,0'"
      ]
     },
     "execution_count": 74,
     "metadata": {},
     "output_type": "execute_result"
    }
   ],
   "source": [
    "dataList[1]"
   ]
  },
  {
   "cell_type": "code",
   "execution_count": 75,
   "metadata": {},
   "outputs": [
    {
     "data": {
      "text/plain": [
       "''"
      ]
     },
     "execution_count": 75,
     "metadata": {},
     "output_type": "execute_result"
    }
   ],
   "source": [
    "dataList[21017] # looks like the last line is empty!"
   ]
  },
  {
   "cell_type": "code",
   "execution_count": 76,
   "metadata": {},
   "outputs": [
    {
     "data": {
      "text/plain": [
       "'2017p408120,earthquake,2017-06-01T00:07:04.890Z,2017-06-01T07:20:23.994Z,175.4930025,-39.31558765,1.298107247,13.5546875,M,,NonLinLoc,confirmed,manual,nz3drx,28,19,13,0.04550182409,86.69529793,0.2189521352,0'"
      ]
     },
     "execution_count": 76,
     "metadata": {},
     "output_type": "execute_result"
    }
   ],
   "source": [
    "dataList[-2] # but the second-last line looks okay"
   ]
  },
  {
   "cell_type": "code",
   "execution_count": 77,
   "metadata": {},
   "outputs": [],
   "source": [
    "from datetime import datetime\n",
    "import time\n",
    "from dateutil.parser import parse\n",
    "\n",
    "myDataAccumulatorList =[]\n",
    "for data in dataList[1:-1]:\n",
    "    dataRow = data.split(',')\n",
    "    myTimeString = dataRow[2] # origintime\n",
    "    # let's also grab longitude, latitude, magnitude, depth\n",
    "    myDataString = [dataRow[4],dataRow[5],dataRow[6],dataRow[7]]\n",
    "    try: \n",
    "        myTypedTime = time.mktime(parse(myTimeString).timetuple())\n",
    "        myFloatData = [float(x) for x in myDataString]\n",
    "        myFloatData.append(myTypedTime) # append the processed timestamp\n",
    "        myDataAccumulatorList.append(myFloatData)\n",
    "    except TypeError, e: # error handling for type incompatibilities\n",
    "        print 'Error:  Error is ', e"
   ]
  },
  {
   "cell_type": "code",
   "execution_count": 78,
   "metadata": {},
   "outputs": [
    {
     "data": {
      "text/plain": [
       "21016"
      ]
     },
     "execution_count": 78,
     "metadata": {},
     "output_type": "execute_result"
    }
   ],
   "source": [
    "len(myDataAccumulatorList)"
   ]
  },
  {
   "cell_type": "code",
   "execution_count": 79,
   "metadata": {},
   "outputs": [
    {
     "data": {
      "text/plain": [
       "[[178.4653957, -37.51944533, 2.209351541, 20.9375, 1526555975.0],\n",
       " [177.8775115, -37.46115663, 2.155154561, 58.4375, 1526553504.0],\n",
       " [173.2372626, -41.23518154, 2.253095604, 84.6875, 1526550406.0],\n",
       " [173.6257813, -42.31633991, 2.177032628, 10.15625, 1526547706.0],\n",
       " [174.0910246, -40.24770738, 2.795031407, 79.53125, 1526546404.0]]"
      ]
     },
     "execution_count": 79,
     "metadata": {},
     "output_type": "execute_result"
    }
   ],
   "source": [
    "myDataAccumulatorList[0:5] # so all looks okay!"
   ]
  },
  {
   "cell_type": "markdown",
   "metadata": {},
   "source": [
    "Now let's be good programmers and wrap all of this bits and bobs into a function."
   ]
  },
  {
   "cell_type": "code",
   "execution_count": 80,
   "metadata": {},
   "outputs": [],
   "source": [
    "def getLonLatMagDepTimes(NZEQCsvFileName):\n",
    "    '''returns longitude, latitude, magnitude, depth and the origin time as unix time\n",
    "    for each observed earthquake in the csv filr named NZEQCsvFileName'''\n",
    "    from datetime import datetime\n",
    "    import time\n",
    "    from dateutil.parser import parse\n",
    "    import numpy as np\n",
    "    \n",
    "    with open(NZEQCsvFileName) as f:\n",
    "        reader = f.read() \n",
    "        dataList = reader.split('\\n')\n",
    "        \n",
    "    myDataAccumulatorList =[]\n",
    "    for data in dataList[1:-1]:\n",
    "        dataRow = data.split(',')\n",
    "        myTimeString = dataRow[2] # origintime\n",
    "        # let's also grab longitude, latitude, magnitude, depth\n",
    "        myDataString = [dataRow[4],dataRow[5],dataRow[6],dataRow[7]]\n",
    "        try: \n",
    "            myTypedTime = time.mktime(parse(myTimeString).timetuple())\n",
    "            myFloatData = [float(x) for x in myDataString]\n",
    "            myFloatData.append(myTypedTime) # append the processed timestamp\n",
    "            myDataAccumulatorList.append(myFloatData)\n",
    "        except TypeError, e: # error handling for type incompatibilities\n",
    "            print 'Error:  Error is ', e\n",
    "    return np.array(myDataAccumulatorList)"
   ]
  },
  {
   "cell_type": "code",
   "execution_count": 81,
   "metadata": {
    "collapsed": true
   },
   "outputs": [],
   "source": [
    "myProcessedArray = getLonLatMagDepTimes('data/earthquakes.csv')"
   ]
  },
  {
   "cell_type": "code",
   "execution_count": 82,
   "metadata": {},
   "outputs": [
    {
     "data": {
      "text/plain": [
       "(21016, 5)"
      ]
     },
     "execution_count": 82,
     "metadata": {},
     "output_type": "execute_result"
    }
   ],
   "source": [
    "myProcessedArray.shape"
   ]
  },
  {
   "cell_type": "code",
   "execution_count": 83,
   "metadata": {},
   "outputs": [
    {
     "data": {
      "text/plain": [
       "array([[  1.78465396e+02,  -3.75194453e+01,   2.20935154e+00,\n",
       "          2.09375000e+01,   1.52655598e+09],\n",
       "       [  1.77877511e+02,  -3.74611566e+01,   2.15515456e+00,\n",
       "          5.84375000e+01,   1.52655350e+09],\n",
       "       [  1.73237263e+02,  -4.12351815e+01,   2.25309560e+00,\n",
       "          8.46875000e+01,   1.52655041e+09],\n",
       "       [  1.73625781e+02,  -4.23163399e+01,   2.17703263e+00,\n",
       "          1.01562500e+01,   1.52654771e+09],\n",
       "       [  1.74091025e+02,  -4.02477074e+01,   2.79503141e+00,\n",
       "          7.95312500e+01,   1.52654640e+09]])"
      ]
     },
     "execution_count": 83,
     "metadata": {},
     "output_type": "execute_result"
    }
   ],
   "source": [
    "myProcessedArray[0:5,:] # so all looks okay!"
   ]
  },
  {
   "cell_type": "code",
   "execution_count": 84,
   "metadata": {
    "collapsed": true
   },
   "outputs": [],
   "source": [
    "def interQuakeTimes(quakeTimes):\n",
    "    '''Return a list inter-earthquake times in seconds from earthquake origin times\n",
    "    Date and time elements are expected to be in the 5th column of the array\n",
    "    Return a list of inter-quake times in seconds. NEEDS sorted quakeTimes Data'''\n",
    "    import numpy as np\n",
    "    retList = []\n",
    "    if len(quakeTimes) > 1:\n",
    "        retList = [quakeTimes[i]-quakeTimes[i-1] for i in range(1,len(quakeTimes))]\n",
    "    return np.array(retList)"
   ]
  },
  {
   "cell_type": "code",
   "execution_count": 85,
   "metadata": {},
   "outputs": [
    {
     "data": {
      "text/plain": [
       "[1526546404.0, 1526547706.0, 1526550406.0, 1526553504.0, 1526555975.0]"
      ]
     },
     "execution_count": 85,
     "metadata": {},
     "output_type": "execute_result"
    }
   ],
   "source": [
    "sorted(myProcessedArray[0:5,4]) # the time-stamps in file are not ordered"
   ]
  },
  {
   "cell_type": "code",
   "execution_count": 86,
   "metadata": {},
   "outputs": [
    {
     "data": {
      "text/plain": [
       "array([ 1302.,  2700.,  3098.,  2471.])"
      ]
     },
     "execution_count": 86,
     "metadata": {},
     "output_type": "execute_result"
    }
   ],
   "source": [
    "interQuakeTimes(sorted(myProcessedArray[0:5,4]))"
   ]
  },
  {
   "cell_type": "markdown",
   "metadata": {},
   "source": [
    "Finally we have the inter-EQ times in seconds as a numpy array `interQuakesSecs`."
   ]
  },
  {
   "cell_type": "code",
   "execution_count": 87,
   "metadata": {},
   "outputs": [
    {
     "data": {
      "text/plain": [
       "21015"
      ]
     },
     "execution_count": 87,
     "metadata": {},
     "output_type": "execute_result"
    }
   ],
   "source": [
    "interQuakesSecs = interQuakeTimes(sorted(myProcessedArray[:,4]))\n",
    "len(interQuakesSecs)"
   ]
  },
  {
   "cell_type": "markdown",
   "metadata": {},
   "source": [
    "It is time to make a model for these inter-EQ times, i.e., go from the observed data to the best fitting parameter of a simple model!"
   ]
  },
  {
   "cell_type": "markdown",
   "metadata": {},
   "source": [
    "## Step 2: Modeling Inter-earthquake Times for New Zealand Earthquakes\n",
    "\n",
    "The $Exponential$ is often suitable for modelling the time between occurences of some event, like the time between buses at a bus-stop.  We could try to model the inter-earthquake times of New Zealand earthquakes as IID $Exponential(\\lambda^*)$ random variables and use our earthquakes data to calculate an MLE for $\\lambda^*$."
   ]
  },
  {
   "cell_type": "code",
   "execution_count": 88,
   "metadata": {},
   "outputs": [
    {
     "data": {
      "text/plain": [
       "array([  531.,   551.,   764.,   294.,   678.,  1538.,   376.,   364.,\n",
       "         208.,   242.])"
      ]
     },
     "execution_count": 88,
     "metadata": {},
     "output_type": "execute_result"
    }
   ],
   "source": [
    "interQuakesSecs[0:10] # first ten inter-EQ times"
   ]
  },
  {
   "cell_type": "code",
   "execution_count": 89,
   "metadata": {},
   "outputs": [
    {
     "data": {
      "text/plain": [
       "1441.0635736378777"
      ]
     },
     "execution_count": 89,
     "metadata": {},
     "output_type": "execute_result"
    }
   ],
   "source": [
    "interQuakesSecs.mean() # sample mean inter-quake times"
   ]
  },
  {
   "cell_type": "code",
   "execution_count": 90,
   "metadata": {},
   "outputs": [
    {
     "data": {
      "text/plain": [
       "24.01772622729796"
      ]
     },
     "execution_count": 90,
     "metadata": {},
     "output_type": "execute_result"
    }
   ],
   "source": [
    "interQuakesSecs.mean()/60.0 # sample mean in minutes"
   ]
  },
  {
   "cell_type": "code",
   "execution_count": 91,
   "metadata": {},
   "outputs": [
    {
     "data": {
      "text/plain": [
       "2488808.0126131633"
      ]
     },
     "execution_count": 91,
     "metadata": {},
     "output_type": "execute_result"
    }
   ],
   "source": [
    "interQuakesSecs.var() # sample variance"
   ]
  },
  {
   "cell_type": "code",
   "execution_count": 92,
   "metadata": {},
   "outputs": [
    {
     "data": {
      "text/plain": [
       "26.293260715613268"
      ]
     },
     "execution_count": 92,
     "metadata": {},
     "output_type": "execute_result"
    }
   ],
   "source": [
    "interQuakesSecs.std()/60.0 # sample std in seconds"
   ]
  },
  {
   "cell_type": "markdown",
   "metadata": {},
   "source": [
    "Our (very simplistic) model is:\n",
    "\n",
    "$X_1, X_2, \\ldots, X_n \\overset{IID}{\\sim} Exponential(\\lambda^*)$ \n",
    "\n",
    "with observations $x_1, x_2, \\ldots, x_n$ in the array `interQuakesSecs` and $n$ the number of elements in the list.\n",
    "\n",
    "The sum function can tell us $t_n = \\displaystyle\\sum_{i=1}^n x_i$"
   ]
  },
  {
   "cell_type": "code",
   "execution_count": 93,
   "metadata": {},
   "outputs": [
    {
     "data": {
      "text/plain": [
       "30283951.0"
      ]
     },
     "execution_count": 93,
     "metadata": {},
     "output_type": "execute_result"
    }
   ],
   "source": [
    "sum(interQuakesSecs)"
   ]
  },
  {
   "cell_type": "markdown",
   "metadata": {},
   "source": [
    "We can get a quick look at the shape of the data using a histogram:"
   ]
  },
  {
   "cell_type": "code",
   "execution_count": 94,
   "metadata": {},
   "outputs": [
    {
     "data": {
      "image/png": "[encoded data removed]",
      "text/plain": [
       "<matplotlib.figure.Figure object at 0x7fd152976610>"
      ]
     },
     "metadata": {},
     "output_type": "display_data"
    }
   ],
   "source": [
    "pylab.clf() # clear current figure\n",
    "n, bins, patches = pylab.hist(interQuakesSecs, 50) # make the histogram (don't have to have n, bins, patches = ...)\n",
    "pylab.xlabel('inter-quake time (seconds)') # use pyplot methods to set labels, titles etc similar to as in matlab\n",
    "pylab.ylabel('count')\n",
    "pylab.title('Count histogram for inter-quake times')\n",
    "pylab.savefig('myHist') # seem to need to have this to be able to actually display the figure\n",
    "pylab.show() # and finally show it"
   ]
  },
  {
   "cell_type": "markdown",
   "metadata": {},
   "source": [
    "Our 'best single guess' or point estimate $\\widehat{\\lambda}_n$ of the unknown $\\lambda^* \\in (0,\\infty)$ is $\\frac{n}{t_n}$"
   ]
  },
  {
   "cell_type": "code",
   "execution_count": 95,
   "metadata": {},
   "outputs": [
    {
     "data": {
      "text/plain": [
       "0.00069393191132821478"
      ]
     },
     "execution_count": 95,
     "metadata": {},
     "output_type": "execute_result"
    }
   ],
   "source": [
    "n = len(interQuakesSecs)\n",
    "tn = sum(interQuakesSecs)\n",
    "bestGuessSecs = n/tn\n",
    "bestGuessSecs"
   ]
  },
  {
   "cell_type": "markdown",
   "metadata": {},
   "source": [
    "Can you see how $\\widehat{\\lambda}_n$ relates to the sample mean?  Think about the Expectation of an $Exponential$ RV."
   ]
  },
  {
   "cell_type": "code",
   "execution_count": 360,
   "metadata": {},
   "outputs": [
    {
     "data": {
      "text/plain": [
       "1441.0635736378777"
      ]
     },
     "execution_count": 360,
     "metadata": {},
     "output_type": "execute_result"
    }
   ],
   "source": [
    "interQuakesSecs.mean() # mean inter-earthquake times in seconds again"
   ]
  },
  {
   "cell_type": "code",
   "execution_count": 96,
   "metadata": {},
   "outputs": [
    {
     "data": {
      "text/plain": [
       "1441.0635736378777"
      ]
     },
     "execution_count": 96,
     "metadata": {},
     "output_type": "execute_result"
    }
   ],
   "source": [
    "1/bestGuessSecs"
   ]
  },
  {
   "cell_type": "markdown",
   "metadata": {},
   "source": [
    "What about converting our data to give the inter-quake times in minutes rather than seconds:"
   ]
  },
  {
   "cell_type": "code",
   "execution_count": 97,
   "metadata": {},
   "outputs": [],
   "source": [
    "import numpy as np\n",
    "interQuakesMins = np.array([t/60 for t in interQuakesSecs])"
   ]
  },
  {
   "cell_type": "markdown",
   "metadata": {},
   "source": [
    "And getting the best guess for $\\lambda^*$ with the units as minutes:"
   ]
  },
  {
   "cell_type": "code",
   "execution_count": 98,
   "metadata": {},
   "outputs": [
    {
     "data": {
      "text/plain": [
       "0.041635914679692881"
      ]
     },
     "execution_count": 98,
     "metadata": {},
     "output_type": "execute_result"
    }
   ],
   "source": [
    "n = len(interQuakesMins)\n",
    "tn = sum(interQuakesMins)\n",
    "bestGuessMins = n/tn\n",
    "bestGuessMins"
   ]
  },
  {
   "cell_type": "markdown",
   "metadata": {},
   "source": [
    "Can you see how $\\widehat{\\lambda}_n$ relates to the sample mean?  Think about the Expectation of an $Exponential$ RV."
   ]
  },
  {
   "cell_type": "code",
   "execution_count": 365,
   "metadata": {},
   "outputs": [
    {
     "data": {
      "text/plain": [
       "24.017726227297963"
      ]
     },
     "execution_count": 365,
     "metadata": {},
     "output_type": "execute_result"
    }
   ],
   "source": [
    "interQuakesMins.mean() # mean inter-earthquake times in minutes"
   ]
  },
  {
   "cell_type": "code",
   "execution_count": 366,
   "metadata": {},
   "outputs": [
    {
     "data": {
      "text/plain": [
       "24.017726227297963"
      ]
     },
     "execution_count": 366,
     "metadata": {},
     "output_type": "execute_result"
    }
   ],
   "source": [
    "1/bestGuessMins"
   ]
  },
  {
   "cell_type": "markdown",
   "metadata": {},
   "source": [
    "What about the relationship between the best guess values for $\\lambda^*$ when we are measuring time in different units.  Does this fit with the idea of $\\lambda$ as a \"rate\"?"
   ]
  },
  {
   "cell_type": "code",
   "execution_count": 367,
   "metadata": {},
   "outputs": [
    {
     "data": {
      "text/plain": [
       "0.041635914679692888"
      ]
     },
     "execution_count": 367,
     "metadata": {},
     "output_type": "execute_result"
    }
   ],
   "source": [
    "bestGuessSecs*60"
   ]
  },
  {
   "cell_type": "code",
   "execution_count": 368,
   "metadata": {},
   "outputs": [
    {
     "data": {
      "text/plain": [
       "504732.51666666666"
      ]
     },
     "execution_count": 368,
     "metadata": {},
     "output_type": "execute_result"
    }
   ],
   "source": [
    "interQuakesMins.sum()"
   ]
  },
  {
   "cell_type": "code",
   "execution_count": 369,
   "metadata": {},
   "outputs": [
    {
     "data": {
      "image/png": "[encoded data removed]",
      "text/plain": [
       "<matplotlib.figure.Figure object at 0x7f40c58d8a90>"
      ]
     },
     "metadata": {},
     "output_type": "display_data"
    }
   ],
   "source": [
    "pylab.clf() # clear current figure\n",
    "t = np.arange(0.0000000000001, 1000., 0.01)\n",
    "n, bins, patches = pylab.hist(interQuakesMins, 50) # make the histogram (don't have to have n, bins, patches = ...)\n",
    "pylab.xlabel('inter-quake time (minutes)') # use pyplot methods to set labels, titles etc similar to as in matlab\n",
    "pylab.ylabel('count')\n",
    "pylab.title('Count histogram for inter-quake times')\n",
    "pylab.savefig('myHist') # seem to need to have this to be able to actually display the figure\n",
    "pylab.show() # and finally show it"
   ]
  },
  {
   "cell_type": "markdown",
   "metadata": {},
   "source": [
    "### Some pointers on plotting in SageMath and Python\n",
    "\n",
    "Here is a simple plot with three functions.\n",
    "\n",
    "And the following one uses the histogram above and plots another function on top of it. These and more examples are from:\n",
    "\n",
    "- [https://matplotlib.org/2.0.1/index.html](https://matplotlib.org/2.0.1/index.html)\n",
    "- specifically from: [https://matplotlib.org/2.0.1/examples/pyplots/pyplot_three.html](https://matplotlib.org/2.0.1/examples/pyplots/pyplot_three.html)\n",
    "\n",
    "Check out the matplotlib gallery:\n",
    "\n",
    "- [https://matplotlib.org/2.0.1/gallery.html](https://matplotlib.org/2.0.1/gallery.html)"
   ]
  },
  {
   "cell_type": "code",
   "execution_count": 372,
   "metadata": {},
   "outputs": [
    {
     "data": {
      "image/png": "[encoded data removed]",
      "text/plain": [
       "<matplotlib.figure.Figure object at 0x7f40b2cd2290>"
      ]
     },
     "metadata": {},
     "output_type": "display_data"
    }
   ],
   "source": [
    "import numpy as np\n",
    "import matplotlib.pyplot as plt\n",
    "\n",
    "# evenly sampled time at 200ms intervals\n",
    "t = np.arange(0.0000000000001, 10., 1)\n",
    "\n",
    "# red dashes, blue squares and green triangles\n",
    "plt.plot(t, t, 'r--', t, t**2, 'bs', t, t**3, 'g^')\n",
    "plt.show()"
   ]
  },
  {
   "cell_type": "code",
   "execution_count": 373,
   "metadata": {},
   "outputs": [
    {
     "data": {
      "image/png": "[encoded data removed]",
      "text/plain": [
       "<matplotlib.figure.Figure object at 0x7f40b3718b90>"
      ]
     },
     "metadata": {},
     "output_type": "display_data"
    }
   ],
   "source": [
    "pylab.clf() # clear current figure\n",
    "t = np.arange(0.0000000000001, 1000., 0.01)\n",
    "n, bins, patches = pylab.hist(interQuakesMins, 50) # make the histogram (don't have to have n, bins, patches = ...)\n",
    "pylab.xlabel('inter-quake time (minutes)') # use pyplot methods to set labels, titles etc similar to as in matlab\n",
    "pylab.ylabel('count')\n",
    "pylab.title('Count histogram for inter-quake times')\n",
    "pylab.savefig('myHist') # seem to need to have this to be able to actually display the figure\n",
    "# red dashes superimposed on histogram\n",
    "pylab.plot(t, t, 'r--')\n",
    "pylab.show() # and finally show it"
   ]
  },
  {
   "cell_type": "markdown",
   "metadata": {},
   "source": [
    "## YouTry (later)\n",
    "\n",
    "If you have time and you want to do more with Sage symbolic expressions, have a look at this optional section.  You should only start it when you are happy with the essential material above. \n",
    "\n",
    "Try solving a system of equations:"
   ]
  },
  {
   "cell_type": "code",
   "execution_count": 261,
   "metadata": {},
   "outputs": [
    {
     "data": {
      "text/plain": [
       "[[p == 1, q == 8, x == -4/3*sqrt(10) - 2/3, y == 1/6*sqrt(10) - 2/3], [p == 1, q == 8, x == 4/3*sqrt(10) - 2/3, y == -1/6*sqrt(10) - 2/3]]"
      ]
     },
     "execution_count": 261,
     "metadata": {},
     "output_type": "execute_result"
    }
   ],
   "source": [
    "var('x y p q')\n",
    "eq1 = p + q == 9\n",
    "eq2 = q*y + p*x == -6\n",
    "eq3 = q*y^2 + p*x^2 == 24\n",
    "solve([eq1, eq2, eq3, p==1], p, q, x, y)"
   ]
  },
  {
   "cell_type": "markdown",
   "metadata": {},
   "source": [
    "If you look at the documentation for the `solve(...)` function, you'll see that you have the option of returning a list of dictionaries of the solutions.  \n",
    "\n",
    "Think about that:  a list of dictionaries of the solutions.  \n",
    "\n",
    "So, there can be more than one combination of variable values that can provide a solution, and a convenient way to indicate the values of each variable within each 'solving combination' is using a dictionary which maps a value to a variable (key).  "
   ]
  },
  {
   "cell_type": "code",
   "execution_count": 262,
   "metadata": {
    "collapsed": true
   },
   "outputs": [],
   "source": [
    "?solve"
   ]
  },
  {
   "cell_type": "code",
   "execution_count": 263,
   "metadata": {},
   "outputs": [
    {
     "data": {
      "text/plain": [
       "[{x: -4/3*sqrt(10) - 2/3, q: 8, p: 1, y: 1/6*sqrt(10) - 2/3},\n",
       " {x: 4/3*sqrt(10) - 2/3, q: 8, p: 1, y: -1/6*sqrt(10) - 2/3}]"
      ]
     },
     "execution_count": 263,
     "metadata": {},
     "output_type": "execute_result"
    }
   ],
   "source": [
    "solns = solve([eq1, eq2, eq3, p==1], p, q, x, y, solution_dict = true)\n",
    "solns"
   ]
  },
  {
   "cell_type": "markdown",
   "metadata": {},
   "source": [
    "When we have the list of dictionaries of the solutions, we can have a look at the values.  The following cell uses a list comprehension to take each dictionary in the list and find the values mapped to each variable.  "
   ]
  },
  {
   "cell_type": "code",
   "execution_count": 264,
   "metadata": {},
   "outputs": [
    {
     "data": {
      "text/plain": [
       "[[1.000000000, 8.000000000, -4.883036880, -0.1396203900],\n",
       " [1.000000000, 8.000000000, 3.549703547, -1.193712943]]"
      ]
     },
     "execution_count": 264,
     "metadata": {},
     "output_type": "execute_result"
    }
   ],
   "source": [
    "[[s[p].n(digits=10), s[q].n(digits=10), s[x].n(digits=10), s[y].n(digits=10)] \\\n",
    "                                                                        for s in solns]"
   ]
  },
  {
   "cell_type": "markdown",
   "metadata": {},
   "source": [
    "Try some other systems of equations, or other features which catch your eye in the help page. "
   ]
  },
  {
   "cell_type": "markdown",
   "metadata": {},
   "source": [
    "# Take the Feature Tour of SageMath Now!\n",
    "\n",
    "[http://www.sagemath.org/tour.html](http://www.sagemath.org/tour.html)"
   ]
  },
  {
   "cell_type": "markdown",
   "metadata": {
    "collapsed": true
   },
   "source": [
    "# Regression\n",
    "\n",
    "- Point Estimation (parametric estimation with the likelihood principle and MLE)\n",
    "  - linear and logistic models and their estimators (least squares estimators)\n",
    "  - problem of prediction: in regression and classification\n",
    "    - correlation versus causation\n",
    "    - assessing fit using diagnostic plots\n",
    "- Point Estimation (with empirical risk minimisation principle - point estimation with validation of penalised least squares estimators)\n",
    "  - bias-variance trade-off (over-fitting)\n",
    "  - hold-out estimators including cross-validation\n",
    "  \n",
    "\n",
    "*Raaz needs 8-12 hours*"
   ]
  },
  {
   "cell_type": "code",
   "execution_count": null,
   "metadata": {},
   "outputs": [],
   "source": []
  }
 ],
 "metadata": {
  "kernelspec": {
   "display_name": "SageMath 8.4",
   "language": "",
   "name": "sagemath"
  },
  "language_info": {
   "codemirror_mode": {
    "name": "ipython",
    "version": 2
   },
   "file_extension": ".py",
   "mimetype": "text/x-python",
   "name": "python",
   "nbconvert_exporter": "python",
   "pygments_lexer": "ipython2",
   "version": "2.7.15"
  },
  "lx_course_instance": "Spring 2019, Uppsala University",
  "lx_course_name": "Applied Statistics",
  "lx_course_number": "1MS926"
 },
 "nbformat": 4,
 "nbformat_minor": 2
}
