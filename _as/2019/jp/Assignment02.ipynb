{
 "cells": [
  {
   "cell_type": "markdown",
   "metadata": {
    "deletable": false
   },
   "source": [
    "# [Applied Statistics](https://lamastex.github.io/scalable-data-science/as/2019/)\n",
    "## 1MS926, Spring 2019, Uppsala University \n",
    "&copy;2019 Raazesh Sainudiin. [Attribution 4.0 International (CC BY 4.0)](https://creativecommons.org/licenses/by/4.0/)"
   ]
  },
  {
   "cell_type": "markdown",
   "metadata": {
    "deletable": false
   },
   "source": [
    "# Assignment 2 for Course 1MS926\n",
    "Fill in your Personal Number, make     sure you pass the `# ... Test` cells and\n",
    " submit by email from your official `uu.se` student email account to `raazesh.sainudiin` `@` `math.uu.se` with *Subject line*     **1MS926 Assignment 2**.\n",
    "You can submit multiple times before the deadline     and your highest score will be used.\n",
    "\n",
    "**KEEP TRACK** of and **REPORT** the said variables in *each* PROBLEM or *up to now* to help Raaz calibrate the exam fairly - your report will be used to justify exam-difficulty:\n",
    "\n",
    "- `timeToCompleteThisProblemInMinutes` an integer in *minutes* to report how much time it is taking you to complete *this problem* on your own (ok to discuss with your mates too; but not in exam)\n",
    "- `didIAttendOrCatchUpFromMyMatesOnTheSecondLab` is a Boolean `True` or `False` to indicate whether you attended or caught up on (from your class mates who attended) what was done in the second computer lab.\n",
    "- `timeSpentOnLearningInThisCourseInHours` an integer in *hours* to report how much time you have spent on this course *up to now*.\n",
    "  - This mainly applies to those who are making regular effort to keep up with the course materials, including attending and/or remotely catching up on lectures and labs, asking questions in class, constructively participating, etc.\n",
    "  - Those who have missed more than three of the last 4 lectures and the second lab and have not gone through the accompanying and co-evolving `0x.ipynb` notebooks on their own where `x` is in $\\{5,6,7,8\\}$ should report `0` hours here.\n",
    "  - NOTE: 2/3 of the 5hp course is already done and you are supposed to have spent `((5*2/3)/1.5)*37=82.22` hours of full-time study on the course including attending lectures, labs, if you were not too busy with other commitments. You may reserve `2*8=16` hours during study week to revise for this course.\n",
    "\n",
    "\n",
    "  **You should update (download most up to date versions of) the lecture notebooks `0x.ipynb` notebooks before starting the Assignment.**\n",
    "\n"
   ]
  },
  {
   "cell_type": "code",
   "execution_count": null,
   "metadata": {
    "deletable": false,
    "lx_cell_type": "personal_number"
   },
   "outputs": [],
   "source": [
    "# Enter your 12 digit personal number here and evaluate this cell\n",
    "MyPersonalNumber = 'YYYYMMDDXXXX'\n",
    "\n",
    "#tests\n",
    "assert(isinstance(MyPersonalNumber, basestring))\n",
    "assert(MyPersonalNumber.isdigit())\n",
    "assert(len(MyPersonalNumber)==12)\n",
    "\n",
    "# Report these variables so the exam can be calibrated fairly - your report will be used to justify exam-difficulty\n",
    "didIAttendOrCatchUpFromMyMatesOnTheSecondLab = False # replace False by True, if so\n",
    "timeSpentOnLearningInThisCourseInHours = 0 # replace 0 by a positive integer if it applies"
   ]
  },
  {
   "cell_type": "markdown",
   "metadata": {
    "lx_assignment_number": "2",
    "lx_problem_cell_type": "PROBLEM"
   },
   "source": [
    "---\n",
    "## Assignment 2, PROBLEM 0\n",
    "Maximum Points = 1"
   ]
  },
  {
   "cell_type": "markdown",
   "metadata": {
    "lx_assignment_number": "2",
    "lx_problem_cell_type": "PROBLEM",
    "lx_problem_number": "0",
    "lx_problem_points": "1"
   },
   "source": [
    "\n",
    "We have seen how to implement a new iterator (just like a function) but with `yield` statement (just like `return` in a function). This model of computation is called **continuation**. This is very useful in combinatorics, especially when combined with recursion (*Computational Mathematics with SageMath, SIAM, 2019, p. 346*). Below is an iterator called `generateWords(alphabet,L)` that can generate all words of of a given length `L` on a given `alphabet`.\n",
    "\n",
    "Your task is simple! \n",
    "\n",
    "- Just understand what the following iterator is doing from the comments in code and explanations earlier. \n",
    "- how we are computing the number of words of length `L` equalling 3 and then 23 using `sum`:\n",
    "  - via list comprehension\n",
    "  - via generator expression\n",
    "- You *don't need to change any of the code in the next 4 cells, but just understand it*. \n",
    "- Finally, try to explain by chosing the right answer below as to why the list comprhension is taking longer to compute than the generator expression as evident by the `Wall time` (see [Wall Time](https://en.wikipedia.org/wiki/Elapsed_real_time), it's just the elapsed real time from the start to end of a computation).\n",
    "\n",
    "---\n",
    "\n",
    "```\n",
    "%%time \n",
    "# time for list comprehension to compute the sum of [1,1,1,...,2^23]\n",
    "sumFromListCom = sum( [ 1 for w in generateWords(['H','T'], 23) ]  ) \n",
    "```\n",
    "will result in output:\n",
    "```\n",
    "CPU times: user 6.94 s, sys: 200 ms, total: 7.14 s\n",
    "Wall time: 7.11 s\n",
    "```\n",
    "---\n",
    "\n",
    "---\n",
    "```\n",
    "%%time \n",
    "# time for generator expression to compute the sum of [1,1,1,...,2^23]\n",
    "sumFromGenEx = sum( ( 1 for w in generateWords(['H','T'], 23) )  ) \n",
    "```\n",
    "will result in output:\n",
    "```\n",
    "CPU times: user 5.51 s, sys: 0 ns, total: 5.51 s\n",
    "Wall time: 5.52 s\n",
    "```\n",
    "---\n",
    "\n",
    "(you may have slightly different numbers for `time` and `Wall time` based on your machine details at the time of computation). \n",
    "\n",
    "**Multiple-choice Question:**\n",
    "\n",
    "- Why is the `Wall time` for generator expression (genex) smaller that for the list comprehension (listcomp) here? \n",
    "\n",
    "**Answer Choices**\n",
    "\n",
    "- **A.** genex if faster because the individual words are not allocated space in memory, i.e., materialised in memory\n",
    "- **B.** listcomp is slower because the list of all words is allocated space in memory\n",
    "- **C.** both **A** and **B** are true\n"
   ]
  },
  {
   "cell_type": "code",
   "execution_count": 183,
   "metadata": {
    "lx_assignment_number": "2",
    "lx_problem_cell_type": "PROBLEM",
    "lx_problem_number": "0",
    "lx_problem_points": "1"
   },
   "outputs": [],
   "source": [
    "choiceForProblem2 = 'X' # replace X by A, B or C"
   ]
  },
  {
   "cell_type": "markdown",
   "metadata": {
    "lx_assignment_number": "2",
    "lx_problem_cell_type": "Test"
   },
   "source": [
    "---\n",
    "#### Local Test for Assignment 2, PROBLEM 0\n",
    "Evaluate cell below to make sure your answer is valid.                         You **should not** modify anything in the cell below when evaluating it to do a local test of                         your solution."
   ]
  },
  {
   "cell_type": "code",
   "execution_count": 185,
   "metadata": {
    "lx_assignment_number": "2",
    "lx_problem_cell_type": "Test",
    "lx_problem_number": "0",
    "lx_problem_points": "1"
   },
   "outputs": [
    {
     "name": "stdout",
     "output_type": "stream",
     "text": [
      "You have chosen one of the possible options. Hopefully, you are correct.\n"
     ]
    }
   ],
   "source": [
    "try:\n",
    "    assert(choiceForProblem2 in ['A','B','C'])\n",
    "    print \"You have chosen one of the possible options. Hopefully, you are correct.\"\n",
    "except AssertionError:\n",
    "    print \"Try again. you have to choose between 'A', 'B' and 'C'.\""
   ]
  },
  {
   "cell_type": "code",
   "execution_count": 187,
   "metadata": {
    "lx_assignment_number": "2",
    "lx_problem_cell_type": "PROBLEM",
    "lx_problem_number": "0",
    "lx_problem_points": "1"
   },
   "outputs": [
    {
     "name": "stdout",
     "output_type": "stream",
     "text": [
      "[['H', 'H', 'H'], ['H', 'H', 'T'], ['H', 'T', 'H'], ['H', 'T', 'T'], ['T', 'H', 'H'], ['T', 'H', 'T'], ['T', 'T', 'H'], ['T', 'T', 'T']]\n",
      "8\n",
      "8\n",
      "The number of words of length 3 from an alphabet of size 2 is 2^3 =  8\n"
     ]
    }
   ],
   "source": [
    "# This cell is to help you make the right choice between A, B and C\n",
    "def generateWords(alphabet, L):\n",
    "    if L == 0:\n",
    "        yield []\n",
    "    else:\n",
    "        for word in generateWords(alphabet, L-1): # here is the recursion when we cann the iterator again on L-1\n",
    "            for L in alphabet: \n",
    "                yield word + [L]\n",
    "\n",
    "print [ w for w in generateWords(['H','T'], 3) ] # now call the iterator to find all words of length 3 in ['H','T']\n",
    "\n",
    "print sum( [ 1 for w in generateWords(['H','T'], 3) ]  ) # these words can then be counted by list comprehension\n",
    "print sum( ( 1 for w in generateWords(['H','T'], 3) )  ) # these words can then be counted by generator expression\n",
    "\n",
    "print 'The number of words of length 3 from an alphabet of size 2 is 2^3 = ', 2^3 # the above sum`s makes sense"
   ]
  },
  {
   "cell_type": "markdown",
   "metadata": {
    "lx_assignment_number": "2",
    "lx_problem_cell_type": "PROBLEM"
   },
   "source": [
    "---\n",
    "## Assignment 2, PROBLEM 1\n",
    "Maximum Points = 1"
   ]
  },
  {
   "cell_type": "markdown",
   "metadata": {
    "lx_assignment_number": "2",
    "lx_problem_cell_type": "PROBLEM",
    "lx_problem_number": "1",
    "lx_problem_points": "1"
   },
   "source": [
    "\n",
    "Recall how we downloaded *Pride and Prejudice* and processed it as a String and split it by `Chapter`s. These code snippets are at our disposal now - all we need to do is copy-paste the right set of cells from earlier into the cells below here to have the string from that Book for more refined processing.\n",
    "\n",
    "Think about what algorithmic constructs and methods one will need to `split` each sentence by the **English words** it contains and then count the number of each distinct word.\n",
    "\n",
    "Now that you have understood `for` loops, `list` comprehensions and anonymous `function`s, and can learn about the needed methods on strings for splitting (which you can search by adding a `.` after a `srt` and hitting the `Tab` button to look through existing methods and followed by `?` for their docstrings), the `dictionary` data structure, and already seen how to count the number of ball labels, you are ready for this problem stated below. If you attended the lab then you have an advantage if you tried to work on this with some help from your instructors.\n",
    "\n",
    "**Problem:** Process the English words in a text file, such as those in the book *Pride and Prejudice* by Jane Austin, and obtain the top `K` most frequent *words that are longer than* a given parameter `wordLongerThan` which can be any value in $\\mathbb{Z}_+ := \\{ 0, 1, 2, 3, 4, \\ldots \\}$, i.e., *words that are longer than* `wordLongerThan` many characters in length. \n",
    "\n",
    "Your function must be generic and named as follows including input parameter order and names: \n",
    "\n",
    "- `frequencyOftheKMostCommonWordsIn(thisTextFile, wordLongerThan, K)`\n",
    "\n",
    "This function must be capable of:\n",
    "- reading any available text file in the `data/` directory that can be passed as the parameter `thisTextFile` \n",
    "- and return a `dict` type whose:\n",
    "  - key is the word whose character length is longer than the parameter `wordlongerThan` and \n",
    "  - value is the frequency of this word in the text file. \n",
    "  - Yor returned `dict` should only contain the top `K` most frequent words longer than `wordLongerThan` and be already sorted in descending order of in frequency.\n",
    "\n",
    "Use the next cell to submit your answer and for rough-work use more cells as needed in order to copy-paste code snippets from earlier content to get this working. But please remove the cells for rough-work when done.\n",
    "\n",
    "*Note: that you may not import libraries that have not been introduced in the course so far.*"
   ]
  },
  {
   "cell_type": "code",
   "execution_count": 19,
   "metadata": {
    "lx_assignment_number": "2",
    "lx_problem_cell_type": "PROBLEM",
    "lx_problem_number": "1",
    "lx_problem_points": "1"
   },
   "outputs": [],
   "source": [
    "\n",
    "# Report these variables so the exam can be calibrated fairly - your report will be used to justify exam-difficulty\n",
    "timeToCompleteThisProblemInMinutes = 0 # replace 0 by a positive integer if it applies\n",
    "\n",
    "# Do NOT change the name of the function and names of paramaters !\n",
    "\n",
    "thisTextFile = 'data/someTextFilename' # try a text file in data/ directory\n",
    "wordLongerThan = 0 # this can be any larger integer also\n",
    "K = 20 # this can be any integer larger than 0 also\n",
    "\n",
    "def frequencyOftheKMostCommonWordsIn(thisTextFile, wordLongerThan, K):\n",
    "    '''explain what the function is supposed to do briefly'''\n",
    "    # write the body of the function and replace 'None' with the correct return value\n",
    "    # ...\n",
    "    # ...\n",
    "    return None"
   ]
  },
  {
   "cell_type": "markdown",
   "metadata": {
    "lx_assignment_number": "2",
    "lx_problem_cell_type": "PROBLEM"
   },
   "source": [
    "---\n",
    "## Assignment 2, PROBLEM 2\n",
    "Maximum Points = 1"
   ]
  },
  {
   "cell_type": "markdown",
   "metadata": {
    "lx_assignment_number": "2",
    "lx_problem_cell_type": "PROBLEM",
    "lx_problem_number": "2",
    "lx_problem_points": "1"
   },
   "source": [
    "\n",
    "Recall the problem above on counting the number of votes by party across all of Sweden from the **Swedish 2018 National Election Data**.\n",
    "\n",
    "Your task is to adapt the code snippets there and others we have encountered thus far to count the total number of votes by each **district** and return a `list` of `Integers` giving the number of votes for the top `K` districts with the most votes. Your function `numberOfVotesInKMostVotedDistrictsInSE('data/final.csv', K)` should work for any valid integer `K`. \n",
    "\n",
    "*Note: that you may not import libraries that have not been introduced in the course so far.*\n",
    "\n",
    "---\n",
    "*unzip issues:* If you are unable to call `unzip final.csv.zip` on your windows laptop. You can either do it in the computer lab or do the following with internet access to download the large `final.csv` file from the internet:\n",
    "\n",
    "```\n",
    "%%sh\n",
    "cd data\n",
    " \n",
    "curl -O http://lamastex.org/datasets/public/elections/2018/sv/final.csv\n",
    "```\n",
    "\n",
    "Then you should have the needed `data/final.csv` file.\n",
    "\n",
    "---"
   ]
  },
  {
   "cell_type": "code",
   "execution_count": 24,
   "metadata": {
    "lx_assignment_number": "2",
    "lx_problem_cell_type": "PROBLEM",
    "lx_problem_number": "2",
    "lx_problem_points": "1"
   },
   "outputs": [],
   "source": [
    "\n",
    "# Report these variables so the exam can be calibrated fairly - your report will be used to justify exam-difficulty\n",
    "timeToCompleteThisProblemInMinutes = 0 # replace 0 by a positive integer if it applies\n",
    "\n",
    "# Do NOT change the name of the function and names of paramaters !\n",
    "\n",
    "K = 20 # this can be any integer larger than 0 also, change K and make sure your function works\n",
    "filename = 'data/final.csv' # this has to be a csv file with the same structure as out final.csv\n",
    "\n",
    "def numberOfVotesInKMostVotedDistrictsInSE(filename, K):\n",
    "    '''explain what the function is supposed to do briefly'''\n",
    "    # write the body of the function and replace 'None' with the correct return value\n",
    "    # ...\n",
    "    # ...\n",
    "    return None"
   ]
  },
  {
   "cell_type": "markdown",
   "metadata": {
    "lx_assignment_number": "2",
    "lx_problem_cell_type": "Test"
   },
   "source": [
    "---\n",
    "#### Local Test for Assignment 2, PROBLEM 2\n",
    "Evaluate cell below to make sure your answer is valid.                         You **should not** modify anything in the cell below when evaluating it to do a local test of                         your solution."
   ]
  },
  {
   "cell_type": "code",
   "execution_count": 131,
   "metadata": {
    "lx_assignment_number": "2",
    "lx_problem_cell_type": "Test",
    "lx_problem_number": "2",
    "lx_problem_points": "1"
   },
   "outputs": [
    {
     "name": "stdout",
     "output_type": "stream",
     "text": [
      "Your answer is correct for two test cases with K=3 and K=1. Hopefully it works correctly for any K\n"
     ]
    }
   ],
   "source": [
    "# test that your answer is indeed a probability by evaluating this cell after you replaced XXX above and evaluated it.\n",
    "try:\n",
    "    assert(numberOfVotesInKMostVotedDistrictsInSE('data/final.csv', 3) == [13435, 10625, 7910])\n",
    "    assert(numberOfVotesInKMostVotedDistrictsInSE('data/final.csv', 1) == [13435])\n",
    "    print(\"Your answer is correct for two test cases with K=3 and K=1. Hopefully it works correctly for any K\")\n",
    "except AssertionError:\n",
    "    print(\"Try again! and make sure you are actually producing what is expected of you.\")"
   ]
  },
  {
   "cell_type": "markdown",
   "metadata": {
    "lx_assignment_number": "2",
    "lx_problem_cell_type": "PROBLEM"
   },
   "source": [
    "---\n",
    "## Assignment 2, PROBLEM 3\n",
    "Maximum Points = 1"
   ]
  },
  {
   "cell_type": "markdown",
   "metadata": {
    "lx_assignment_number": "2",
    "lx_problem_cell_type": "PROBLEM",
    "lx_problem_number": "3",
    "lx_problem_points": "1"
   },
   "source": [
    "\n",
    "A disadvantage of using list comprehension is that we cannot create a lot of random numbers as we will have to store the returned list. Since you know about generators your task is to use the following warm-up on generating natural numbers and write an iterator version called `lcg` of the function `LinConGen` we have been seeing thus far."
   ]
  },
  {
   "cell_type": "code",
   "execution_count": null,
   "metadata": {
    "lx_assignment_number": "2",
    "lx_problem_cell_type": "PROBLEM",
    "lx_problem_number": "3",
    "lx_problem_points": "1"
   },
   "outputs": [],
   "source": [
    "def naturals():\n",
    "    '''define the countably infinite set of natural numbers using an iterator'''\n",
    "    n = 1 # the first natural number 1\n",
    "    while True: # an infinite while loop\n",
    "        yield n # output n\n",
    "        n = n + 1 # increment n by 1   "
   ]
  },
  {
   "cell_type": "code",
   "execution_count": null,
   "metadata": {
    "lx_assignment_number": "2",
    "lx_problem_cell_type": "PROBLEM",
    "lx_problem_number": "3",
    "lx_problem_points": "1"
   },
   "outputs": [],
   "source": [
    "# Example run - keep printing the natural numbers using the iterator until we hit 5\n",
    "for n in naturals():\n",
    "      print(n)\n",
    "      if n >= 5:\n",
    "          break"
   ]
  },
  {
   "cell_type": "code",
   "execution_count": null,
   "metadata": {
    "lx_assignment_number": "2",
    "lx_problem_cell_type": "PROBLEM",
    "lx_problem_number": "3",
    "lx_problem_points": "1"
   },
   "outputs": [],
   "source": [
    "# printing next from our iterator\n",
    "generateNaturals = naturals() # let's assign our iterator\n",
    "print(generateNaturals.next())\n",
    "print(generateNaturals.next())"
   ]
  },
  {
   "cell_type": "code",
   "execution_count": null,
   "metadata": {
    "lx_assignment_number": "2",
    "lx_problem_cell_type": "PROBLEM",
    "lx_problem_number": "3",
    "lx_problem_points": "1"
   },
   "outputs": [],
   "source": [
    "zip(naturals(), ['a', 'b', 'c', 'd']) # the second list stops at 4 to give an enumeration that ends"
   ]
  },
  {
   "cell_type": "code",
   "execution_count": null,
   "metadata": {
    "lx_assignment_number": "2",
    "lx_problem_cell_type": "PROBLEM",
    "lx_problem_number": "3",
    "lx_problem_points": "1"
   },
   "outputs": [],
   "source": [
    "# Here is the actual task \n",
    "# just replace XXX with the right values to make an iterator of function LinConGen\n",
    "def lcg(m, a, c, x0):\n",
    "    x = XXX\n",
    "    while True:\n",
    "        yield XXX\n",
    "        x = XXX"
   ]
  },
  {
   "cell_type": "markdown",
   "metadata": {
    "lx_assignment_number": "2",
    "lx_problem_cell_type": "Test"
   },
   "source": [
    "---\n",
    "#### Local Test for Assignment 2, PROBLEM 3\n",
    "Evaluate cell below to make sure your answer is valid.                         You **should not** modify anything in the cell below when evaluating it to do a local test of                         your solution."
   ]
  },
  {
   "cell_type": "code",
   "execution_count": null,
   "metadata": {
    "lx_assignment_number": "2",
    "lx_problem_cell_type": "Test",
    "lx_problem_number": "3",
    "lx_problem_points": "1"
   },
   "outputs": [],
   "source": [
    "def linConGen(m, a, c, x0, n):\n",
    "    '''A linear congruential sequence generator.\n",
    "    \n",
    "    Param m is the integer modulus to use in the generator.\n",
    "    Param a is the integer multiplier.\n",
    "    Param c is the integer increment.\n",
    "    Param x0 is the integer seed.\n",
    "    Param n is the integer number of desired pseudo-random numbers.\n",
    "    \n",
    "    Returns a list of n pseudo-random integer modulo m numbers.'''\n",
    "    \n",
    "    x = x0 # the seed\n",
    "    retValue = [Mod(x,m)]  # start the list with x=x0\n",
    "    for i in range(2, n+1, 1):\n",
    "        x = Mod(a * x + c, m) # the generator, using modular arithmetic\n",
    "        retValue.append(x) # append the new x to the list\n",
    "    return retValue\n",
    "try:\n",
    "    m, a, c, x0, n = 2147483648, 65539, 0, 1, 5010\n",
    "    randuListComp = linConGen(m, a, c, x0, n)\n",
    "    randuGenExp = [x for i,x in zip(xrange(n), lcg(m, a, c, x0))]\n",
    "    assert(randuListComp == randuGenExp)\n",
    "    print(\"It seems like you have passed a test. Hopefully you have the right answer.\")\n",
    "except AssertionError:\n",
    "    print(\"Try again. You need the output of your iterator lcg to coincide with that of LinConGen\")"
   ]
  },
  {
   "cell_type": "markdown",
   "metadata": {
    "lx_assignment_number": "2",
    "lx_problem_cell_type": "PROBLEM"
   },
   "source": [
    "---\n",
    "## Assignment 2, PROBLEM 4\n",
    "Maximum Points = 1"
   ]
  },
  {
   "cell_type": "markdown",
   "metadata": {
    "lx_assignment_number": "2",
    "lx_problem_cell_type": "PROBLEM",
    "lx_problem_number": "4",
    "lx_problem_points": "1"
   },
   "source": [
    "\n",
    "First read and understand the following simple simulation (originally written by Jenny Harlow). Then you will modify the simulation to find the solution to this problem.\n",
    "\n",
    "### A Simple Simulation\n",
    "\n",
    "We could use the samplers we have made to do a very simple simulation.  Suppose the inter-arrival times, in minutes, of Orbiter buses at an Orbiter stop in Christchurch follows an $Exponential(\\lambda = 0.1)$ distribution.  Also suppose that this is quite a popular bus stop, and the arrival of people is very predictable:  one new person will arrive in each whole minute.  This means that the longer another bus takes in coming, the more people arrive to join the queue.  Also suppose that the number of free seats available on any bus follows a $de\\, Moivre(k=40)$ distribution, i.e, there are equally like to to be 1, or 2, or 3 ... or 40 spare seats.   If there are more spare seats than people in the queue, everyone can get onto the bus and  nobody is left waiting, but if there are not enough spare seats some people will be left waiting for the next bus.  As they wait, more people arrive to join the queue....\n",
    "\n",
    "This is not very realistic - we would want a better model for how many people arrive at the stop at least, and for the number of spare seats there will be on the bus.  However, we are just using this as a simple example that you can do using the random variables you already know how to simulate samples from.\n",
    "\n",
    "Try to code this example yourself, using our suggested steps.  We have put our version the code into a cell below, but you will get more out of this example by trying to do it yourself first.\n",
    "\n",
    "#### Suggested steps:\n",
    "\n",
    "- Get a list of 100 $Exponential(\\lambda = 0.1)$ samples using the `exponentialSamples` function.  Assign the list to a variable named something like `busTime`s.  These are your 100 simulated bus inter-arrival times.  \n",
    "- Choose a value for the number of people who will be waiting at the busstop when you start the simulation.  Call this something like `waiting`.  \n",
    "- Make a list called something like `leftWaiting`, which to begin with contains just the value assigned to `waiting`. \n",
    "- Make an empty list called something like `boardBus`.   \n",
    "- Start a for loop which takes each element in `busTimes` in turn, i.e. each bus inter-arrival time, and within the for loop:\n",
    "  - Calculate the number of people arriving at the stop as the floor of the time taken for that bus to arrive (i.e., one person for each whole minute until the bus arrives)\n",
    "  - Add this to the number of people waiting (e.g., if the number of arrivals is assigned to a variable arrivals, then waiting = waiting + arrivals will increment the value assigned to the waiting variable by the value of arrivals).\n",
    "  - Simulate a value for the number of seats available on the bus as one simulation from a $de \\, Moirve(k=40)$ RV (it may be easier to use `deMoivreFInverse` rather than `deMoivreSample` because you only need one value - remember that you will have to pass a simulated $u \\thicksim Uniform(0,1)$ to `deMoivreFInverse` as well as the value of the parameter $k$).\n",
    "  - The number of people who can get on the bus is the minimum of the number of people waiting in the queue and the number of seats on the bus.  Calculate this value and assign it to a variable called something like `getOnBus`.\n",
    "  - Append `getOnBus` to the list `boardBus`.\n",
    "  - Subtract `getOnBus` from the number of people waiting, waiting (e.g.,  `waiting = waiting - getOnBus` will decrement waiting by the number of people who get on the bus).\n",
    "  - Append the new value of `waiting` to the list `leftWaiting`. \n",
    "- That is the end of the for loop: you now have two lists, one for the number of people waiting at the stop and one for the number of people who can board each bus as it arrives."
   ]
  },
  {
   "cell_type": "markdown",
   "metadata": {
    "lx_assignment_number": "2",
    "lx_problem_cell_type": "PROBLEM",
    "lx_problem_number": "4",
    "lx_problem_points": "1"
   },
   "source": [
    "\n",
    "Here is our code to do the bus stop simulation. \n",
    "Yours may be different - maybe it will be better!\n",
    "\n",
    "*You are expected to find the needed functions from the latest notebook this assignment came from and be able to answer this question. Unless you can do it in your head.*"
   ]
  },
  {
   "cell_type": "code",
   "execution_count": 69,
   "metadata": {
    "lx_assignment_number": "2",
    "lx_problem_cell_type": "PROBLEM",
    "lx_problem_number": "4",
    "lx_problem_points": "1"
   },
   "outputs": [],
   "source": [
    "def busStopSimulation(buses, lam, seats):\n",
    "    '''A Simple Simulation - see description above!'''\n",
    "    BusTimes = exponentialSample(buses,lam)\n",
    "    waiting = 0 # how many people are waiting at the start of the simulation\n",
    "    BoardBus = [] # empty list\n",
    "    LeftWaiting = [waiting] # list with just waiting in it\n",
    "    for time in BusTimes: # for each bus inter-arrival time\n",
    "        arrivals = floor(time) # people who arrive at the stop before the bus gets there\n",
    "        waiting = waiting + arrivals # add them to the queue\n",
    "        busSeats = deMoivreFInverse(random(), seats) # how many seats available on the bus\n",
    "        getOnBus = min(waiting, busSeats) # how many people can get on the bus\n",
    "        BoardBus.append(getOnBus) # add to the list\n",
    "        waiting = waiting - getOnBus # take the people who board the bus out of the queue\n",
    "        LeftWaiting.append(waiting) # add to the list\n",
    "    return [LeftWaiting, BoardBus, BusTimes]"
   ]
  },
  {
   "cell_type": "code",
   "execution_count": 70,
   "metadata": {
    "lx_assignment_number": "2",
    "lx_problem_cell_type": "PROBLEM",
    "lx_problem_number": "4",
    "lx_problem_points": "1"
   },
   "outputs": [
    {
     "name": "stdout",
     "output_type": "stream",
     "text": [
      "[0, 0, 0, 0, 0, 0, 0, 0, 0, 0, 0, 0, 4, 0, 0, 0, 0, 0, 0, 0, 10, 16, 0, 0, 20, 0, 0, 0, 11, 0, 0, 0, 0, 25, 1, 0, 1, 7, 0, 11, 0, 4, 0, 0, 0, 0, 0, 0, 0, 0, 22, 28, 10, 12, 16, 49, 36, 29, 11, 7, 0, 0, 0, 0, 0, 0, 1, 30, 30, 3, 0, 0, 6, 0, 23, 0, 0, 0, 0, 23, 22, 15, 0, 0, 0, 0, 13, 21, 9, 0, 0, 0, 0, 0, 0, 0, 0, 0, 0, 0, 0]\n",
      "[4, 8, 5, 8, 12, 8, 1, 3, 19, 3, 10, 2, 5, 14, 8, 3, 1, 6, 2, 9, 1, 25, 4, 1, 26, 7, 21, 10, 12, 2, 10, 7, 9, 31, 8, 34, 1, 7, 9, 11, 1, 4, 5, 0, 7, 1, 14, 7, 0, 12, 19, 19, 20, 1, 16, 21, 30, 34, 7, 7, 0, 11, 15, 7, 1, 10, 25, 6, 32, 7, 5, 17, 7, 24, 36, 24, 8, 6, 3, 6, 9, 19, 10, 3, 4, 8, 3, 15, 9, 9, 10, 13, 1, 4, 19, 2, 1, 5, 3, 2]\n",
      "[4.27327131445581, 8.00984294335955, 5.74377886599613, 8.29044002797984, 12.1847239161158, 8.25131997304757, 1.51360284807211, 3.19803273385060, 19.1184194461011, 3.64997255853884, 10.9439866230689, 6.54011204623823, 1.10668485848914, 14.5811211061700, 8.28539527637837, 3.10738603782052, 1.19076719921697, 6.99402123304893, 2.28596764177809, 19.9635688344117, 7.97051133403924, 9.50347447279946, 4.27938488568576, 21.0629721273780, 6.94777394773943, 7.09244927668886, 21.8690576332411, 21.6234814982104, 1.76611415181890, 2.41066902766707, 10.3459743229162, 7.71134077154181, 34.8891441051041, 7.15599179295854, 7.21811022642008, 35.6922069131123, 7.73960464788777, 0.295463013059489, 20.0762934512439, 0.941962599055878, 5.84429426314941, 0.617154132219314, 5.17263674338337, 0.196543395159779, 7.17008471581682, 1.57252511189262, 14.8922877405131, 7.70794620908802, 0.677062329580657, 34.5660781275301, 25.1634384059688, 1.89837650251021, 22.3431167159693, 5.62982138244143, 49.2004311218190, 8.01611343412959, 23.4946748692944, 16.6690687608285, 3.01444592945737, 0.444909139929820, 0.537696075298348, 11.6741807471233, 15.2846090130385, 7.52968735538306, 1.37761919196931, 11.4343887218635, 54.8926894121384, 6.67842260564787, 5.86580203959292, 4.76210298037894, 5.14379548445818, 23.4008939833810, 1.87166877083705, 47.1493393111590, 13.1679437356965, 24.6712331145855, 8.26876366825330, 6.76841611107766, 26.2085786611946, 5.75710428353779, 2.70734403697497, 4.51598377980553, 10.2948376130332, 3.90181338432793, 4.95466644662485, 21.7193739437646, 11.8761511114394, 3.26268492849691, 0.153127838431133, 9.79484705111010, 10.9834632263256, 13.4668979754053, 1.37748550641073, 4.81317907714261, 19.6424765872336, 2.87579905116425, 1.51994827733653, 5.19367875752451, 3.12730931023673, 2.98093597144707]\n"
     ]
    }
   ],
   "source": [
    "# let's simulate the people left waiting at the bus stop\n",
    "set_random_seed(None) # replace None by a integer to fix seed and output of simulation\n",
    "buses = 100\n",
    "lam = 0.1\n",
    "seats = 40\n",
    "leftWaiting, boardBus, busTimes = busStopSimulation(buses, lam, seats)\n",
    "\n",
    "print(leftWaiting) # look at the leftWaiting list\n",
    "\n",
    "print(boardBus) # boad bus\n",
    "\n",
    "print(busTimes)"
   ]
  },
  {
   "cell_type": "markdown",
   "metadata": {
    "lx_assignment_number": "2",
    "lx_problem_cell_type": "PROBLEM",
    "lx_problem_number": "4",
    "lx_problem_points": "1"
   },
   "source": [
    "We could do an interactive visualisation of this by evaluating the next cell. This will be showing the number of people able to board the bus and the number of people left waiting at the bus stop by the height of lines on the plot."
   ]
  },
  {
   "cell_type": "code",
   "execution_count": 71,
   "metadata": {
    "lx_assignment_number": "2",
    "lx_problem_cell_type": "PROBLEM",
    "lx_problem_number": "4",
    "lx_problem_points": "1"
   },
   "outputs": [
    {
     "data": {
      "application/vnd.jupyter.widget-view+json": {
       "model_id": "6c3b1a65e55942c4b6700cd8505cf87d",
       "version_major": 2,
       "version_minor": 0
      },
      "text/plain": [
       "SW50ZXJhY3RpdmUgZnVuY3Rpb24gPGZ1bmN0aW9uIF8gYXQgMHg3ZjlmOTQxZGQ1Nzg+IHdpdGggMyB3aWRnZXRzCiAgc2VlZDogRHJvcGRvd24oZGVzY3JpcHRpb249dSdzZWVkJywgb3B0aW/igKY=\n"
      ]
     },
     "metadata": {},
     "output_type": "display_data"
    }
   ],
   "source": [
    "@interact\n",
    "def _(seed=[0,123,456], lam=[0.1,0.01], seats=[40,10,1000]):\n",
    "    set_random_seed(seed)\n",
    "    buses=100\n",
    "    leftWaiting, boardBus, busTimes = busStopSimulation(buses, lam,seats)\n",
    "    p1 = line([(0.5,0),(0.5,leftWaiting[0])])\n",
    "    from pylab import cumsum\n",
    "    csBusTimes=list(cumsum(busTimes))\n",
    "    for i in range(1, len(leftWaiting), 1):\n",
    "    \n",
    "        p1+= line([(csBusTimes[i-1],0),(csBusTimes[i-1],boardBus[i-1])], rgbcolor='green')\n",
    "        p1+= line([(csBusTimes[i-1]+.01,0),(csBusTimes[i-1]+.01,leftWaiting[i])], rgbcolor='red')\n",
    "\n",
    "    t1 = text(\"Boarding the bus\", (csBusTimes[len(busTimes)-1]/3,max(max(boardBus),max(leftWaiting))+1), \\\n",
    "          rgbcolor='green',fontsize=10) \n",
    "    t2 = text(\"Waiting\", (csBusTimes[len(busTimes)-1]*(2/3),max(max(boardBus),max(leftWaiting))+1), \\\n",
    "          rgbcolor='red',fontsize=10)     \n",
    "    xaxislabel = text(\"Time\", (csBusTimes[len(busTimes)-1],-10),fontsize=10,color='black')\n",
    "    yaxislabel = text(\"People\", (-50,max(max(boardBus),max(leftWaiting))+1),fontsize=10,color='black')\n",
    "    show(p1+t1+t2+xaxislabel+yaxislabel,figsize=[8,5])"
   ]
  },
  {
   "cell_type": "markdown",
   "metadata": {
    "lx_assignment_number": "2",
    "lx_problem_cell_type": "PROBLEM",
    "lx_problem_number": "4",
    "lx_problem_points": "1"
   },
   "source": [
    "\n",
    "Very briefly explain the effect of varying one of the three parameters:\n",
    "\n",
    "- `seed`\n",
    "- `lam`\n",
    "- `seats`\n",
    "\n",
    "while holding the other two parameters fixed on:\n",
    "\n",
    "- the number of people waiting at the bus stop and\n",
    "- the number of people boarding the bus \n",
    "\n",
    "by using the dropdown menus in the `@interact` above. Think if the simulation makes sense and explain why. You can write down your answers using keyboard by double-clicking this cell and writing between `---` and `---`.\n",
    "\n",
    "---\n",
    "\n",
    "\n",
    "---\n"
   ]
  }
 ],
 "metadata": {
  "kernelspec": {
   "display_name": "SageMath 8.4",
   "language": "",
   "name": "sagemath"
  },
  "language_info": {
   "codemirror_mode": {
    "name": "ipython",
    "version": 2
   },
   "file_extension": ".py",
   "mimetype": "text/x-python",
   "name": "python",
   "nbconvert_exporter": "python",
   "pygments_lexer": "ipython2",
   "version": "2.7.15"
  },
  "lx_assignment_number": "2",
  "lx_course_instance": "Spring 2019, Uppsala University",
  "lx_course_name": "Applied Statistics",
  "lx_course_number": "1MS926"
 },
 "nbformat": 4,
 "nbformat_minor": 2
}
